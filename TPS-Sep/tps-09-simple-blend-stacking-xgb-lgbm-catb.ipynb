{
 "cells": [
  {
   "cell_type": "code",
   "execution_count": 1,
   "id": "dd01c304",
   "metadata": {
    "_cell_guid": "b1076dfc-b9ad-4769-8c92-a6c4dae69d19",
    "_uuid": "8f2839f25d086af736a60e9eeb907d3b93b6e0e5",
    "execution": {
     "iopub.execute_input": "2021-09-28T16:49:20.013416Z",
     "iopub.status.busy": "2021-09-28T16:49:20.012801Z",
     "iopub.status.idle": "2021-09-28T16:49:20.903961Z",
     "shell.execute_reply": "2021-09-28T16:49:20.903220Z",
     "shell.execute_reply.started": "2021-09-28T16:44:22.075747Z"
    },
    "papermill": {
     "duration": 0.913755,
     "end_time": "2021-09-28T16:49:20.904124",
     "exception": false,
     "start_time": "2021-09-28T16:49:19.990369",
     "status": "completed"
    },
    "tags": []
   },
   "outputs": [],
   "source": [
    "import numpy as np\n",
    "import pandas as pd\n",
    "import pickle\n",
    "from sklearn.metrics import roc_curve, auc\n",
    "\n",
    "from warnings import filterwarnings\n",
    "filterwarnings('ignore')"
   ]
  },
  {
   "cell_type": "code",
   "execution_count": 2,
   "id": "093e27f3",
   "metadata": {
    "execution": {
     "iopub.execute_input": "2021-09-28T16:49:20.934269Z",
     "iopub.status.busy": "2021-09-28T16:49:20.933643Z",
     "iopub.status.idle": "2021-09-28T16:50:00.732413Z",
     "shell.execute_reply": "2021-09-28T16:50:00.732878Z",
     "shell.execute_reply.started": "2021-09-28T16:13:43.668097Z"
    },
    "papermill": {
     "duration": 39.816451,
     "end_time": "2021-09-28T16:50:00.733056",
     "exception": false,
     "start_time": "2021-09-28T16:49:20.916605",
     "status": "completed"
    },
    "tags": []
   },
   "outputs": [
    {
     "name": "stdout",
     "output_type": "stream",
     "text": [
      "CPU times: user 26.7 s, sys: 2.78 s, total: 29.4 s\n",
      "Wall time: 39.8 s\n"
     ]
    }
   ],
   "source": [
    "%%time\n",
    "# read dataframe\n",
    "df_train = pd.read_csv('../input/tabular-playground-series-sep-2021/train.csv')\n",
    "df_test = pd.read_csv('../input/tabular-playground-series-sep-2021/test.csv')\n",
    "\n",
    "sample_submission = pd.read_csv('../input/tabular-playground-series-sep-2021/sample_solution.csv')"
   ]
  },
  {
   "cell_type": "markdown",
   "id": "21f06e54",
   "metadata": {
    "papermill": {
     "duration": 0.012229,
     "end_time": "2021-09-28T16:50:00.757327",
     "exception": false,
     "start_time": "2021-09-28T16:50:00.745098",
     "status": "completed"
    },
    "tags": []
   },
   "source": [
    "## <div style='background:#2b6684;color:white;padding:0.5em;border-radius:0.2em'>Preprocessing</div>"
   ]
  },
  {
   "cell_type": "code",
   "execution_count": 3,
   "id": "e73eae2b",
   "metadata": {
    "execution": {
     "iopub.execute_input": "2021-09-28T16:50:00.786995Z",
     "iopub.status.busy": "2021-09-28T16:50:00.786429Z",
     "iopub.status.idle": "2021-09-28T16:50:00.788656Z",
     "shell.execute_reply": "2021-09-28T16:50:00.789035Z",
     "shell.execute_reply.started": "2021-09-08T17:59:24.026219Z"
    },
    "papermill": {
     "duration": 0.01935,
     "end_time": "2021-09-28T16:50:00.789229",
     "exception": false,
     "start_time": "2021-09-28T16:50:00.769879",
     "status": "completed"
    },
    "tags": []
   },
   "outputs": [],
   "source": [
    "# # prepare dataframe for modeling\n",
    "# X = df_train.drop(columns=['id','claim']).copy()\n",
    "# y = df_train['claim'].copy()\n",
    "\n",
    "# test_data = df_test.drop(columns=['id']).copy()"
   ]
  },
  {
   "cell_type": "code",
   "execution_count": 4,
   "id": "2b51d287",
   "metadata": {
    "execution": {
     "iopub.execute_input": "2021-09-28T16:50:00.817568Z",
     "iopub.status.busy": "2021-09-28T16:50:00.816945Z",
     "iopub.status.idle": "2021-09-28T16:50:00.819508Z",
     "shell.execute_reply": "2021-09-28T16:50:00.819979Z",
     "shell.execute_reply.started": "2021-09-08T17:59:24.942089Z"
    },
    "papermill": {
     "duration": 0.018737,
     "end_time": "2021-09-28T16:50:00.820133",
     "exception": false,
     "start_time": "2021-09-28T16:50:00.801396",
     "status": "completed"
    },
    "tags": []
   },
   "outputs": [],
   "source": [
    "# # feature-engineering\n",
    "# def get_stats_per_row(data):\n",
    "#     data['mv_row'] = data.isna().sum(axis=1)\n",
    "#     data['min_row'] = data.min(axis=1)\n",
    "#     data['std_row'] = data.std(axis=1)\n",
    "#     return data\n",
    "\n",
    "# X = get_stats_per_row(X)\n",
    "# test_data = get_stats_per_row(test_data)"
   ]
  },
  {
   "cell_type": "code",
   "execution_count": 5,
   "id": "436d2dab",
   "metadata": {
    "execution": {
     "iopub.execute_input": "2021-09-28T16:50:00.849422Z",
     "iopub.status.busy": "2021-09-28T16:50:00.848752Z",
     "iopub.status.idle": "2021-09-28T16:50:00.851761Z",
     "shell.execute_reply": "2021-09-28T16:50:00.851283Z",
     "shell.execute_reply.started": "2021-09-08T17:59:28.708631Z"
    },
    "papermill": {
     "duration": 0.01956,
     "end_time": "2021-09-28T16:50:00.851889",
     "exception": false,
     "start_time": "2021-09-28T16:50:00.832329",
     "status": "completed"
    },
    "tags": []
   },
   "outputs": [],
   "source": [
    "# # get skewed features to impute median instead of mean\n",
    "# from scipy.stats import skew\n",
    "\n",
    "# def impute_skewed_features(data):\n",
    "#     skewed_feat = data.skew()\n",
    "#     skewed_feat = [*skewed_feat[abs(skewed_feat.values) > 1].index]\n",
    "\n",
    "#     for feat in skewed_feat:\n",
    "#         median = data[feat].median()\n",
    "#         data[feat] = data[feat].fillna(median)\n",
    "        \n",
    "#     return data\n",
    "\n",
    "# X = impute_skewed_features(X)\n",
    "# test_data = impute_skewed_features(test_data)"
   ]
  },
  {
   "cell_type": "code",
   "execution_count": 6,
   "id": "182e61a1",
   "metadata": {
    "execution": {
     "iopub.execute_input": "2021-09-28T16:50:00.880839Z",
     "iopub.status.busy": "2021-09-28T16:50:00.879873Z",
     "iopub.status.idle": "2021-09-28T16:50:00.882248Z",
     "shell.execute_reply": "2021-09-28T16:50:00.882657Z",
     "shell.execute_reply.started": "2021-09-08T17:59:33.711096Z"
    },
    "papermill": {
     "duration": 0.018614,
     "end_time": "2021-09-28T16:50:00.882815",
     "exception": false,
     "start_time": "2021-09-28T16:50:00.864201",
     "status": "completed"
    },
    "tags": []
   },
   "outputs": [],
   "source": [
    "# # create preprocessing pipeline\n",
    "# from sklearn.preprocessing import StandardScaler\n",
    "# from sklearn.pipeline import Pipeline\n",
    "# from sklearn.impute import SimpleImputer\n",
    "\n",
    "# pipeline = Pipeline([\n",
    "#     ('impute', SimpleImputer(strategy='mean')),\n",
    "#     ('scale', StandardScaler())\n",
    "# ])\n",
    "\n",
    "# X = pd.DataFrame(columns=X.columns, data=pipeline.fit_transform(X))\n",
    "# test_data = pd.DataFrame(columns=test_data.columns, data=pipeline.transform(test_data))"
   ]
  },
  {
   "cell_type": "markdown",
   "id": "8a500129",
   "metadata": {
    "papermill": {
     "duration": 0.012447,
     "end_time": "2021-09-28T16:50:00.907764",
     "exception": false,
     "start_time": "2021-09-28T16:50:00.895317",
     "status": "completed"
    },
    "tags": []
   },
   "source": [
    "## <div style='background:#2b6684;color:white;padding:0.5em;border-radius:0.2em'>Modeling</div>"
   ]
  },
  {
   "cell_type": "code",
   "execution_count": 7,
   "id": "62dbfc22",
   "metadata": {
    "_kg_hide-input": true,
    "execution": {
     "iopub.execute_input": "2021-09-28T16:50:00.937816Z",
     "iopub.status.busy": "2021-09-28T16:50:00.937125Z",
     "iopub.status.idle": "2021-09-28T16:50:00.939885Z",
     "shell.execute_reply": "2021-09-28T16:50:00.939463Z",
     "shell.execute_reply.started": "2021-09-28T16:14:44.899736Z"
    },
    "papermill": {
     "duration": 0.019455,
     "end_time": "2021-09-28T16:50:00.940009",
     "exception": false,
     "start_time": "2021-09-28T16:50:00.920554",
     "status": "completed"
    },
    "tags": []
   },
   "outputs": [],
   "source": [
    "# helper functions\n",
    "def get_auc(y_true, y_hat):\n",
    "    fpr, tpr, _ = roc_curve(y_true, y_hat)\n",
    "    score = auc(fpr, tpr)\n",
    "    return score"
   ]
  },
  {
   "cell_type": "markdown",
   "id": "355cd9ea",
   "metadata": {
    "papermill": {
     "duration": 0.012226,
     "end_time": "2021-09-28T16:50:00.964376",
     "exception": false,
     "start_time": "2021-09-28T16:50:00.952150",
     "status": "completed"
    },
    "tags": []
   },
   "source": [
    "params taken from:\n",
    "- [catb1: my own optuna study](https://www.kaggle.com/mlanhenke/tps-09-optuna-study-catboostclassifier)\n",
    "- [Stacking Ensemble for Beginner](https://www.kaggle.com/junhyeok99/stacking-ensemble-for-beginner)"
   ]
  },
  {
   "cell_type": "code",
   "execution_count": 8,
   "id": "44f63db0",
   "metadata": {
    "_kg_hide-input": true,
    "execution": {
     "iopub.execute_input": "2021-09-28T16:50:00.995153Z",
     "iopub.status.busy": "2021-09-28T16:50:00.994543Z",
     "iopub.status.idle": "2021-09-28T16:50:00.997271Z",
     "shell.execute_reply": "2021-09-28T16:50:00.996766Z",
     "shell.execute_reply.started": "2021-09-08T18:20:00.394096Z"
    },
    "papermill": {
     "duration": 0.020394,
     "end_time": "2021-09-28T16:50:00.997413",
     "exception": false,
     "start_time": "2021-09-28T16:50:00.977019",
     "status": "completed"
    },
    "tags": []
   },
   "outputs": [],
   "source": [
    "# # best params\n",
    "# lgbm1_params = {\n",
    "#     'metric' : 'auc',\n",
    "#     'max_depth' : 3,\n",
    "#     'num_leaves' : 7,\n",
    "#     'n_estimators' : 5000,\n",
    "#     'colsample_bytree' : 0.3,\n",
    "#     'subsample' : 0.5,\n",
    "#     'random_state' : 42,\n",
    "#     'reg_alpha' : 18,\n",
    "#     'reg_lambda' : 17,\n",
    "#     'learning_rate' : 0.095,\n",
    "#     'device' : 'gpu',\n",
    "#     'objective' : 'binary'\n",
    "# }\n",
    "\n",
    "# lgbm2_params = {\n",
    "#     'metric' : 'auc',\n",
    "#     'objective': 'binary',\n",
    "#     'n_estimators': 10000,\n",
    "#     'random_state': 42,\n",
    "#     'learning_rate': 0.095,\n",
    "#     'subsample': 0.6,\n",
    "#     'subsample_freq': 1,\n",
    "#     'colsample_bytree': 0.4,\n",
    "#     'reg_alpha': 10.0,\n",
    "#     'reg_lambda': 1e-1,\n",
    "#     'min_child_weight': 256,\n",
    "#     'min_child_samples': 20,\n",
    "#     'device' : 'gpu',\n",
    "#     'max_depth' : 3,\n",
    "#     'num_leaves' : 7\n",
    "# }\n",
    "\n",
    "# lgbm3_params = {\n",
    "#     'metric' : 'auc',\n",
    "#     'objective' : 'binary',\n",
    "#     'device_type': 'gpu', \n",
    "#     'n_estimators': 10000, \n",
    "#     'learning_rate': 0.12230165751633416, \n",
    "#     'num_leaves': 1400, \n",
    "#     'max_depth': 8, \n",
    "#     'min_child_samples': 3100, \n",
    "#     'reg_alpha': 10, \n",
    "#     'reg_lambda': 65, \n",
    "#     'min_split_gain': 5.157818977461183, \n",
    "#     'subsample': 0.5, \n",
    "#     'subsample_freq': 1, \n",
    "#     'colsample_bytree': 0.2\n",
    "# }\n",
    "\n",
    "# catb1_params = {\n",
    "#     'eval_metric' : 'AUC',\n",
    "#     'iterations': 15585, \n",
    "#     'objective': 'CrossEntropy',\n",
    "#     'bootstrap_type': 'Bernoulli', \n",
    "#     'od_wait': 1144, \n",
    "#     'learning_rate': 0.023575206684596582, \n",
    "#     'reg_lambda': 36.30433203563295, \n",
    "#     'random_strength': 43.75597655616195, \n",
    "#     'depth': 7, \n",
    "#     'min_data_in_leaf': 11, \n",
    "#     'leaf_estimation_iterations': 1, \n",
    "#     'subsample': 0.8227911142845009,\n",
    "#     'task_type' : 'GPU',\n",
    "#     'devices' : '0',\n",
    "#     'verbose' : 0\n",
    "# }\n",
    "\n",
    "# catb2_params = {\n",
    "#     'eval_metric' : 'AUC',\n",
    "#     'depth' : 5,\n",
    "#     'grow_policy' : 'SymmetricTree',\n",
    "#     'l2_leaf_reg' : 3.0,\n",
    "#     'random_strength' : 1.0,\n",
    "#     'learning_rate' : 0.1,\n",
    "#     'iterations' : 10000,\n",
    "#     'loss_function' : 'CrossEntropy',\n",
    "#     'task_type' : 'GPU',\n",
    "#     'devices' : '0',\n",
    "#     'verbose' : 0\n",
    "# }\n",
    "\n",
    "# xgb1_params = {\n",
    "#     'eval_metric' : 'auc',\n",
    "#     'lambda': 0.004562711234493688, \n",
    "#     'alpha': 7.268146704546314, \n",
    "#     'colsample_bytree': 0.6468987558386358, \n",
    "#     'colsample_bynode': 0.29113878257290376, \n",
    "#     'colsample_bylevel': 0.8915913499148167, \n",
    "#     'subsample': 0.37130229826185135, \n",
    "#     'learning_rate': 0.021671163563123198, \n",
    "#     'grow_policy': 'lossguide', \n",
    "#     'max_depth': 18, \n",
    "#     'min_child_weight': 215, \n",
    "#     'max_bin': 272,\n",
    "#     'n_estimators': 10000,\n",
    "#     'random_state': 0,\n",
    "#     'use_label_encoder': False,\n",
    "#     'objective': 'binary:logistic',\n",
    "#     'tree_method': 'gpu_hist',\n",
    "#     'gpu_id': 0,\n",
    "#     'predictor': 'gpu_predictor'\n",
    "# }\n",
    "\n",
    "# xgb2_params = dict(\n",
    "#     eval_metric='auc',\n",
    "#     max_depth=3,\n",
    "#     subsample=0.5,\n",
    "#     colsample_bytree=0.5,\n",
    "#     learning_rate=0.01187431306013263,\n",
    "#     n_estimators=10000,\n",
    "#     n_jobs=-1,\n",
    "#     use_label_encoder=False,\n",
    "#     objective='binary:logistic',\n",
    "#     tree_method='gpu_hist',\n",
    "#     gpu_id=0,\n",
    "#     predictor='gpu_predictor'\n",
    "# )\n",
    "\n",
    "# xgb3_params = {\n",
    "#     'eval_metric': 'auc', \n",
    "#     'objective': 'binary:logistic', \n",
    "#     'tree_method': 'gpu_hist', \n",
    "#     'gpu_id': 0, \n",
    "#     'predictor': 'gpu_predictor', \n",
    "#     'n_estimators': 10000, \n",
    "#     'learning_rate': 0.01063045229441343, \n",
    "#     'gamma': 0.24652519525750877, \n",
    "#     'max_depth': 4, \n",
    "#     'min_child_weight': 366, \n",
    "#     'subsample': 0.6423040816299684, \n",
    "#     'colsample_bytree': 0.7751264493218339, \n",
    "#     'colsample_bylevel': 0.8675692743597421, \n",
    "#     'lambda': 0, \n",
    "#     'alpha': 10\n",
    "# }"
   ]
  },
  {
   "cell_type": "markdown",
   "id": "e7707839",
   "metadata": {
    "papermill": {
     "duration": 0.011988,
     "end_time": "2021-09-28T16:50:01.021540",
     "exception": false,
     "start_time": "2021-09-28T16:50:01.009552",
     "status": "completed"
    },
    "tags": []
   },
   "source": [
    "### <div style='background:#3b606f;color:white;padding:0.5em;border-radius:0.2em'>Train Base Models</div>"
   ]
  },
  {
   "cell_type": "code",
   "execution_count": 9,
   "id": "6392f758",
   "metadata": {
    "execution": {
     "iopub.execute_input": "2021-09-28T16:50:01.051321Z",
     "iopub.status.busy": "2021-09-28T16:50:01.050700Z",
     "iopub.status.idle": "2021-09-28T16:50:01.053678Z",
     "shell.execute_reply": "2021-09-28T16:50:01.053122Z",
     "shell.execute_reply.started": "2021-09-08T18:18:06.133594Z"
    },
    "papermill": {
     "duration": 0.019945,
     "end_time": "2021-09-28T16:50:01.053800",
     "exception": false,
     "start_time": "2021-09-28T16:50:01.033855",
     "status": "completed"
    },
    "tags": []
   },
   "outputs": [],
   "source": [
    "# %%time\n",
    "# from sklearn.model_selection import StratifiedKFold\n",
    "# from sklearn.metrics import roc_curve, auc\n",
    "# from lightgbm import LGBMClassifier\n",
    "# from xgboost import XGBClassifier\n",
    "# from catboost import CatBoostClassifier\n",
    "\n",
    "# # create list[tuples] of base_models\n",
    "# models = [\n",
    "#     ('lgbm1', LGBMClassifier(**lgbm1_params)),\n",
    "# #     ('lgbm2', LGBMClassifier(**lgbm2_params)),\n",
    "#     ('lgbm3', LGBMClassifier(**lgbm3_params)),\n",
    "#     ('catb1', CatBoostClassifier(**catb1_params)),\n",
    "#     ('catb2', CatBoostClassifier(**catb2_params)),\n",
    "#     ('xgb1', XGBClassifier(**xgb1_params)),\n",
    "#     ('xgb2', XGBClassifier(**xgb2_params)),\n",
    "#     ('xgb3', XGBClassifier(**xgb3_params))\n",
    "# ]\n",
    "\n",
    "# # create dictionaries to store predictions\n",
    "# oof_pred_tmp = dict()\n",
    "# test_pred_tmp = dict()\n",
    "# scores_tmp = dict()\n",
    "\n",
    "# # create cv\n",
    "# kf = StratifiedKFold(n_splits=5, shuffle=True, random_state=1)\n",
    "\n",
    "# for fold, (idx_train, idx_valid) in enumerate(kf.split(X, y)):\n",
    "#     # create train, validation sets\n",
    "#     X_train, y_train = X.iloc[idx_train], y.iloc[idx_train]\n",
    "#     X_valid, y_valid = X.iloc[idx_valid], y.iloc[idx_valid]\n",
    "    \n",
    "#     # fit & predict all models on the same fold\n",
    "#     for name, model in models:\n",
    "#         if name not in scores_tmp:\n",
    "#             oof_pred_tmp[name] = list()\n",
    "#             oof_pred_tmp['y_valid'] = list()\n",
    "#             test_pred_tmp[name] = list()\n",
    "#             scores_tmp[name] = list()\n",
    "     \n",
    "#         model.fit(\n",
    "#             X_train, y_train,\n",
    "#             eval_set=[(X_valid,y_valid)],\n",
    "# #             early_stopping_rounds=500,\n",
    "#             verbose=0\n",
    "#         )\n",
    "        \n",
    "#         # validation prediction\n",
    "#         pred_valid = model.predict_proba(X_valid)[:,1]\n",
    "#         score = get_auc(y_valid, pred_valid)\n",
    "        \n",
    "#         scores_tmp[name].append(score)\n",
    "#         oof_pred_tmp[name].extend(pred_valid)\n",
    "        \n",
    "#         print(f\"Fold: {fold + 1} Model: {name} Score: {score}\")\n",
    "#         print('--'*20)\n",
    "        \n",
    "#         # test prediction\n",
    "#         y_hat = model.predict_proba(test_data)[:,1]\n",
    "#         test_pred_tmp[name].append(y_hat)\n",
    "    \n",
    "#     # store y_validation for later use\n",
    "#     oof_pred_tmp['y_valid'].extend(y_valid)\n",
    "        \n",
    "# # print overall validation scores\n",
    "# for name, model in models:\n",
    "#     print(f\"Overall Validation Score | {name}: {np.mean(scores_tmp[name])}\")\n",
    "#     print('::'*20)"
   ]
  },
  {
   "cell_type": "markdown",
   "id": "772764f5",
   "metadata": {
    "papermill": {
     "duration": 0.012101,
     "end_time": "2021-09-28T16:50:01.077812",
     "exception": false,
     "start_time": "2021-09-28T16:50:01.065711",
     "status": "completed"
    },
    "tags": []
   },
   "source": [
    "### <div style='background:#3b606f;color:white;padding:0.5em;border-radius:0.2em'>Simple Blending of Base Models</div>"
   ]
  },
  {
   "cell_type": "code",
   "execution_count": 10,
   "id": "e3dd05b9",
   "metadata": {
    "execution": {
     "iopub.execute_input": "2021-09-28T16:50:01.106957Z",
     "iopub.status.busy": "2021-09-28T16:50:01.106344Z",
     "iopub.status.idle": "2021-09-28T16:50:02.036415Z",
     "shell.execute_reply": "2021-09-28T16:50:02.035736Z",
     "shell.execute_reply.started": "2021-09-28T16:21:30.867461Z"
    },
    "papermill": {
     "duration": 0.946765,
     "end_time": "2021-09-28T16:50:02.036558",
     "exception": false,
     "start_time": "2021-09-28T16:50:01.089793",
     "status": "completed"
    },
    "tags": []
   },
   "outputs": [],
   "source": [
    "cat_test = pd.read_csv('../input/tpsstack-models/catboost_3seeds_5fold_test.csv')\n",
    "xgb_test = pd.read_csv('../input/tpsstack-models/xgboost_3seeds_5fold_test_with_params.csv')\n",
    "lgb_test = pd.read_csv('../input/tpsstack-models/lighgbm_3seeds_5fold_test_params.csv')\n",
    "\n",
    "\n",
    "cat_oof = pickle.load(open('../input/tpsstack-models/catboost_3seeds_5fold_oof.csv', \"rb\"))\n",
    "xgb_oof = pickle.load(open('../input/tpsstack-models/xgboost_3seeds_5fold_oof_with_params.csv', \"rb\"))\n",
    "lgb_oof = pickle.load(open('../input/tpsstack-models/lighgbm_3seeds_5fold_oof_params.csv', \"rb\"))"
   ]
  },
  {
   "cell_type": "code",
   "execution_count": 11,
   "id": "97d9e55a",
   "metadata": {
    "execution": {
     "iopub.execute_input": "2021-09-28T16:50:02.074295Z",
     "iopub.status.busy": "2021-09-28T16:50:02.073681Z",
     "iopub.status.idle": "2021-09-28T16:50:03.241013Z",
     "shell.execute_reply": "2021-09-28T16:50:03.240485Z",
     "shell.execute_reply.started": "2021-09-28T16:35:04.083747Z"
    },
    "papermill": {
     "duration": 1.192387,
     "end_time": "2021-09-28T16:50:03.241151",
     "exception": false,
     "start_time": "2021-09-28T16:50:02.048764",
     "status": "completed"
    },
    "tags": []
   },
   "outputs": [],
   "source": [
    "# create df with base predictions on test_data\n",
    "base_test_predictions = pd.DataFrame({'catboost_test' : cat_test['claim'],\n",
    "                                      'xgb_test' : xgb_test['claim'],\n",
    "                                      'lgb_test' : lgb_test['claim']})\n",
    "\n",
    "# save csv checkpoint\n",
    "# base_test_predictions.to_csv('./base_test_predictions.csv', index=False)\n",
    "\n",
    "# create simple average blend \n",
    "base_test_predictions['simple_avg'] = base_test_predictions.mean(axis=1)\n",
    "\n",
    "# create submission file with simple blend average\n",
    "simple_blend_submission = sample_submission.copy()\n",
    "simple_blend_submission['claim'] = base_test_predictions['simple_avg']\n",
    "simple_blend_submission.to_csv('./simple_blend_submission.csv', index=False)"
   ]
  },
  {
   "cell_type": "code",
   "execution_count": 12,
   "id": "0c10c285",
   "metadata": {
    "execution": {
     "iopub.execute_input": "2021-09-28T16:50:03.272138Z",
     "iopub.status.busy": "2021-09-28T16:50:03.271522Z",
     "iopub.status.idle": "2021-09-28T16:50:03.555758Z",
     "shell.execute_reply": "2021-09-28T16:50:03.555155Z",
     "shell.execute_reply.started": "2021-09-28T16:44:38.003521Z"
    },
    "papermill": {
     "duration": 0.302136,
     "end_time": "2021-09-28T16:50:03.555891",
     "exception": false,
     "start_time": "2021-09-28T16:50:03.253755",
     "status": "completed"
    },
    "tags": []
   },
   "outputs": [
    {
     "name": "stdout",
     "output_type": "stream",
     "text": [
      "Overall Validation Score | Simple Blend: 0.8164847349031459\n",
      "::::::::::::::::::::::::::::::::::::::::\n"
     ]
    }
   ],
   "source": [
    "# create training set for meta learner based on the oof_predictions of the base models\n",
    "oof_predictions = pd.DataFrame({'catboost_oof' : cat_oof,\n",
    "                                'xgb_oof' : xgb_oof,\n",
    "                                'lgb_oof' : lgb_oof})\n",
    "\n",
    "# save csv checkpoint\n",
    "# oof_predictions.to_csv('./oof_predictions.csv', index=False)\n",
    "\n",
    "# get simple blend validation score\n",
    "y_valid = df_train['claim'].copy()\n",
    "y_hat_blend = oof_predictions.mean(axis=1)\n",
    "score = get_auc(y_valid, y_hat_blend)\n",
    "\n",
    "print(f\"Overall Validation Score | Simple Blend: {score}\")\n",
    "print('::'*20)"
   ]
  },
  {
   "cell_type": "markdown",
   "id": "22c5f9a5",
   "metadata": {
    "papermill": {
     "duration": 0.011821,
     "end_time": "2021-09-28T16:50:03.579916",
     "exception": false,
     "start_time": "2021-09-28T16:50:03.568095",
     "status": "completed"
    },
    "tags": []
   },
   "source": [
    "### <div style='background:#3b606f;color:white;padding:0.5em;border-radius:0.2em'>Train Meta Learner</div>"
   ]
  },
  {
   "cell_type": "code",
   "execution_count": 13,
   "id": "b0cbd096",
   "metadata": {
    "execution": {
     "iopub.execute_input": "2021-09-28T16:50:03.610630Z",
     "iopub.status.busy": "2021-09-28T16:50:03.610000Z",
     "iopub.status.idle": "2021-09-28T16:50:51.151531Z",
     "shell.execute_reply": "2021-09-28T16:50:51.152458Z",
     "shell.execute_reply.started": "2021-09-28T16:47:11.823005Z"
    },
    "papermill": {
     "duration": 47.560735,
     "end_time": "2021-09-28T16:50:51.152731",
     "exception": false,
     "start_time": "2021-09-28T16:50:03.591996",
     "status": "completed"
    },
    "tags": []
   },
   "outputs": [
    {
     "name": "stdout",
     "output_type": "stream",
     "text": [
      "Fold: 1 Score: 0.8152695715610309\n",
      "----------------------------------------\n",
      "Fold: 2 Score: 0.8182595291988066\n",
      "----------------------------------------\n",
      "Fold: 3 Score: 0.8149171596790189\n",
      "----------------------------------------\n",
      "Fold: 4 Score: 0.8155895214541018\n",
      "----------------------------------------\n",
      "Fold: 5 Score: 0.8183633284005942\n",
      "----------------------------------------\n",
      "Fold: 6 Score: 0.8179390454729676\n",
      "----------------------------------------\n",
      "Fold: 7 Score: 0.8171318687834995\n",
      "----------------------------------------\n",
      "Fold: 8 Score: 0.8171220069949684\n",
      "----------------------------------------\n",
      "Fold: 9 Score: 0.8164938917540858\n",
      "----------------------------------------\n",
      "Fold: 10 Score: 0.8142190953065558\n",
      "----------------------------------------\n",
      "Overall Validation Score | Meta: 0.8165305018605629\n",
      "::::::::::::::::::::::::::::::::::::::::\n",
      "CPU times: user 1min 33s, sys: 1min 29s, total: 3min 3s\n",
      "Wall time: 47.5 s\n"
     ]
    }
   ],
   "source": [
    "%%time\n",
    "from sklearn.linear_model import LogisticRegression\n",
    "from sklearn.model_selection import StratifiedKFold\n",
    "\n",
    "# prepare meta_training set\n",
    "X_meta = oof_predictions.copy()\n",
    "y_meta = df_train['claim'].copy()\n",
    "test_meta = base_test_predictions.drop(columns=['simple_avg']).copy()\n",
    "\n",
    "meta_pred_tmp = []\n",
    "scores_tmp = []\n",
    "\n",
    "# create cv\n",
    "kf = StratifiedKFold(n_splits=10, shuffle=True, random_state=2001)\n",
    "\n",
    "for fold, (idx_train, idx_valid) in enumerate(kf.split(X_meta, y_meta)):\n",
    "    # create train, validation sets\n",
    "    X_train, y_train = X_meta.iloc[idx_train], y_meta.iloc[idx_train]\n",
    "    X_valid, y_valid = X_meta.iloc[idx_valid], y_meta.iloc[idx_valid]\n",
    "\n",
    "    model = LogisticRegression()\n",
    "    model.fit(X_train, y_train)\n",
    "    \n",
    "    # validation prediction\n",
    "    pred_valid = model.predict_proba(X_valid)[:,1]\n",
    "    score = get_auc(y_valid, pred_valid)\n",
    "    scores_tmp.append(score)\n",
    "    \n",
    "    print(f\"Fold: {fold + 1} Score: {score}\")\n",
    "    print('--'*20)\n",
    "    \n",
    "    # test prediction based on oof_set\n",
    "    y_hat = model.predict_proba(test_meta)[:,1]\n",
    "    meta_pred_tmp.append(y_hat)\n",
    "    \n",
    "# print overall validation scores\n",
    "print(f\"Overall Validation Score | Meta: {np.mean(scores_tmp)}\")\n",
    "print('::'*20)"
   ]
  },
  {
   "cell_type": "code",
   "execution_count": 14,
   "id": "91f39068",
   "metadata": {
    "execution": {
     "iopub.execute_input": "2021-09-28T16:50:51.217266Z",
     "iopub.status.busy": "2021-09-28T16:50:51.216270Z",
     "iopub.status.idle": "2021-09-28T16:50:52.467002Z",
     "shell.execute_reply": "2021-09-28T16:50:52.466490Z",
     "shell.execute_reply.started": "2021-09-28T16:48:22.713861Z"
    },
    "papermill": {
     "duration": 1.285662,
     "end_time": "2021-09-28T16:50:52.467131",
     "exception": false,
     "start_time": "2021-09-28T16:50:51.181469",
     "status": "completed"
    },
    "tags": []
   },
   "outputs": [],
   "source": [
    "# average meta predictions over each fold\n",
    "meta_predictions = np.mean(np.column_stack(meta_pred_tmp), axis=1)\n",
    "\n",
    "# create submission file\n",
    "stacked_submission = sample_submission.copy()\n",
    "stacked_submission['claim'] = meta_predictions\n",
    "stacked_submission.to_csv('./stacked_submission.csv', index=False)"
   ]
  }
 ],
 "metadata": {
  "kernelspec": {
   "display_name": "Python 3",
   "language": "python",
   "name": "python3"
  },
  "language_info": {
   "codemirror_mode": {
    "name": "ipython",
    "version": 3
   },
   "file_extension": ".py",
   "mimetype": "text/x-python",
   "name": "python",
   "nbconvert_exporter": "python",
   "pygments_lexer": "ipython3",
   "version": "3.7.10"
  },
  "papermill": {
   "default_parameters": {},
   "duration": 100.689811,
   "end_time": "2021-09-28T16:50:54.144703",
   "environment_variables": {},
   "exception": null,
   "input_path": "__notebook__.ipynb",
   "output_path": "__notebook__.ipynb",
   "parameters": {},
   "start_time": "2021-09-28T16:49:13.454892",
   "version": "2.3.3"
  }
 },
 "nbformat": 4,
 "nbformat_minor": 5
}
