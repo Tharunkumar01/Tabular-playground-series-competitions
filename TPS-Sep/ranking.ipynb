{
 "cells": [
  {
   "cell_type": "code",
   "execution_count": 1,
   "id": "2ac838a2",
   "metadata": {
    "execution": {
     "iopub.execute_input": "2021-09-29T03:13:55.509365Z",
     "iopub.status.busy": "2021-09-29T03:13:55.508096Z",
     "iopub.status.idle": "2021-09-29T03:13:58.797878Z",
     "shell.execute_reply": "2021-09-29T03:13:58.797148Z",
     "shell.execute_reply.started": "2021-09-29T03:12:53.909579Z"
    },
    "papermill": {
     "duration": 3.298624,
     "end_time": "2021-09-29T03:13:58.798084",
     "exception": false,
     "start_time": "2021-09-29T03:13:55.499460",
     "status": "completed"
    },
    "tags": []
   },
   "outputs": [
    {
     "name": "stdout",
     "output_type": "stream",
     "text": [
      "../input/tps-09-simple-blend-stacking-xgb-lgbm-catb/stacked_submission.csv\n",
      "../input/tps-sep-2021-simple-weighted-ensemble/submission_weighted_ensemble_1.csv\n",
      "../input/stop-it-get-some-help/memes.csv\n",
      "../input/in-depth-power-averaging-0-81848/submission.csv\n",
      "../input/tps-sep-voting-classifier/Voting_Submission.csv\n",
      "../input/k/tharun2001/tps-09-simple-blend-stacking-xgb-lgbm-catb/stacked_submission.csv\n",
      "../input/k/tharun2001/tps-09-simple-blend-stacking-xgb-lgbm-catb/simple_blend_submission.csv\n"
     ]
    }
   ],
   "source": [
    "import numpy as np # linear algebra\n",
    "import pandas as pd # data processing, CSV file I/O (e.g. pd.read_csv)\n",
    "import glob\n",
    "df = pd.DataFrame()\n",
    "i = 0\n",
    "for f in [\"../input/tps-09-simple-blend-stacking-xgb-lgbm-catb/stacked_submission.csv\",\n",
    "          \"../input/tps-sep-2021-simple-weighted-ensemble/submission_weighted_ensemble_1.csv\",\n",
    "          \"../input/stop-it-get-some-help/memes.csv\",\n",
    "          \"../input/in-depth-power-averaging-0-81848/submission.csv\",\n",
    "          \"../input/tps-sep-voting-classifier/Voting_Submission.csv\",\n",
    "          \"../input/k/tharun2001/tps-09-simple-blend-stacking-xgb-lgbm-catb/stacked_submission.csv\",\n",
    "          \"../input/k/tharun2001/tps-09-simple-blend-stacking-xgb-lgbm-catb/simple_blend_submission.csv\"\n",
    "         ]:\n",
    "    print(f)\n",
    "    input_df = pd.read_csv(f)\n",
    "    df[i] = input_df.claim.rank()\n",
    "    i = i+1\n",
    "\n",
    "    "
   ]
  },
  {
   "cell_type": "code",
   "execution_count": 2,
   "id": "cee47e2a",
   "metadata": {
    "execution": {
     "iopub.execute_input": "2021-09-29T03:13:58.817517Z",
     "iopub.status.busy": "2021-09-29T03:13:58.816571Z",
     "iopub.status.idle": "2021-09-29T03:14:00.815901Z",
     "shell.execute_reply": "2021-09-29T03:14:00.816426Z",
     "shell.execute_reply.started": "2021-09-29T03:13:09.601734Z"
    },
    "papermill": {
     "duration": 2.011952,
     "end_time": "2021-09-29T03:14:00.816607",
     "exception": false,
     "start_time": "2021-09-29T03:13:58.804655",
     "status": "completed"
    },
    "tags": []
   },
   "outputs": [
    {
     "data": {
      "text/html": [
       "<div>\n",
       "<style scoped>\n",
       "    .dataframe tbody tr th:only-of-type {\n",
       "        vertical-align: middle;\n",
       "    }\n",
       "\n",
       "    .dataframe tbody tr th {\n",
       "        vertical-align: top;\n",
       "    }\n",
       "\n",
       "    .dataframe thead th {\n",
       "        text-align: right;\n",
       "    }\n",
       "</style>\n",
       "<table border=\"1\" class=\"dataframe\">\n",
       "  <thead>\n",
       "    <tr style=\"text-align: right;\">\n",
       "      <th></th>\n",
       "      <th>id</th>\n",
       "      <th>claim</th>\n",
       "    </tr>\n",
       "  </thead>\n",
       "  <tbody>\n",
       "    <tr>\n",
       "      <th>0</th>\n",
       "      <td>957919</td>\n",
       "      <td>159057.857143</td>\n",
       "    </tr>\n",
       "    <tr>\n",
       "      <th>1</th>\n",
       "      <td>957920</td>\n",
       "      <td>19760.714286</td>\n",
       "    </tr>\n",
       "    <tr>\n",
       "      <th>2</th>\n",
       "      <td>957921</td>\n",
       "      <td>191845.571429</td>\n",
       "    </tr>\n",
       "    <tr>\n",
       "      <th>3</th>\n",
       "      <td>957922</td>\n",
       "      <td>26979.142857</td>\n",
       "    </tr>\n",
       "    <tr>\n",
       "      <th>4</th>\n",
       "      <td>957923</td>\n",
       "      <td>91961.857143</td>\n",
       "    </tr>\n",
       "    <tr>\n",
       "      <th>5</th>\n",
       "      <td>957924</td>\n",
       "      <td>123521.000000</td>\n",
       "    </tr>\n",
       "    <tr>\n",
       "      <th>6</th>\n",
       "      <td>957925</td>\n",
       "      <td>428552.428571</td>\n",
       "    </tr>\n",
       "    <tr>\n",
       "      <th>7</th>\n",
       "      <td>957926</td>\n",
       "      <td>51852.142857</td>\n",
       "    </tr>\n",
       "    <tr>\n",
       "      <th>8</th>\n",
       "      <td>957927</td>\n",
       "      <td>166008.000000</td>\n",
       "    </tr>\n",
       "    <tr>\n",
       "      <th>9</th>\n",
       "      <td>957928</td>\n",
       "      <td>287297.142857</td>\n",
       "    </tr>\n",
       "  </tbody>\n",
       "</table>\n",
       "</div>"
      ],
      "text/plain": [
       "       id          claim\n",
       "0  957919  159057.857143\n",
       "1  957920   19760.714286\n",
       "2  957921  191845.571429\n",
       "3  957922   26979.142857\n",
       "4  957923   91961.857143\n",
       "5  957924  123521.000000\n",
       "6  957925  428552.428571\n",
       "7  957926   51852.142857\n",
       "8  957927  166008.000000\n",
       "9  957928  287297.142857"
      ]
     },
     "execution_count": 2,
     "metadata": {},
     "output_type": "execute_result"
    }
   ],
   "source": [
    "submit_df = pd.read_csv(\"../input/tabular-playground-series-sep-2021/sample_solution.csv\")\n",
    "submit_df['claim'] = df.mean(1)-50000\n",
    "submit_df.to_csv(\"submission.csv\", index=False)\n",
    "submit_df.head(10)"
   ]
  }
 ],
 "metadata": {
  "kernelspec": {
   "display_name": "Python 3",
   "language": "python",
   "name": "python3"
  },
  "language_info": {
   "codemirror_mode": {
    "name": "ipython",
    "version": 3
   },
   "file_extension": ".py",
   "mimetype": "text/x-python",
   "name": "python",
   "nbconvert_exporter": "python",
   "pygments_lexer": "ipython3",
   "version": "3.7.10"
  },
  "papermill": {
   "default_parameters": {},
   "duration": 15.858794,
   "end_time": "2021-09-29T03:14:01.960359",
   "environment_variables": {},
   "exception": null,
   "input_path": "__notebook__.ipynb",
   "output_path": "__notebook__.ipynb",
   "parameters": {},
   "start_time": "2021-09-29T03:13:46.101565",
   "version": "2.3.3"
  }
 },
 "nbformat": 4,
 "nbformat_minor": 5
}
