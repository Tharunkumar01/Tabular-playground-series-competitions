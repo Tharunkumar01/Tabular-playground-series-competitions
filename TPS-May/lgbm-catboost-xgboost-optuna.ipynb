{
 "cells": [
  {
   "cell_type": "code",
   "execution_count": 1,
   "id": "thousand-armstrong",
   "metadata": {
    "execution": {
     "iopub.execute_input": "2021-05-06T05:13:35.644246Z",
     "iopub.status.busy": "2021-05-06T05:13:35.643576Z",
     "iopub.status.idle": "2021-05-06T05:13:46.927214Z",
     "shell.execute_reply": "2021-05-06T05:13:46.926030Z"
    },
    "papermill": {
     "duration": 11.301651,
     "end_time": "2021-05-06T05:13:46.927367",
     "exception": false,
     "start_time": "2021-05-06T05:13:35.625716",
     "status": "completed"
    },
    "tags": []
   },
   "outputs": [
    {
     "data": {
      "text/html": [
       "<style type='text/css'>\n",
       ".datatable table.frame { margin-bottom: 0; }\n",
       ".datatable table.frame thead { border-bottom: none; }\n",
       ".datatable table.frame tr.coltypes td {  color: #FFFFFF;  line-height: 6px;  padding: 0 0.5em;}\n",
       ".datatable .bool    { background: #DDDD99; }\n",
       ".datatable .object  { background: #565656; }\n",
       ".datatable .int     { background: #5D9E5D; }\n",
       ".datatable .float   { background: #4040CC; }\n",
       ".datatable .str     { background: #CC4040; }\n",
       ".datatable .row_index {  background: var(--jp-border-color3);  border-right: 1px solid var(--jp-border-color0);  color: var(--jp-ui-font-color3);  font-size: 9px;}\n",
       ".datatable .frame tr.coltypes .row_index {  background: var(--jp-border-color0);}\n",
       ".datatable th:nth-child(2) { padding-left: 12px; }\n",
       ".datatable .hellipsis {  color: var(--jp-cell-editor-border-color);}\n",
       ".datatable .vellipsis {  background: var(--jp-layout-color0);  color: var(--jp-cell-editor-border-color);}\n",
       ".datatable .na {  color: var(--jp-cell-editor-border-color);  font-size: 80%;}\n",
       ".datatable .footer { font-size: 9px; }\n",
       ".datatable .frame_dimensions {  background: var(--jp-border-color3);  border-top: 1px solid var(--jp-border-color0);  color: var(--jp-ui-font-color3);  display: inline-block;  opacity: 0.6;  padding: 1px 10px 1px 5px;}\n",
       "</style>\n"
      ],
      "text/plain": [
       "<IPython.core.display.HTML object>"
      ]
     },
     "metadata": {},
     "output_type": "display_data"
    }
   ],
   "source": [
    "import pandas as pd\n",
    "import numpy as np\n",
    "import seaborn as sns\n",
    "import itertools\n",
    "import matplotlib.pyplot as plt\n",
    "import functools\n",
    "\n",
    "from sklearn.preprocessing import LabelEncoder, StandardScaler\n",
    "\n",
    "import warnings\n",
    "warnings.simplefilter('ignore')\n",
    "\n",
    "from sklearn import model_selection\n",
    "from sklearn.metrics import log_loss, make_scorer\n",
    "from sklearn.model_selection import train_test_split, GridSearchCV, RepeatedStratifiedKFold\n",
    "from sklearn.svm import SVC\n",
    "\n",
    "from sklearn.linear_model import LogisticRegression\n",
    "from sklearn.neighbors import KNeighborsClassifier\n",
    "from sklearn.naive_bayes import GaussianNB \n",
    "from sklearn.ensemble import RandomForestClassifier, VotingClassifier\n",
    "from sklearn.tree import DecisionTreeClassifier\n",
    "from sklearn.ensemble import ExtraTreesClassifier\n",
    "from lightgbm import LGBMClassifier\n",
    "from sklearn.neural_network import MLPClassifier\n",
    "from catboost import CatBoostClassifier\n",
    "from xgboost import XGBClassifier\n",
    "\n",
    "from mlxtend.classifier import StackingCVClassifier\n",
    "import shap\n",
    "import optuna"
   ]
  },
  {
   "cell_type": "code",
   "execution_count": 2,
   "id": "played-humidity",
   "metadata": {
    "execution": {
     "iopub.execute_input": "2021-05-06T05:13:46.956959Z",
     "iopub.status.busy": "2021-05-06T05:13:46.955117Z",
     "iopub.status.idle": "2021-05-06T05:13:46.957601Z",
     "shell.execute_reply": "2021-05-06T05:13:46.958006Z"
    },
    "papermill": {
     "duration": 0.020378,
     "end_time": "2021-05-06T05:13:46.958133",
     "exception": false,
     "start_time": "2021-05-06T05:13:46.937755",
     "status": "completed"
    },
    "tags": []
   },
   "outputs": [],
   "source": [
    "RANDOM_SEED = 2021\n",
    "PROBAS = True\n",
    "FOLDS = 5\n",
    "N_ESTIMATORS = 1000\n",
    "\n",
    "TARGET = 'target'"
   ]
  },
  {
   "cell_type": "code",
   "execution_count": 3,
   "id": "according-philip",
   "metadata": {
    "execution": {
     "iopub.execute_input": "2021-05-06T05:13:46.982814Z",
     "iopub.status.busy": "2021-05-06T05:13:46.982328Z",
     "iopub.status.idle": "2021-05-06T05:13:47.679591Z",
     "shell.execute_reply": "2021-05-06T05:13:47.678490Z"
    },
    "papermill": {
     "duration": 0.712053,
     "end_time": "2021-05-06T05:13:47.679749",
     "exception": false,
     "start_time": "2021-05-06T05:13:46.967696",
     "status": "completed"
    },
    "tags": []
   },
   "outputs": [],
   "source": [
    "train = pd.read_csv('../input/tabular-playground-series-may-2021/train.csv')\n",
    "test = pd.read_csv('../input/tabular-playground-series-may-2021/test.csv')\n",
    "submission = pd.read_csv('../input/tabular-playground-series-may-2021/sample_submission.csv')\n",
    "\n",
    "# Pseudo labels taken from great BIZEN notebook: https://www.kaggle.com/hiro5299834/tps-apr-2021-pseudo-labeling-voting-ensemble\n",
    "# pseudo_labels = pd.read_csv(\"../input/sub-top/sub_top.csv\")\n",
    "# test[TARGET] = pseudo_labels[TARGET]"
   ]
  },
  {
   "cell_type": "code",
   "execution_count": 4,
   "id": "clean-nickname",
   "metadata": {
    "execution": {
     "iopub.execute_input": "2021-05-06T05:13:47.704787Z",
     "iopub.status.busy": "2021-05-06T05:13:47.704277Z",
     "iopub.status.idle": "2021-05-06T05:13:47.752597Z",
     "shell.execute_reply": "2021-05-06T05:13:47.751827Z"
    },
    "papermill": {
     "duration": 0.063049,
     "end_time": "2021-05-06T05:13:47.752727",
     "exception": false,
     "start_time": "2021-05-06T05:13:47.689678",
     "status": "completed"
    },
    "tags": []
   },
   "outputs": [],
   "source": [
    "all_df = pd.concat([train, test], axis=0).drop(['id', 'target'], axis=1)"
   ]
  },
  {
   "cell_type": "code",
   "execution_count": 5,
   "id": "traditional-flexibility",
   "metadata": {
    "execution": {
     "iopub.execute_input": "2021-05-06T05:13:47.783529Z",
     "iopub.status.busy": "2021-05-06T05:13:47.782608Z",
     "iopub.status.idle": "2021-05-06T05:13:48.582387Z",
     "shell.execute_reply": "2021-05-06T05:13:48.581932Z"
    },
    "papermill": {
     "duration": 0.818886,
     "end_time": "2021-05-06T05:13:48.582525",
     "exception": false,
     "start_time": "2021-05-06T05:13:47.763639",
     "status": "completed"
    },
    "tags": []
   },
   "outputs": [],
   "source": [
    "def label_encoder(c):\n",
    "    le = LabelEncoder()\n",
    "    return le.fit_transform(c)\n",
    "\n",
    "scaler = StandardScaler()\n",
    "\n",
    "train['target'] = label_encoder(train['target'])\n",
    "\n",
    "for col in all_df.columns:\n",
    "    all_df[col] = label_encoder(all_df[col])\n",
    "\n",
    "for col in all_df.columns:\n",
    "    all_df[col] = np.log1p(all_df[col])"
   ]
  },
  {
   "cell_type": "code",
   "execution_count": 6,
   "id": "helpful-nightlife",
   "metadata": {
    "execution": {
     "iopub.execute_input": "2021-05-06T05:13:48.607298Z",
     "iopub.status.busy": "2021-05-06T05:13:48.606738Z",
     "iopub.status.idle": "2021-05-06T05:13:48.612531Z",
     "shell.execute_reply": "2021-05-06T05:13:48.611982Z"
    },
    "papermill": {
     "duration": 0.020036,
     "end_time": "2021-05-06T05:13:48.612650",
     "exception": false,
     "start_time": "2021-05-06T05:13:48.592614",
     "status": "completed"
    },
    "tags": []
   },
   "outputs": [],
   "source": [
    "train_df = all_df[:len(train)]\n",
    "train_df['target'] = train['target']\n",
    "test_df = all_df[len(train):]\n",
    "all_df = train_df"
   ]
  },
  {
   "cell_type": "code",
   "execution_count": 7,
   "id": "experienced-description",
   "metadata": {
    "execution": {
     "iopub.execute_input": "2021-05-06T05:13:48.639715Z",
     "iopub.status.busy": "2021-05-06T05:13:48.638389Z",
     "iopub.status.idle": "2021-05-06T05:13:48.717511Z",
     "shell.execute_reply": "2021-05-06T05:13:48.717948Z"
    },
    "papermill": {
     "duration": 0.095301,
     "end_time": "2021-05-06T05:13:48.718096",
     "exception": false,
     "start_time": "2021-05-06T05:13:48.622795",
     "status": "completed"
    },
    "tags": []
   },
   "outputs": [
    {
     "name": "stdout",
     "output_type": "stream",
     "text": [
      "X:(100000, 50) y: (100000,) \n",
      "\n",
      "X_train:(90000, 50) y_train: (90000,)\n",
      "X_test:(10000, 50) y_test: (10000,)\n"
     ]
    }
   ],
   "source": [
    "X = all_df.drop([TARGET], axis = 1)\n",
    "y = all_df[TARGET]\n",
    "\n",
    "print (f'X:{X.shape} y: {y.shape} \\n')\n",
    "\n",
    "X_train, X_test, y_train, y_test = train_test_split(X, y, test_size = 0.1, random_state = RANDOM_SEED)\n",
    "print (f'X_train:{X_train.shape} y_train: {y_train.shape}')\n",
    "print (f'X_test:{X_test.shape} y_test: {y_test.shape}')"
   ]
  },
  {
   "cell_type": "code",
   "execution_count": 8,
   "id": "impaired-citizenship",
   "metadata": {
    "execution": {
     "iopub.execute_input": "2021-05-06T05:13:48.744984Z",
     "iopub.status.busy": "2021-05-06T05:13:48.744193Z",
     "iopub.status.idle": "2021-05-06T05:13:48.748895Z",
     "shell.execute_reply": "2021-05-06T05:13:48.749578Z"
    },
    "papermill": {
     "duration": 0.020921,
     "end_time": "2021-05-06T05:13:48.749740",
     "exception": false,
     "start_time": "2021-05-06T05:13:48.728819",
     "status": "completed"
    },
    "tags": []
   },
   "outputs": [
    {
     "name": "stdout",
     "output_type": "stream",
     "text": [
      "test:(50000, 50)\n"
     ]
    }
   ],
   "source": [
    "test = test_df\n",
    "print (f'test:{test.shape}')"
   ]
  },
  {
   "cell_type": "code",
   "execution_count": 9,
   "id": "daily-domestic",
   "metadata": {
    "execution": {
     "iopub.execute_input": "2021-05-06T05:13:48.779138Z",
     "iopub.status.busy": "2021-05-06T05:13:48.778321Z",
     "iopub.status.idle": "2021-05-06T05:13:48.781437Z",
     "shell.execute_reply": "2021-05-06T05:13:48.780991Z"
    },
    "papermill": {
     "duration": 0.020618,
     "end_time": "2021-05-06T05:13:48.781551",
     "exception": false,
     "start_time": "2021-05-06T05:13:48.760933",
     "status": "completed"
    },
    "tags": []
   },
   "outputs": [],
   "source": [
    "def opt2(X_train, y_train, X_test, y_test, trial):\n",
    "    #param_list\n",
    "    iterations = trial.suggest_int('iterations', 50, 300)                       \n",
    "    depth = trial.suggest_int('depth', 4, 10)                                   \n",
    "    learning_rate = trial.suggest_loguniform('learning_rate', 0.01, 0.3)               \n",
    "    random_strength = trial.suggest_int('random_strength', 0, 100)                     \n",
    "    bagging_temperature = trial.suggest_loguniform('bagging_temperature', 0.01, 100.00)\n",
    "#     learning_rate = trial.suggest_loguniform('learning_rate', 1e-3, 1e-1),\n",
    "    od_type = trial.suggest_categorical('od_type', ['IncToDec', 'Iter'])\n",
    "\n",
    "\n",
    "    cat_model = CatBoostClassifier(\n",
    "        loss_function=\"Logloss\",\n",
    "        task_type=\"CPU\",\n",
    "        l2_leaf_reg=50,\n",
    "        random_seed=2021,\n",
    "        border_count=64,\n",
    "        iterations = iterations,\n",
    "        depth = depth,\n",
    "        learning_rate = learning_rate,\n",
    "        random_strength = random_strength,\n",
    "        bagging_temperature = bagging_temperature,\n",
    "        od_type = od_type,\n",
    "        objective = 'MultiClass',\n",
    "        verbose=False,\n",
    "        classes_count = 4\n",
    "    )        \n",
    "    cat_model.fit(X_train, y_train)\n",
    "    cat_tuna_pred_test = cat_model.predict_proba(X_test)\n",
    "    \n",
    "    return (log_loss(y_test, cat_tuna_pred_test))"
   ]
  },
  {
   "cell_type": "code",
   "execution_count": 10,
   "id": "voluntary-military",
   "metadata": {
    "execution": {
     "iopub.execute_input": "2021-05-06T05:13:48.807434Z",
     "iopub.status.busy": "2021-05-06T05:13:48.806697Z",
     "iopub.status.idle": "2021-05-06T05:58:17.627428Z",
     "shell.execute_reply": "2021-05-06T05:58:17.627850Z"
    },
    "papermill": {
     "duration": 2668.835724,
     "end_time": "2021-05-06T05:58:17.628019",
     "exception": false,
     "start_time": "2021-05-06T05:13:48.792295",
     "status": "completed"
    },
    "scrolled": true,
    "tags": []
   },
   "outputs": [
    {
     "name": "stderr",
     "output_type": "stream",
     "text": [
      "\u001b[32m[I 2021-05-06 05:13:48,805]\u001b[0m A new study created in memory with name: no-name-d7ac1ba3-4335-47b0-b5cb-124bf07406c3\u001b[0m\n",
      "\u001b[32m[I 2021-05-06 05:15:40,714]\u001b[0m Trial 0 finished with value: 1.0848341859927393 and parameters: {'iterations': 278, 'depth': 10, 'learning_rate': 0.10543595551302834, 'random_strength': 41, 'bagging_temperature': 16.328623700406315, 'od_type': 'IncToDec'}. Best is trial 0 with value: 1.0848341859927393.\u001b[0m\n",
      "\u001b[32m[I 2021-05-06 05:16:31,469]\u001b[0m Trial 1 finished with value: 1.1059776204065426 and parameters: {'iterations': 128, 'depth': 10, 'learning_rate': 0.020010562125706045, 'random_strength': 82, 'bagging_temperature': 0.332809466620475, 'od_type': 'Iter'}. Best is trial 0 with value: 1.0848341859927393.\u001b[0m\n",
      "\u001b[32m[I 2021-05-06 05:16:49,298]\u001b[0m Trial 2 finished with value: 1.10371021301156 and parameters: {'iterations': 283, 'depth': 4, 'learning_rate': 0.01452255172978548, 'random_strength': 93, 'bagging_temperature': 0.7808986793225677, 'od_type': 'Iter'}. Best is trial 0 with value: 1.0848341859927393.\u001b[0m\n",
      "\u001b[32m[I 2021-05-06 05:17:08,750]\u001b[0m Trial 3 finished with value: 1.1057464108085302 and parameters: {'iterations': 59, 'depth': 9, 'learning_rate': 0.04471682352235786, 'random_strength': 4, 'bagging_temperature': 9.276418221255124, 'od_type': 'IncToDec'}. Best is trial 0 with value: 1.0848341859927393.\u001b[0m\n",
      "\u001b[32m[I 2021-05-06 05:18:40,730]\u001b[0m Trial 4 finished with value: 1.0780074173899301 and parameters: {'iterations': 228, 'depth': 10, 'learning_rate': 0.1269961069943482, 'random_strength': 3, 'bagging_temperature': 0.10669493040281455, 'od_type': 'IncToDec'}. Best is trial 4 with value: 1.0780074173899301.\u001b[0m\n",
      "\u001b[32m[I 2021-05-06 05:18:48,182]\u001b[0m Trial 5 finished with value: 1.103093084862373 and parameters: {'iterations': 111, 'depth': 5, 'learning_rate': 0.042607190618803664, 'random_strength': 88, 'bagging_temperature': 0.15245567216789221, 'od_type': 'IncToDec'}. Best is trial 4 with value: 1.0780074173899301.\u001b[0m\n",
      "\u001b[32m[I 2021-05-06 05:19:18,334]\u001b[0m Trial 6 finished with value: 1.136106481236779 and parameters: {'iterations': 108, 'depth': 8, 'learning_rate': 0.011906596431434937, 'random_strength': 5, 'bagging_temperature': 10.214871308819324, 'od_type': 'Iter'}. Best is trial 4 with value: 1.0780074173899301.\u001b[0m\n",
      "\u001b[32m[I 2021-05-06 05:19:30,260]\u001b[0m Trial 7 finished with value: 1.1059990875565109 and parameters: {'iterations': 217, 'depth': 10, 'learning_rate': 0.1634624727669132, 'random_strength': 95, 'bagging_temperature': 45.2212316646776, 'od_type': 'Iter'}. Best is trial 4 with value: 1.0780074173899301.\u001b[0m\n",
      "\u001b[32m[I 2021-05-06 05:21:15,660]\u001b[0m Trial 8 finished with value: 1.0797314216614255 and parameters: {'iterations': 260, 'depth': 10, 'learning_rate': 0.12148498035830824, 'random_strength': 51, 'bagging_temperature': 1.610238166652076, 'od_type': 'IncToDec'}. Best is trial 4 with value: 1.0780074173899301.\u001b[0m\n",
      "\u001b[32m[I 2021-05-06 05:22:19,896]\u001b[0m Trial 9 finished with value: 1.0950698650232196 and parameters: {'iterations': 156, 'depth': 10, 'learning_rate': 0.033401660388931644, 'random_strength': 44, 'bagging_temperature': 6.986673004858671, 'od_type': 'IncToDec'}. Best is trial 4 with value: 1.0780074173899301.\u001b[0m\n",
      "\u001b[32m[I 2021-05-06 05:22:36,716]\u001b[0m Trial 10 finished with value: 1.0771993894689793 and parameters: {'iterations': 209, 'depth': 6, 'learning_rate': 0.2085523652317926, 'random_strength': 19, 'bagging_temperature': 0.011847622275830682, 'od_type': 'IncToDec'}. Best is trial 10 with value: 1.0771993894689793.\u001b[0m\n",
      "\u001b[32m[I 2021-05-06 05:22:54,711]\u001b[0m Trial 11 finished with value: 1.0772034739607335 and parameters: {'iterations': 223, 'depth': 6, 'learning_rate': 0.29851243332566235, 'random_strength': 26, 'bagging_temperature': 0.010172545448748635, 'od_type': 'IncToDec'}. Best is trial 10 with value: 1.0771993894689793.\u001b[0m\n",
      "\u001b[32m[I 2021-05-06 05:23:09,976]\u001b[0m Trial 12 finished with value: 1.0773723871663954 and parameters: {'iterations': 193, 'depth': 6, 'learning_rate': 0.28329241639877173, 'random_strength': 23, 'bagging_temperature': 0.013707056229903461, 'od_type': 'IncToDec'}. Best is trial 10 with value: 1.0771993894689793.\u001b[0m\n",
      "\u001b[32m[I 2021-05-06 05:23:31,723]\u001b[0m Trial 13 finished with value: 1.0773501622736819 and parameters: {'iterations': 235, 'depth': 7, 'learning_rate': 0.2972117069574741, 'random_strength': 22, 'bagging_temperature': 0.010267132852246768, 'od_type': 'IncToDec'}. Best is trial 10 with value: 1.0771993894689793.\u001b[0m\n",
      "\u001b[32m[I 2021-05-06 05:23:46,643]\u001b[0m Trial 14 finished with value: 1.0775881566984826 and parameters: {'iterations': 176, 'depth': 6, 'learning_rate': 0.20758853561044047, 'random_strength': 26, 'bagging_temperature': 0.032770076335761705, 'od_type': 'IncToDec'}. Best is trial 10 with value: 1.0771993894689793.\u001b[0m\n",
      "\u001b[32m[I 2021-05-06 05:23:59,838]\u001b[0m Trial 15 finished with value: 1.094444539033286 and parameters: {'iterations': 197, 'depth': 4, 'learning_rate': 0.07565489230745273, 'random_strength': 60, 'bagging_temperature': 0.02729006572175825, 'od_type': 'IncToDec'}. Best is trial 10 with value: 1.0771993894689793.\u001b[0m\n",
      "\u001b[32m[I 2021-05-06 05:24:20,364]\u001b[0m Trial 16 finished with value: 1.0768069703031782 and parameters: {'iterations': 253, 'depth': 6, 'learning_rate': 0.22445166606887246, 'random_strength': 15, 'bagging_temperature': 0.04481925480831069, 'od_type': 'IncToDec'}. Best is trial 16 with value: 1.0768069703031782.\u001b[0m\n",
      "\u001b[32m[I 2021-05-06 05:24:44,284]\u001b[0m Trial 17 finished with value: 1.0760808844116265 and parameters: {'iterations': 250, 'depth': 7, 'learning_rate': 0.19944889273710148, 'random_strength': 18, 'bagging_temperature': 0.061468721727560266, 'od_type': 'IncToDec'}. Best is trial 17 with value: 1.0760808844116265.\u001b[0m\n",
      "\u001b[32m[I 2021-05-06 05:25:55,111]\u001b[0m Trial 18 finished with value: 1.082330077759343 and parameters: {'iterations': 256, 'depth': 8, 'learning_rate': 0.06628505127112225, 'random_strength': 13, 'bagging_temperature': 0.06376382795512521, 'od_type': 'IncToDec'}. Best is trial 17 with value: 1.0760808844116265.\u001b[0m\n",
      "\u001b[32m[I 2021-05-06 05:26:24,053]\u001b[0m Trial 19 finished with value: 1.0772152351472393 and parameters: {'iterations': 295, 'depth': 7, 'learning_rate': 0.19752394325761827, 'random_strength': 35, 'bagging_temperature': 0.3166493192246918, 'od_type': 'IncToDec'}. Best is trial 17 with value: 1.0760808844116265.\u001b[0m\n",
      "\u001b[32m[I 2021-05-06 05:26:43,078]\u001b[0m Trial 20 finished with value: 1.0831089967012126 and parameters: {'iterations': 253, 'depth': 5, 'learning_rate': 0.08793464465562303, 'random_strength': 70, 'bagging_temperature': 1.55143357980517, 'od_type': 'IncToDec'}. Best is trial 17 with value: 1.0760808844116265.\u001b[0m\n",
      "\u001b[32m[I 2021-05-06 05:26:58,470]\u001b[0m Trial 21 finished with value: 1.0780323746238336 and parameters: {'iterations': 197, 'depth': 5, 'learning_rate': 0.20136035645689776, 'random_strength': 16, 'bagging_temperature': 0.03254642133856936, 'od_type': 'IncToDec'}. Best is trial 17 with value: 1.0760808844116265.\u001b[0m\n",
      "\u001b[32m[I 2021-05-06 05:28:12,421]\u001b[0m Trial 22 finished with value: 1.0772246599770006 and parameters: {'iterations': 263, 'depth': 8, 'learning_rate': 0.1574195110090774, 'random_strength': 13, 'bagging_temperature': 0.018315419587318395, 'od_type': 'IncToDec'}. Best is trial 17 with value: 1.0760808844116265.\u001b[0m\n",
      "\u001b[32m[I 2021-05-06 05:28:37,399]\u001b[0m Trial 23 finished with value: 1.076366405083731 and parameters: {'iterations': 300, 'depth': 6, 'learning_rate': 0.22249875932090285, 'random_strength': 34, 'bagging_temperature': 0.06637923026536072, 'od_type': 'IncToDec'}. Best is trial 17 with value: 1.0760808844116265.\u001b[0m\n",
      "\u001b[32m[I 2021-05-06 05:29:05,466]\u001b[0m Trial 24 finished with value: 1.07689377768255 and parameters: {'iterations': 297, 'depth': 7, 'learning_rate': 0.2626265954512554, 'random_strength': 31, 'bagging_temperature': 0.06886221213024309, 'od_type': 'IncToDec'}. Best is trial 17 with value: 1.0760808844116265.\u001b[0m\n",
      "\u001b[32m[I 2021-05-06 05:29:30,252]\u001b[0m Trial 25 finished with value: 1.0764419357226218 and parameters: {'iterations': 296, 'depth': 6, 'learning_rate': 0.14867494098562264, 'random_strength': 35, 'bagging_temperature': 0.36167705851321386, 'od_type': 'IncToDec'}. Best is trial 17 with value: 1.0760808844116265.\u001b[0m\n",
      "\u001b[32m[I 2021-05-06 05:29:53,221]\u001b[0m Trial 26 finished with value: 1.0764437051469522 and parameters: {'iterations': 294, 'depth': 5, 'learning_rate': 0.15845171500946256, 'random_strength': 56, 'bagging_temperature': 0.21941049926344502, 'od_type': 'IncToDec'}. Best is trial 17 with value: 1.0760808844116265.\u001b[0m\n",
      "\u001b[32m[I 2021-05-06 05:30:19,699]\u001b[0m Trial 27 finished with value: 1.0779794458836924 and parameters: {'iterations': 276, 'depth': 7, 'learning_rate': 0.10621545419638269, 'random_strength': 35, 'bagging_temperature': 0.8087738226765312, 'od_type': 'Iter'}. Best is trial 17 with value: 1.0760808844116265.\u001b[0m\n",
      "\u001b[32m[I 2021-05-06 05:31:43,010]\u001b[0m Trial 28 finished with value: 1.0773146838095211 and parameters: {'iterations': 297, 'depth': 8, 'learning_rate': 0.1396171756485986, 'random_strength': 43, 'bagging_temperature': 0.4698168975520168, 'od_type': 'IncToDec'}. Best is trial 17 with value: 1.0760808844116265.\u001b[0m\n",
      "\u001b[32m[I 2021-05-06 05:32:06,170]\u001b[0m Trial 29 finished with value: 1.0796689138951252 and parameters: {'iterations': 276, 'depth': 6, 'learning_rate': 0.08923226461287535, 'random_strength': 36, 'bagging_temperature': 0.10441284556960366, 'od_type': 'IncToDec'}. Best is trial 17 with value: 1.0760808844116265.\u001b[0m\n",
      "\u001b[32m[I 2021-05-06 05:32:29,172]\u001b[0m Trial 30 finished with value: 1.081330073908723 and parameters: {'iterations': 240, 'depth': 7, 'learning_rate': 0.10556122480113697, 'random_strength': 47, 'bagging_temperature': 3.5201429351104254, 'od_type': 'IncToDec'}. Best is trial 17 with value: 1.0760808844116265.\u001b[0m\n",
      "\u001b[32m[I 2021-05-06 05:32:52,241]\u001b[0m Trial 31 finished with value: 1.0763338970526055 and parameters: {'iterations': 298, 'depth': 5, 'learning_rate': 0.1660669863669638, 'random_strength': 58, 'bagging_temperature': 0.1812823398411849, 'od_type': 'IncToDec'}. Best is trial 17 with value: 1.0760808844116265.\u001b[0m\n",
      "\u001b[32m[I 2021-05-06 05:33:13,637]\u001b[0m Trial 32 finished with value: 1.0772968850099414 and parameters: {'iterations': 279, 'depth': 5, 'learning_rate': 0.24856629730836322, 'random_strength': 73, 'bagging_temperature': 0.17953358460020707, 'od_type': 'IncToDec'}. Best is trial 17 with value: 1.0760808844116265.\u001b[0m\n",
      "\u001b[32m[I 2021-05-06 05:33:35,346]\u001b[0m Trial 33 finished with value: 1.0765914733768345 and parameters: {'iterations': 300, 'depth': 4, 'learning_rate': 0.1764964225080371, 'random_strength': 61, 'bagging_temperature': 0.4286646131012953, 'od_type': 'IncToDec'}. Best is trial 17 with value: 1.0760808844116265.\u001b[0m\n",
      "\u001b[32m[I 2021-05-06 05:33:59,249]\u001b[0m Trial 34 finished with value: 1.0766657457364024 and parameters: {'iterations': 283, 'depth': 6, 'learning_rate': 0.13643796056687169, 'random_strength': 39, 'bagging_temperature': 0.08143735337411516, 'od_type': 'Iter'}. Best is trial 17 with value: 1.0760808844116265.\u001b[0m\n",
      "\u001b[32m[I 2021-05-06 05:34:17,726]\u001b[0m Trial 35 finished with value: 1.1013085606584676 and parameters: {'iterations': 269, 'depth': 5, 'learning_rate': 0.022847260161180175, 'random_strength': 50, 'bagging_temperature': 0.24911179805471198, 'od_type': 'IncToDec'}. Best is trial 17 with value: 1.0760808844116265.\u001b[0m\n",
      "\u001b[32m[I 2021-05-06 05:35:38,029]\u001b[0m Trial 36 finished with value: 1.0788389642277985 and parameters: {'iterations': 243, 'depth': 9, 'learning_rate': 0.24529504071476066, 'random_strength': 69, 'bagging_temperature': 0.15296471882889237, 'od_type': 'IncToDec'}. Best is trial 17 with value: 1.0760808844116265.\u001b[0m\n",
      "\u001b[32m[I 2021-05-06 05:35:57,176]\u001b[0m Trial 37 finished with value: 1.088174262649762 and parameters: {'iterations': 288, 'depth': 4, 'learning_rate': 0.05927428976585409, 'random_strength': 30, 'bagging_temperature': 0.5727111727289572, 'od_type': 'IncToDec'}. Best is trial 17 with value: 1.0760808844116265.\u001b[0m\n",
      "\u001b[32m[I 2021-05-06 05:36:20,608]\u001b[0m Trial 38 finished with value: 1.0777070815604515 and parameters: {'iterations': 299, 'depth': 5, 'learning_rate': 0.12026121973820725, 'random_strength': 9, 'bagging_temperature': 1.305812968705391, 'od_type': 'Iter'}. Best is trial 17 with value: 1.0760808844116265.\u001b[0m\n",
      "\u001b[32m[I 2021-05-06 05:36:28,343]\u001b[0m Trial 39 finished with value: 1.0804060581174337 and parameters: {'iterations': 86, 'depth': 6, 'learning_rate': 0.18090253497232311, 'random_strength': 1, 'bagging_temperature': 0.1380455517627808, 'od_type': 'IncToDec'}. Best is trial 17 with value: 1.0760808844116265.\u001b[0m\n",
      "\u001b[32m[I 2021-05-06 05:36:42,011]\u001b[0m Trial 40 finished with value: 1.098110533222862 and parameters: {'iterations': 158, 'depth': 7, 'learning_rate': 0.04542405735848128, 'random_strength': 30, 'bagging_temperature': 0.057035355340607434, 'od_type': 'IncToDec'}. Best is trial 17 with value: 1.0760808844116265.\u001b[0m\n",
      "\u001b[32m[I 2021-05-06 05:37:03,498]\u001b[0m Trial 41 finished with value: 1.0765833709859887 and parameters: {'iterations': 287, 'depth': 5, 'learning_rate': 0.14999970314458916, 'random_strength': 56, 'bagging_temperature': 0.26310826491653494, 'od_type': 'IncToDec'}. Best is trial 17 with value: 1.0760808844116265.\u001b[0m\n",
      "\u001b[32m[I 2021-05-06 05:37:24,653]\u001b[0m Trial 42 finished with value: 1.0770058587433515 and parameters: {'iterations': 273, 'depth': 5, 'learning_rate': 0.1549345362930834, 'random_strength': 55, 'bagging_temperature': 0.18587154077201706, 'od_type': 'IncToDec'}. Best is trial 17 with value: 1.0760808844116265.\u001b[0m\n",
      "\u001b[32m[I 2021-05-06 05:37:49,710]\u001b[0m Trial 43 finished with value: 1.0762328720087306 and parameters: {'iterations': 300, 'depth': 6, 'learning_rate': 0.1769802479152863, 'random_strength': 64, 'bagging_temperature': 0.0883945073393396, 'od_type': 'IncToDec'}. Best is trial 17 with value: 1.0760808844116265.\u001b[0m\n",
      "\u001b[32m[I 2021-05-06 05:38:15,070]\u001b[0m Trial 44 finished with value: 1.0772354132694246 and parameters: {'iterations': 300, 'depth': 6, 'learning_rate': 0.11898820026279024, 'random_strength': 82, 'bagging_temperature': 0.09807176464984121, 'od_type': 'IncToDec'}. Best is trial 17 with value: 1.0760808844116265.\u001b[0m\n",
      "\u001b[32m[I 2021-05-06 05:38:35,584]\u001b[0m Trial 45 finished with value: 1.0764090803318136 and parameters: {'iterations': 263, 'depth': 6, 'learning_rate': 0.238004749638455, 'random_strength': 74, 'bagging_temperature': 0.020900058220658966, 'od_type': 'IncToDec'}. Best is trial 17 with value: 1.0760808844116265.\u001b[0m\n",
      "\u001b[32m[I 2021-05-06 05:38:57,544]\u001b[0m Trial 46 finished with value: 1.0769925012738388 and parameters: {'iterations': 248, 'depth': 7, 'learning_rate': 0.2548899940178058, 'random_strength': 80, 'bagging_temperature': 0.022705107340925693, 'od_type': 'IncToDec'}. Best is trial 17 with value: 1.0760808844116265.\u001b[0m\n",
      "\u001b[32m[I 2021-05-06 05:39:15,740]\u001b[0m Trial 47 finished with value: 1.076646599884321 and parameters: {'iterations': 231, 'depth': 6, 'learning_rate': 0.29587947076593996, 'random_strength': 65, 'bagging_temperature': 0.040973606093996744, 'od_type': 'Iter'}. Best is trial 17 with value: 1.0760808844116265.\u001b[0m\n",
      "\u001b[32m[I 2021-05-06 05:39:33,422]\u001b[0m Trial 48 finished with value: 1.0774499714942558 and parameters: {'iterations': 212, 'depth': 6, 'learning_rate': 0.2241558985991713, 'random_strength': 75, 'bagging_temperature': 0.02041442895723869, 'od_type': 'IncToDec'}. Best is trial 17 with value: 1.0760808844116265.\u001b[0m\n",
      "\u001b[32m[I 2021-05-06 05:40:47,462]\u001b[0m Trial 49 finished with value: 1.0775662233577403 and parameters: {'iterations': 265, 'depth': 8, 'learning_rate': 0.18414218610743663, 'random_strength': 62, 'bagging_temperature': 0.04714901125728536, 'od_type': 'IncToDec'}. Best is trial 17 with value: 1.0760808844116265.\u001b[0m\n",
      "\u001b[32m[I 2021-05-06 05:41:08,115]\u001b[0m Trial 50 finished with value: 1.076437634893618 and parameters: {'iterations': 224, 'depth': 7, 'learning_rate': 0.2263035203392474, 'random_strength': 86, 'bagging_temperature': 0.014970791619649945, 'od_type': 'IncToDec'}. Best is trial 17 with value: 1.0760808844116265.\u001b[0m\n",
      "\u001b[32m[I 2021-05-06 05:41:28,276]\u001b[0m Trial 51 finished with value: 1.0772537457760452 and parameters: {'iterations': 226, 'depth': 7, 'learning_rate': 0.22272854775126957, 'random_strength': 91, 'bagging_temperature': 0.013378994483766466, 'od_type': 'IncToDec'}. Best is trial 17 with value: 1.0760808844116265.\u001b[0m\n",
      "\u001b[32m[I 2021-05-06 05:41:52,034]\u001b[0m Trial 52 finished with value: 1.07701512006203 and parameters: {'iterations': 262, 'depth': 7, 'learning_rate': 0.28934631190484356, 'random_strength': 85, 'bagging_temperature': 0.03557158199113396, 'od_type': 'IncToDec'}. Best is trial 17 with value: 1.0760808844116265.\u001b[0m\n",
      "\u001b[32m[I 2021-05-06 05:42:10,356]\u001b[0m Trial 53 finished with value: 1.0773865277371069 and parameters: {'iterations': 220, 'depth': 6, 'learning_rate': 0.18293861607524414, 'random_strength': 79, 'bagging_temperature': 0.017108371202205312, 'od_type': 'IncToDec'}. Best is trial 17 with value: 1.0760808844116265.\u001b[0m\n",
      "\u001b[32m[I 2021-05-06 05:43:21,142]\u001b[0m Trial 54 finished with value: 1.0784370664618559 and parameters: {'iterations': 250, 'depth': 8, 'learning_rate': 0.23140543230249133, 'random_strength': 65, 'bagging_temperature': 0.026866798620296676, 'od_type': 'IncToDec'}. Best is trial 17 with value: 1.0760808844116265.\u001b[0m\n",
      "\u001b[32m[I 2021-05-06 05:43:43,338]\u001b[0m Trial 55 finished with value: 1.0768197078230917 and parameters: {'iterations': 235, 'depth': 7, 'learning_rate': 0.204785273245885, 'random_strength': 87, 'bagging_temperature': 0.12136861536624445, 'od_type': 'IncToDec'}. Best is trial 17 with value: 1.0760808844116265.\u001b[0m\n",
      "\u001b[32m[I 2021-05-06 05:43:59,165]\u001b[0m Trial 56 finished with value: 1.0772761262837116 and parameters: {'iterations': 180, 'depth': 6, 'learning_rate': 0.26258142358711456, 'random_strength': 97, 'bagging_temperature': 0.07276485849337594, 'od_type': 'IncToDec'}. Best is trial 17 with value: 1.0760808844116265.\u001b[0m\n",
      "\u001b[32m[I 2021-05-06 05:44:15,134]\u001b[0m Trial 57 finished with value: 1.1059990875565109 and parameters: {'iterations': 285, 'depth': 7, 'learning_rate': 0.1694693292987858, 'random_strength': 73, 'bagging_temperature': 70.4661217455388, 'od_type': 'IncToDec'}. Best is trial 17 with value: 1.0760808844116265.\u001b[0m\n",
      "\u001b[32m[I 2021-05-06 05:44:33,273]\u001b[0m Trial 58 finished with value: 1.0765955545714954 and parameters: {'iterations': 209, 'depth': 6, 'learning_rate': 0.19778083898584808, 'random_strength': 92, 'bagging_temperature': 0.05217053847882985, 'od_type': 'IncToDec'}. Best is trial 17 with value: 1.0760808844116265.\u001b[0m\n",
      "\u001b[32m[I 2021-05-06 05:44:51,156]\u001b[0m Trial 59 finished with value: 1.0828235998902005 and parameters: {'iterations': 258, 'depth': 4, 'learning_rate': 0.08984415803502628, 'random_strength': 67, 'bagging_temperature': 0.015993818906137453, 'od_type': 'IncToDec'}. Best is trial 17 with value: 1.0760808844116265.\u001b[0m\n",
      "\u001b[32m[I 2021-05-06 05:45:13,482]\u001b[0m Trial 60 finished with value: 1.07805742160396 and parameters: {'iterations': 272, 'depth': 6, 'learning_rate': 0.29952328863541344, 'random_strength': 77, 'bagging_temperature': 0.028456123012056193, 'od_type': 'IncToDec'}. Best is trial 17 with value: 1.0760808844116265.\u001b[0m\n",
      "\u001b[32m[I 2021-05-06 05:45:36,158]\u001b[0m Trial 61 finished with value: 1.0769035609180406 and parameters: {'iterations': 290, 'depth': 5, 'learning_rate': 0.13894300338816798, 'random_strength': 45, 'bagging_temperature': 0.38481582629063626, 'od_type': 'IncToDec'}. Best is trial 17 with value: 1.0760808844116265.\u001b[0m\n",
      "\u001b[32m[I 2021-05-06 05:45:59,241]\u001b[0m Trial 62 finished with value: 1.0768387694130537 and parameters: {'iterations': 279, 'depth': 6, 'learning_rate': 0.22102857059153938, 'random_strength': 53, 'bagging_temperature': 0.09508218864200293, 'od_type': 'IncToDec'}. Best is trial 17 with value: 1.0760808844116265.\u001b[0m\n",
      "\u001b[32m[I 2021-05-06 05:46:22,250]\u001b[0m Trial 63 finished with value: 1.077056271479741 and parameters: {'iterations': 242, 'depth': 7, 'learning_rate': 0.16838845988317402, 'random_strength': 100, 'bagging_temperature': 0.010195093030939826, 'od_type': 'IncToDec'}. Best is trial 17 with value: 1.0760808844116265.\u001b[0m\n",
      "\u001b[32m[I 2021-05-06 05:46:45,310]\u001b[0m Trial 64 finished with value: 1.077138296151847 and parameters: {'iterations': 267, 'depth': 6, 'learning_rate': 0.13644478276216768, 'random_strength': 23, 'bagging_temperature': 0.6313325504959735, 'od_type': 'IncToDec'}. Best is trial 17 with value: 1.0760808844116265.\u001b[0m\n",
      "\u001b[32m[I 2021-05-06 05:47:07,404]\u001b[0m Trial 65 finished with value: 1.077413440551323 and parameters: {'iterations': 290, 'depth': 5, 'learning_rate': 0.2670534677793504, 'random_strength': 59, 'bagging_temperature': 0.29783211699359624, 'od_type': 'IncToDec'}. Best is trial 17 with value: 1.0760808844116265.\u001b[0m\n",
      "\u001b[32m[I 2021-05-06 05:47:23,333]\u001b[0m Trial 66 finished with value: 1.0773520677188373 and parameters: {'iterations': 188, 'depth': 6, 'learning_rate': 0.19438068750114842, 'random_strength': 18, 'bagging_temperature': 0.06797313531190181, 'od_type': 'IncToDec'}. Best is trial 17 with value: 1.0760808844116265.\u001b[0m\n",
      "\u001b[32m[I 2021-05-06 05:47:44,794]\u001b[0m Trial 67 finished with value: 1.105660861051536 and parameters: {'iterations': 257, 'depth': 7, 'learning_rate': 0.01062602089552057, 'random_strength': 47, 'bagging_temperature': 0.12172308012059634, 'od_type': 'IncToDec'}. Best is trial 17 with value: 1.0760808844116265.\u001b[0m\n",
      "\u001b[32m[I 2021-05-06 05:48:07,920]\u001b[0m Trial 68 finished with value: 1.0769426289792006 and parameters: {'iterations': 300, 'depth': 5, 'learning_rate': 0.12377620036882973, 'random_strength': 8, 'bagging_temperature': 0.18505654017184145, 'od_type': 'IncToDec'}. Best is trial 17 with value: 1.0760808844116265.\u001b[0m\n",
      "\u001b[32m[I 2021-05-06 05:48:53,411]\u001b[0m Trial 69 finished with value: 1.079902859545485 and parameters: {'iterations': 160, 'depth': 8, 'learning_rate': 0.15282901795928572, 'random_strength': 41, 'bagging_temperature': 0.0389080998759611, 'od_type': 'Iter'}. Best is trial 17 with value: 1.0760808844116265.\u001b[0m\n",
      "\u001b[32m[I 2021-05-06 05:49:05,890]\u001b[0m Trial 70 finished with value: 1.0781511580399306 and parameters: {'iterations': 130, 'depth': 7, 'learning_rate': 0.23529369863821575, 'random_strength': 27, 'bagging_temperature': 1.1160899417049883, 'od_type': 'IncToDec'}. Best is trial 17 with value: 1.0760808844116265.\u001b[0m\n",
      "\u001b[32m[I 2021-05-06 05:49:28,765]\u001b[0m Trial 71 finished with value: 1.0781761415322229 and parameters: {'iterations': 295, 'depth': 5, 'learning_rate': 0.11013340187648588, 'random_strength': 57, 'bagging_temperature': 0.21383308912108548, 'od_type': 'IncToDec'}. Best is trial 17 with value: 1.0760808844116265.\u001b[0m\n",
      "\u001b[32m[I 2021-05-06 05:49:50,296]\u001b[0m Trial 72 finished with value: 1.0767502219902045 and parameters: {'iterations': 283, 'depth': 5, 'learning_rate': 0.15573904371990577, 'random_strength': 52, 'bagging_temperature': 0.33968094609878813, 'od_type': 'IncToDec'}. Best is trial 17 with value: 1.0760808844116265.\u001b[0m\n",
      "\u001b[32m[I 2021-05-06 05:50:11,447]\u001b[0m Trial 73 finished with value: 1.0762207878291181 and parameters: {'iterations': 291, 'depth': 4, 'learning_rate': 0.17732798636723315, 'random_strength': 63, 'bagging_temperature': 0.08242747014993648, 'od_type': 'IncToDec'}. Best is trial 17 with value: 1.0760808844116265.\u001b[0m\n",
      "\u001b[32m[I 2021-05-06 05:50:31,871]\u001b[0m Trial 74 finished with value: 1.0762308405427852 and parameters: {'iterations': 276, 'depth': 4, 'learning_rate': 0.21299759398413837, 'random_strength': 63, 'bagging_temperature': 0.08083110140596851, 'od_type': 'IncToDec'}. Best is trial 17 with value: 1.0760808844116265.\u001b[0m\n",
      "\u001b[32m[I 2021-05-06 05:50:50,756]\u001b[0m Trial 75 finished with value: 1.07649810032899 and parameters: {'iterations': 271, 'depth': 4, 'learning_rate': 0.19619969184121056, 'random_strength': 63, 'bagging_temperature': 0.08191225850930216, 'od_type': 'IncToDec'}. Best is trial 17 with value: 1.0760808844116265.\u001b[0m\n",
      "\u001b[32m[I 2021-05-06 05:51:11,099]\u001b[0m Trial 76 finished with value: 1.076267001596255 and parameters: {'iterations': 280, 'depth': 4, 'learning_rate': 0.2121408611510152, 'random_strength': 70, 'bagging_temperature': 0.022939977394394746, 'od_type': 'IncToDec'}. Best is trial 17 with value: 1.0760808844116265.\u001b[0m\n",
      "\u001b[32m[I 2021-05-06 05:51:31,004]\u001b[0m Trial 77 finished with value: 1.0762144259824875 and parameters: {'iterations': 278, 'depth': 4, 'learning_rate': 0.2760204085383548, 'random_strength': 70, 'bagging_temperature': 0.05493616155095962, 'od_type': 'IncToDec'}. Best is trial 17 with value: 1.0760808844116265.\u001b[0m\n",
      "\u001b[32m[I 2021-05-06 05:51:50,391]\u001b[0m Trial 78 finished with value: 1.076160676264487 and parameters: {'iterations': 279, 'depth': 4, 'learning_rate': 0.27597779271696865, 'random_strength': 70, 'bagging_temperature': 0.05644409782081617, 'od_type': 'IncToDec'}. Best is trial 17 with value: 1.0760808844116265.\u001b[0m\n",
      "\u001b[32m[I 2021-05-06 05:52:09,318]\u001b[0m Trial 79 finished with value: 1.0767524080588415 and parameters: {'iterations': 278, 'depth': 4, 'learning_rate': 0.27785615948890435, 'random_strength': 70, 'bagging_temperature': 0.05309244454853357, 'od_type': 'IncToDec'}. Best is trial 17 with value: 1.0760808844116265.\u001b[0m\n",
      "\u001b[32m[I 2021-05-06 05:52:29,321]\u001b[0m Trial 80 finished with value: 1.076643134835298 and parameters: {'iterations': 291, 'depth': 4, 'learning_rate': 0.20987036634968853, 'random_strength': 68, 'bagging_temperature': 0.10047180907749918, 'od_type': 'IncToDec'}. Best is trial 17 with value: 1.0760808844116265.\u001b[0m\n",
      "\u001b[32m[I 2021-05-06 05:52:49,159]\u001b[0m Trial 81 finished with value: 1.0765522421668323 and parameters: {'iterations': 280, 'depth': 4, 'learning_rate': 0.18312627271906376, 'random_strength': 59, 'bagging_temperature': 0.058909893233943335, 'od_type': 'IncToDec'}. Best is trial 17 with value: 1.0760808844116265.\u001b[0m\n",
      "\u001b[32m[I 2021-05-06 05:53:09,532]\u001b[0m Trial 82 finished with value: 1.0759258333338633 and parameters: {'iterations': 285, 'depth': 4, 'learning_rate': 0.2589835668828314, 'random_strength': 65, 'bagging_temperature': 0.15854176900786918, 'od_type': 'IncToDec'}. Best is trial 82 with value: 1.0759258333338633.\u001b[0m\n",
      "\u001b[32m[I 2021-05-06 05:53:28,860]\u001b[0m Trial 83 finished with value: 1.075634802861447 and parameters: {'iterations': 273, 'depth': 4, 'learning_rate': 0.25419918125985175, 'random_strength': 65, 'bagging_temperature': 0.14944250141671522, 'od_type': 'IncToDec'}. Best is trial 83 with value: 1.075634802861447.\u001b[0m\n",
      "\u001b[32m[I 2021-05-06 05:53:49,237]\u001b[0m Trial 84 finished with value: 1.0761075721249043 and parameters: {'iterations': 273, 'depth': 4, 'learning_rate': 0.26874968181317543, 'random_strength': 65, 'bagging_temperature': 0.08398496312029596, 'od_type': 'IncToDec'}. Best is trial 83 with value: 1.075634802861447.\u001b[0m\n",
      "\u001b[32m[I 2021-05-06 05:54:08,040]\u001b[0m Trial 85 finished with value: 1.0758941794154815 and parameters: {'iterations': 269, 'depth': 4, 'learning_rate': 0.24116442132911778, 'random_strength': 65, 'bagging_temperature': 0.14887960873187492, 'od_type': 'IncToDec'}. Best is trial 83 with value: 1.075634802861447.\u001b[0m\n",
      "\u001b[32m[I 2021-05-06 05:54:28,346]\u001b[0m Trial 86 finished with value: 1.0759283607966261 and parameters: {'iterations': 268, 'depth': 4, 'learning_rate': 0.2772022927111831, 'random_strength': 61, 'bagging_temperature': 0.15735646267821218, 'od_type': 'IncToDec'}. Best is trial 83 with value: 1.075634802861447.\u001b[0m\n",
      "\u001b[32m[I 2021-05-06 05:54:47,066]\u001b[0m Trial 87 finished with value: 1.0765184247343802 and parameters: {'iterations': 251, 'depth': 4, 'learning_rate': 0.27319628740617363, 'random_strength': 72, 'bagging_temperature': 0.14959405909195714, 'od_type': 'IncToDec'}. Best is trial 83 with value: 1.075634802861447.\u001b[0m\n",
      "\u001b[32m[I 2021-05-06 05:55:06,067]\u001b[0m Trial 88 finished with value: 1.0760816746672142 and parameters: {'iterations': 267, 'depth': 4, 'learning_rate': 0.2986551096122515, 'random_strength': 67, 'bagging_temperature': 0.1267196627256049, 'od_type': 'IncToDec'}. Best is trial 83 with value: 1.075634802861447.\u001b[0m\n",
      "\u001b[32m[I 2021-05-06 05:55:25,208]\u001b[0m Trial 89 finished with value: 1.0764673833545704 and parameters: {'iterations': 268, 'depth': 4, 'learning_rate': 0.2969118805115707, 'random_strength': 67, 'bagging_temperature': 0.12927100487536045, 'od_type': 'IncToDec'}. Best is trial 83 with value: 1.075634802861447.\u001b[0m\n",
      "\u001b[32m[I 2021-05-06 05:55:42,588]\u001b[0m Trial 90 finished with value: 1.0758348126087796 and parameters: {'iterations': 248, 'depth': 4, 'learning_rate': 0.2620666242740296, 'random_strength': 76, 'bagging_temperature': 0.2513507952782185, 'od_type': 'Iter'}. Best is trial 83 with value: 1.075634802861447.\u001b[0m\n",
      "\u001b[32m[I 2021-05-06 05:56:00,379]\u001b[0m Trial 91 finished with value: 1.0765031598646164 and parameters: {'iterations': 247, 'depth': 4, 'learning_rate': 0.25266953743128373, 'random_strength': 76, 'bagging_temperature': 0.16498191930935097, 'od_type': 'Iter'}. Best is trial 83 with value: 1.075634802861447.\u001b[0m\n",
      "\u001b[32m[I 2021-05-06 05:56:18,474]\u001b[0m Trial 92 finished with value: 1.0760807569809823 and parameters: {'iterations': 260, 'depth': 4, 'learning_rate': 0.2989280024963337, 'random_strength': 66, 'bagging_temperature': 0.24810869000614957, 'od_type': 'Iter'}. Best is trial 83 with value: 1.075634802861447.\u001b[0m\n",
      "\u001b[32m[I 2021-05-06 05:56:36,633]\u001b[0m Trial 93 finished with value: 1.0759607261502766 and parameters: {'iterations': 259, 'depth': 4, 'learning_rate': 0.29861823796397435, 'random_strength': 66, 'bagging_temperature': 0.24506518121126014, 'od_type': 'Iter'}. Best is trial 83 with value: 1.075634802861447.\u001b[0m\n",
      "\u001b[32m[I 2021-05-06 05:56:54,711]\u001b[0m Trial 94 finished with value: 1.0768057078725743 and parameters: {'iterations': 257, 'depth': 4, 'learning_rate': 0.24388990578043182, 'random_strength': 61, 'bagging_temperature': 0.23172632409483299, 'od_type': 'Iter'}. Best is trial 83 with value: 1.075634802861447.\u001b[0m\n",
      "\u001b[32m[I 2021-05-06 05:57:09,622]\u001b[0m Trial 95 finished with value: 1.1041290317252568 and parameters: {'iterations': 238, 'depth': 4, 'learning_rate': 0.015555330236221568, 'random_strength': 65, 'bagging_temperature': 0.31466354766002297, 'od_type': 'Iter'}. Best is trial 83 with value: 1.075634802861447.\u001b[0m\n",
      "\u001b[32m[I 2021-05-06 05:57:28,226]\u001b[0m Trial 96 finished with value: 1.0762298637529097 and parameters: {'iterations': 263, 'depth': 4, 'learning_rate': 0.29667286036084745, 'random_strength': 66, 'bagging_temperature': 0.4805214612070863, 'od_type': 'Iter'}. Best is trial 83 with value: 1.075634802861447.\u001b[0m\n",
      "\u001b[32m[I 2021-05-06 05:57:45,030]\u001b[0m Trial 97 finished with value: 1.07746278893995 and parameters: {'iterations': 246, 'depth': 4, 'learning_rate': 0.24950416375959836, 'random_strength': 72, 'bagging_temperature': 2.291413179145483, 'od_type': 'Iter'}. Best is trial 83 with value: 1.075634802861447.\u001b[0m\n",
      "\u001b[32m[I 2021-05-06 05:58:03,226]\u001b[0m Trial 98 finished with value: 1.076558740553019 and parameters: {'iterations': 255, 'depth': 4, 'learning_rate': 0.2965180571961596, 'random_strength': 61, 'bagging_temperature': 0.2502579808587171, 'od_type': 'Iter'}. Best is trial 83 with value: 1.075634802861447.\u001b[0m\n",
      "\u001b[32m[I 2021-05-06 05:58:17,585]\u001b[0m Trial 99 finished with value: 1.1009283846480367 and parameters: {'iterations': 233, 'depth': 4, 'learning_rate': 0.032572354060146705, 'random_strength': 54, 'bagging_temperature': 0.1163229272634841, 'od_type': 'Iter'}. Best is trial 83 with value: 1.075634802861447.\u001b[0m\n"
     ]
    }
   ],
   "source": [
    "study_cat = optuna.create_study()\n",
    "study_cat.optimize(functools.partial(opt2, X_train, y_train, X_test, y_test), n_trials=100)"
   ]
  },
  {
   "cell_type": "code",
   "execution_count": 11,
   "id": "scenic-straight",
   "metadata": {
    "execution": {
     "iopub.execute_input": "2021-05-06T05:58:17.706504Z",
     "iopub.status.busy": "2021-05-06T05:58:17.705866Z",
     "iopub.status.idle": "2021-05-06T05:58:17.709142Z",
     "shell.execute_reply": "2021-05-06T05:58:17.709529Z"
    },
    "papermill": {
     "duration": 0.045456,
     "end_time": "2021-05-06T05:58:17.709656",
     "exception": false,
     "start_time": "2021-05-06T05:58:17.664200",
     "status": "completed"
    },
    "tags": []
   },
   "outputs": [
    {
     "data": {
      "text/plain": [
       "{'iterations': 273,\n",
       " 'depth': 4,\n",
       " 'learning_rate': 0.25419918125985175,\n",
       " 'random_strength': 65,\n",
       " 'bagging_temperature': 0.14944250141671522,\n",
       " 'od_type': 'IncToDec'}"
      ]
     },
     "execution_count": 11,
     "metadata": {},
     "output_type": "execute_result"
    }
   ],
   "source": [
    "study_cat.best_params"
   ]
  },
  {
   "cell_type": "code",
   "execution_count": 12,
   "id": "ignored-stockholm",
   "metadata": {
    "execution": {
     "iopub.execute_input": "2021-05-06T05:58:17.801269Z",
     "iopub.status.busy": "2021-05-06T05:58:17.800408Z",
     "iopub.status.idle": "2021-05-06T05:59:23.832825Z",
     "shell.execute_reply": "2021-05-06T05:59:23.833421Z"
    },
    "papermill": {
     "duration": 66.087531,
     "end_time": "2021-05-06T05:59:23.833609",
     "exception": false,
     "start_time": "2021-05-06T05:58:17.746078",
     "status": "completed"
    },
    "tags": []
   },
   "outputs": [
    {
     "data": {
      "text/plain": [
       "<catboost.core.CatBoostClassifier at 0x7fabaa3b00d0>"
      ]
     },
     "execution_count": 12,
     "metadata": {},
     "output_type": "execute_result"
    }
   ],
   "source": [
    "cat = CatBoostClassifier(loss_function=\"Logloss\",\n",
    "        task_type=\"GPU\",\n",
    "        l2_leaf_reg=50,\n",
    "        random_seed=2021,\n",
    "        border_count=64, \n",
    "        objective = 'MultiClass',\n",
    "        verbose=False,\n",
    "        classes_count = 4,\n",
    "        **study_cat.best_params)\n",
    "cat.fit(X, y)"
   ]
  },
  {
   "cell_type": "code",
   "execution_count": 13,
   "id": "sapphire-transparency",
   "metadata": {
    "execution": {
     "iopub.execute_input": "2021-05-06T05:59:23.957682Z",
     "iopub.status.busy": "2021-05-06T05:59:23.957007Z",
     "iopub.status.idle": "2021-05-06T05:59:24.147369Z",
     "shell.execute_reply": "2021-05-06T05:59:24.148381Z"
    },
    "papermill": {
     "duration": 0.259832,
     "end_time": "2021-05-06T05:59:24.148583",
     "exception": false,
     "start_time": "2021-05-06T05:59:23.888751",
     "status": "completed"
    },
    "tags": []
   },
   "outputs": [],
   "source": [
    "cat_preds = cat.predict_proba(test)"
   ]
  },
  {
   "cell_type": "code",
   "execution_count": 14,
   "id": "herbal-sperm",
   "metadata": {
    "execution": {
     "iopub.execute_input": "2021-05-06T05:59:24.277598Z",
     "iopub.status.busy": "2021-05-06T05:59:24.276928Z",
     "iopub.status.idle": "2021-05-06T05:59:24.335092Z",
     "shell.execute_reply": "2021-05-06T05:59:24.336041Z"
    },
    "papermill": {
     "duration": 0.128708,
     "end_time": "2021-05-06T05:59:24.336229",
     "exception": false,
     "start_time": "2021-05-06T05:59:24.207521",
     "status": "completed"
    },
    "tags": []
   },
   "outputs": [],
   "source": [
    "submission[submission.columns[1:]] = cat_preds"
   ]
  },
  {
   "cell_type": "code",
   "execution_count": 15,
   "id": "declared-prophet",
   "metadata": {
    "execution": {
     "iopub.execute_input": "2021-05-06T05:59:24.454328Z",
     "iopub.status.busy": "2021-05-06T05:59:24.453578Z",
     "iopub.status.idle": "2021-05-06T05:59:25.105741Z",
     "shell.execute_reply": "2021-05-06T05:59:25.105182Z"
    },
    "papermill": {
     "duration": 0.713735,
     "end_time": "2021-05-06T05:59:25.105868",
     "exception": false,
     "start_time": "2021-05-06T05:59:24.392133",
     "status": "completed"
    },
    "tags": []
   },
   "outputs": [],
   "source": [
    "submission.to_csv('cat_optuna.csv', index=False)"
   ]
  }
 ],
 "metadata": {
  "kernelspec": {
   "display_name": "Python 3",
   "language": "python",
   "name": "python3"
  },
  "language_info": {
   "codemirror_mode": {
    "name": "ipython",
    "version": 3
   },
   "file_extension": ".py",
   "mimetype": "text/x-python",
   "name": "python",
   "nbconvert_exporter": "python",
   "pygments_lexer": "ipython3",
   "version": "3.7.9"
  },
  "papermill": {
   "default_parameters": {},
   "duration": 2757.437781,
   "end_time": "2021-05-06T05:59:28.003191",
   "environment_variables": {},
   "exception": null,
   "input_path": "__notebook__.ipynb",
   "output_path": "__notebook__.ipynb",
   "parameters": {},
   "start_time": "2021-05-06T05:13:30.565410",
   "version": "2.3.2"
  }
 },
 "nbformat": 4,
 "nbformat_minor": 5
}
