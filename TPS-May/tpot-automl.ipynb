{
 "cells": [
  {
   "cell_type": "code",
   "execution_count": 1,
   "id": "entire-island",
   "metadata": {
    "execution": {
     "iopub.execute_input": "2021-05-02T07:41:10.347903Z",
     "iopub.status.busy": "2021-05-02T07:41:10.347250Z",
     "iopub.status.idle": "2021-05-02T07:41:12.704431Z",
     "shell.execute_reply": "2021-05-02T07:41:12.703771Z"
    },
    "papermill": {
     "duration": 2.376799,
     "end_time": "2021-05-02T07:41:12.704596",
     "exception": false,
     "start_time": "2021-05-02T07:41:10.327797",
     "status": "completed"
    },
    "tags": []
   },
   "outputs": [],
   "source": [
    "from tpot import TPOTClassifier\n",
    "import numpy as np\n",
    "import pandas as pd\n",
    "from sklearn.preprocessing import LabelEncoder, StandardScaler\n",
    "from sklearn.model_selection import RepeatedKFold"
   ]
  },
  {
   "cell_type": "code",
   "execution_count": 2,
   "id": "angry-hawaiian",
   "metadata": {
    "execution": {
     "iopub.execute_input": "2021-05-02T07:41:12.727654Z",
     "iopub.status.busy": "2021-05-02T07:41:12.727005Z",
     "iopub.status.idle": "2021-05-02T07:41:13.360889Z",
     "shell.execute_reply": "2021-05-02T07:41:13.359982Z"
    },
    "papermill": {
     "duration": 0.647088,
     "end_time": "2021-05-02T07:41:13.361029",
     "exception": false,
     "start_time": "2021-05-02T07:41:12.713941",
     "status": "completed"
    },
    "tags": []
   },
   "outputs": [],
   "source": [
    "train = pd.read_csv('../input/tabular-playground-series-may-2021/train.csv')\n",
    "test = pd.read_csv('../input/tabular-playground-series-may-2021/test.csv')\n",
    "sample = pd.read_csv('../input/tabular-playground-series-may-2021/sample_submission.csv', index_col='id')\n",
    "all_df = pd.concat([train, test], axis=0)"
   ]
  },
  {
   "cell_type": "code",
   "execution_count": 3,
   "id": "lasting-better",
   "metadata": {
    "execution": {
     "iopub.execute_input": "2021-05-02T07:41:13.404472Z",
     "iopub.status.busy": "2021-05-02T07:41:13.402788Z",
     "iopub.status.idle": "2021-05-02T07:41:13.405202Z",
     "shell.execute_reply": "2021-05-02T07:41:13.405725Z"
    },
    "papermill": {
     "duration": 0.035393,
     "end_time": "2021-05-02T07:41:13.405895",
     "exception": false,
     "start_time": "2021-05-02T07:41:13.370502",
     "status": "completed"
    },
    "tags": []
   },
   "outputs": [],
   "source": [
    "all_df = all_df.drop(['id', 'target'], axis=1)"
   ]
  },
  {
   "cell_type": "code",
   "execution_count": 4,
   "id": "fancy-tsunami",
   "metadata": {
    "execution": {
     "iopub.execute_input": "2021-05-02T07:41:13.462442Z",
     "iopub.status.busy": "2021-05-02T07:41:13.461015Z",
     "iopub.status.idle": "2021-05-02T07:41:13.465839Z",
     "shell.execute_reply": "2021-05-02T07:41:13.465301Z"
    },
    "papermill": {
     "duration": 0.050723,
     "end_time": "2021-05-02T07:41:13.465950",
     "exception": false,
     "start_time": "2021-05-02T07:41:13.415227",
     "status": "completed"
    },
    "tags": []
   },
   "outputs": [],
   "source": [
    "lbe = LabelEncoder()\n",
    "train['target'] = lbe.fit_transform(train['target'])"
   ]
  },
  {
   "cell_type": "code",
   "execution_count": 5,
   "id": "significant-colony",
   "metadata": {
    "execution": {
     "iopub.execute_input": "2021-05-02T07:41:13.487294Z",
     "iopub.status.busy": "2021-05-02T07:41:13.486764Z",
     "iopub.status.idle": "2021-05-02T07:41:13.742462Z",
     "shell.execute_reply": "2021-05-02T07:41:13.741725Z"
    },
    "papermill": {
     "duration": 0.267897,
     "end_time": "2021-05-02T07:41:13.742604",
     "exception": false,
     "start_time": "2021-05-02T07:41:13.474707",
     "status": "completed"
    },
    "tags": []
   },
   "outputs": [],
   "source": [
    "le = LabelEncoder()\n",
    "for col in all_df.columns:\n",
    "    all_df[col] = le.fit_transform(all_df[col])\n"
   ]
  },
  {
   "cell_type": "code",
   "execution_count": 6,
   "id": "unusual-honey",
   "metadata": {
    "execution": {
     "iopub.execute_input": "2021-05-02T07:41:13.765324Z",
     "iopub.status.busy": "2021-05-02T07:41:13.764584Z",
     "iopub.status.idle": "2021-05-02T07:41:14.375293Z",
     "shell.execute_reply": "2021-05-02T07:41:14.374184Z"
    },
    "papermill": {
     "duration": 0.62354,
     "end_time": "2021-05-02T07:41:14.375476",
     "exception": false,
     "start_time": "2021-05-02T07:41:13.751936",
     "status": "completed"
    },
    "tags": []
   },
   "outputs": [],
   "source": [
    "for col in all_df.columns:\n",
    "    all_df[col] = np.log1p(all_df[col])"
   ]
  },
  {
   "cell_type": "code",
   "execution_count": 7,
   "id": "rapid-stevens",
   "metadata": {
    "execution": {
     "iopub.execute_input": "2021-05-02T07:41:14.409838Z",
     "iopub.status.busy": "2021-05-02T07:41:14.409009Z",
     "iopub.status.idle": "2021-05-02T07:41:14.415031Z",
     "shell.execute_reply": "2021-05-02T07:41:14.415642Z"
    },
    "papermill": {
     "duration": 0.025774,
     "end_time": "2021-05-02T07:41:14.415810",
     "exception": false,
     "start_time": "2021-05-02T07:41:14.390036",
     "status": "completed"
    },
    "tags": []
   },
   "outputs": [
    {
     "name": "stderr",
     "output_type": "stream",
     "text": [
      "/opt/conda/lib/python3.7/site-packages/ipykernel_launcher.py:2: SettingWithCopyWarning: \n",
      "A value is trying to be set on a copy of a slice from a DataFrame.\n",
      "Try using .loc[row_indexer,col_indexer] = value instead\n",
      "\n",
      "See the caveats in the documentation: https://pandas.pydata.org/pandas-docs/stable/user_guide/indexing.html#returning-a-view-versus-a-copy\n",
      "  \n"
     ]
    }
   ],
   "source": [
    "train_df = all_df[:len(train)]\n",
    "train_df['target'] = train['target']\n",
    "test_df = all_df[len(train):]"
   ]
  },
  {
   "cell_type": "markdown",
   "id": "written-client",
   "metadata": {
    "papermill": {
     "duration": 0.014639,
     "end_time": "2021-05-02T07:41:14.446851",
     "exception": false,
     "start_time": "2021-05-02T07:41:14.432212",
     "status": "completed"
    },
    "tags": []
   },
   "source": [
    "### Modeling"
   ]
  },
  {
   "cell_type": "code",
   "execution_count": 8,
   "id": "another-finland",
   "metadata": {
    "execution": {
     "iopub.execute_input": "2021-05-02T07:41:14.495718Z",
     "iopub.status.busy": "2021-05-02T07:41:14.494961Z",
     "iopub.status.idle": "2021-05-02T07:41:14.496982Z",
     "shell.execute_reply": "2021-05-02T07:41:14.496389Z"
    },
    "papermill": {
     "duration": 0.035588,
     "end_time": "2021-05-02T07:41:14.497108",
     "exception": false,
     "start_time": "2021-05-02T07:41:14.461520",
     "status": "completed"
    },
    "tags": []
   },
   "outputs": [],
   "source": [
    "cv = RepeatedKFold(n_splits=10, n_repeats=3, random_state=1)\n"
   ]
  },
  {
   "cell_type": "code",
   "execution_count": 9,
   "id": "animal-centre",
   "metadata": {
    "execution": {
     "iopub.execute_input": "2021-05-02T07:41:14.540279Z",
     "iopub.status.busy": "2021-05-02T07:41:14.539394Z",
     "iopub.status.idle": "2021-05-02T07:41:14.541641Z",
     "shell.execute_reply": "2021-05-02T07:41:14.540984Z"
    },
    "papermill": {
     "duration": 0.026018,
     "end_time": "2021-05-02T07:41:14.541794",
     "exception": false,
     "start_time": "2021-05-02T07:41:14.515776",
     "status": "completed"
    },
    "tags": []
   },
   "outputs": [],
   "source": [
    "pipeline_optimizer = TPOTClassifier(generations=5, population_size=20, cv=cv, random_state=42, verbosity=2, scoring = 'neg_log_loss', max_time_mins=240, early_stop=5)"
   ]
  },
  {
   "cell_type": "code",
   "execution_count": 10,
   "id": "renewable-driving",
   "metadata": {
    "execution": {
     "iopub.execute_input": "2021-05-02T07:41:14.582705Z",
     "iopub.status.busy": "2021-05-02T07:41:14.582048Z",
     "iopub.status.idle": "2021-05-02T11:25:28.625101Z",
     "shell.execute_reply": "2021-05-02T11:25:28.625968Z"
    },
    "papermill": {
     "duration": 13454.068864,
     "end_time": "2021-05-02T11:25:28.626249",
     "exception": false,
     "start_time": "2021-05-02T07:41:14.557385",
     "status": "completed"
    },
    "tags": []
   },
   "outputs": [
    {
     "data": {
      "application/vnd.jupyter.widget-view+json": {
       "model_id": "9f0c8bf3fa644e72a28e2a40f2cc7086",
       "version_major": 2,
       "version_minor": 0
      },
      "text/plain": [
       "Optimization Progress:   0%|          | 0/20 [00:00<?, ?pipeline/s]"
      ]
     },
     "metadata": {},
     "output_type": "display_data"
    },
    {
     "name": "stdout",
     "output_type": "stream",
     "text": [
      "\n",
      "Generation 1 - Current best internal CV score: -1.1000373346055503\n",
      "\n",
      "Generation 2 - Current best internal CV score: -1.1000373346055503\n",
      "\n",
      "Generation 3 - Current best internal CV score: -1.1000373346055503\n",
      "\n",
      "Generation 4 - Current best internal CV score: -1.1000373346055503\n",
      "\n",
      "Generation 5 - Current best internal CV score: -1.1000373346055503\n",
      "\n",
      "Best pipeline: BernoulliNB(input_matrix, alpha=10.0, fit_prior=True)\n"
     ]
    },
    {
     "data": {
      "text/plain": [
       "TPOTClassifier(cv=RepeatedKFold(n_repeats=3, n_splits=10, random_state=1),\n",
       "               early_stop=5, generations=5, max_time_mins=240,\n",
       "               population_size=20, random_state=42, scoring='neg_log_loss',\n",
       "               verbosity=2)"
      ]
     },
     "execution_count": 10,
     "metadata": {},
     "output_type": "execute_result"
    }
   ],
   "source": [
    "pipeline_optimizer.fit(train_df.drop(['target'], axis=1), train_df['target'])"
   ]
  },
  {
   "cell_type": "code",
   "execution_count": 11,
   "id": "configured-design",
   "metadata": {
    "execution": {
     "iopub.execute_input": "2021-05-02T11:25:28.673448Z",
     "iopub.status.busy": "2021-05-02T11:25:28.672648Z",
     "iopub.status.idle": "2021-05-02T11:25:28.674521Z",
     "shell.execute_reply": "2021-05-02T11:25:28.674962Z"
    },
    "papermill": {
     "duration": 0.028463,
     "end_time": "2021-05-02T11:25:28.675076",
     "exception": false,
     "start_time": "2021-05-02T11:25:28.646613",
     "status": "completed"
    },
    "tags": []
   },
   "outputs": [],
   "source": [
    "pipeline_optimizer.export('tpot_pipeline.py')"
   ]
  },
  {
   "cell_type": "code",
   "execution_count": 12,
   "id": "sitting-fourth",
   "metadata": {
    "execution": {
     "iopub.execute_input": "2021-05-02T11:25:28.719612Z",
     "iopub.status.busy": "2021-05-02T11:25:28.718830Z",
     "iopub.status.idle": "2021-05-02T11:25:28.909498Z",
     "shell.execute_reply": "2021-05-02T11:25:28.909080Z"
    },
    "papermill": {
     "duration": 0.214401,
     "end_time": "2021-05-02T11:25:28.909609",
     "exception": false,
     "start_time": "2021-05-02T11:25:28.695208",
     "status": "completed"
    },
    "tags": []
   },
   "outputs": [
    {
     "ename": "NameError",
     "evalue": "name 'pipiline_optimizer' is not defined",
     "output_type": "error",
     "traceback": [
      "\u001b[0;31m---------------------------------------------------------------------------\u001b[0m",
      "\u001b[0;31mNameError\u001b[0m                                 Traceback (most recent call last)",
      "\u001b[0;32m<ipython-input-12-9db59421ed83>\u001b[0m in \u001b[0;36m<module>\u001b[0;34m\u001b[0m\n\u001b[0;32m----> 1\u001b[0;31m \u001b[0mpreds\u001b[0m \u001b[0;34m=\u001b[0m \u001b[0mpipiline_optimizer\u001b[0m\u001b[0;34m.\u001b[0m\u001b[0mpredict_proba\u001b[0m\u001b[0;34m(\u001b[0m\u001b[0mtest_df\u001b[0m\u001b[0;34m)\u001b[0m\u001b[0;34m\u001b[0m\u001b[0;34m\u001b[0m\u001b[0m\n\u001b[0m",
      "\u001b[0;31mNameError\u001b[0m: name 'pipiline_optimizer' is not defined"
     ]
    }
   ],
   "source": [
    "preds = pipiline_optimizer.predict_proba(test_df)"
   ]
  },
  {
   "cell_type": "code",
   "execution_count": 13,
   "id": "chronic-picture",
   "metadata": {
    "execution": {
     "iopub.execute_input": "2021-05-02T11:25:28.947263Z",
     "iopub.status.busy": "2021-05-02T11:25:28.944986Z",
     "iopub.status.idle": "2021-05-02T11:25:28.950311Z",
     "shell.execute_reply": "2021-05-02T11:25:28.949907Z"
    },
    "papermill": {
     "duration": 0.028861,
     "end_time": "2021-05-02T11:25:28.950414",
     "exception": false,
     "start_time": "2021-05-02T11:25:28.921553",
     "status": "completed"
    },
    "tags": []
   },
   "outputs": [
    {
     "ename": "NameError",
     "evalue": "name 'preds' is not defined",
     "output_type": "error",
     "traceback": [
      "\u001b[0;31m---------------------------------------------------------------------------\u001b[0m",
      "\u001b[0;31mNameError\u001b[0m                                 Traceback (most recent call last)",
      "\u001b[0;32m<ipython-input-13-668e0d002431>\u001b[0m in \u001b[0;36m<module>\u001b[0;34m\u001b[0m\n\u001b[0;32m----> 1\u001b[0;31m \u001b[0msample\u001b[0m\u001b[0;34m[\u001b[0m\u001b[0msample\u001b[0m\u001b[0;34m.\u001b[0m\u001b[0mcolumns\u001b[0m\u001b[0;34m]\u001b[0m \u001b[0;34m=\u001b[0m \u001b[0mpreds\u001b[0m\u001b[0;34m\u001b[0m\u001b[0;34m\u001b[0m\u001b[0m\n\u001b[0m\u001b[1;32m      2\u001b[0m \u001b[0msample\u001b[0m\u001b[0;34m.\u001b[0m\u001b[0mto_csv\u001b[0m\u001b[0;34m(\u001b[0m\u001b[0;34m'tpot_optimized.csv'\u001b[0m\u001b[0;34m)\u001b[0m\u001b[0;34m\u001b[0m\u001b[0;34m\u001b[0m\u001b[0m\n",
      "\u001b[0;31mNameError\u001b[0m: name 'preds' is not defined"
     ]
    }
   ],
   "source": [
    "sample[sample.columns] = preds\n",
    "sample.to_csv('tpot_optimized.csv')"
   ]
  }
 ],
 "metadata": {
  "kernelspec": {
   "display_name": "Python 3",
   "language": "python",
   "name": "python3"
  },
  "language_info": {
   "codemirror_mode": {
    "name": "ipython",
    "version": 3
   },
   "file_extension": ".py",
   "mimetype": "text/x-python",
   "name": "python",
   "nbconvert_exporter": "python",
   "pygments_lexer": "ipython3",
   "version": "3.7.10"
  },
  "papermill": {
   "default_parameters": {},
   "duration": 13468.105574,
   "end_time": "2021-05-02T11:25:31.704086",
   "environment_variables": {},
   "exception": null,
   "input_path": "__notebook__.ipynb",
   "output_path": "__notebook__.ipynb",
   "parameters": {},
   "start_time": "2021-05-02T07:41:03.598512",
   "version": "2.3.3"
  },
  "widgets": {
   "application/vnd.jupyter.widget-state+json": {
    "state": {
     "01100be6a6ad40d4bd3fa552fedab51e": {
      "model_module": "@jupyter-widgets/base",
      "model_module_version": "1.2.0",
      "model_name": "LayoutModel",
      "state": {
       "_model_module": "@jupyter-widgets/base",
       "_model_module_version": "1.2.0",
       "_model_name": "LayoutModel",
       "_view_count": null,
       "_view_module": "@jupyter-widgets/base",
       "_view_module_version": "1.2.0",
       "_view_name": "LayoutView",
       "align_content": null,
       "align_items": null,
       "align_self": null,
       "border": null,
       "bottom": null,
       "display": null,
       "flex": null,
       "flex_flow": null,
       "grid_area": null,
       "grid_auto_columns": null,
       "grid_auto_flow": null,
       "grid_auto_rows": null,
       "grid_column": null,
       "grid_gap": null,
       "grid_row": null,
       "grid_template_areas": null,
       "grid_template_columns": null,
       "grid_template_rows": null,
       "height": null,
       "justify_content": null,
       "justify_items": null,
       "left": null,
       "margin": null,
       "max_height": null,
       "max_width": null,
       "min_height": null,
       "min_width": null,
       "object_fit": null,
       "object_position": null,
       "order": null,
       "overflow": null,
       "overflow_x": null,
       "overflow_y": null,
       "padding": null,
       "right": null,
       "top": null,
       "visibility": null,
       "width": null
      }
     },
     "2146d19aefeb47558a6aab3faee10c01": {
      "model_module": "@jupyter-widgets/controls",
      "model_module_version": "1.5.0",
      "model_name": "HTMLModel",
      "state": {
       "_dom_classes": [],
       "_model_module": "@jupyter-widgets/controls",
       "_model_module_version": "1.5.0",
       "_model_name": "HTMLModel",
       "_view_count": null,
       "_view_module": "@jupyter-widgets/controls",
       "_view_module_version": "1.5.0",
       "_view_name": "HTMLView",
       "description": "",
       "description_tooltip": null,
       "layout": "IPY_MODEL_bbae00f0c9ac42e489c0352b1843a446",
       "placeholder": "​",
       "style": "IPY_MODEL_f312ef2213f344ea83cac4d4b37902ae",
       "value": " 157/? [3:44:08&lt;00:00, 31.10s/pipeline]"
      }
     },
     "497578c4186f48b7a9369bbcf2400c27": {
      "model_module": "@jupyter-widgets/controls",
      "model_module_version": "1.5.0",
      "model_name": "DescriptionStyleModel",
      "state": {
       "_model_module": "@jupyter-widgets/controls",
       "_model_module_version": "1.5.0",
       "_model_name": "DescriptionStyleModel",
       "_view_count": null,
       "_view_module": "@jupyter-widgets/base",
       "_view_module_version": "1.2.0",
       "_view_name": "StyleView",
       "description_width": ""
      }
     },
     "58642d70cdd1451b91571ce444398f9a": {
      "model_module": "@jupyter-widgets/base",
      "model_module_version": "1.2.0",
      "model_name": "LayoutModel",
      "state": {
       "_model_module": "@jupyter-widgets/base",
       "_model_module_version": "1.2.0",
       "_model_name": "LayoutModel",
       "_view_count": null,
       "_view_module": "@jupyter-widgets/base",
       "_view_module_version": "1.2.0",
       "_view_name": "LayoutView",
       "align_content": null,
       "align_items": null,
       "align_self": null,
       "border": null,
       "bottom": null,
       "display": null,
       "flex": null,
       "flex_flow": null,
       "grid_area": null,
       "grid_auto_columns": null,
       "grid_auto_flow": null,
       "grid_auto_rows": null,
       "grid_column": null,
       "grid_gap": null,
       "grid_row": null,
       "grid_template_areas": null,
       "grid_template_columns": null,
       "grid_template_rows": null,
       "height": null,
       "justify_content": null,
       "justify_items": null,
       "left": null,
       "margin": null,
       "max_height": null,
       "max_width": null,
       "min_height": null,
       "min_width": null,
       "object_fit": null,
       "object_position": null,
       "order": null,
       "overflow": null,
       "overflow_x": null,
       "overflow_y": null,
       "padding": null,
       "right": null,
       "top": null,
       "visibility": null,
       "width": null
      }
     },
     "8966a034ce0e4470a97107ed55fe445f": {
      "model_module": "@jupyter-widgets/base",
      "model_module_version": "1.2.0",
      "model_name": "LayoutModel",
      "state": {
       "_model_module": "@jupyter-widgets/base",
       "_model_module_version": "1.2.0",
       "_model_name": "LayoutModel",
       "_view_count": null,
       "_view_module": "@jupyter-widgets/base",
       "_view_module_version": "1.2.0",
       "_view_name": "LayoutView",
       "align_content": null,
       "align_items": null,
       "align_self": null,
       "border": null,
       "bottom": null,
       "display": null,
       "flex": null,
       "flex_flow": null,
       "grid_area": null,
       "grid_auto_columns": null,
       "grid_auto_flow": null,
       "grid_auto_rows": null,
       "grid_column": null,
       "grid_gap": null,
       "grid_row": null,
       "grid_template_areas": null,
       "grid_template_columns": null,
       "grid_template_rows": null,
       "height": null,
       "justify_content": null,
       "justify_items": null,
       "left": null,
       "margin": null,
       "max_height": null,
       "max_width": null,
       "min_height": null,
       "min_width": null,
       "object_fit": null,
       "object_position": null,
       "order": null,
       "overflow": null,
       "overflow_x": null,
       "overflow_y": null,
       "padding": null,
       "right": null,
       "top": null,
       "visibility": null,
       "width": null
      }
     },
     "8eb8b80b948a4657899012cd93960c99": {
      "model_module": "@jupyter-widgets/controls",
      "model_module_version": "1.5.0",
      "model_name": "HTMLModel",
      "state": {
       "_dom_classes": [],
       "_model_module": "@jupyter-widgets/controls",
       "_model_module_version": "1.5.0",
       "_model_name": "HTMLModel",
       "_view_count": null,
       "_view_module": "@jupyter-widgets/controls",
       "_view_module_version": "1.5.0",
       "_view_name": "HTMLView",
       "description": "",
       "description_tooltip": null,
       "layout": "IPY_MODEL_01100be6a6ad40d4bd3fa552fedab51e",
       "placeholder": "​",
       "style": "IPY_MODEL_497578c4186f48b7a9369bbcf2400c27",
       "value": "Optimization Progress: "
      }
     },
     "9f0c8bf3fa644e72a28e2a40f2cc7086": {
      "model_module": "@jupyter-widgets/controls",
      "model_module_version": "1.5.0",
      "model_name": "HBoxModel",
      "state": {
       "_dom_classes": [],
       "_model_module": "@jupyter-widgets/controls",
       "_model_module_version": "1.5.0",
       "_model_name": "HBoxModel",
       "_view_count": null,
       "_view_module": "@jupyter-widgets/controls",
       "_view_module_version": "1.5.0",
       "_view_name": "HBoxView",
       "box_style": "",
       "children": [
        "IPY_MODEL_8eb8b80b948a4657899012cd93960c99",
        "IPY_MODEL_fee887ba54994960b7c9c8a7ffc7a7a5",
        "IPY_MODEL_2146d19aefeb47558a6aab3faee10c01"
       ],
       "layout": "IPY_MODEL_8966a034ce0e4470a97107ed55fe445f"
      }
     },
     "bbae00f0c9ac42e489c0352b1843a446": {
      "model_module": "@jupyter-widgets/base",
      "model_module_version": "1.2.0",
      "model_name": "LayoutModel",
      "state": {
       "_model_module": "@jupyter-widgets/base",
       "_model_module_version": "1.2.0",
       "_model_name": "LayoutModel",
       "_view_count": null,
       "_view_module": "@jupyter-widgets/base",
       "_view_module_version": "1.2.0",
       "_view_name": "LayoutView",
       "align_content": null,
       "align_items": null,
       "align_self": null,
       "border": null,
       "bottom": null,
       "display": null,
       "flex": null,
       "flex_flow": null,
       "grid_area": null,
       "grid_auto_columns": null,
       "grid_auto_flow": null,
       "grid_auto_rows": null,
       "grid_column": null,
       "grid_gap": null,
       "grid_row": null,
       "grid_template_areas": null,
       "grid_template_columns": null,
       "grid_template_rows": null,
       "height": null,
       "justify_content": null,
       "justify_items": null,
       "left": null,
       "margin": null,
       "max_height": null,
       "max_width": null,
       "min_height": null,
       "min_width": null,
       "object_fit": null,
       "object_position": null,
       "order": null,
       "overflow": null,
       "overflow_x": null,
       "overflow_y": null,
       "padding": null,
       "right": null,
       "top": null,
       "visibility": null,
       "width": null
      }
     },
     "f312ef2213f344ea83cac4d4b37902ae": {
      "model_module": "@jupyter-widgets/controls",
      "model_module_version": "1.5.0",
      "model_name": "DescriptionStyleModel",
      "state": {
       "_model_module": "@jupyter-widgets/controls",
       "_model_module_version": "1.5.0",
       "_model_name": "DescriptionStyleModel",
       "_view_count": null,
       "_view_module": "@jupyter-widgets/base",
       "_view_module_version": "1.2.0",
       "_view_name": "StyleView",
       "description_width": ""
      }
     },
     "f596621059824cc49fe99754e04fac3d": {
      "model_module": "@jupyter-widgets/controls",
      "model_module_version": "1.5.0",
      "model_name": "ProgressStyleModel",
      "state": {
       "_model_module": "@jupyter-widgets/controls",
       "_model_module_version": "1.5.0",
       "_model_name": "ProgressStyleModel",
       "_view_count": null,
       "_view_module": "@jupyter-widgets/base",
       "_view_module_version": "1.2.0",
       "_view_name": "StyleView",
       "bar_color": null,
       "description_width": ""
      }
     },
     "fee887ba54994960b7c9c8a7ffc7a7a5": {
      "model_module": "@jupyter-widgets/controls",
      "model_module_version": "1.5.0",
      "model_name": "FloatProgressModel",
      "state": {
       "_dom_classes": [],
       "_model_module": "@jupyter-widgets/controls",
       "_model_module_version": "1.5.0",
       "_model_name": "FloatProgressModel",
       "_view_count": null,
       "_view_module": "@jupyter-widgets/controls",
       "_view_module_version": "1.5.0",
       "_view_name": "ProgressView",
       "bar_style": "",
       "description": "",
       "description_tooltip": null,
       "layout": "IPY_MODEL_58642d70cdd1451b91571ce444398f9a",
       "max": 20.0,
       "min": 0.0,
       "orientation": "horizontal",
       "style": "IPY_MODEL_f596621059824cc49fe99754e04fac3d",
       "value": 20.0
      }
     }
    },
    "version_major": 2,
    "version_minor": 0
   }
  }
 },
 "nbformat": 4,
 "nbformat_minor": 5
}
