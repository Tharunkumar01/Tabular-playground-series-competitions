{
 "cells": [
  {
   "cell_type": "code",
   "execution_count": 1,
   "id": "rough-prior",
   "metadata": {
    "_cell_guid": "b1076dfc-b9ad-4769-8c92-a6c4dae69d19",
    "_uuid": "8f2839f25d086af736a60e9eeb907d3b93b6e0e5",
    "execution": {
     "iopub.execute_input": "2021-05-16T17:31:21.674701Z",
     "iopub.status.busy": "2021-05-16T17:31:21.673283Z",
     "iopub.status.idle": "2021-05-16T17:31:21.691768Z",
     "shell.execute_reply": "2021-05-16T17:31:21.692252Z"
    },
    "papermill": {
     "duration": 0.033444,
     "end_time": "2021-05-16T17:31:21.692542",
     "exception": false,
     "start_time": "2021-05-16T17:31:21.659098",
     "status": "completed"
    },
    "tags": []
   },
   "outputs": [
    {
     "name": "stdout",
     "output_type": "stream",
     "text": [
      "/kaggle/input/tps-ensemble-autogeneration-3/lightautoml_2variants_ensemble.csv\n",
      "/kaggle/input/tps-ensemble-autogeneration-3/stacked_cat_lgbm_xgb.csv\n",
      "/kaggle/input/tps-ensemble-autogeneration-3/abd.csv\n",
      "/kaggle/input/tps-ensemble-autogeneration-3/acd.csv\n",
      "/kaggle/input/tps-ensemble-autogeneration-3/abcd.csv\n",
      "/kaggle/input/tps-ensemble-autogeneration-3/feat_eng_stacking.csv\n",
      "/kaggle/input/tps-ensemble-autogeneration-3/mljar_automl.csv\n",
      "/kaggle/input/tps-ensemble-autogeneration-3/ac.csv\n",
      "/kaggle/input/tps-ensemble-autogeneration-3/tps21 lightautoml.csv\n",
      "/kaggle/input/tabular-playground-series-may-2021/sample_submission.csv\n",
      "/kaggle/input/tabular-playground-series-may-2021/train.csv\n",
      "/kaggle/input/tabular-playground-series-may-2021/test.csv\n"
     ]
    }
   ],
   "source": [
    "import numpy as np # linear algebra\n",
    "import pandas as pd # data processing, CSV file I/O (e.g. pd.read_csv)\n",
    "import os\n",
    "import copy\n",
    "for dirname, _, filenames in os.walk('/kaggle/input'):\n",
    "    for filename in filenames:\n",
    "        print(os.path.join(dirname, filename))"
   ]
  },
  {
   "cell_type": "markdown",
   "id": "enclosed-eligibility",
   "metadata": {
    "papermill": {
     "duration": 0.004875,
     "end_time": "2021-05-16T17:31:21.703257",
     "exception": false,
     "start_time": "2021-05-16T17:31:21.698382",
     "status": "completed"
    },
    "tags": []
   },
   "source": [
    "files are from\n",
    "https://www.kaggle.com/mt77pp/mljar-automl-tps-may-21 by Piotr\n",
    "https://www.kaggle.com/sureshmecad/tps-may21-ecommerce-lightautoml by A SURESH\n",
    "https://www.kaggle.com/udbhavpangotra/tps-may-21-extensive-eda-and-plots-catboost by Udbhav Pangotra\n",
    "https://www.kaggle.com/hayahiko/tps-may-easy-way-lgbm-optuna-step-by-step by hayahiko\n",
    "https://www.kaggle.com/alexryzhkov/lightautoml-baseline-tps-may-2021 by Alexander Ryzhkov\n",
    "https://www.kaggle.com/jeongyoonlee/kaggler-dae-autolgb-baseline?select=lgb_dae_v2.sub.csv by Jeong-Yoon Lee\n",
    "https://www.kaggle.com/andreshg/tps-may-a-complete-analysis by AndresHG\n",
    "https://www.kaggle.com/cybrk5/tps-may2021-eda-and-lightautoml-80-catboost-20 by Berk Ulusoy"
   ]
  },
  {
   "cell_type": "code",
   "execution_count": 2,
   "id": "polish-symbol",
   "metadata": {
    "execution": {
     "iopub.execute_input": "2021-05-16T17:31:21.719336Z",
     "iopub.status.busy": "2021-05-16T17:31:21.718696Z",
     "iopub.status.idle": "2021-05-16T17:31:22.754184Z",
     "shell.execute_reply": "2021-05-16T17:31:22.754579Z"
    },
    "papermill": {
     "duration": 1.046352,
     "end_time": "2021-05-16T17:31:22.754716",
     "exception": false,
     "start_time": "2021-05-16T17:31:21.708364",
     "status": "completed"
    },
    "tags": []
   },
   "outputs": [],
   "source": [
    "# place the files in order based on lb score, high - > low\n",
    "file11 = pd.read_csv(\"../input/tps-ensemble-autogeneration-3/stacked_cat_lgbm_xgb.csv\")     \n",
    "file12 = pd.read_csv(\"../input/tps-ensemble-autogeneration-3/acd.csv\")\n",
    "file13 = pd.read_csv(\"../input/tps-ensemble-autogeneration-3/ac.csv\")\n",
    "file14 = pd.read_csv(\"../input/tps-ensemble-autogeneration-3/abd.csv\")\n",
    "file15 = pd.read_csv(\"../input/tps-ensemble-autogeneration-3/feat_eng_stacking.csv\")  # catboost\n",
    "file2 = pd.read_csv(\"../input/tps-ensemble-autogeneration-3/mljar_automl.csv\")     \n",
    "file3 = pd.read_csv(\"../input/tps-ensemble-autogeneration-3/lightautoml_2variants_ensemble.csv\")   # lgbm\n",
    "file4 = pd.read_csv(\"../input/tps-ensemble-autogeneration-3/abcd.csv\")\n",
    "file5 = pd.read_csv(\"../input/tps-ensemble-autogeneration-3/tps21 lightautoml.csv\")"
   ]
  },
  {
   "cell_type": "code",
   "execution_count": 3,
   "id": "annual-initial",
   "metadata": {
    "execution": {
     "iopub.execute_input": "2021-05-16T17:31:22.768565Z",
     "iopub.status.busy": "2021-05-16T17:31:22.767990Z",
     "iopub.status.idle": "2021-05-16T17:31:22.779898Z",
     "shell.execute_reply": "2021-05-16T17:31:22.780297Z"
    },
    "papermill": {
     "duration": 0.020388,
     "end_time": "2021-05-16T17:31:22.780440",
     "exception": false,
     "start_time": "2021-05-16T17:31:22.760052",
     "status": "completed"
    },
    "tags": []
   },
   "outputs": [],
   "source": [
    "# the max number of files is 5\n",
    "# input format: pd.DataFrame\n",
    "\n",
    "def ensemble(a, b, c = 0, d = 0, e = 0):\n",
    "    if (not isinstance(c, pd.DataFrame)) and (not isinstance(d, pd.DataFrame)) and (not isinstance(e, pd.DataFrame)):\n",
    "        output = a.copy()\n",
    "        output[\"Class_1\"] = (a.Class_1 + b.Class_1) / 2\n",
    "        output[\"Class_2\"] = (a.Class_2 + b.Class_2) / 2\n",
    "        output[\"Class_3\"] = (a.Class_3 + b.Class_3) / 2\n",
    "        output[\"Class_4\"] = (a.Class_4 + b.Class_4) / 2\n",
    "        return output \n",
    "    elif (not isinstance(d, pd.DataFrame)) and (not isinstance(e, pd.DataFrame)):\n",
    "        output = a.copy() # 0.5 + 0.3 + 0.2 \n",
    "        output[\"Class_1\"] = a.Class_1 * 0.5 + b.Class_1 * 0.3 + c.Class_1 * 0.2\n",
    "        output[\"Class_2\"] = a.Class_2 * 0.5 + b.Class_2 * 0.3 + c.Class_2 * 0.2\n",
    "        output[\"Class_3\"] = a.Class_3 * 0.5 + b.Class_3 * 0.3 + c.Class_3 * 0.2\n",
    "        output[\"Class_4\"] = a.Class_4 * 0.5 + b.Class_4 * 0.3 + c.Class_4 * 0.2\n",
    "        return output  \n",
    "    elif (not isinstance(e, pd.DataFrame)):\n",
    "        output = a.copy()  # 0.45 + 0.25 + 0.2 + 0.1\n",
    "        output[\"Class_1\"] = a.Class_1 * 0.45 + b.Class_1 * 0.25 \\\n",
    "                             + c.Class_1 * 0.2 + d.Class_1 * 0.1\n",
    "        output[\"Class_2\"] = a.Class_2 * 0.45 + b.Class_2 * 0.25 \\\n",
    "                             + c.Class_2 * 0.2 + d.Class_2 * 0.1\n",
    "        output[\"Class_3\"] = a.Class_3 * 0.45 + b.Class_3 * 0.25 \\\n",
    "                             + c.Class_3 * 0.2 + d.Class_3 * 0.1\n",
    "        output[\"Class_4\"] = a.Class_4 * 0.45 + b.Class_4 * 0.25 \\\n",
    "                             + c.Class_4 * 0.2 + d.Class_4 * 0.1\n",
    "        return output \n",
    "    else: # 0.35 + 0.3 + 0.2 + 0.1 + 0.05\n",
    "        output = a.copy()\n",
    "        output[\"Class_1\"] = a.Class_1 * 0.35 + b.Class_1 * 0.3 + c.Class_1 * 0.2 \\\n",
    "                             + d.Class_1 * 0.1 + e.Class_1 * 0.05 \n",
    "        output[\"Class_2\"] = a.Class_2 * 0.35 + b.Class_2 * 0.3 + c.Class_2 * 0.2 \\\n",
    "                             + d.Class_2 * 0.1  + e.Class_2 * 0.05 \n",
    "        output[\"Class_3\"] = a.Class_3 * 0.35 + b.Class_3 * 0.3 + c.Class_3 * 0.2 \\\n",
    "                             + d.Class_3 * 0.1  + e.Class_3 * 0.05 \n",
    "        output[\"Class_4\"] = a.Class_4 * 0.35 + b.Class_4 * 0.3 + c.Class_4 * 0.2 \\\n",
    "                             + d.Class_4 * 0.1  + e.Class_4 * 0.05 \n",
    "        return output  "
   ]
  },
  {
   "cell_type": "code",
   "execution_count": 4,
   "id": "postal-prerequisite",
   "metadata": {
    "execution": {
     "iopub.execute_input": "2021-05-16T17:31:22.811571Z",
     "iopub.status.busy": "2021-05-16T17:31:22.811040Z",
     "iopub.status.idle": "2021-05-16T17:31:22.814817Z",
     "shell.execute_reply": "2021-05-16T17:31:22.814270Z"
    },
    "papermill": {
     "duration": 0.029204,
     "end_time": "2021-05-16T17:31:22.814938",
     "exception": false,
     "start_time": "2021-05-16T17:31:22.785734",
     "status": "completed"
    },
    "tags": []
   },
   "outputs": [],
   "source": [
    "# all the combinations\n",
    "# the max number of combinations is 26\n",
    "\n",
    "def generate(a, b, c = 0, d = 0, e = 0):\n",
    "    if (not isinstance(c, pd.DataFrame)) and (not isinstance(d, pd.DataFrame)) and (not isinstance(e, pd.DataFrame)):\n",
    "        ab = ensemble(a, b)\n",
    "        ab.to_csv('ab.csv',index=False)\n",
    "    elif (not isinstance(d, pd.DataFrame)) and (not isinstance(e, pd.DataFrame)):\n",
    "        ab = ensemble(a, b)\n",
    "        ab.to_csv('ab.csv',index=False)\n",
    "        ac = ensemble(a, c)\n",
    "        ac.to_csv('ac.csv',index=False)\n",
    "        bc = ensemble(b, c)\n",
    "        bc.to_csv('bc.csv',index=False)  \n",
    "        abc = ensemble(a, b, c)\n",
    "        abc.to_csv('abc.csv',index=False)\n",
    "    elif (not isinstance(e, pd.DataFrame)):\n",
    "        ab = ensemble(a, b)\n",
    "        ab.to_csv('ab.csv',index=False)\n",
    "        ac = ensemble(a, c)\n",
    "        ac.to_csv('ac.csv',index=False)\n",
    "        ad = ensemble(a, d)\n",
    "        ad.to_csv('ad.csv',index=False)\n",
    "        bc = ensemble(b, c)\n",
    "        bc.to_csv('bc.csv',index=False)\n",
    "        bd = ensemble(b, d)\n",
    "        bd.to_csv('bd.csv',index=False)\n",
    "        cd = ensemble(c, d)\n",
    "        cd.to_csv('cd.csv',index=False)   \n",
    "        abc = ensemble(a, b, c)\n",
    "        abc.to_csv('abc.csv',index=False)\n",
    "        abd = ensemble(a, b, d)\n",
    "        abd.to_csv('abd.csv',index=False)\n",
    "        acd = ensemble(a, c, d)\n",
    "        acd.to_csv('acd.csv',index=False)\n",
    "        bcd = ensemble(b, c, d)\n",
    "        bcd.to_csv('bcd.csv',index=False)\n",
    "        bde = ensemble(b, d, e) \n",
    "        abcd = ensemble(a, b, c, d)\n",
    "        abcd.to_csv('abcd.csv',index=False)\n",
    "    else:\n",
    "        ab = ensemble(a, b)\n",
    "        ab.to_csv('ab.csv',index=False)\n",
    "        ac = ensemble(a, c)\n",
    "        ac.to_csv('ac.csv',index=False)\n",
    "        ad = ensemble(a, d)\n",
    "        ad.to_csv('ad.csv',index=False)\n",
    "        ae = ensemble(a, e)\n",
    "        ae.to_csv('ae.csv',index=False)\n",
    "        bc = ensemble(b, c)\n",
    "        bc.to_csv('bc.csv',index=False)\n",
    "        bd = ensemble(b, d)\n",
    "        bd.to_csv('bd.csv',index=False)\n",
    "        be = ensemble(b, e)\n",
    "        be.to_csv('be.csv',index=False)\n",
    "        cd = ensemble(c, d)\n",
    "        cd.to_csv('cd.csv',index=False)\n",
    "        ce = ensemble(c, e)\n",
    "        ce.to_csv('ce.csv',index=False)\n",
    "        de = ensemble(d, e)\n",
    "        de.to_csv('de.csv',index=False)     \n",
    "        abc = ensemble(a, b, c)\n",
    "        abc.to_csv('abc.csv',index=False)\n",
    "        abd = ensemble(a, b, d)\n",
    "        abd.to_csv('abd.csv',index=False)\n",
    "        abe = ensemble(a, b, e)\n",
    "        abe.to_csv('abe.csv',index=False)\n",
    "        acd = ensemble(a, c, d)\n",
    "        acd.to_csv('acd.csv',index=False)\n",
    "        ace = ensemble(a, c, e)\n",
    "        ace.to_csv('ace.csv',index=False)\n",
    "        ade = ensemble(a, d, e)\n",
    "        ade.to_csv('ade.csv',index=False)\n",
    "        bcd = ensemble(b, c, d)\n",
    "        bcd.to_csv('bcd.csv',index=False)\n",
    "        bce = ensemble(b, c, e)\n",
    "        bce.to_csv('bce.csv',index=False)\n",
    "        bde = ensemble(b, d, e)\n",
    "        bde.to_csv('bde.csv',index=False)\n",
    "        cde = ensemble(c, d, e)\n",
    "        cde.to_csv('cde.csv',index=False)  \n",
    "        abcd = ensemble(a, b, c, d)\n",
    "        abcd.to_csv('abcd.csv',index=False)\n",
    "        abce = ensemble(a, b, c, e)\n",
    "        abce.to_csv('abce.csv',index=False)\n",
    "        abde = ensemble(a, b, d, e)\n",
    "        abde.to_csv('abde.csv',index=False)\n",
    "        acde = ensemble(a, c, d, e)\n",
    "        acde.to_csv('acde.csv',index=False)\n",
    "        bcde = ensemble(b, c, d, e)\n",
    "        bcde.to_csv('bcde.csv',index=False)\n",
    "        abcde = ensemble(a, b, c, d, e)\n",
    "        abcde.to_csv('abcde.csv',index=False)"
   ]
  },
  {
   "cell_type": "code",
   "execution_count": 5,
   "id": "sized-score",
   "metadata": {
    "execution": {
     "iopub.execute_input": "2021-05-16T17:31:22.831431Z",
     "iopub.status.busy": "2021-05-16T17:31:22.830815Z",
     "iopub.status.idle": "2021-05-16T17:31:31.736022Z",
     "shell.execute_reply": "2021-05-16T17:31:31.736419Z"
    },
    "papermill": {
     "duration": 8.915996,
     "end_time": "2021-05-16T17:31:31.736589",
     "exception": false,
     "start_time": "2021-05-16T17:31:22.820593",
     "status": "completed"
    },
    "tags": []
   },
   "outputs": [],
   "source": [
    "file1 = ensemble(file11, file12, file13, file14, file15)\n",
    "generate(file1, file2, file3, file4, file5)"
   ]
  }
 ],
 "metadata": {
  "kernelspec": {
   "display_name": "Python 3",
   "language": "python",
   "name": "python3"
  },
  "language_info": {
   "codemirror_mode": {
    "name": "ipython",
    "version": 3
   },
   "file_extension": ".py",
   "mimetype": "text/x-python",
   "name": "python",
   "nbconvert_exporter": "python",
   "pygments_lexer": "ipython3",
   "version": "3.7.10"
  },
  "papermill": {
   "default_parameters": {},
   "duration": 20.046335,
   "end_time": "2021-05-16T17:31:33.448502",
   "environment_variables": {},
   "exception": null,
   "input_path": "__notebook__.ipynb",
   "output_path": "__notebook__.ipynb",
   "parameters": {},
   "start_time": "2021-05-16T17:31:13.402167",
   "version": "2.3.3"
  }
 },
 "nbformat": 4,
 "nbformat_minor": 5
}
