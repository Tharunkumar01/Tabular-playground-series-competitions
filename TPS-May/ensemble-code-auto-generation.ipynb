{
 "cells": [
  {
   "cell_type": "code",
   "execution_count": 1,
   "id": "adequate-concept",
   "metadata": {
    "_cell_guid": "b1076dfc-b9ad-4769-8c92-a6c4dae69d19",
    "_uuid": "8f2839f25d086af736a60e9eeb907d3b93b6e0e5",
    "execution": {
     "iopub.execute_input": "2021-05-03T08:50:24.726316Z",
     "iopub.status.busy": "2021-05-03T08:50:24.725621Z",
     "iopub.status.idle": "2021-05-03T08:50:24.737465Z",
     "shell.execute_reply": "2021-05-03T08:50:24.737942Z"
    },
    "papermill": {
     "duration": 0.033775,
     "end_time": "2021-05-03T08:50:24.738264",
     "exception": false,
     "start_time": "2021-05-03T08:50:24.704489",
     "status": "completed"
    },
    "tags": []
   },
   "outputs": [
    {
     "name": "stdout",
     "output_type": "stream",
     "text": [
      "/kaggle/input/1-ensemble-for-tps-may/stacked_1.csv\n",
      "/kaggle/input/1-ensemble-for-tps-may/mljar_automl_1.csv\n",
      "/kaggle/input/1-ensemble-for-tps-may/Submission_baseline_prepro_catboost.csv\n",
      "/kaggle/input/1-ensemble-for-tps-may/automl_optuna.csv\n",
      "/kaggle/input/tabular-playground-series-may-2021/sample_submission.csv\n",
      "/kaggle/input/tabular-playground-series-may-2021/train.csv\n",
      "/kaggle/input/tabular-playground-series-may-2021/test.csv\n"
     ]
    }
   ],
   "source": [
    "import numpy as np # linear algebra\n",
    "import pandas as pd # data processing, CSV file I/O (e.g. pd.read_csv)\n",
    "import os\n",
    "for dirname, _, filenames in os.walk('/kaggle/input'):\n",
    "    for filename in filenames:\n",
    "        print(os.path.join(dirname, filename))"
   ]
  },
  {
   "cell_type": "markdown",
   "id": "optional-badge",
   "metadata": {
    "papermill": {
     "duration": 0.006933,
     "end_time": "2021-05-03T08:50:24.753623",
     "exception": false,
     "start_time": "2021-05-03T08:50:24.746690",
     "status": "completed"
    },
    "tags": []
   },
   "source": [
    "files are from\n",
    "https://www.kaggle.com/mt77pp/mljar-automl-tps-may-21 by Piotr\n",
    "https://www.kaggle.com/alexryzhkov/tps-may-21-lightautoml-starter by Alexander Ryzhkov\n",
    "https://www.kaggle.com/udbhavpangotra/tps-may-21-extensive-eda-and-plots-catboost by Udbhav Pangotra\n",
    "https://www.kaggle.com/hayahiko/tps-may-easy-way-lgbm-optuna-step-by-step by hayahiko\n",
    "https://www.kaggle.com/docxian/tabular-playground-5-multiclass-starter by Chris X"
   ]
  },
  {
   "cell_type": "code",
   "execution_count": 2,
   "id": "complete-chancellor",
   "metadata": {
    "execution": {
     "iopub.execute_input": "2021-05-03T08:50:24.773670Z",
     "iopub.status.busy": "2021-05-03T08:50:24.772977Z",
     "iopub.status.idle": "2021-05-03T08:50:25.211655Z",
     "shell.execute_reply": "2021-05-03T08:50:25.211103Z"
    },
    "papermill": {
     "duration": 0.450845,
     "end_time": "2021-05-03T08:50:25.211818",
     "exception": false,
     "start_time": "2021-05-03T08:50:24.760973",
     "status": "completed"
    },
    "tags": []
   },
   "outputs": [],
   "source": [
    "# place the files in order based on lb score, high - > low\n",
    "file1 = pd.read_csv(\"../input/1-ensemble-for-tps-may/automl_optuna.csv\")     \n",
    "file2 = pd.read_csv(\"../input/1-ensemble-for-tps-may/mljar_automl_1.csv\")     \n",
    "file3 = pd.read_csv(\"../input/1-ensemble-for-tps-may/stacked_1.csv\")   \n",
    "file4 = pd.read_csv(\"../input/1-ensemble-for-tps-may/Submission_baseline_prepro_catboost.csv\")  "
   ]
  },
  {
   "cell_type": "code",
   "execution_count": 3,
   "id": "appropriate-praise",
   "metadata": {
    "execution": {
     "iopub.execute_input": "2021-05-03T08:50:25.246463Z",
     "iopub.status.busy": "2021-05-03T08:50:25.245714Z",
     "iopub.status.idle": "2021-05-03T08:50:25.248772Z",
     "shell.execute_reply": "2021-05-03T08:50:25.248250Z"
    },
    "papermill": {
     "duration": 0.029589,
     "end_time": "2021-05-03T08:50:25.249052",
     "exception": false,
     "start_time": "2021-05-03T08:50:25.219463",
     "status": "completed"
    },
    "tags": []
   },
   "outputs": [],
   "source": [
    "# the max number of files is 5\n",
    "# input format: pd.DataFrame\n",
    "\n",
    "def ensemble(a, b, c = 0, d = 0, e = 0):\n",
    "    if (not isinstance(c, pd.DataFrame)) and (not isinstance(d, pd.DataFrame)) and (not isinstance(e, pd.DataFrame)):\n",
    "        output = a.copy()\n",
    "        output[\"Class_1\"] = (a.Class_1 + b.Class_1) / 2\n",
    "        output[\"Class_2\"] = (a.Class_2 + b.Class_2) / 2\n",
    "        output[\"Class_3\"] = (a.Class_3 + b.Class_3) / 2\n",
    "        output[\"Class_4\"] = (a.Class_4 + b.Class_4) / 2\n",
    "        return output \n",
    "    elif (not isinstance(d, pd.DataFrame)) and (not isinstance(e, pd.DataFrame)):\n",
    "        output = a.copy() # 0.4 + 0.4 + 0.2 \n",
    "        output[\"Class_1\"] = a.Class_1 * 0.4 + b.Class_1 * 0.4 + c.Class_1 * 0.2\n",
    "        output[\"Class_2\"] = a.Class_2 * 0.4 + b.Class_2 * 0.4 + c.Class_2 * 0.2\n",
    "        output[\"Class_3\"] = a.Class_3 * 0.4 + b.Class_3 * 0.4 + c.Class_3 * 0.2\n",
    "        output[\"Class_4\"] = a.Class_4 * 0.4 + b.Class_4 * 0.4 + c.Class_4 * 0.2\n",
    "        return output  \n",
    "    elif (not isinstance(e, pd.DataFrame)):\n",
    "        output = a.copy()  # 0.35 + 0.35 + 0.15 + 0.15\n",
    "        output[\"Class_1\"] = a.Class_1 * 0.35 + b.Class_1 * 0.35 \\\n",
    "                             + c.Class_1 * 0.15 + d.Class_1 * 0.15\n",
    "        output[\"Class_2\"] = a.Class_2 * 0.35 + b.Class_2 * 0.35 \\\n",
    "                             + c.Class_2 * 0.15 + d.Class_2 * 0.15\n",
    "        output[\"Class_3\"] = a.Class_3 * 0.35 + b.Class_3 * 0.35 \\\n",
    "                             + c.Class_3 * 0.15 + d.Class_3 * 0.15\n",
    "        output[\"Class_4\"] = a.Class_4 * 0.35 + b.Class_4 * 0.35 \\\n",
    "                             + c.Class_4 * 0.15 + d.Class_4 * 0.15\n",
    "        return output \n",
    "    else: # 0.35 + 0.35 + 0.15 + 0.075 + 0.075\n",
    "        output = a.copy()\n",
    "        output[\"Class_1\"] = a.Class_1 * 0.35 + b.Class_1 * 0.35 + c.Class_1 * 0.15 \\\n",
    "                             + d.Class_1 * 0.075 + e.Class_1 * 0.075 \n",
    "        output[\"Class_2\"] = a.Class_2 * 0.35 + b.Class_2 * 0.35 + c.Class_2 * 0.15 \\\n",
    "                             + d.Class_2 * 0.075  + e.Class_2 * 0.075 \n",
    "        output[\"Class_3\"] = a.Class_3 * 0.35 + b.Class_3 * 0.35 + c.Class_3 * 0.15 \\\n",
    "                             + d.Class_3 * 0.075  + e.Class_3 * 0.075 \n",
    "        output[\"Class_4\"] = a.Class_4 * 0.35 + b.Class_4 * 0.35 + c.Class_4 * 0.15 \\\n",
    "                             + d.Class_4 * 0.075  + e.Class_4 * 0.075 \n",
    "        return output  "
   ]
  },
  {
   "cell_type": "code",
   "execution_count": 4,
   "id": "electoral-landing",
   "metadata": {
    "execution": {
     "iopub.execute_input": "2021-05-03T08:50:25.278918Z",
     "iopub.status.busy": "2021-05-03T08:50:25.273544Z",
     "iopub.status.idle": "2021-05-03T08:50:25.295480Z",
     "shell.execute_reply": "2021-05-03T08:50:25.294913Z"
    },
    "papermill": {
     "duration": 0.038571,
     "end_time": "2021-05-03T08:50:25.295633",
     "exception": false,
     "start_time": "2021-05-03T08:50:25.257062",
     "status": "completed"
    },
    "tags": []
   },
   "outputs": [],
   "source": [
    "# all the combinations\n",
    "# the max number of combinations is 26\n",
    "\n",
    "def generate(a, b, c = 0, d = 0, e = 0):\n",
    "    if (not isinstance(c, pd.DataFrame)) and (not isinstance(d, pd.DataFrame)) and (not isinstance(e, pd.DataFrame)):\n",
    "        ab = ensemble(a, b)\n",
    "        ab.to_csv('ab.csv',index=False)\n",
    "    elif (not isinstance(d, pd.DataFrame)) and (not isinstance(e, pd.DataFrame)):\n",
    "        ab = ensemble(a, b)\n",
    "        ab.to_csv('ab.csv',index=False)\n",
    "        ac = ensemble(a, c)\n",
    "        ac.to_csv('ac.csv',index=False)\n",
    "        bc = ensemble(b, c)\n",
    "        bc.to_csv('bc.csv',index=False)  \n",
    "        abc = ensemble(a, b, c)\n",
    "        abc.to_csv('abc.csv',index=False)\n",
    "    elif (not isinstance(e, pd.DataFrame)):\n",
    "        ab = ensemble(a, b)\n",
    "        ab.to_csv('ab.csv',index=False)\n",
    "        ac = ensemble(a, c)\n",
    "        ac.to_csv('ac.csv',index=False)\n",
    "        ad = ensemble(a, d)\n",
    "        ad.to_csv('ad.csv',index=False)\n",
    "        bc = ensemble(b, c)\n",
    "        bc.to_csv('bc.csv',index=False)\n",
    "        bd = ensemble(b, d)\n",
    "        bd.to_csv('bd.csv',index=False)\n",
    "        cd = ensemble(c, d)\n",
    "        cd.to_csv('cd.csv',index=False)   \n",
    "        abc = ensemble(a, b, c)\n",
    "        abc.to_csv('abc.csv',index=False)\n",
    "        abd = ensemble(a, b, d)\n",
    "        abd.to_csv('abd.csv',index=False)\n",
    "        acd = ensemble(a, c, d)\n",
    "        acd.to_csv('acd.csv',index=False)\n",
    "        bcd = ensemble(b, c, d)\n",
    "        bcd.to_csv('bcd.csv',index=False)\n",
    "        bde = ensemble(b, d, e) \n",
    "        abcd = ensemble(a, b, c, d)\n",
    "        abcd.to_csv('abcd.csv',index=False)\n",
    "    else:\n",
    "        ab = ensemble(a, b)\n",
    "        ab.to_csv('ab.csv',index=False)\n",
    "        ac = ensemble(a, c)\n",
    "        ac.to_csv('ac.csv',index=False)\n",
    "        ad = ensemble(a, d)\n",
    "        ad.to_csv('ad.csv',index=False)\n",
    "        ae = ensemble(a, e)\n",
    "        ae.to_csv('ae.csv',index=False)\n",
    "        bc = ensemble(b, c)\n",
    "        bc.to_csv('bc.csv',index=False)\n",
    "        bd = ensemble(b, d)\n",
    "        bd.to_csv('bd.csv',index=False)\n",
    "        be = ensemble(b, e)\n",
    "        be.to_csv('be.csv',index=False)\n",
    "        cd = ensemble(c, d)\n",
    "        cd.to_csv('cd.csv',index=False)\n",
    "        ce = ensemble(c, e)\n",
    "        ce.to_csv('ce.csv',index=False)\n",
    "        de = ensemble(d, e)\n",
    "        de.to_csv('de.csv',index=False)     \n",
    "        abc = ensemble(a, b, c)\n",
    "        abc.to_csv('abc.csv',index=False)\n",
    "        abd = ensemble(a, b, d)\n",
    "        abd.to_csv('abd.csv',index=False)\n",
    "        abe = ensemble(a, b, e)\n",
    "        abe.to_csv('abe.csv',index=False)\n",
    "        acd = ensemble(a, c, d)\n",
    "        acd.to_csv('acd.csv',index=False)\n",
    "        ace = ensemble(a, c, e)\n",
    "        ace.to_csv('ace.csv',index=False)\n",
    "        ade = ensemble(a, d, e)\n",
    "        ade.to_csv('ade.csv',index=False)\n",
    "        bcd = ensemble(b, c, d)\n",
    "        bcd.to_csv('bcd.csv',index=False)\n",
    "        bce = ensemble(b, c, e)\n",
    "        bce.to_csv('bce.csv',index=False)\n",
    "        bde = ensemble(b, d, e)\n",
    "        bde.to_csv('bde.csv',index=False)\n",
    "        cde = ensemble(c, d, e)\n",
    "        cde.to_csv('cde.csv',index=False)  \n",
    "        abcd = ensemble(a, b, c, d)\n",
    "        abcd.to_csv('abcd.csv',index=False)\n",
    "        abce = ensemble(a, b, c, e)\n",
    "        abce.to_csv('abce.csv',index=False)\n",
    "        abde = ensemble(a, b, d, e)\n",
    "        abde.to_csv('abde.csv',index=False)\n",
    "        acde = ensemble(a, c, d, e)\n",
    "        acde.to_csv('acde.csv',index=False)\n",
    "        bcde = ensemble(b, c, d, e)\n",
    "        bcde.to_csv('bcde.csv',index=False)\n",
    "        abcde = ensemble(a, b, c, d, e)\n",
    "        abcde.to_csv('abcde.csv',index=False)"
   ]
  },
  {
   "cell_type": "code",
   "execution_count": 5,
   "id": "lovely-progress",
   "metadata": {
    "execution": {
     "iopub.execute_input": "2021-05-03T08:50:25.316358Z",
     "iopub.status.busy": "2021-05-03T08:50:25.315625Z",
     "iopub.status.idle": "2021-05-03T08:50:30.852730Z",
     "shell.execute_reply": "2021-05-03T08:50:30.852001Z"
    },
    "papermill": {
     "duration": 5.549414,
     "end_time": "2021-05-03T08:50:30.852882",
     "exception": false,
     "start_time": "2021-05-03T08:50:25.303468",
     "status": "completed"
    },
    "tags": []
   },
   "outputs": [],
   "source": [
    "generate(file1, file2, file3, file4)"
   ]
  },
  {
   "cell_type": "code",
   "execution_count": 6,
   "id": "corporate-flood",
   "metadata": {
    "execution": {
     "iopub.execute_input": "2021-05-03T08:50:30.874458Z",
     "iopub.status.busy": "2021-05-03T08:50:30.873483Z",
     "iopub.status.idle": "2021-05-03T08:50:30.934650Z",
     "shell.execute_reply": "2021-05-03T08:50:30.934021Z"
    },
    "papermill": {
     "duration": 0.073809,
     "end_time": "2021-05-03T08:50:30.934803",
     "exception": false,
     "start_time": "2021-05-03T08:50:30.860994",
     "status": "completed"
    },
    "tags": []
   },
   "outputs": [],
   "source": [
    "a = pd.read_csv('./abcd.csv')"
   ]
  },
  {
   "cell_type": "code",
   "execution_count": 7,
   "id": "bigger-thomson",
   "metadata": {
    "execution": {
     "iopub.execute_input": "2021-05-03T08:50:30.954267Z",
     "iopub.status.busy": "2021-05-03T08:50:30.953604Z",
     "iopub.status.idle": "2021-05-03T08:50:30.977923Z",
     "shell.execute_reply": "2021-05-03T08:50:30.978424Z"
    },
    "papermill": {
     "duration": 0.035707,
     "end_time": "2021-05-03T08:50:30.978609",
     "exception": false,
     "start_time": "2021-05-03T08:50:30.942902",
     "status": "completed"
    },
    "tags": []
   },
   "outputs": [
    {
     "data": {
      "text/html": [
       "<div>\n",
       "<style scoped>\n",
       "    .dataframe tbody tr th:only-of-type {\n",
       "        vertical-align: middle;\n",
       "    }\n",
       "\n",
       "    .dataframe tbody tr th {\n",
       "        vertical-align: top;\n",
       "    }\n",
       "\n",
       "    .dataframe thead th {\n",
       "        text-align: right;\n",
       "    }\n",
       "</style>\n",
       "<table border=\"1\" class=\"dataframe\">\n",
       "  <thead>\n",
       "    <tr style=\"text-align: right;\">\n",
       "      <th></th>\n",
       "      <th>id</th>\n",
       "      <th>Class_1</th>\n",
       "      <th>Class_2</th>\n",
       "      <th>Class_3</th>\n",
       "      <th>Class_4</th>\n",
       "    </tr>\n",
       "  </thead>\n",
       "  <tbody>\n",
       "    <tr>\n",
       "      <th>0</th>\n",
       "      <td>100000</td>\n",
       "      <td>0.089463</td>\n",
       "      <td>0.582021</td>\n",
       "      <td>0.219275</td>\n",
       "      <td>0.109241</td>\n",
       "    </tr>\n",
       "    <tr>\n",
       "      <th>1</th>\n",
       "      <td>100001</td>\n",
       "      <td>0.090571</td>\n",
       "      <td>0.641657</td>\n",
       "      <td>0.183707</td>\n",
       "      <td>0.084065</td>\n",
       "    </tr>\n",
       "    <tr>\n",
       "      <th>2</th>\n",
       "      <td>100002</td>\n",
       "      <td>0.089176</td>\n",
       "      <td>0.637704</td>\n",
       "      <td>0.172013</td>\n",
       "      <td>0.101106</td>\n",
       "    </tr>\n",
       "    <tr>\n",
       "      <th>3</th>\n",
       "      <td>100003</td>\n",
       "      <td>0.092889</td>\n",
       "      <td>0.522838</td>\n",
       "      <td>0.272896</td>\n",
       "      <td>0.111377</td>\n",
       "    </tr>\n",
       "    <tr>\n",
       "      <th>4</th>\n",
       "      <td>100004</td>\n",
       "      <td>0.085248</td>\n",
       "      <td>0.609411</td>\n",
       "      <td>0.187315</td>\n",
       "      <td>0.118026</td>\n",
       "    </tr>\n",
       "    <tr>\n",
       "      <th>...</th>\n",
       "      <td>...</td>\n",
       "      <td>...</td>\n",
       "      <td>...</td>\n",
       "      <td>...</td>\n",
       "      <td>...</td>\n",
       "    </tr>\n",
       "    <tr>\n",
       "      <th>49995</th>\n",
       "      <td>149995</td>\n",
       "      <td>0.088798</td>\n",
       "      <td>0.713525</td>\n",
       "      <td>0.118020</td>\n",
       "      <td>0.079657</td>\n",
       "    </tr>\n",
       "    <tr>\n",
       "      <th>49996</th>\n",
       "      <td>149996</td>\n",
       "      <td>0.082256</td>\n",
       "      <td>0.639296</td>\n",
       "      <td>0.155949</td>\n",
       "      <td>0.122499</td>\n",
       "    </tr>\n",
       "    <tr>\n",
       "      <th>49997</th>\n",
       "      <td>149997</td>\n",
       "      <td>0.084650</td>\n",
       "      <td>0.556004</td>\n",
       "      <td>0.206290</td>\n",
       "      <td>0.153055</td>\n",
       "    </tr>\n",
       "    <tr>\n",
       "      <th>49998</th>\n",
       "      <td>149998</td>\n",
       "      <td>0.081498</td>\n",
       "      <td>0.606760</td>\n",
       "      <td>0.166067</td>\n",
       "      <td>0.145675</td>\n",
       "    </tr>\n",
       "    <tr>\n",
       "      <th>49999</th>\n",
       "      <td>149999</td>\n",
       "      <td>0.092341</td>\n",
       "      <td>0.605637</td>\n",
       "      <td>0.194275</td>\n",
       "      <td>0.107746</td>\n",
       "    </tr>\n",
       "  </tbody>\n",
       "</table>\n",
       "<p>50000 rows × 5 columns</p>\n",
       "</div>"
      ],
      "text/plain": [
       "           id   Class_1   Class_2   Class_3   Class_4\n",
       "0      100000  0.089463  0.582021  0.219275  0.109241\n",
       "1      100001  0.090571  0.641657  0.183707  0.084065\n",
       "2      100002  0.089176  0.637704  0.172013  0.101106\n",
       "3      100003  0.092889  0.522838  0.272896  0.111377\n",
       "4      100004  0.085248  0.609411  0.187315  0.118026\n",
       "...       ...       ...       ...       ...       ...\n",
       "49995  149995  0.088798  0.713525  0.118020  0.079657\n",
       "49996  149996  0.082256  0.639296  0.155949  0.122499\n",
       "49997  149997  0.084650  0.556004  0.206290  0.153055\n",
       "49998  149998  0.081498  0.606760  0.166067  0.145675\n",
       "49999  149999  0.092341  0.605637  0.194275  0.107746\n",
       "\n",
       "[50000 rows x 5 columns]"
      ]
     },
     "execution_count": 7,
     "metadata": {},
     "output_type": "execute_result"
    }
   ],
   "source": [
    "file3"
   ]
  }
 ],
 "metadata": {
  "kernelspec": {
   "display_name": "Python 3",
   "language": "python",
   "name": "python3"
  },
  "language_info": {
   "codemirror_mode": {
    "name": "ipython",
    "version": 3
   },
   "file_extension": ".py",
   "mimetype": "text/x-python",
   "name": "python",
   "nbconvert_exporter": "python",
   "pygments_lexer": "ipython3",
   "version": "3.7.10"
  },
  "papermill": {
   "default_parameters": {},
   "duration": 15.871785,
   "end_time": "2021-05-03T08:50:32.200555",
   "environment_variables": {},
   "exception": null,
   "input_path": "__notebook__.ipynb",
   "output_path": "__notebook__.ipynb",
   "parameters": {},
   "start_time": "2021-05-03T08:50:16.328770",
   "version": "2.3.3"
  }
 },
 "nbformat": 4,
 "nbformat_minor": 5
}
