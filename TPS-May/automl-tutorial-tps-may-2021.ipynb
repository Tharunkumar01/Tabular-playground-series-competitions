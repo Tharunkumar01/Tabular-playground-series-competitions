{
 "cells": [
  {
   "cell_type": "markdown",
   "id": "based-check",
   "metadata": {
    "papermill": {
     "duration": 0.008233,
     "end_time": "2021-05-05T16:58:35.744443",
     "exception": false,
     "start_time": "2021-05-05T16:58:35.736210",
     "status": "completed"
    },
    "tags": []
   },
   "source": [
    "## H2O AutoML\n",
    "<img src='https://docs.h2o.ai/h2o/latest-stable/h2o-docs/_images/h2o-automl-logo.jpg' width='150px'>\n",
    "\n",
    "[H2O AutoML](https://www.h2o.ai/products/h2o-automl) is an automated machine learning library open sourced by [H2O.ai](https://h2o.ai)"
   ]
  },
  {
   "cell_type": "code",
   "execution_count": 1,
   "id": "classified-transfer",
   "metadata": {
    "execution": {
     "iopub.execute_input": "2021-05-05T16:58:35.763887Z",
     "iopub.status.busy": "2021-05-05T16:58:35.762669Z",
     "iopub.status.idle": "2021-05-05T16:58:35.909290Z",
     "shell.execute_reply": "2021-05-05T16:58:35.909869Z"
    },
    "papermill": {
     "duration": 0.158221,
     "end_time": "2021-05-05T16:58:35.910198",
     "exception": false,
     "start_time": "2021-05-05T16:58:35.751977",
     "status": "completed"
    },
    "tags": []
   },
   "outputs": [],
   "source": [
    "## import packages\n",
    "import pandas as pd\n",
    "\n",
    "import h2o\n",
    "from h2o.automl import H2OAutoML"
   ]
  },
  {
   "cell_type": "code",
   "execution_count": 2,
   "id": "palestinian-firewall",
   "metadata": {
    "execution": {
     "iopub.execute_input": "2021-05-05T16:58:35.928933Z",
     "iopub.status.busy": "2021-05-05T16:58:35.928332Z",
     "iopub.status.idle": "2021-05-05T16:58:50.880339Z",
     "shell.execute_reply": "2021-05-05T16:58:50.881358Z"
    },
    "papermill": {
     "duration": 14.963134,
     "end_time": "2021-05-05T16:58:50.881617",
     "exception": false,
     "start_time": "2021-05-05T16:58:35.918483",
     "status": "completed"
    },
    "tags": []
   },
   "outputs": [
    {
     "name": "stdout",
     "output_type": "stream",
     "text": [
      "Checking whether there is an H2O instance running at http://localhost:54321 ..... not found.\n",
      "Attempting to start a local H2O server...\n",
      "  Java Version: openjdk version \"11.0.10\" 2021-01-19; OpenJDK Runtime Environment (build 11.0.10+9-Ubuntu-0ubuntu1.18.04); OpenJDK 64-Bit Server VM (build 11.0.10+9-Ubuntu-0ubuntu1.18.04, mixed mode, sharing)\n",
      "  Starting server from /opt/conda/lib/python3.7/site-packages/h2o/backend/bin/h2o.jar\n",
      "  Ice root: /tmp/tmpsr55fb5b\n",
      "  JVM stdout: /tmp/tmpsr55fb5b/h2o_unknownUser_started_from_python.out\n",
      "  JVM stderr: /tmp/tmpsr55fb5b/h2o_unknownUser_started_from_python.err\n",
      "  Server is running at http://127.0.0.1:54321\n",
      "Connecting to H2O server at http://127.0.0.1:54321 ... successful.\n"
     ]
    },
    {
     "data": {
      "text/html": [
       "<div style=\"overflow:auto\"><table style=\"width:50%\"><tr><td>H2O_cluster_uptime:</td>\n",
       "<td>02 secs</td></tr>\n",
       "<tr><td>H2O_cluster_timezone:</td>\n",
       "<td>Etc/UTC</td></tr>\n",
       "<tr><td>H2O_data_parsing_timezone:</td>\n",
       "<td>UTC</td></tr>\n",
       "<tr><td>H2O_cluster_version:</td>\n",
       "<td>3.32.1.1</td></tr>\n",
       "<tr><td>H2O_cluster_version_age:</td>\n",
       "<td>1 month and 9 days </td></tr>\n",
       "<tr><td>H2O_cluster_name:</td>\n",
       "<td>H2O_from_python_unknownUser_sxrcop</td></tr>\n",
       "<tr><td>H2O_cluster_total_nodes:</td>\n",
       "<td>1</td></tr>\n",
       "<tr><td>H2O_cluster_free_memory:</td>\n",
       "<td>4 Gb</td></tr>\n",
       "<tr><td>H2O_cluster_total_cores:</td>\n",
       "<td>4</td></tr>\n",
       "<tr><td>H2O_cluster_allowed_cores:</td>\n",
       "<td>4</td></tr>\n",
       "<tr><td>H2O_cluster_status:</td>\n",
       "<td>accepting new members, healthy</td></tr>\n",
       "<tr><td>H2O_connection_url:</td>\n",
       "<td>http://127.0.0.1:54321</td></tr>\n",
       "<tr><td>H2O_connection_proxy:</td>\n",
       "<td>{\"http\": null, \"https\": null}</td></tr>\n",
       "<tr><td>H2O_internal_security:</td>\n",
       "<td>False</td></tr>\n",
       "<tr><td>H2O_API_Extensions:</td>\n",
       "<td>Amazon S3, XGBoost, Algos, AutoML, Core V3, TargetEncoder, Core V4</td></tr>\n",
       "<tr><td>Python_version:</td>\n",
       "<td>3.7.10 final</td></tr></table></div>"
      ],
      "text/plain": [
       "--------------------------  ------------------------------------------------------------------\n",
       "H2O_cluster_uptime:         02 secs\n",
       "H2O_cluster_timezone:       Etc/UTC\n",
       "H2O_data_parsing_timezone:  UTC\n",
       "H2O_cluster_version:        3.32.1.1\n",
       "H2O_cluster_version_age:    1 month and 9 days\n",
       "H2O_cluster_name:           H2O_from_python_unknownUser_sxrcop\n",
       "H2O_cluster_total_nodes:    1\n",
       "H2O_cluster_free_memory:    4 Gb\n",
       "H2O_cluster_total_cores:    4\n",
       "H2O_cluster_allowed_cores:  4\n",
       "H2O_cluster_status:         accepting new members, healthy\n",
       "H2O_connection_url:         http://127.0.0.1:54321\n",
       "H2O_connection_proxy:       {\"http\": null, \"https\": null}\n",
       "H2O_internal_security:      False\n",
       "H2O_API_Extensions:         Amazon S3, XGBoost, Algos, AutoML, Core V3, TargetEncoder, Core V4\n",
       "Python_version:             3.7.10 final\n",
       "--------------------------  ------------------------------------------------------------------"
      ]
     },
     "metadata": {},
     "output_type": "display_data"
    },
    {
     "name": "stdout",
     "output_type": "stream",
     "text": [
      "Parse progress: |█████████████████████████████████████████████████████████| 100%\n",
      "Parse progress: |█████████████████████████████████████████████████████████| 100%\n",
      "Parse progress: |█████████████████████████████████████████████████████████| 100%\n"
     ]
    }
   ],
   "source": [
    "## prepare data\n",
    "h2o.init()\n",
    "\n",
    "h2o_train = h2o.import_file('../input/tabular-playground-series-may-2021/train.csv')\n",
    "h2o_test = h2o.import_file('../input/tabular-playground-series-may-2021/test.csv')\n",
    "sample = h2o.import_file('../input/tabular-playground-series-may-2021/sample_submission.csv')\n",
    "h2o_train['target'] = h2o_train['target'].asfactor()"
   ]
  },
  {
   "cell_type": "code",
   "execution_count": 3,
   "id": "protective-haiti",
   "metadata": {
    "execution": {
     "iopub.execute_input": "2021-05-05T16:58:51.011629Z",
     "iopub.status.busy": "2021-05-05T16:58:51.010707Z",
     "iopub.status.idle": "2021-05-05T17:56:12.201168Z",
     "shell.execute_reply": "2021-05-05T17:56:12.202472Z"
    },
    "papermill": {
     "duration": 3441.255735,
     "end_time": "2021-05-05T17:56:12.202754",
     "exception": false,
     "start_time": "2021-05-05T16:58:50.947019",
     "status": "completed"
    },
    "tags": []
   },
   "outputs": [
    {
     "name": "stdout",
     "output_type": "stream",
     "text": [
      "AutoML progress: |████████████████████████████████████████████████████████| 100%\n"
     ]
    }
   ],
   "source": [
    "## run model\n",
    "features = [x for x in h2o_train.columns if x not in ['id', 'target']]\n",
    "\n",
    "h2oaml = H2OAutoML(\n",
    "    max_runtime_secs=3600,\n",
    "    stopping_metric='logloss',\n",
    "    sort_metric='logloss',\n",
    "    preprocessing=[\"target_encoding\"]\n",
    ")\n",
    "\n",
    "h2oaml.train(x=features, y='target', training_frame=h2o_train)"
   ]
  },
  {
   "cell_type": "code",
   "execution_count": 4,
   "id": "transparent-occupation",
   "metadata": {
    "execution": {
     "iopub.execute_input": "2021-05-05T17:56:12.324290Z",
     "iopub.status.busy": "2021-05-05T17:56:12.323154Z",
     "iopub.status.idle": "2021-05-05T17:56:12.380579Z",
     "shell.execute_reply": "2021-05-05T17:56:12.379967Z"
    },
    "papermill": {
     "duration": 0.118158,
     "end_time": "2021-05-05T17:56:12.380732",
     "exception": false,
     "start_time": "2021-05-05T17:56:12.262574",
     "status": "completed"
    },
    "tags": []
   },
   "outputs": [
    {
     "data": {
      "text/html": [
       "<table>\n",
       "<thead>\n",
       "<tr><th>model_id                                           </th><th style=\"text-align: right;\">  logloss</th><th style=\"text-align: right;\">  mean_per_class_error</th><th style=\"text-align: right;\">    rmse</th><th style=\"text-align: right;\">     mse</th><th style=\"text-align: right;\">  auc</th><th style=\"text-align: right;\">  aucpr</th></tr>\n",
       "</thead>\n",
       "<tbody>\n",
       "<tr><td>StackedEnsemble_AllModels_AutoML_20210505_165851   </td><td style=\"text-align: right;\">  1.09204</td><td style=\"text-align: right;\">              0.735617</td><td style=\"text-align: right;\">0.624506</td><td style=\"text-align: right;\">0.390008</td><td style=\"text-align: right;\">  nan</td><td style=\"text-align: right;\">    nan</td></tr>\n",
       "<tr><td>StackedEnsemble_BestOfFamily_AutoML_20210505_165851</td><td style=\"text-align: right;\">  1.09242</td><td style=\"text-align: right;\">              0.736548</td><td style=\"text-align: right;\">0.624823</td><td style=\"text-align: right;\">0.390404</td><td style=\"text-align: right;\">  nan</td><td style=\"text-align: right;\">    nan</td></tr>\n",
       "<tr><td>XGBoost_grid__1_AutoML_20210505_165851_model_1     </td><td style=\"text-align: right;\">  1.09593</td><td style=\"text-align: right;\">              0.739728</td><td style=\"text-align: right;\">0.625905</td><td style=\"text-align: right;\">0.391757</td><td style=\"text-align: right;\">  nan</td><td style=\"text-align: right;\">    nan</td></tr>\n",
       "<tr><td>XGBoost_3_AutoML_20210505_165851                   </td><td style=\"text-align: right;\">  1.09634</td><td style=\"text-align: right;\">              0.741294</td><td style=\"text-align: right;\">0.626193</td><td style=\"text-align: right;\">0.392118</td><td style=\"text-align: right;\">  nan</td><td style=\"text-align: right;\">    nan</td></tr>\n",
       "<tr><td>GBM_grid__1_AutoML_20210505_165851_model_3         </td><td style=\"text-align: right;\">  1.09659</td><td style=\"text-align: right;\">              0.741179</td><td style=\"text-align: right;\">0.626485</td><td style=\"text-align: right;\">0.392483</td><td style=\"text-align: right;\">  nan</td><td style=\"text-align: right;\">    nan</td></tr>\n",
       "<tr><td>XGBoost_grid__1_AutoML_20210505_165851_model_2     </td><td style=\"text-align: right;\">  1.09695</td><td style=\"text-align: right;\">              0.740725</td><td style=\"text-align: right;\">0.626246</td><td style=\"text-align: right;\">0.392185</td><td style=\"text-align: right;\">  nan</td><td style=\"text-align: right;\">    nan</td></tr>\n",
       "<tr><td>GBM_grid__1_AutoML_20210505_165851_model_2         </td><td style=\"text-align: right;\">  1.09832</td><td style=\"text-align: right;\">              0.741601</td><td style=\"text-align: right;\">0.627315</td><td style=\"text-align: right;\">0.393524</td><td style=\"text-align: right;\">  nan</td><td style=\"text-align: right;\">    nan</td></tr>\n",
       "<tr><td>GBM_grid__1_AutoML_20210505_165851_model_1         </td><td style=\"text-align: right;\">  1.09951</td><td style=\"text-align: right;\">              0.742598</td><td style=\"text-align: right;\">0.627677</td><td style=\"text-align: right;\">0.393979</td><td style=\"text-align: right;\">  nan</td><td style=\"text-align: right;\">    nan</td></tr>\n",
       "<tr><td>GBM_2_AutoML_20210505_165851                       </td><td style=\"text-align: right;\">  1.10088</td><td style=\"text-align: right;\">              0.746223</td><td style=\"text-align: right;\">0.631544</td><td style=\"text-align: right;\">0.398848</td><td style=\"text-align: right;\">  nan</td><td style=\"text-align: right;\">    nan</td></tr>\n",
       "<tr><td>GBM_1_AutoML_20210505_165851                       </td><td style=\"text-align: right;\">  1.101  </td><td style=\"text-align: right;\">              0.746445</td><td style=\"text-align: right;\">0.63104 </td><td style=\"text-align: right;\">0.398211</td><td style=\"text-align: right;\">  nan</td><td style=\"text-align: right;\">    nan</td></tr>\n",
       "</tbody>\n",
       "</table>"
      ]
     },
     "metadata": {},
     "output_type": "display_data"
    },
    {
     "data": {
      "text/plain": []
     },
     "execution_count": 4,
     "metadata": {},
     "output_type": "execute_result"
    }
   ],
   "source": [
    "## check leaderboard\n",
    "h2oaml.leaderboard"
   ]
  },
  {
   "cell_type": "code",
   "execution_count": 5,
   "id": "western-dealing",
   "metadata": {
    "execution": {
     "iopub.execute_input": "2021-05-05T17:56:12.504949Z",
     "iopub.status.busy": "2021-05-05T17:56:12.504207Z",
     "iopub.status.idle": "2021-05-05T17:56:28.760803Z",
     "shell.execute_reply": "2021-05-05T17:56:28.759302Z"
    },
    "papermill": {
     "duration": 16.322404,
     "end_time": "2021-05-05T17:56:28.761080",
     "exception": false,
     "start_time": "2021-05-05T17:56:12.438676",
     "status": "completed"
    },
    "tags": []
   },
   "outputs": [
    {
     "name": "stdout",
     "output_type": "stream",
     "text": [
      "stackedensemble prediction progress: |████████████████████████████████████| 100%\n"
     ]
    }
   ],
   "source": [
    "## generate predictions\n",
    "preds_h2oaml = h2oaml.leader.predict(h2o_test)"
   ]
  },
  {
   "cell_type": "code",
   "execution_count": 6,
   "id": "civilian-conservation",
   "metadata": {
    "execution": {
     "iopub.execute_input": "2021-05-05T17:56:28.894493Z",
     "iopub.status.busy": "2021-05-05T17:56:28.893747Z",
     "iopub.status.idle": "2021-05-05T17:56:29.577759Z",
     "shell.execute_reply": "2021-05-05T17:56:29.578378Z"
    },
    "papermill": {
     "duration": 0.752081,
     "end_time": "2021-05-05T17:56:29.578599",
     "exception": false,
     "start_time": "2021-05-05T17:56:28.826518",
     "status": "completed"
    },
    "tags": []
   },
   "outputs": [
    {
     "data": {
      "text/html": [
       "<div>\n",
       "<style scoped>\n",
       "    .dataframe tbody tr th:only-of-type {\n",
       "        vertical-align: middle;\n",
       "    }\n",
       "\n",
       "    .dataframe tbody tr th {\n",
       "        vertical-align: top;\n",
       "    }\n",
       "\n",
       "    .dataframe thead th {\n",
       "        text-align: right;\n",
       "    }\n",
       "</style>\n",
       "<table border=\"1\" class=\"dataframe\">\n",
       "  <thead>\n",
       "    <tr style=\"text-align: right;\">\n",
       "      <th></th>\n",
       "      <th>id</th>\n",
       "      <th>Class_1</th>\n",
       "      <th>Class_2</th>\n",
       "      <th>Class_3</th>\n",
       "      <th>Class_4</th>\n",
       "    </tr>\n",
       "  </thead>\n",
       "  <tbody>\n",
       "    <tr>\n",
       "      <th>0</th>\n",
       "      <td>100000</td>\n",
       "      <td>0.082998</td>\n",
       "      <td>0.592065</td>\n",
       "      <td>0.204065</td>\n",
       "      <td>0.120871</td>\n",
       "    </tr>\n",
       "    <tr>\n",
       "      <th>1</th>\n",
       "      <td>100001</td>\n",
       "      <td>0.096633</td>\n",
       "      <td>0.667166</td>\n",
       "      <td>0.146522</td>\n",
       "      <td>0.089680</td>\n",
       "    </tr>\n",
       "    <tr>\n",
       "      <th>2</th>\n",
       "      <td>100002</td>\n",
       "      <td>0.080046</td>\n",
       "      <td>0.628606</td>\n",
       "      <td>0.189742</td>\n",
       "      <td>0.101607</td>\n",
       "    </tr>\n",
       "    <tr>\n",
       "      <th>3</th>\n",
       "      <td>100003</td>\n",
       "      <td>0.092952</td>\n",
       "      <td>0.571452</td>\n",
       "      <td>0.223778</td>\n",
       "      <td>0.111818</td>\n",
       "    </tr>\n",
       "    <tr>\n",
       "      <th>4</th>\n",
       "      <td>100004</td>\n",
       "      <td>0.086516</td>\n",
       "      <td>0.610032</td>\n",
       "      <td>0.195763</td>\n",
       "      <td>0.107688</td>\n",
       "    </tr>\n",
       "  </tbody>\n",
       "</table>\n",
       "</div>"
      ],
      "text/plain": [
       "       id   Class_1   Class_2   Class_3   Class_4\n",
       "0  100000  0.082998  0.592065  0.204065  0.120871\n",
       "1  100001  0.096633  0.667166  0.146522  0.089680\n",
       "2  100002  0.080046  0.628606  0.189742  0.101607\n",
       "3  100003  0.092952  0.571452  0.223778  0.111818\n",
       "4  100004  0.086516  0.610032  0.195763  0.107688"
      ]
     },
     "execution_count": 6,
     "metadata": {},
     "output_type": "execute_result"
    }
   ],
   "source": [
    "## create submission\n",
    "submission = pd.concat([\n",
    "    pd.DataFrame({'id': h2o_test['id'].as_data_frame().id}),\n",
    "    preds_h2oaml.as_data_frame().drop('predict', axis=1)\n",
    "], axis=1)\n",
    "\n",
    "submission.head()"
   ]
  },
  {
   "cell_type": "code",
   "execution_count": 7,
   "id": "pretty-aviation",
   "metadata": {
    "execution": {
     "iopub.execute_input": "2021-05-05T17:56:29.710904Z",
     "iopub.status.busy": "2021-05-05T17:56:29.709988Z",
     "iopub.status.idle": "2021-05-05T17:56:30.214799Z",
     "shell.execute_reply": "2021-05-05T17:56:30.214216Z"
    },
    "papermill": {
     "duration": 0.571434,
     "end_time": "2021-05-05T17:56:30.214965",
     "exception": false,
     "start_time": "2021-05-05T17:56:29.643531",
     "status": "completed"
    },
    "tags": []
   },
   "outputs": [],
   "source": [
    "## save submission\n",
    "submission.to_csv('h2o_1.csv', index=False)"
   ]
  },
  {
   "cell_type": "markdown",
   "id": "relative-insured",
   "metadata": {
    "papermill": {
     "duration": 0.063258,
     "end_time": "2021-05-05T17:56:30.342157",
     "exception": false,
     "start_time": "2021-05-05T17:56:30.278899",
     "status": "completed"
    },
    "tags": []
   },
   "source": [
    "This is just a baseline submission over which a lot of improvement can be made. You can read more about H2O AutoML's workflow, settings, hyperparameters, interpretability and more here:\n",
    "\n",
    "* [Documentation of H2O AutoML](https://docs.h2o.ai/h2o/latest-stable/h2o-docs/automl.html)\n",
    "* [Deep dive of H2O AutoML](https://github.com/vopani/fortyone#automl-series-)"
   ]
  },
  {
   "cell_type": "markdown",
   "id": "atomic-frame",
   "metadata": {
    "papermill": {
     "duration": 0.063633,
     "end_time": "2021-05-05T17:56:30.468280",
     "exception": false,
     "start_time": "2021-05-05T17:56:30.404647",
     "status": "completed"
    },
    "tags": []
   },
   "source": [
    "## Similar Tutorials\n",
    "Similar tutorials on other Kaggle TPS competitions are published here:\n",
    "\n",
    "* [AutoML Tutorial: TPS (January 2021)](https://www.kaggle.com/rohanrao/automl-tutorial-tps-january-2021)\n",
    "* [AutoML Tutorial: TPS (February 2021)](https://www.kaggle.com/rohanrao/automl-tutorial-tps-february-2021)\n",
    "* [AutoML Tutorial: TPS (March 2021)](https://www.kaggle.com/rohanrao/automl-tutorial-tps-march-2021)\n",
    "* [AutoML Tutorial: TPS (April 2021)](https://www.kaggle.com/rohanrao/automl-tutorial-tps-april-2021)"
   ]
  }
 ],
 "metadata": {
  "kernelspec": {
   "display_name": "Python 3",
   "language": "python",
   "name": "python3"
  },
  "language_info": {
   "codemirror_mode": {
    "name": "ipython",
    "version": 3
   },
   "file_extension": ".py",
   "mimetype": "text/x-python",
   "name": "python",
   "nbconvert_exporter": "python",
   "pygments_lexer": "ipython3",
   "version": "3.7.10"
  },
  "papermill": {
   "default_parameters": {},
   "duration": 3485.972048,
   "end_time": "2021-05-05T17:56:32.903992",
   "environment_variables": {},
   "exception": null,
   "input_path": "__notebook__.ipynb",
   "output_path": "__notebook__.ipynb",
   "parameters": {},
   "start_time": "2021-05-05T16:58:26.931944",
   "version": "2.3.3"
  }
 },
 "nbformat": 4,
 "nbformat_minor": 5
}
