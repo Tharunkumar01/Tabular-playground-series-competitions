{
 "cells": [
  {
   "cell_type": "code",
   "execution_count": 1,
   "id": "legislative-following",
   "metadata": {
    "execution": {
     "iopub.execute_input": "2021-05-02T15:19:22.670581Z",
     "iopub.status.busy": "2021-05-02T15:19:22.669967Z",
     "iopub.status.idle": "2021-05-02T15:20:33.684492Z",
     "shell.execute_reply": "2021-05-02T15:20:33.683884Z"
    },
    "papermill": {
     "duration": 71.033352,
     "end_time": "2021-05-02T15:20:33.684648",
     "exception": false,
     "start_time": "2021-05-02T15:19:22.651296",
     "status": "completed"
    },
    "tags": []
   },
   "outputs": [
    {
     "name": "stdout",
     "output_type": "stream",
     "text": [
      "Collecting mljar-supervised\r\n",
      "  Downloading mljar-supervised-0.10.3.tar.gz (101 kB)\r\n",
      "\u001b[K     |████████████████████████████████| 101 kB 4.0 MB/s \r\n",
      "\u001b[?25hRequirement already satisfied: numpy<1.20.0 in /opt/conda/lib/python3.7/site-packages (from mljar-supervised) (1.19.5)\r\n",
      "Collecting pandas==1.2.0\r\n",
      "  Downloading pandas-1.2.0-cp37-cp37m-manylinux1_x86_64.whl (9.9 MB)\r\n",
      "\u001b[K     |████████████████████████████████| 9.9 MB 8.2 MB/s \r\n",
      "\u001b[?25hCollecting scipy==1.6.1\r\n",
      "  Downloading scipy-1.6.1-cp37-cp37m-manylinux1_x86_64.whl (27.4 MB)\r\n",
      "\u001b[K     |████████████████████████████████| 27.4 MB 229 kB/s \r\n",
      "\u001b[?25hRequirement already satisfied: scikit-learn==0.24.1 in /opt/conda/lib/python3.7/site-packages (from mljar-supervised) (0.24.1)\r\n",
      "Collecting xgboost==1.3.3\r\n",
      "  Downloading xgboost-1.3.3-py3-none-manylinux2010_x86_64.whl (157.5 MB)\r\n",
      "\u001b[K     |████████████████████████████████| 157.5 MB 61 kB/s \r\n",
      "\u001b[?25hCollecting lightgbm==3.0.0\r\n",
      "  Downloading lightgbm-3.0.0-py2.py3-none-manylinux1_x86_64.whl (1.7 MB)\r\n",
      "\u001b[K     |████████████████████████████████| 1.7 MB 58.5 MB/s \r\n",
      "\u001b[?25hCollecting catboost==0.24.4\r\n",
      "  Downloading catboost-0.24.4-cp37-none-manylinux1_x86_64.whl (65.7 MB)\r\n",
      "\u001b[K     |████████████████████████████████| 65.7 MB 58.3 MB/s \r\n",
      "\u001b[?25hRequirement already satisfied: joblib==1.0.1 in /opt/conda/lib/python3.7/site-packages (from mljar-supervised) (1.0.1)\r\n",
      "Collecting cloudpickle==1.3.0\r\n",
      "  Downloading cloudpickle-1.3.0-py2.py3-none-any.whl (26 kB)\r\n",
      "Collecting pyarrow>=2.0.0\r\n",
      "  Downloading pyarrow-4.0.0-cp37-cp37m-manylinux2014_x86_64.whl (21.8 MB)\r\n",
      "\u001b[K     |████████████████████████████████| 21.8 MB 54.7 MB/s \r\n",
      "\u001b[?25hCollecting tabulate==0.8.7\r\n",
      "  Downloading tabulate-0.8.7-py3-none-any.whl (24 kB)\r\n",
      "Requirement already satisfied: matplotlib>=3.2.2 in /opt/conda/lib/python3.7/site-packages (from mljar-supervised) (3.4.1)\r\n",
      "Collecting dtreeviz==1.0\r\n",
      "  Downloading dtreeviz-1.0.tar.gz (42 kB)\r\n",
      "\u001b[K     |████████████████████████████████| 42 kB 868 kB/s \r\n",
      "\u001b[?25hCollecting shap==0.36.0\r\n",
      "  Downloading shap-0.36.0.tar.gz (319 kB)\r\n",
      "\u001b[K     |████████████████████████████████| 319 kB 46.4 MB/s \r\n",
      "\u001b[?25hCollecting seaborn==0.10.1\r\n",
      "  Downloading seaborn-0.10.1-py3-none-any.whl (215 kB)\r\n",
      "\u001b[K     |████████████████████████████████| 215 kB 47.1 MB/s \r\n",
      "\u001b[?25hRequirement already satisfied: wordcloud==1.8.1 in /opt/conda/lib/python3.7/site-packages (from mljar-supervised) (1.8.1)\r\n",
      "Requirement already satisfied: category_encoders==2.2.2 in /opt/conda/lib/python3.7/site-packages (from mljar-supervised) (2.2.2)\r\n",
      "Collecting optuna==2.6.0\r\n",
      "  Downloading optuna-2.6.0-py3-none-any.whl (293 kB)\r\n",
      "\u001b[K     |████████████████████████████████| 293 kB 61.5 MB/s \r\n",
      "\u001b[?25hRequirement already satisfied: graphviz in /opt/conda/lib/python3.7/site-packages (from catboost==0.24.4->mljar-supervised) (0.8.4)\r\n",
      "Requirement already satisfied: six in /opt/conda/lib/python3.7/site-packages (from catboost==0.24.4->mljar-supervised) (1.15.0)\r\n",
      "Requirement already satisfied: plotly in /opt/conda/lib/python3.7/site-packages (from catboost==0.24.4->mljar-supervised) (4.14.3)\r\n",
      "Requirement already satisfied: statsmodels>=0.9.0 in /opt/conda/lib/python3.7/site-packages (from category_encoders==2.2.2->mljar-supervised) (0.12.2)\r\n",
      "Requirement already satisfied: patsy>=0.5.1 in /opt/conda/lib/python3.7/site-packages (from category_encoders==2.2.2->mljar-supervised) (0.5.1)\r\n",
      "Collecting graphviz\r\n",
      "  Downloading graphviz-0.16-py2.py3-none-any.whl (19 kB)\r\n",
      "Collecting colour\r\n",
      "  Downloading colour-0.1.5-py2.py3-none-any.whl (23 kB)\r\n",
      "Requirement already satisfied: pytest in /opt/conda/lib/python3.7/site-packages (from dtreeviz==1.0->mljar-supervised) (6.2.3)\r\n",
      "Requirement already satisfied: alembic in /opt/conda/lib/python3.7/site-packages (from optuna==2.6.0->mljar-supervised) (1.5.8)\r\n",
      "Requirement already satisfied: packaging>=20.0 in /opt/conda/lib/python3.7/site-packages (from optuna==2.6.0->mljar-supervised) (20.9)\r\n",
      "Requirement already satisfied: sqlalchemy>=1.1.0 in /opt/conda/lib/python3.7/site-packages (from optuna==2.6.0->mljar-supervised) (1.4.3)\r\n",
      "Requirement already satisfied: tqdm in /opt/conda/lib/python3.7/site-packages (from optuna==2.6.0->mljar-supervised) (4.59.0)\r\n",
      "Requirement already satisfied: cliff in /opt/conda/lib/python3.7/site-packages (from optuna==2.6.0->mljar-supervised) (3.7.0)\r\n",
      "Requirement already satisfied: colorlog in /opt/conda/lib/python3.7/site-packages (from optuna==2.6.0->mljar-supervised) (5.0.1)\r\n",
      "Requirement already satisfied: cmaes>=0.8.2 in /opt/conda/lib/python3.7/site-packages (from optuna==2.6.0->mljar-supervised) (0.8.2)\r\n",
      "Requirement already satisfied: pytz>=2017.3 in /opt/conda/lib/python3.7/site-packages (from pandas==1.2.0->mljar-supervised) (2021.1)\r\n",
      "Requirement already satisfied: python-dateutil>=2.7.3 in /opt/conda/lib/python3.7/site-packages (from pandas==1.2.0->mljar-supervised) (2.8.1)\r\n",
      "Requirement already satisfied: threadpoolctl>=2.0.0 in /opt/conda/lib/python3.7/site-packages (from scikit-learn==0.24.1->mljar-supervised) (2.1.0)\r\n",
      "Requirement already satisfied: slicer in /opt/conda/lib/python3.7/site-packages (from shap==0.36.0->mljar-supervised) (0.0.7)\r\n",
      "Requirement already satisfied: numba in /opt/conda/lib/python3.7/site-packages (from shap==0.36.0->mljar-supervised) (0.53.1)\r\n",
      "Requirement already satisfied: pillow in /opt/conda/lib/python3.7/site-packages (from wordcloud==1.8.1->mljar-supervised) (7.2.0)\r\n",
      "Requirement already satisfied: cycler>=0.10 in /opt/conda/lib/python3.7/site-packages (from matplotlib>=3.2.2->mljar-supervised) (0.10.0)\r\n",
      "Requirement already satisfied: kiwisolver>=1.0.1 in /opt/conda/lib/python3.7/site-packages (from matplotlib>=3.2.2->mljar-supervised) (1.3.1)\r\n",
      "Requirement already satisfied: pyparsing>=2.2.1 in /opt/conda/lib/python3.7/site-packages (from matplotlib>=3.2.2->mljar-supervised) (2.4.7)\r\n",
      "Requirement already satisfied: importlib-metadata in /opt/conda/lib/python3.7/site-packages (from sqlalchemy>=1.1.0->optuna==2.6.0->mljar-supervised) (3.4.0)\r\n",
      "Requirement already satisfied: greenlet!=0.4.17 in /opt/conda/lib/python3.7/site-packages (from sqlalchemy>=1.1.0->optuna==2.6.0->mljar-supervised) (1.0.0)\r\n",
      "Requirement already satisfied: Mako in /opt/conda/lib/python3.7/site-packages (from alembic->optuna==2.6.0->mljar-supervised) (1.1.4)\r\n",
      "Requirement already satisfied: python-editor>=0.3 in /opt/conda/lib/python3.7/site-packages (from alembic->optuna==2.6.0->mljar-supervised) (1.0.4)\r\n",
      "Requirement already satisfied: cmd2>=1.0.0 in /opt/conda/lib/python3.7/site-packages (from cliff->optuna==2.6.0->mljar-supervised) (1.5.0)\r\n",
      "Requirement already satisfied: PrettyTable>=0.7.2 in /opt/conda/lib/python3.7/site-packages (from cliff->optuna==2.6.0->mljar-supervised) (2.1.0)\r\n",
      "Requirement already satisfied: stevedore>=2.0.1 in /opt/conda/lib/python3.7/site-packages (from cliff->optuna==2.6.0->mljar-supervised) (3.3.0)\r\n",
      "Requirement already satisfied: PyYAML>=3.12 in /opt/conda/lib/python3.7/site-packages (from cliff->optuna==2.6.0->mljar-supervised) (5.3.1)\r\n",
      "Requirement already satisfied: pbr!=2.1.0,>=2.0.0 in /opt/conda/lib/python3.7/site-packages (from cliff->optuna==2.6.0->mljar-supervised) (5.5.1)\r\n",
      "Requirement already satisfied: attrs>=16.3.0 in /opt/conda/lib/python3.7/site-packages (from cmd2>=1.0.0->cliff->optuna==2.6.0->mljar-supervised) (20.3.0)\r\n",
      "Requirement already satisfied: wcwidth>=0.1.7 in /opt/conda/lib/python3.7/site-packages (from cmd2>=1.0.0->cliff->optuna==2.6.0->mljar-supervised) (0.2.5)\r\n",
      "Requirement already satisfied: colorama>=0.3.7 in /opt/conda/lib/python3.7/site-packages (from cmd2>=1.0.0->cliff->optuna==2.6.0->mljar-supervised) (0.4.4)\r\n",
      "Requirement already satisfied: pyperclip>=1.6 in /opt/conda/lib/python3.7/site-packages (from cmd2>=1.0.0->cliff->optuna==2.6.0->mljar-supervised) (1.8.2)\r\n",
      "Requirement already satisfied: zipp>=0.5 in /opt/conda/lib/python3.7/site-packages (from importlib-metadata->sqlalchemy>=1.1.0->optuna==2.6.0->mljar-supervised) (3.4.1)\r\n",
      "Requirement already satisfied: typing-extensions>=3.6.4 in /opt/conda/lib/python3.7/site-packages (from importlib-metadata->sqlalchemy>=1.1.0->optuna==2.6.0->mljar-supervised) (3.7.4.3)\r\n",
      "Requirement already satisfied: MarkupSafe>=0.9.2 in /opt/conda/lib/python3.7/site-packages (from Mako->alembic->optuna==2.6.0->mljar-supervised) (1.1.1)\r\n",
      "Requirement already satisfied: setuptools in /opt/conda/lib/python3.7/site-packages (from numba->shap==0.36.0->mljar-supervised) (49.6.0.post20210108)\r\n",
      "Requirement already satisfied: llvmlite<0.37,>=0.36.0rc1 in /opt/conda/lib/python3.7/site-packages (from numba->shap==0.36.0->mljar-supervised) (0.36.0)\r\n",
      "Requirement already satisfied: retrying>=1.3.3 in /opt/conda/lib/python3.7/site-packages (from plotly->catboost==0.24.4->mljar-supervised) (1.3.3)\r\n",
      "Requirement already satisfied: toml in /opt/conda/lib/python3.7/site-packages (from pytest->dtreeviz==1.0->mljar-supervised) (0.10.2)\r\n",
      "Requirement already satisfied: py>=1.8.2 in /opt/conda/lib/python3.7/site-packages (from pytest->dtreeviz==1.0->mljar-supervised) (1.10.0)\r\n",
      "Requirement already satisfied: iniconfig in /opt/conda/lib/python3.7/site-packages (from pytest->dtreeviz==1.0->mljar-supervised) (1.1.1)\r\n",
      "Requirement already satisfied: pluggy<1.0.0a1,>=0.12 in /opt/conda/lib/python3.7/site-packages (from pytest->dtreeviz==1.0->mljar-supervised) (0.13.1)\r\n",
      "Building wheels for collected packages: mljar-supervised, dtreeviz, shap\r\n",
      "  Building wheel for mljar-supervised (setup.py) ... \u001b[?25l-\b \b\\\b \bdone\r\n",
      "\u001b[?25h  Created wheel for mljar-supervised: filename=mljar_supervised-0.10.3-py3-none-any.whl size=134890 sha256=5c4796e54bd8296fa21fe76e8d7a23879b41b56e63945d0f26585bb1c561af01\r\n",
      "  Stored in directory: /root/.cache/pip/wheels/a3/c8/5a/5c3617a8488b49cb9d5ae6b2d79b0e4e6ddcf381def60fde7f\r\n",
      "  Building wheel for dtreeviz (setup.py) ... \u001b[?25l-\b \b\\\b \bdone\r\n",
      "\u001b[?25h  Created wheel for dtreeviz: filename=dtreeviz-1.0-py3-none-any.whl size=47219 sha256=f1d624e5bc4d5a39318576a51015634287e05935918081111109006baafd72cf\r\n",
      "  Stored in directory: /root/.cache/pip/wheels/0a/27/39/56e6216f118120c9a3d1c7a5f4ce96f06a98ccd20f691166fe\r\n",
      "  Building wheel for shap (setup.py) ... \u001b[?25l-\b \b\\\b \b|\b \b/\b \b-\b \bdone\r\n",
      "\u001b[?25h  Created wheel for shap: filename=shap-0.36.0-cp37-cp37m-linux_x86_64.whl size=461186 sha256=0278fd5c84fce8e21e215894b77df244c35f08990397438856cb2e423f842de2\r\n",
      "  Stored in directory: /root/.cache/pip/wheels/6b/1e/4a/b1d65778aac48b677ac2a758251f9cccb338775e8d174f3696\r\n",
      "Successfully built mljar-supervised dtreeviz shap\r\n",
      "Installing collected packages: scipy, pandas, xgboost, graphviz, colour, tabulate, shap, seaborn, pyarrow, optuna, lightgbm, dtreeviz, cloudpickle, catboost, mljar-supervised\r\n",
      "  Attempting uninstall: scipy\r\n",
      "    Found existing installation: scipy 1.5.4\r\n",
      "    Uninstalling scipy-1.5.4:\r\n",
      "      Successfully uninstalled scipy-1.5.4\r\n",
      "  Attempting uninstall: pandas\r\n",
      "    Found existing installation: pandas 1.1.5\r\n",
      "    Uninstalling pandas-1.1.5:\r\n",
      "      Successfully uninstalled pandas-1.1.5\r\n",
      "  Attempting uninstall: xgboost\r\n",
      "    Found existing installation: xgboost 1.4.0\r\n",
      "    Uninstalling xgboost-1.4.0:\r\n",
      "      Successfully uninstalled xgboost-1.4.0\r\n",
      "  Attempting uninstall: graphviz\r\n",
      "    Found existing installation: graphviz 0.8.4\r\n",
      "    Uninstalling graphviz-0.8.4:\r\n",
      "      Successfully uninstalled graphviz-0.8.4\r\n",
      "  Attempting uninstall: tabulate\r\n",
      "    Found existing installation: tabulate 0.8.9\r\n",
      "    Uninstalling tabulate-0.8.9:\r\n",
      "      Successfully uninstalled tabulate-0.8.9\r\n",
      "  Attempting uninstall: shap\r\n",
      "    Found existing installation: shap 0.39.0\r\n",
      "    Uninstalling shap-0.39.0:\r\n",
      "      Successfully uninstalled shap-0.39.0\r\n",
      "  Attempting uninstall: seaborn\r\n",
      "    Found existing installation: seaborn 0.11.1\r\n",
      "    Uninstalling seaborn-0.11.1:\r\n",
      "      Successfully uninstalled seaborn-0.11.1\r\n",
      "  Attempting uninstall: pyarrow\r\n",
      "    Found existing installation: pyarrow 1.0.1\r\n",
      "    Uninstalling pyarrow-1.0.1:\r\n",
      "      Successfully uninstalled pyarrow-1.0.1\r\n",
      "  Attempting uninstall: optuna\r\n",
      "    Found existing installation: optuna 2.7.0\r\n",
      "    Uninstalling optuna-2.7.0:\r\n",
      "      Successfully uninstalled optuna-2.7.0\r\n",
      "  Attempting uninstall: lightgbm\r\n",
      "    Found existing installation: lightgbm 3.2.0\r\n",
      "    Uninstalling lightgbm-3.2.0:\r\n",
      "      Successfully uninstalled lightgbm-3.2.0\r\n",
      "  Attempting uninstall: cloudpickle\r\n",
      "    Found existing installation: cloudpickle 1.6.0\r\n",
      "    Uninstalling cloudpickle-1.6.0:\r\n",
      "      Successfully uninstalled cloudpickle-1.6.0\r\n",
      "  Attempting uninstall: catboost\r\n",
      "    Found existing installation: catboost 0.25.1\r\n",
      "    Uninstalling catboost-0.25.1:\r\n",
      "      Successfully uninstalled catboost-0.25.1\r\n",
      "\u001b[31mERROR: pip's dependency resolver does not currently take into account all the packages that are installed. This behaviour is the source of the following dependency conflicts.\r\n",
      "pyldavis 3.3.1 requires numpy>=1.20.0, but you have numpy 1.19.5 which is incompatible.\r\n",
      "pdpbox 0.2.1 requires matplotlib==3.1.1, but you have matplotlib 3.4.1 which is incompatible.\r\n",
      "mxnet-cu110 1.8.0.post0 requires graphviz<0.9.0,>=0.8.1, but you have graphviz 0.16 which is incompatible.\r\n",
      "matrixprofile 1.1.10 requires protobuf==3.11.2, but you have protobuf 3.15.8 which is incompatible.\r\n",
      "distributed 2021.4.0 requires cloudpickle>=1.5.0, but you have cloudpickle 1.3.0 which is incompatible.\r\n",
      "autogluon-core 0.1.0 requires graphviz<0.9.0,>=0.8.1, but you have graphviz 0.16 which is incompatible.\r\n",
      "autogluon-core 0.1.0 requires scipy==1.5.4, but you have scipy 1.6.1 which is incompatible.\u001b[0m\r\n",
      "Successfully installed catboost-0.24.4 cloudpickle-1.3.0 colour-0.1.5 dtreeviz-1.0 graphviz-0.16 lightgbm-3.0.0 mljar-supervised-0.10.3 optuna-2.6.0 pandas-1.2.0 pyarrow-4.0.0 scipy-1.6.1 seaborn-0.10.1 shap-0.36.0 tabulate-0.8.7 xgboost-1.3.3\r\n"
     ]
    }
   ],
   "source": [
    "!pip install mljar-supervised"
   ]
  },
  {
   "cell_type": "code",
   "execution_count": 2,
   "id": "exempt-walter",
   "metadata": {
    "execution": {
     "iopub.execute_input": "2021-05-02T15:20:33.982160Z",
     "iopub.status.busy": "2021-05-02T15:20:33.978553Z",
     "iopub.status.idle": "2021-05-02T15:21:03.415898Z",
     "shell.execute_reply": "2021-05-02T15:21:03.415384Z"
    },
    "papermill": {
     "duration": 29.586396,
     "end_time": "2021-05-02T15:21:03.416052",
     "exception": false,
     "start_time": "2021-05-02T15:20:33.829656",
     "status": "completed"
    },
    "tags": []
   },
   "outputs": [
    {
     "name": "stdout",
     "output_type": "stream",
     "text": [
      "Collecting fastparquet\r\n",
      "  Downloading fastparquet-0.5.0.tar.gz (120 kB)\r\n",
      "\u001b[K     |████████████████████████████████| 120 kB 4.5 MB/s \r\n",
      "\u001b[?25hRequirement already satisfied: pandas>=1.1.0 in /opt/conda/lib/python3.7/site-packages (from fastparquet) (1.2.0)\r\n",
      "Requirement already satisfied: numba>=0.49 in /opt/conda/lib/python3.7/site-packages (from fastparquet) (0.53.1)\r\n",
      "Requirement already satisfied: numpy>=1.11 in /opt/conda/lib/python3.7/site-packages (from fastparquet) (1.19.5)\r\n",
      "Collecting thrift>=0.11.0\r\n",
      "  Downloading thrift-0.13.0.tar.gz (59 kB)\r\n",
      "\u001b[K     |████████████████████████████████| 59 kB 4.2 MB/s \r\n",
      "\u001b[?25hRequirement already satisfied: llvmlite<0.37,>=0.36.0rc1 in /opt/conda/lib/python3.7/site-packages (from numba>=0.49->fastparquet) (0.36.0)\r\n",
      "Requirement already satisfied: setuptools in /opt/conda/lib/python3.7/site-packages (from numba>=0.49->fastparquet) (49.6.0.post20210108)\r\n",
      "Requirement already satisfied: python-dateutil>=2.7.3 in /opt/conda/lib/python3.7/site-packages (from pandas>=1.1.0->fastparquet) (2.8.1)\r\n",
      "Requirement already satisfied: pytz>=2017.3 in /opt/conda/lib/python3.7/site-packages (from pandas>=1.1.0->fastparquet) (2021.1)\r\n",
      "Requirement already satisfied: six>=1.5 in /opt/conda/lib/python3.7/site-packages (from python-dateutil>=2.7.3->pandas>=1.1.0->fastparquet) (1.15.0)\r\n",
      "Building wheels for collected packages: fastparquet, thrift\r\n",
      "  Building wheel for fastparquet (setup.py) ... \u001b[?25l-\b \b\\\b \b|\b \b/\b \b-\b \bdone\r\n",
      "\u001b[?25h  Created wheel for fastparquet: filename=fastparquet-0.5.0-cp37-cp37m-linux_x86_64.whl size=217575 sha256=d76d1b29344d722652fdac5575f586c559ed55a6f418a03f95190f5aa7188833\r\n",
      "  Stored in directory: /root/.cache/pip/wheels/a4/c3/8a/eee13aaf7ac012dcf62c6b5905c74816e91518186de270e8c1\r\n",
      "  Building wheel for thrift (setup.py) ... \u001b[?25l-\b \b\\\b \b|\b \b/\b \b-\b \b\\\b \b|\b \bdone\r\n",
      "\u001b[?25h  Created wheel for thrift: filename=thrift-0.13.0-cp37-cp37m-linux_x86_64.whl size=409492 sha256=79f87d1337544f0e359acd7f438762b89845583c710de3db7831f6123c47fed9\r\n",
      "  Stored in directory: /root/.cache/pip/wheels/79/35/5a/19f5dadf91f62bd783aaa8385f700de9bc14772e09ab0f006a\r\n",
      "Successfully built fastparquet thrift\r\n",
      "Installing collected packages: thrift, fastparquet\r\n",
      "Successfully installed fastparquet-0.5.0 thrift-0.13.0\r\n",
      "Collecting python-snappy\r\n",
      "  Downloading python_snappy-0.6.0-cp37-cp37m-manylinux2010_x86_64.whl (55 kB)\r\n",
      "\u001b[K     |████████████████████████████████| 55 kB 2.0 MB/s \r\n",
      "\u001b[?25hInstalling collected packages: python-snappy\r\n",
      "Successfully installed python-snappy-0.6.0\r\n",
      "Requirement already satisfied: pyarrow in /opt/conda/lib/python3.7/site-packages (4.0.0)\r\n",
      "Requirement already satisfied: numpy>=1.16.6 in /opt/conda/lib/python3.7/site-packages (from pyarrow) (1.19.5)\r\n"
     ]
    }
   ],
   "source": [
    "!pip install fastparquet\n",
    "!pip install python-snappy\n",
    "!pip install pyarrow \n",
    "# !pip install pandas==1.1.5\n"
   ]
  },
  {
   "cell_type": "code",
   "execution_count": 3,
   "id": "pediatric-musician",
   "metadata": {
    "execution": {
     "iopub.execute_input": "2021-05-02T15:21:03.768113Z",
     "iopub.status.busy": "2021-05-02T15:21:03.767261Z",
     "iopub.status.idle": "2021-05-02T15:21:08.356025Z",
     "shell.execute_reply": "2021-05-02T15:21:08.355505Z"
    },
    "papermill": {
     "duration": 4.763809,
     "end_time": "2021-05-02T15:21:08.356183",
     "exception": false,
     "start_time": "2021-05-02T15:21:03.592374",
     "status": "completed"
    },
    "tags": []
   },
   "outputs": [
    {
     "data": {
      "text/html": [
       "<style type='text/css'>\n",
       ".datatable table.frame { margin-bottom: 0; }\n",
       ".datatable table.frame thead { border-bottom: none; }\n",
       ".datatable table.frame tr.coltypes td {  color: #FFFFFF;  line-height: 6px;  padding: 0 0.5em;}\n",
       ".datatable .bool    { background: #DDDD99; }\n",
       ".datatable .object  { background: #565656; }\n",
       ".datatable .int     { background: #5D9E5D; }\n",
       ".datatable .float   { background: #4040CC; }\n",
       ".datatable .str     { background: #CC4040; }\n",
       ".datatable .row_index {  background: var(--jp-border-color3);  border-right: 1px solid var(--jp-border-color0);  color: var(--jp-ui-font-color3);  font-size: 9px;}\n",
       ".datatable .frame tr.coltypes .row_index {  background: var(--jp-border-color0);}\n",
       ".datatable th:nth-child(2) { padding-left: 12px; }\n",
       ".datatable .hellipsis {  color: var(--jp-cell-editor-border-color);}\n",
       ".datatable .vellipsis {  background: var(--jp-layout-color0);  color: var(--jp-cell-editor-border-color);}\n",
       ".datatable .na {  color: var(--jp-cell-editor-border-color);  font-size: 80%;}\n",
       ".datatable .footer { font-size: 9px; }\n",
       ".datatable .frame_dimensions {  background: var(--jp-border-color3);  border-top: 1px solid var(--jp-border-color0);  color: var(--jp-ui-font-color3);  display: inline-block;  opacity: 0.6;  padding: 1px 10px 1px 5px;}\n",
       "</style>\n"
      ],
      "text/plain": [
       "<IPython.core.display.HTML object>"
      ]
     },
     "metadata": {},
     "output_type": "display_data"
    }
   ],
   "source": [
    "import numpy as np\n",
    "import pandas as pd\n",
    "from supervised.automl import AutoML\n",
    "from sklearn.preprocessing import LabelEncoder, StandardScaler"
   ]
  },
  {
   "cell_type": "code",
   "execution_count": 4,
   "id": "racial-excellence",
   "metadata": {
    "execution": {
     "iopub.execute_input": "2021-05-02T15:21:08.678581Z",
     "iopub.status.busy": "2021-05-02T15:21:08.678004Z",
     "iopub.status.idle": "2021-05-02T15:21:09.420601Z",
     "shell.execute_reply": "2021-05-02T15:21:09.420054Z"
    },
    "papermill": {
     "duration": 0.906942,
     "end_time": "2021-05-02T15:21:09.420741",
     "exception": false,
     "start_time": "2021-05-02T15:21:08.513799",
     "status": "completed"
    },
    "tags": []
   },
   "outputs": [],
   "source": [
    "train = pd.read_csv(\"../input/tabular-playground-series-may-2021/train.csv\")\n",
    "test = pd.read_csv(\"../input/tabular-playground-series-may-2021/test.csv\")\n",
    "\n",
    "all_df = pd.concat([train, test], axis=0)\n",
    "all_df = all_df.drop(['id', 'target'], axis=1)\n"
   ]
  },
  {
   "cell_type": "code",
   "execution_count": 5,
   "id": "progressive-rogers",
   "metadata": {
    "execution": {
     "iopub.execute_input": "2021-05-02T15:21:09.762407Z",
     "iopub.status.busy": "2021-05-02T15:21:09.761513Z",
     "iopub.status.idle": "2021-05-02T15:21:10.620453Z",
     "shell.execute_reply": "2021-05-02T15:21:10.619959Z"
    },
    "papermill": {
     "duration": 1.048537,
     "end_time": "2021-05-02T15:21:10.620588",
     "exception": false,
     "start_time": "2021-05-02T15:21:09.572051",
     "status": "completed"
    },
    "tags": []
   },
   "outputs": [],
   "source": [
    "lbe = LabelEncoder()\n",
    "train['target'] = lbe.fit_transform(train['target'])\n",
    "\n",
    "le = LabelEncoder()\n",
    "for col in all_df.columns:\n",
    "    all_df[col] = le.fit_transform(all_df[col])\n",
    "\n",
    "for col in all_df.columns:\n",
    "    all_df[col] = np.log1p(all_df[col])"
   ]
  },
  {
   "cell_type": "code",
   "execution_count": 6,
   "id": "senior-sleeping",
   "metadata": {
    "execution": {
     "iopub.execute_input": "2021-05-02T15:21:10.923693Z",
     "iopub.status.busy": "2021-05-02T15:21:10.922836Z",
     "iopub.status.idle": "2021-05-02T15:21:10.927952Z",
     "shell.execute_reply": "2021-05-02T15:21:10.928409Z"
    },
    "papermill": {
     "duration": 0.159224,
     "end_time": "2021-05-02T15:21:10.928549",
     "exception": false,
     "start_time": "2021-05-02T15:21:10.769325",
     "status": "completed"
    },
    "tags": []
   },
   "outputs": [
    {
     "name": "stderr",
     "output_type": "stream",
     "text": [
      "\n",
      "A value is trying to be set on a copy of a slice from a DataFrame.\n",
      "Try using .loc[row_indexer,col_indexer] = value instead\n",
      "\n",
      "See the caveats in the documentation: https://pandas.pydata.org/pandas-docs/stable/user_guide/indexing.html#returning-a-view-versus-a-copy\n"
     ]
    }
   ],
   "source": [
    "train_df = all_df[:len(train)]\n",
    "train_df['target'] = train['target']\n",
    "test_df = all_df[len(train):]"
   ]
  },
  {
   "cell_type": "code",
   "execution_count": 7,
   "id": "intermediate-trick",
   "metadata": {
    "execution": {
     "iopub.execute_input": "2021-05-02T15:21:11.239849Z",
     "iopub.status.busy": "2021-05-02T15:21:11.229396Z",
     "iopub.status.idle": "2021-05-02T15:21:11.257845Z",
     "shell.execute_reply": "2021-05-02T15:21:11.258253Z"
    },
    "papermill": {
     "duration": 0.183685,
     "end_time": "2021-05-02T15:21:11.258404",
     "exception": false,
     "start_time": "2021-05-02T15:21:11.074719",
     "status": "completed"
    },
    "tags": []
   },
   "outputs": [
    {
     "ename": "AttributeError",
     "evalue": "'NotebookFormatter' object has no attribute 'get_result'",
     "output_type": "error",
     "traceback": [
      "\u001b[0;31m---------------------------------------------------------------------------\u001b[0m",
      "\u001b[0;31mAttributeError\u001b[0m                            Traceback (most recent call last)",
      "\u001b[0;32m/opt/conda/lib/python3.7/site-packages/IPython/core/formatters.py\u001b[0m in \u001b[0;36m__call__\u001b[0;34m(self, obj)\u001b[0m\n\u001b[1;32m    343\u001b[0m             \u001b[0mmethod\u001b[0m \u001b[0;34m=\u001b[0m \u001b[0mget_real_method\u001b[0m\u001b[0;34m(\u001b[0m\u001b[0mobj\u001b[0m\u001b[0;34m,\u001b[0m \u001b[0mself\u001b[0m\u001b[0;34m.\u001b[0m\u001b[0mprint_method\u001b[0m\u001b[0;34m)\u001b[0m\u001b[0;34m\u001b[0m\u001b[0;34m\u001b[0m\u001b[0m\n\u001b[1;32m    344\u001b[0m             \u001b[0;32mif\u001b[0m \u001b[0mmethod\u001b[0m \u001b[0;32mis\u001b[0m \u001b[0;32mnot\u001b[0m \u001b[0;32mNone\u001b[0m\u001b[0;34m:\u001b[0m\u001b[0;34m\u001b[0m\u001b[0;34m\u001b[0m\u001b[0m\n\u001b[0;32m--> 345\u001b[0;31m                 \u001b[0;32mreturn\u001b[0m \u001b[0mmethod\u001b[0m\u001b[0;34m(\u001b[0m\u001b[0;34m)\u001b[0m\u001b[0;34m\u001b[0m\u001b[0;34m\u001b[0m\u001b[0m\n\u001b[0m\u001b[1;32m    346\u001b[0m             \u001b[0;32mreturn\u001b[0m \u001b[0;32mNone\u001b[0m\u001b[0;34m\u001b[0m\u001b[0;34m\u001b[0m\u001b[0m\n\u001b[1;32m    347\u001b[0m         \u001b[0;32melse\u001b[0m\u001b[0;34m:\u001b[0m\u001b[0;34m\u001b[0m\u001b[0;34m\u001b[0m\u001b[0m\n",
      "\u001b[0;32m/opt/conda/lib/python3.7/site-packages/pandas/core/frame.py\u001b[0m in \u001b[0;36m_repr_html_\u001b[0;34m(self)\u001b[0m\n\u001b[1;32m    796\u001b[0m         \u001b[0mmax_cols\u001b[0m \u001b[0;34m=\u001b[0m \u001b[0mget_option\u001b[0m\u001b[0;34m(\u001b[0m\u001b[0;34m\"display.max_columns\"\u001b[0m\u001b[0;34m)\u001b[0m\u001b[0;34m\u001b[0m\u001b[0;34m\u001b[0m\u001b[0m\n\u001b[1;32m    797\u001b[0m         \u001b[0mmax_colwidth\u001b[0m \u001b[0;34m=\u001b[0m \u001b[0mget_option\u001b[0m\u001b[0;34m(\u001b[0m\u001b[0;34m\"display.max_colwidth\"\u001b[0m\u001b[0;34m)\u001b[0m\u001b[0;34m\u001b[0m\u001b[0;34m\u001b[0m\u001b[0m\n\u001b[0;32m--> 798\u001b[0;31m         \u001b[0mshow_dimensions\u001b[0m \u001b[0;34m=\u001b[0m \u001b[0mget_option\u001b[0m\u001b[0;34m(\u001b[0m\u001b[0;34m\"display.show_dimensions\"\u001b[0m\u001b[0;34m)\u001b[0m\u001b[0;34m\u001b[0m\u001b[0;34m\u001b[0m\u001b[0m\n\u001b[0m\u001b[1;32m    799\u001b[0m         \u001b[0;32mif\u001b[0m \u001b[0mget_option\u001b[0m\u001b[0;34m(\u001b[0m\u001b[0;34m\"display.expand_frame_repr\"\u001b[0m\u001b[0;34m)\u001b[0m\u001b[0;34m:\u001b[0m\u001b[0;34m\u001b[0m\u001b[0;34m\u001b[0m\u001b[0m\n\u001b[1;32m    800\u001b[0m             \u001b[0mwidth\u001b[0m\u001b[0;34m,\u001b[0m \u001b[0m_\u001b[0m \u001b[0;34m=\u001b[0m \u001b[0mconsole\u001b[0m\u001b[0;34m.\u001b[0m\u001b[0mget_console_size\u001b[0m\u001b[0;34m(\u001b[0m\u001b[0;34m)\u001b[0m\u001b[0;34m\u001b[0m\u001b[0;34m\u001b[0m\u001b[0m\n",
      "\u001b[0;32m/opt/conda/lib/python3.7/site-packages/pandas/io/formats/format.py\u001b[0m in \u001b[0;36mto_html\u001b[0;34m(self, buf, encoding, classes, notebook, border)\u001b[0m\n\u001b[1;32m    986\u001b[0m         \u001b[0mnotebook\u001b[0m \u001b[0;34m:\u001b[0m \u001b[0;34m{\u001b[0m\u001b[0;32mTrue\u001b[0m\u001b[0;34m,\u001b[0m \u001b[0;32mFalse\u001b[0m\u001b[0;34m}\u001b[0m\u001b[0;34m,\u001b[0m \u001b[0moptional\u001b[0m\u001b[0;34m,\u001b[0m \u001b[0mdefault\u001b[0m \u001b[0;32mFalse\u001b[0m\u001b[0;34m\u001b[0m\u001b[0;34m\u001b[0m\u001b[0m\n\u001b[1;32m    987\u001b[0m             \u001b[0mWhether\u001b[0m \u001b[0mthe\u001b[0m \u001b[0mgenerated\u001b[0m \u001b[0mHTML\u001b[0m \u001b[0;32mis\u001b[0m \u001b[0;32mfor\u001b[0m \u001b[0mIPython\u001b[0m \u001b[0mNotebook\u001b[0m\u001b[0;34m.\u001b[0m\u001b[0;34m\u001b[0m\u001b[0;34m\u001b[0m\u001b[0m\n\u001b[0;32m--> 988\u001b[0;31m         \u001b[0mborder\u001b[0m \u001b[0;34m:\u001b[0m \u001b[0mint\u001b[0m\u001b[0;34m\u001b[0m\u001b[0;34m\u001b[0m\u001b[0m\n\u001b[0m\u001b[1;32m    989\u001b[0m             \u001b[0mA\u001b[0m\u001b[0;31m \u001b[0m\u001b[0;31m`\u001b[0m\u001b[0;31m`\u001b[0m\u001b[0mborder\u001b[0m\u001b[0;34m=\u001b[0m\u001b[0mborder\u001b[0m\u001b[0;31m`\u001b[0m\u001b[0;31m`\u001b[0m \u001b[0mattribute\u001b[0m \u001b[0;32mis\u001b[0m \u001b[0mincluded\u001b[0m \u001b[0;32min\u001b[0m \u001b[0mthe\u001b[0m \u001b[0mopening\u001b[0m\u001b[0;34m\u001b[0m\u001b[0;34m\u001b[0m\u001b[0m\n\u001b[1;32m    990\u001b[0m             \u001b[0;31m`\u001b[0m\u001b[0;31m`\u001b[0m\u001b[0;34m<\u001b[0m\u001b[0mtable\u001b[0m\u001b[0;34m>\u001b[0m\u001b[0;31m`\u001b[0m\u001b[0;31m`\u001b[0m \u001b[0mtag\u001b[0m\u001b[0;34m.\u001b[0m \u001b[0mDefault\u001b[0m\u001b[0;31m \u001b[0m\u001b[0;31m`\u001b[0m\u001b[0;31m`\u001b[0m\u001b[0mpd\u001b[0m\u001b[0;34m.\u001b[0m\u001b[0moptions\u001b[0m\u001b[0;34m.\u001b[0m\u001b[0mdisplay\u001b[0m\u001b[0;34m.\u001b[0m\u001b[0mhtml\u001b[0m\u001b[0;34m.\u001b[0m\u001b[0mborder\u001b[0m\u001b[0;31m`\u001b[0m\u001b[0;31m`\u001b[0m\u001b[0;34m.\u001b[0m\u001b[0;34m\u001b[0m\u001b[0;34m\u001b[0m\u001b[0m\n",
      "\u001b[0;31mAttributeError\u001b[0m: 'NotebookFormatter' object has no attribute 'get_result'"
     ]
    },
    {
     "data": {
      "text/plain": [
       "   feature_0  feature_1  feature_2  feature_3  feature_4  feature_5  \\\n",
       "0        0.0        0.0   0.693147        0.0   0.693147   0.000000   \n",
       "1        0.0        0.0   0.000000        0.0   1.098612   0.693147   \n",
       "2        0.0        0.0   0.000000        0.0   0.000000   0.000000   \n",
       "3        0.0        0.0   0.000000        0.0   0.000000   0.000000   \n",
       "4        0.0        0.0   0.000000        0.0   0.000000   0.000000   \n",
       "\n",
       "   feature_6  feature_7  feature_8  feature_9  ...  feature_41  feature_42  \\\n",
       "0        0.0   0.000000        0.0   0.000000  ...         0.0    1.098612   \n",
       "1        0.0   0.000000        0.0   0.000000  ...         0.0    1.098612   \n",
       "2        0.0   0.000000        0.0   1.098612  ...         0.0    1.386294   \n",
       "3        0.0   1.386294        0.0   0.000000  ...         0.0    1.098612   \n",
       "4        0.0   0.000000        0.0   0.000000  ...         0.0    1.098612   \n",
       "\n",
       "   feature_43  feature_44  feature_45  feature_46  feature_47  feature_48  \\\n",
       "0    3.091042         0.0         0.0         0.0    0.000000    0.000000   \n",
       "1    0.000000         0.0         0.0         0.0    0.000000    0.000000   \n",
       "2    0.000000         0.0         0.0         0.0    2.639057    1.098612   \n",
       "3    0.000000         0.0         0.0         0.0    0.000000    0.693147   \n",
       "4    0.000000         0.0         0.0         0.0    0.000000    0.693147   \n",
       "\n",
       "   feature_49  target  \n",
       "0         0.0       1  \n",
       "1         0.0       0  \n",
       "2         0.0       0  \n",
       "3         0.0       3  \n",
       "4         0.0       1  \n",
       "\n",
       "[5 rows x 51 columns]"
      ]
     },
     "execution_count": 7,
     "metadata": {},
     "output_type": "execute_result"
    }
   ],
   "source": [
    "train_df.head()"
   ]
  },
  {
   "cell_type": "code",
   "execution_count": 8,
   "id": "attached-morgan",
   "metadata": {
    "execution": {
     "iopub.execute_input": "2021-05-02T15:21:11.603846Z",
     "iopub.status.busy": "2021-05-02T15:21:11.602946Z",
     "iopub.status.idle": "2021-05-02T15:21:11.605929Z",
     "shell.execute_reply": "2021-05-02T15:21:11.605453Z"
    },
    "papermill": {
     "duration": 0.179767,
     "end_time": "2021-05-02T15:21:11.606055",
     "exception": false,
     "start_time": "2021-05-02T15:21:11.426288",
     "status": "completed"
    },
    "tags": []
   },
   "outputs": [],
   "source": [
    "x_cols = train_df.columns[:-1].tolist()\n",
    "y_col = train_df.columns[-1]"
   ]
  },
  {
   "cell_type": "code",
   "execution_count": 9,
   "id": "weighted-russell",
   "metadata": {
    "execution": {
     "iopub.execute_input": "2021-05-02T15:21:11.946604Z",
     "iopub.status.busy": "2021-05-02T15:21:11.945463Z",
     "iopub.status.idle": "2021-05-02T16:33:52.876492Z",
     "shell.execute_reply": "2021-05-02T16:33:52.875912Z"
    },
    "papermill": {
     "duration": 4361.103047,
     "end_time": "2021-05-02T16:33:52.876640",
     "exception": false,
     "start_time": "2021-05-02T15:21:11.773593",
     "status": "completed"
    },
    "tags": []
   },
   "outputs": [
    {
     "name": "stdout",
     "output_type": "stream",
     "text": [
      "AutoML directory: AutoML_1\n",
      "Expected computing time:\n",
      "Total training time: Optuna + ML training = 18400 seconds\n",
      "Total Optuna time: len(algorithms) * optuna_time_budget = 4000 seconds\n",
      "Total ML model training time: 14400 seconds\n",
      "The task is multiclass_classification with evaluation metric logloss\n",
      "AutoML will use algorithms: ['LightGBM', 'Xgboost', 'CatBoost', 'Extra Trees']\n",
      "AutoML will stack models\n",
      "AutoML will ensemble availabe models\n",
      "AutoML steps: ['simple_algorithms', 'default_algorithms', 'boost_on_errors', 'ensemble', 'stack', 'ensemble_stacked']\n",
      "Skip simple_algorithms because no parameters were generated.\n",
      "* Step default_algorithms will try to check up to 4 models\n"
     ]
    },
    {
     "name": "stderr",
     "output_type": "stream",
     "text": [
      "\u001b[32m[I 2021-05-02 15:21:14,735]\u001b[0m A new study created in memory with name: no-name-f22a3ddc-fe8a-4c25-bce7-20cdf9d7de20\u001b[0m\n"
     ]
    },
    {
     "name": "stdout",
     "output_type": "stream",
     "text": [
      "Optuna optimizes LightGBM with time budget 1000 seconds eval_metric logloss (minimize)\n"
     ]
    },
    {
     "name": "stderr",
     "output_type": "stream",
     "text": [
      "\u001b[32m[I 2021-05-02 15:21:38,263]\u001b[0m Trial 0 finished with value: 1.0950673831044857 and parameters: {'learning_rate': 0.1, 'num_leaves': 725, 'lambda_l1': 0.003971722885615567, 'lambda_l2': 8.70060897787558e-05, 'feature_fraction': 0.8497510164532243, 'bagging_fraction': 0.8459830734829203, 'bagging_freq': 2, 'min_data_in_leaf': 27, 'extra_trees': True}. Best is trial 0 with value: 1.0950673831044857.\u001b[0m\n",
      "\u001b[32m[I 2021-05-02 15:21:55,415]\u001b[0m Trial 1 finished with value: 1.097634075948751 and parameters: {'learning_rate': 0.1, 'num_leaves': 1184, 'lambda_l1': 4.20004731740671, 'lambda_l2': 0.7645285581846926, 'feature_fraction': 0.5504720925486792, 'bagging_fraction': 0.6506965928763723, 'bagging_freq': 6, 'min_data_in_leaf': 81, 'extra_trees': False}. Best is trial 0 with value: 1.0950673831044857.\u001b[0m\n",
      "\u001b[32m[I 2021-05-02 15:22:07,098]\u001b[0m Trial 2 finished with value: 1.1043773857202874 and parameters: {'learning_rate': 0.1, 'num_leaves': 248, 'lambda_l1': 7.660681737059624e-08, 'lambda_l2': 3.191104605091362e-08, 'feature_fraction': 0.6098638586980825, 'bagging_fraction': 0.3155007397435582, 'bagging_freq': 7, 'min_data_in_leaf': 68, 'extra_trees': False}. Best is trial 0 with value: 1.0950673831044857.\u001b[0m\n",
      "\u001b[32m[I 2021-05-02 15:22:43,290]\u001b[0m Trial 3 finished with value: 1.0934193810148696 and parameters: {'learning_rate': 0.1, 'num_leaves': 642, 'lambda_l1': 1.0070132509466847, 'lambda_l2': 7.6604400882519545, 'feature_fraction': 0.38221037395915325, 'bagging_fraction': 0.5756476505435288, 'bagging_freq': 4, 'min_data_in_leaf': 82, 'extra_trees': True}. Best is trial 3 with value: 1.0934193810148696.\u001b[0m\n",
      "\u001b[32m[I 2021-05-02 15:23:02,257]\u001b[0m Trial 4 finished with value: 1.094924156302061 and parameters: {'learning_rate': 0.1, 'num_leaves': 457, 'lambda_l1': 8.279236210631445e-05, 'lambda_l2': 0.0013344672181340087, 'feature_fraction': 0.9784813095809575, 'bagging_fraction': 0.3283893045415753, 'bagging_freq': 5, 'min_data_in_leaf': 97, 'extra_trees': True}. Best is trial 3 with value: 1.0934193810148696.\u001b[0m\n",
      "\u001b[32m[I 2021-05-02 15:24:00,158]\u001b[0m Trial 5 finished with value: 1.098900802273453 and parameters: {'learning_rate': 0.025, 'num_leaves': 1023, 'lambda_l1': 9.313843818151601e-07, 'lambda_l2': 2.107699330327648, 'feature_fraction': 0.6094985332043311, 'bagging_fraction': 0.9365211803738902, 'bagging_freq': 6, 'min_data_in_leaf': 17, 'extra_trees': False}. Best is trial 3 with value: 1.0934193810148696.\u001b[0m\n",
      "\u001b[32m[I 2021-05-02 15:24:55,189]\u001b[0m Trial 6 finished with value: 1.0964017753373974 and parameters: {'learning_rate': 0.0125, 'num_leaves': 442, 'lambda_l1': 2.322273834454175, 'lambda_l2': 1.8325210176614788, 'feature_fraction': 0.9827112166758247, 'bagging_fraction': 0.5779013809798199, 'bagging_freq': 2, 'min_data_in_leaf': 19, 'extra_trees': False}. Best is trial 3 with value: 1.0934193810148696.\u001b[0m\n",
      "\u001b[32m[I 2021-05-02 15:25:19,666]\u001b[0m Trial 7 finished with value: 1.0995059708619859 and parameters: {'learning_rate': 0.05, 'num_leaves': 484, 'lambda_l1': 0.00033628035561785607, 'lambda_l2': 1.0163630273744277e-07, 'feature_fraction': 0.7250356004248761, 'bagging_fraction': 0.6961612557948182, 'bagging_freq': 7, 'min_data_in_leaf': 48, 'extra_trees': False}. Best is trial 3 with value: 1.0934193810148696.\u001b[0m\n",
      "\u001b[32m[I 2021-05-02 15:25:35,331]\u001b[0m Trial 8 finished with value: 1.0919043055741366 and parameters: {'learning_rate': 0.05, 'num_leaves': 12, 'lambda_l1': 8.48658950043472, 'lambda_l2': 4.2581000284199, 'feature_fraction': 0.854374902623789, 'bagging_fraction': 0.4996756748696664, 'bagging_freq': 3, 'min_data_in_leaf': 63, 'extra_trees': False}. Best is trial 8 with value: 1.0919043055741366.\u001b[0m\n",
      "\u001b[32m[I 2021-05-02 15:27:12,224]\u001b[0m Trial 9 finished with value: 1.0987220085705771 and parameters: {'learning_rate': 0.0125, 'num_leaves': 1643, 'lambda_l1': 0.11960794929569862, 'lambda_l2': 0.0037483237482616137, 'feature_fraction': 0.44811226108218116, 'bagging_fraction': 0.5046128047934448, 'bagging_freq': 2, 'min_data_in_leaf': 22, 'extra_trees': False}. Best is trial 8 with value: 1.0919043055741366.\u001b[0m\n",
      "\u001b[32m[I 2021-05-02 15:27:39,023]\u001b[0m Trial 10 finished with value: 1.1002963839213646 and parameters: {'learning_rate': 0.05, 'num_leaves': 1973, 'lambda_l1': 0.02968257218352271, 'lambda_l2': 8.440161205127708e-06, 'feature_fraction': 0.8430184550037532, 'bagging_fraction': 0.43953445246854667, 'bagging_freq': 1, 'min_data_in_leaf': 49, 'extra_trees': False}. Best is trial 8 with value: 1.0919043055741366.\u001b[0m\n",
      "\u001b[32m[I 2021-05-02 15:28:01,867]\u001b[0m Trial 11 pruned. Trial was pruned at iteration 500.\u001b[0m\n",
      "\u001b[32m[I 2021-05-02 15:28:37,152]\u001b[0m Trial 12 pruned. Trial was pruned at iteration 500.\u001b[0m\n",
      "\u001b[32m[I 2021-05-02 15:28:57,030]\u001b[0m Trial 13 pruned. Trial was pruned at iteration 500.\u001b[0m\n",
      "\u001b[32m[I 2021-05-02 15:29:18,190]\u001b[0m Trial 14 pruned. Trial was pruned at iteration 500.\u001b[0m\n",
      "\u001b[32m[I 2021-05-02 15:29:44,068]\u001b[0m Trial 15 finished with value: 1.0952859271989488 and parameters: {'learning_rate': 0.1, 'num_leaves': 1358, 'lambda_l1': 0.010791024359020577, 'lambda_l2': 0.08914813061579427, 'feature_fraction': 0.49465246726549583, 'bagging_fraction': 0.7852998734271023, 'bagging_freq': 5, 'min_data_in_leaf': 38, 'extra_trees': True}. Best is trial 8 with value: 1.0919043055741366.\u001b[0m\n",
      "\u001b[32m[I 2021-05-02 15:30:05,059]\u001b[0m Trial 16 finished with value: 1.095124154629806 and parameters: {'learning_rate': 0.1, 'num_leaves': 728, 'lambda_l1': 2.1473897287622864e-05, 'lambda_l2': 1.9381589352072865e-06, 'feature_fraction': 0.7136797665058618, 'bagging_fraction': 0.5566961680909325, 'bagging_freq': 3, 'min_data_in_leaf': 62, 'extra_trees': True}. Best is trial 8 with value: 1.0919043055741366.\u001b[0m\n",
      "\u001b[32m[I 2021-05-02 15:30:46,559]\u001b[0m Trial 17 finished with value: 1.0939216302105972 and parameters: {'learning_rate': 0.025, 'num_leaves': 247, 'lambda_l1': 0.0008924512985610102, 'lambda_l2': 0.009912499976089782, 'feature_fraction': 0.31329113000667014, 'bagging_fraction': 0.631180847723443, 'bagging_freq': 5, 'min_data_in_leaf': 85, 'extra_trees': False}. Best is trial 8 with value: 1.0919043055741366.\u001b[0m\n",
      "\u001b[32m[I 2021-05-02 15:31:08,915]\u001b[0m Trial 18 finished with value: 1.0949160613581324 and parameters: {'learning_rate': 0.05, 'num_leaves': 729, 'lambda_l1': 1.993786277577963, 'lambda_l2': 0.23949742042196734, 'feature_fraction': 0.4066321711331553, 'bagging_fraction': 0.38847863438811225, 'bagging_freq': 1, 'min_data_in_leaf': 75, 'extra_trees': False}. Best is trial 8 with value: 1.0919043055741366.\u001b[0m\n",
      "\u001b[32m[I 2021-05-02 15:32:10,530]\u001b[0m Trial 19 pruned. Trial was pruned at iteration 500.\u001b[0m\n",
      "\u001b[32m[I 2021-05-02 15:32:29,178]\u001b[0m Trial 20 finished with value: 1.09703721963307 and parameters: {'learning_rate': 0.05, 'num_leaves': 212, 'lambda_l1': 5.2487367692022834e-06, 'lambda_l2': 0.00011922055333506204, 'feature_fraction': 0.6955383197769083, 'bagging_fraction': 0.625828757391599, 'bagging_freq': 3, 'min_data_in_leaf': 93, 'extra_trees': False}. Best is trial 8 with value: 1.0919043055741366.\u001b[0m\n",
      "\u001b[32m[I 2021-05-02 15:33:09,335]\u001b[0m Trial 21 finished with value: 1.0937657603953823 and parameters: {'learning_rate': 0.025, 'num_leaves': 276, 'lambda_l1': 0.00141773641248159, 'lambda_l2': 0.01328939446772674, 'feature_fraction': 0.3154498947976808, 'bagging_fraction': 0.6470207958991309, 'bagging_freq': 5, 'min_data_in_leaf': 87, 'extra_trees': False}. Best is trial 8 with value: 1.0919043055741366.\u001b[0m\n",
      "\u001b[32m[I 2021-05-02 15:33:54,072]\u001b[0m Trial 22 finished with value: 1.0960618016154777 and parameters: {'learning_rate': 0.025, 'num_leaves': 563, 'lambda_l1': 0.00258846062251447, 'lambda_l2': 0.01685597668629948, 'feature_fraction': 0.36061982101143325, 'bagging_fraction': 0.5346261693729638, 'bagging_freq': 5, 'min_data_in_leaf': 59, 'extra_trees': False}. Best is trial 8 with value: 1.0919043055741366.\u001b[0m\n",
      "\u001b[32m[I 2021-05-02 15:34:39,463]\u001b[0m Trial 23 finished with value: 1.0944638906661899 and parameters: {'learning_rate': 0.025, 'num_leaves': 258, 'lambda_l1': 0.5873858582917426, 'lambda_l2': 0.4159302926159552, 'feature_fraction': 0.5002671484368623, 'bagging_fraction': 0.7392774343180007, 'bagging_freq': 6, 'min_data_in_leaf': 78, 'extra_trees': False}. Best is trial 8 with value: 1.0919043055741366.\u001b[0m\n",
      "\u001b[32m[I 2021-05-02 15:35:27,326]\u001b[0m Trial 24 finished with value: 1.0950019701191678 and parameters: {'learning_rate': 0.025, 'num_leaves': 624, 'lambda_l1': 4.9047949017263243e-08, 'lambda_l2': 0.0011042549147609936, 'feature_fraction': 0.3034370941602834, 'bagging_fraction': 0.6781745459302337, 'bagging_freq': 4, 'min_data_in_leaf': 90, 'extra_trees': False}. Best is trial 8 with value: 1.0919043055741366.\u001b[0m\n",
      "\u001b[32m[I 2021-05-02 15:35:45,226]\u001b[0m Trial 25 finished with value: 1.098854944968778 and parameters: {'learning_rate': 0.1, 'num_leaves': 349, 'lambda_l1': 0.02566941165336066, 'lambda_l2': 7.639798816786992, 'feature_fraction': 0.436665529573337, 'bagging_fraction': 0.6071045479742797, 'bagging_freq': 5, 'min_data_in_leaf': 68, 'extra_trees': False}. Best is trial 8 with value: 1.0919043055741366.\u001b[0m\n",
      "\u001b[32m[I 2021-05-02 15:36:15,406]\u001b[0m Trial 26 finished with value: 1.0946296155407207 and parameters: {'learning_rate': 0.025, 'num_leaves': 108, 'lambda_l1': 1.128681202508578, 'lambda_l2': 0.31150355792072226, 'feature_fraction': 0.7788871321114893, 'bagging_fraction': 0.512537459712478, 'bagging_freq': 3, 'min_data_in_leaf': 100, 'extra_trees': False}. Best is trial 8 with value: 1.0919043055741366.\u001b[0m\n",
      "\u001b[32m[I 2021-05-02 15:37:00,826]\u001b[0m Trial 27 pruned. Trial was pruned at iteration 500.\u001b[0m\n",
      "\u001b[32m[I 2021-05-02 15:37:13,488]\u001b[0m Trial 28 finished with value: 1.0974122935967858 and parameters: {'learning_rate': 0.1, 'num_leaves': 130, 'lambda_l1': 0.00012291471826187628, 'lambda_l2': 2.463106423840719e-05, 'feature_fraction': 0.5587036811934709, 'bagging_fraction': 0.7083935968807952, 'bagging_freq': 6, 'min_data_in_leaf': 56, 'extra_trees': False}. Best is trial 8 with value: 1.0919043055741366.\u001b[0m\n",
      "\u001b[32m[I 2021-05-02 15:37:40,209]\u001b[0m Trial 29 finished with value: 1.0958266977371347 and parameters: {'learning_rate': 0.05, 'num_leaves': 580, 'lambda_l1': 0.0038433251907474485, 'lambda_l2': 0.0006132685503372621, 'feature_fraction': 0.8542865471659908, 'bagging_fraction': 0.3682296308032421, 'bagging_freq': 2, 'min_data_in_leaf': 40, 'extra_trees': True}. Best is trial 8 with value: 1.0919043055741366.\u001b[0m\n",
      "\u001b[32m[I 2021-05-02 15:38:33,799]\u001b[0m Trial 30 pruned. Trial was pruned at iteration 500.\u001b[0m\n"
     ]
    },
    {
     "name": "stdout",
     "output_type": "stream",
     "text": [
      "There was an error during 1_Optuna_LightGBM training.\n",
      "Please check AutoML_1/errors.md for details.\n"
     ]
    },
    {
     "name": "stderr",
     "output_type": "stream",
     "text": [
      "\u001b[32m[I 2021-05-02 15:38:53,973]\u001b[0m A new study created in memory with name: no-name-58a4c9d8-e21f-430e-9db3-1f793f69ab9d\u001b[0m\n"
     ]
    },
    {
     "name": "stdout",
     "output_type": "stream",
     "text": [
      "Optuna optimizes Xgboost with time budget 1000 seconds eval_metric logloss (minimize)\n"
     ]
    },
    {
     "name": "stderr",
     "output_type": "stream",
     "text": [
      "\u001b[32m[I 2021-05-02 15:39:13,094]\u001b[0m Trial 0 finished with value: 1.094106801107526 and parameters: {'eta': 0.1, 'max_depth': 5, 'lambda': 0.003971722885615567, 'alpha': 8.70060897787558e-05, 'colsample_bytree': 0.8497510164532243, 'subsample': 0.8459830734829203, 'min_child_weight': 24}. Best is trial 0 with value: 1.094106801107526.\u001b[0m\n",
      "\u001b[32m[I 2021-05-02 15:40:02,543]\u001b[0m Trial 1 finished with value: 1.092068554916978 and parameters: {'eta': 0.025, 'max_depth': 12, 'lambda': 6.118836254358573e-07, 'alpha': 0.21700333406861005, 'colsample_bytree': 0.41117074881725907, 'subsample': 0.3812964804943624, 'min_child_weight': 93}. Best is trial 1 with value: 1.092068554916978.\u001b[0m\n",
      "\u001b[32m[I 2021-05-02 15:41:03,836]\u001b[0m Trial 2 finished with value: 1.0952100797012447 and parameters: {'eta': 0.025, 'max_depth': 2, 'lambda': 0.025960810247376596, 'alpha': 2.1491008360435867e-05, 'colsample_bytree': 0.6928373358578992, 'subsample': 0.6521582207462984, 'min_child_weight': 77}. Best is trial 1 with value: 1.092068554916978.\u001b[0m\n",
      "\u001b[32m[I 2021-05-02 15:42:23,772]\u001b[0m Trial 3 finished with value: 1.0934778887376189 and parameters: {'eta': 0.025, 'max_depth': 4, 'lambda': 4.135775720331772e-06, 'alpha': 1.650250941712837e-06, 'colsample_bytree': 0.816800744993158, 'subsample': 0.9224583010842351, 'min_child_weight': 81}. Best is trial 1 with value: 1.092068554916978.\u001b[0m\n",
      "\u001b[32m[I 2021-05-02 15:42:47,689]\u001b[0m Trial 4 finished with value: 1.0941637596189975 and parameters: {'eta': 0.1, 'max_depth': 4, 'lambda': 2.501847984354241, 'alpha': 0.007284559400814385, 'colsample_bytree': 0.5780418083803336, 'subsample': 0.8521111079458232, 'min_child_weight': 15}. Best is trial 1 with value: 1.092068554916978.\u001b[0m\n",
      "\u001b[32m[I 2021-05-02 15:43:00,267]\u001b[0m Trial 5 finished with value: 1.0948614629343152 and parameters: {'eta': 0.1, 'max_depth': 9, 'lambda': 8.279236210631445e-05, 'alpha': 0.0013344672181340087, 'colsample_bytree': 0.9784813095809575, 'subsample': 0.3283893045415753, 'min_child_weight': 97}. Best is trial 1 with value: 1.092068554916978.\u001b[0m\n",
      "\u001b[32m[I 2021-05-02 15:44:29,969]\u001b[0m Trial 6 finished with value: 1.0930659877628088 and parameters: {'eta': 0.0125, 'max_depth': 7, 'lambda': 2.444837847909774e-05, 'alpha': 8.937349833247929e-06, 'colsample_bytree': 0.8694702580675375, 'subsample': 0.7525866329990998, 'min_child_weight': 85}. Best is trial 1 with value: 1.092068554916978.\u001b[0m\n",
      "\u001b[32m[I 2021-05-02 15:45:01,623]\u001b[0m Trial 7 pruned. Trial was pruned at iteration 500.\u001b[0m\n",
      "\u001b[32m[I 2021-05-02 15:45:19,686]\u001b[0m Trial 8 finished with value: 1.0923449257701636 and parameters: {'eta': 0.1, 'max_depth': 3, 'lambda': 0.001129529871054012, 'alpha': 9.26863992278137e-06, 'colsample_bytree': 0.6520767882085011, 'subsample': 0.37832602342102584, 'min_child_weight': 68}. Best is trial 1 with value: 1.092068554916978.\u001b[0m\n",
      "\u001b[32m[I 2021-05-02 15:46:26,257]\u001b[0m Trial 9 finished with value: 1.0940605501249432 and parameters: {'eta': 0.025, 'max_depth': 8, 'lambda': 0.0036055820189370117, 'alpha': 1.6184749347769107, 'colsample_bytree': 0.8533669010451645, 'subsample': 0.9944570362526675, 'min_child_weight': 83}. Best is trial 1 with value: 1.092068554916978.\u001b[0m\n",
      "\u001b[32m[I 2021-05-02 15:46:52,270]\u001b[0m Trial 10 finished with value: 1.0928839557260275 and parameters: {'eta': 0.05, 'max_depth': 12, 'lambda': 1.2339051414983363e-08, 'alpha': 1.7894632618980901, 'colsample_bytree': 0.3094147023530422, 'subsample': 0.49832778228455965, 'min_child_weight': 41}. Best is trial 1 with value: 1.092068554916978.\u001b[0m\n",
      "\u001b[32m[I 2021-05-02 15:48:02,028]\u001b[0m Trial 11 finished with value: 1.0923378999993205 and parameters: {'eta': 0.0125, 'max_depth': 12, 'lambda': 2.0547941113494187e-08, 'alpha': 0.07848361583943654, 'colsample_bytree': 0.48547226455183623, 'subsample': 0.3446526224875557, 'min_child_weight': 59}. Best is trial 1 with value: 1.092068554916978.\u001b[0m\n",
      "\u001b[32m[I 2021-05-02 15:49:18,063]\u001b[0m Trial 12 finished with value: 1.0920877286538482 and parameters: {'eta': 0.0125, 'max_depth': 12, 'lambda': 1.4737418975664015e-08, 'alpha': 0.056216081363078034, 'colsample_bytree': 0.4504054467502036, 'subsample': 0.4761731558560758, 'min_child_weight': 55}. Best is trial 1 with value: 1.092068554916978.\u001b[0m\n",
      "\u001b[32m[I 2021-05-02 15:50:40,440]\u001b[0m Trial 13 finished with value: 1.0923219446733594 and parameters: {'eta': 0.0125, 'max_depth': 10, 'lambda': 1.9446961804604697e-07, 'alpha': 0.0753425715197621, 'colsample_bytree': 0.3347731058575772, 'subsample': 0.498565683633108, 'min_child_weight': 44}. Best is trial 1 with value: 1.092068554916978.\u001b[0m\n",
      "\u001b[32m[I 2021-05-02 15:51:59,748]\u001b[0m Trial 14 finished with value: 1.0918980557844042 and parameters: {'eta': 0.0125, 'max_depth': 11, 'lambda': 1.417725634132248e-07, 'alpha': 0.0861850583687128, 'colsample_bytree': 0.43410438525986744, 'subsample': 0.4633184450337209, 'min_child_weight': 31}. Best is trial 14 with value: 1.0918980557844042.\u001b[0m\n",
      "\u001b[32m[I 2021-05-02 15:52:27,494]\u001b[0m Trial 15 finished with value: 1.0928637171924114 and parameters: {'eta': 0.05, 'max_depth': 10, 'lambda': 7.57680170967593e-07, 'alpha': 7.353172679497461, 'colsample_bytree': 0.4283811732947118, 'subsample': 0.43314802937027186, 'min_child_weight': 28}. Best is trial 14 with value: 1.0918980557844042.\u001b[0m\n",
      "\u001b[32m[I 2021-05-02 15:53:12,691]\u001b[0m Trial 16 finished with value: 1.0923551228165627 and parameters: {'eta': 0.025, 'max_depth': 11, 'lambda': 4.058446272364491e-06, 'alpha': 0.34654592204631074, 'colsample_bytree': 0.529136019702045, 'subsample': 0.5684592369206194, 'min_child_weight': 33}. Best is trial 14 with value: 1.0918980557844042.\u001b[0m\n",
      "\u001b[32m[I 2021-05-02 15:54:09,442]\u001b[0m Trial 17 pruned. Trial was pruned at iteration 500.\u001b[0m\n",
      "\u001b[32m[I 2021-05-02 15:54:46,774]\u001b[0m Trial 18 pruned. Trial was pruned at iteration 500.\u001b[0m\n",
      "\u001b[32m[I 2021-05-02 15:55:06,421]\u001b[0m Trial 19 finished with value: 1.092616192062199 and parameters: {'eta': 0.05, 'max_depth': 7, 'lambda': 1.7038616553932063e-05, 'alpha': 0.0003885020011000018, 'colsample_bytree': 0.4247812982595215, 'subsample': 0.41387210996257284, 'min_child_weight': 18}. Best is trial 14 with value: 1.0918980557844042.\u001b[0m\n",
      "\u001b[32m[I 2021-05-02 15:55:58,296]\u001b[0m Trial 20 finished with value: 1.0921379433631897 and parameters: {'eta': 0.025, 'max_depth': 11, 'lambda': 0.19573564634980836, 'alpha': 3.955541915538462, 'colsample_bytree': 0.3730628582010989, 'subsample': 0.5616308996265725, 'min_child_weight': 64}. Best is trial 14 with value: 1.0918980557844042.\u001b[0m\n"
     ]
    },
    {
     "name": "stdout",
     "output_type": "stream",
     "text": [
      "There was an error during 2_Optuna_Xgboost training.\n",
      "Please check AutoML_1/errors.md for details.\n"
     ]
    },
    {
     "name": "stderr",
     "output_type": "stream",
     "text": [
      "\u001b[32m[I 2021-05-02 15:57:24,359]\u001b[0m A new study created in memory with name: no-name-47438204-da45-4bbc-9070-1fed494a7b5e\u001b[0m\n"
     ]
    },
    {
     "name": "stdout",
     "output_type": "stream",
     "text": [
      "Optuna optimizes CatBoost with time budget 1000 seconds eval_metric logloss (minimize)\n"
     ]
    },
    {
     "name": "stderr",
     "output_type": "stream",
     "text": [
      "\u001b[32m[I 2021-05-02 15:57:48,729]\u001b[0m Trial 0 finished with value: 1.0946300044659707 and parameters: {'learning_rate': 0.2, 'depth': 7, 'l2_leaf_reg': 4.377333617297244, 'random_strength': 7.853585839284105, 'rsm': 0.8019782273069231, 'min_data_in_leaf': 24}. Best is trial 0 with value: 1.0946300044659707.\u001b[0m\n",
      "\u001b[32m[I 2021-05-02 15:58:29,652]\u001b[0m Trial 1 finished with value: 1.0932866775965584 and parameters: {'learning_rate': 0.1, 'depth': 4, 'l2_leaf_reg': 1.9852677383858075, 'random_strength': 8.151629342358392, 'rsm': 0.24293381786599288, 'min_data_in_leaf': 59}. Best is trial 1 with value: 1.0932866775965584.\u001b[0m\n",
      "\u001b[32m[I 2021-05-02 15:59:30,989]\u001b[0m Trial 2 finished with value: 1.0957267360663603 and parameters: {'learning_rate': 0.05, 'depth': 2, 'l2_leaf_reg': 4.868385750350066, 'random_strength': 3.310154289192826, 'rsm': 0.8223756122084385, 'min_data_in_leaf': 48}. Best is trial 1 with value: 1.0932866775965584.\u001b[0m\n",
      "\u001b[32m[I 2021-05-02 16:00:04,561]\u001b[0m Trial 3 finished with value: 1.0929223983282115 and parameters: {'learning_rate': 0.2, 'depth': 2, 'l2_leaf_reg': 4.426682223327332, 'random_strength': 0.2214391458088334, 'rsm': 0.3616556979296883, 'min_data_in_leaf': 68}. Best is trial 3 with value: 1.0929223983282115.\u001b[0m\n",
      "\u001b[32m[I 2021-05-02 16:01:14,617]\u001b[0m Trial 4 finished with value: 1.0939398399937619 and parameters: {'learning_rate': 0.05, 'depth': 3, 'l2_leaf_reg': 0.7539048783056012, 'random_strength': 3.6882400663315047, 'rsm': 0.9398260917842695, 'min_data_in_leaf': 66}. Best is trial 3 with value: 1.0929223983282115.\u001b[0m\n",
      "\u001b[32m[I 2021-05-02 16:01:40,073]\u001b[0m Trial 5 finished with value: 1.0937190497811788 and parameters: {'learning_rate': 0.2, 'depth': 3, 'l2_leaf_reg': 3.168429538076496, 'random_strength': 5.6809865305797045, 'rsm': 0.8822146506051032, 'min_data_in_leaf': 47}. Best is trial 3 with value: 1.0929223983282115.\u001b[0m\n",
      "\u001b[32m[I 2021-05-02 16:02:44,038]\u001b[0m Trial 6 finished with value: 1.094661886055337 and parameters: {'learning_rate': 0.05, 'depth': 3, 'l2_leaf_reg': 0.40565743204246335, 'random_strength': 5.481195730336854, 'rsm': 0.5163189428606866, 'min_data_in_leaf': 96}. Best is trial 3 with value: 1.0929223983282115.\u001b[0m\n",
      "\u001b[32m[I 2021-05-02 16:03:21,308]\u001b[0m Trial 7 finished with value: 1.0939391261643314 and parameters: {'learning_rate': 0.1, 'depth': 9, 'l2_leaf_reg': 4.421463339966226, 'random_strength': 9.093159590631565, 'rsm': 0.15382830050186672, 'min_data_in_leaf': 42}. Best is trial 3 with value: 1.0929223983282115.\u001b[0m\n",
      "\u001b[32m[I 2021-05-02 16:04:25,000]\u001b[0m Trial 8 finished with value: 1.0959713368285948 and parameters: {'learning_rate': 0.05, 'depth': 2, 'l2_leaf_reg': 9.295466410869672, 'random_strength': 9.181165516794843, 'rsm': 0.9777715517578955, 'min_data_in_leaf': 84}. Best is trial 3 with value: 1.0929223983282115.\u001b[0m\n",
      "\u001b[32m[I 2021-05-02 16:05:08,183]\u001b[0m Trial 9 finished with value: 1.093746849859337 and parameters: {'learning_rate': 0.1, 'depth': 4, 'l2_leaf_reg': 4.3015705918941745, 'random_strength': 7.645307744634968, 'rsm': 0.6397577315621441, 'min_data_in_leaf': 8}. Best is trial 3 with value: 1.0929223983282115.\u001b[0m\n",
      "\u001b[32m[I 2021-05-02 16:05:29,812]\u001b[0m Trial 10 finished with value: 1.094051421437143 and parameters: {'learning_rate': 0.2, 'depth': 6, 'l2_leaf_reg': 7.712474934680177, 'random_strength': 1.2108807819626155, 'rsm': 0.36034324628189696, 'min_data_in_leaf': 78}. Best is trial 3 with value: 1.0929223983282115.\u001b[0m\n",
      "\u001b[32m[I 2021-05-02 16:05:59,153]\u001b[0m Trial 11 finished with value: 1.0929398814724012 and parameters: {'learning_rate': 0.1, 'depth': 5, 'l2_leaf_reg': 2.1917846035743316, 'random_strength': 0.3475203568173564, 'rsm': 0.1607516073295161, 'min_data_in_leaf': 65}. Best is trial 3 with value: 1.0929223983282115.\u001b[0m\n",
      "\u001b[32m[I 2021-05-02 16:06:47,378]\u001b[0m Trial 12 finished with value: 1.0941580824944286 and parameters: {'learning_rate': 0.1, 'depth': 8, 'l2_leaf_reg': 7.105122183583684, 'random_strength': 0.1669674212412096, 'rsm': 0.3240907305816799, 'min_data_in_leaf': 70}. Best is trial 3 with value: 1.0929223983282115.\u001b[0m\n",
      "\u001b[32m[I 2021-05-02 16:07:04,798]\u001b[0m Trial 13 finished with value: 1.0939944340551722 and parameters: {'learning_rate': 0.2, 'depth': 5, 'l2_leaf_reg': 2.5244785379001278, 'random_strength': 1.378617677016593, 'rsm': 0.12002957152395341, 'min_data_in_leaf': 98}. Best is trial 3 with value: 1.0929223983282115.\u001b[0m\n",
      "\u001b[32m[I 2021-05-02 16:07:46,952]\u001b[0m Trial 14 finished with value: 1.093689465794487 and parameters: {'learning_rate': 0.1, 'depth': 6, 'l2_leaf_reg': 6.390910064604126, 'random_strength': 0.07422845154614799, 'rsm': 0.5072235968340424, 'min_data_in_leaf': 31}. Best is trial 3 with value: 1.0929223983282115.\u001b[0m\n",
      "\u001b[32m[I 2021-05-02 16:08:08,374]\u001b[0m Trial 15 finished with value: 1.0938924166864157 and parameters: {'learning_rate': 0.2, 'depth': 5, 'l2_leaf_reg': 1.6817875933810043, 'random_strength': 2.132845345560598, 'rsm': 0.3891833429707733, 'min_data_in_leaf': 86}. Best is trial 3 with value: 1.0929223983282115.\u001b[0m\n",
      "\u001b[32m[I 2021-05-02 16:08:33,216]\u001b[0m Trial 16 finished with value: 1.0935890050077979 and parameters: {'learning_rate': 0.1, 'depth': 7, 'l2_leaf_reg': 5.871811142328612, 'random_strength': 0.10137042208869396, 'rsm': 0.19913180329638347, 'min_data_in_leaf': 59}. Best is trial 3 with value: 1.0929223983282115.\u001b[0m\n",
      "\u001b[32m[I 2021-05-02 16:08:51,724]\u001b[0m Trial 17 finished with value: 1.0946991891823292 and parameters: {'learning_rate': 0.2, 'depth': 4, 'l2_leaf_reg': 2.84795740728598, 'random_strength': 2.5194243498692397, 'rsm': 0.6254483054044733, 'min_data_in_leaf': 69}. Best is trial 3 with value: 1.0929223983282115.\u001b[0m\n",
      "\u001b[32m[I 2021-05-02 16:09:41,101]\u001b[0m Trial 18 finished with value: 1.0959169046008113 and parameters: {'learning_rate': 0.1, 'depth': 9, 'l2_leaf_reg': 3.57296957478367, 'random_strength': 4.19471281998834, 'rsm': 0.28645007130551337, 'min_data_in_leaf': 80}. Best is trial 3 with value: 1.0929223983282115.\u001b[0m\n",
      "\u001b[32m[I 2021-05-02 16:10:03,681]\u001b[0m Trial 19 finished with value: 1.093512758916223 and parameters: {'learning_rate': 0.2, 'depth': 2, 'l2_leaf_reg': 0.8590359232121836, 'random_strength': 1.204333985467376, 'rsm': 0.4594193479129021, 'min_data_in_leaf': 40}. Best is trial 3 with value: 1.0929223983282115.\u001b[0m\n",
      "\u001b[32m[I 2021-05-02 16:10:45,817]\u001b[0m Trial 20 finished with value: 1.0935854237484772 and parameters: {'learning_rate': 0.1, 'depth': 7, 'l2_leaf_reg': 5.603533814641661, 'random_strength': 2.240465352734849, 'rsm': 0.42165054963949244, 'min_data_in_leaf': 59}. Best is trial 3 with value: 1.0929223983282115.\u001b[0m\n",
      "\u001b[32m[I 2021-05-02 16:11:33,156]\u001b[0m Trial 21 finished with value: 1.0934826545262346 and parameters: {'learning_rate': 0.1, 'depth': 4, 'l2_leaf_reg': 2.128774508498722, 'random_strength': 6.5408178071099465, 'rsm': 0.2583635406937365, 'min_data_in_leaf': 58}. Best is trial 3 with value: 1.0929223983282115.\u001b[0m\n",
      "\u001b[32m[I 2021-05-02 16:12:00,100]\u001b[0m Trial 22 finished with value: 1.09475237679149 and parameters: {'learning_rate': 0.1, 'depth': 5, 'l2_leaf_reg': 1.526194112048092, 'random_strength': 8.071558316787492, 'rsm': 0.20456950464852225, 'min_data_in_leaf': 73}. Best is trial 3 with value: 1.0929223983282115.\u001b[0m\n",
      "\u001b[32m[I 2021-05-02 16:12:40,886]\u001b[0m Trial 23 finished with value: 1.0929665782353735 and parameters: {'learning_rate': 0.1, 'depth': 4, 'l2_leaf_reg': 3.7634479791168216, 'random_strength': 6.4514530436231965, 'rsm': 0.10646734033415708, 'min_data_in_leaf': 56}. Best is trial 3 with value: 1.0929223983282115.\u001b[0m\n",
      "\u001b[32m[I 2021-05-02 16:13:22,772]\u001b[0m Trial 24 finished with value: 1.0929023967372915 and parameters: {'learning_rate': 0.1, 'depth': 3, 'l2_leaf_reg': 3.601848583346963, 'random_strength': 6.693837152252225, 'rsm': 0.10401605460475649, 'min_data_in_leaf': 92}. Best is trial 24 with value: 1.0929023967372915.\u001b[0m\n",
      "\u001b[32m[I 2021-05-02 16:14:01,218]\u001b[0m Trial 25 finished with value: 1.0932914768361828 and parameters: {'learning_rate': 0.1, 'depth': 3, 'l2_leaf_reg': 5.280575791056763, 'random_strength': 6.7266768575512215, 'rsm': 0.1066579866819807, 'min_data_in_leaf': 93}. Best is trial 24 with value: 1.0929023967372915.\u001b[0m\n",
      "\u001b[32m[I 2021-05-02 16:14:18,406]\u001b[0m Trial 26 finished with value: 1.0942358610021636 and parameters: {'learning_rate': 0.2, 'depth': 2, 'l2_leaf_reg': 3.386100351699195, 'random_strength': 4.508539048749657, 'rsm': 0.19940705303205403, 'min_data_in_leaf': 89}. Best is trial 24 with value: 1.0929023967372915.\u001b[0m\n"
     ]
    },
    {
     "name": "stdout",
     "output_type": "stream",
     "text": [
      "There was an error during 3_Optuna_CatBoost training.\n",
      "Please check AutoML_1/errors.md for details.\n"
     ]
    },
    {
     "name": "stderr",
     "output_type": "stream",
     "text": [
      "\u001b[32m[I 2021-05-02 16:15:00,776]\u001b[0m A new study created in memory with name: no-name-7947cbdb-c00c-4ed9-9c2a-703b8766a37b\u001b[0m\n"
     ]
    },
    {
     "name": "stdout",
     "output_type": "stream",
     "text": [
      "Optuna optimizes Extra Trees with time budget 1000 seconds eval_metric logloss (minimize)\n"
     ]
    },
    {
     "name": "stderr",
     "output_type": "stream",
     "text": [
      "\u001b[32m[I 2021-05-02 16:16:56,450]\u001b[0m Trial 0 finished with value: 1.104745255196405 and parameters: {'criterion': 'entropy', 'max_depth': 21, 'min_samples_split': 40, 'min_samples_leaf': 54, 'max_features': 0.44335046161704333}. Best is trial 0 with value: 1.104745255196405.\u001b[0m\n",
      "\u001b[32m[I 2021-05-02 16:18:22,674]\u001b[0m Trial 1 finished with value: 1.1048938943980036 and parameters: {'criterion': 'gini', 'max_depth': 27, 'min_samples_split': 17, 'min_samples_leaf': 50, 'max_features': 0.27986667922981523}. Best is trial 0 with value: 1.104745255196405.\u001b[0m\n",
      "\u001b[32m[I 2021-05-02 16:22:45,636]\u001b[0m Trial 2 finished with value: 1.1020672431202136 and parameters: {'criterion': 'gini', 'max_depth': 32, 'min_samples_split': 45, 'min_samples_leaf': 31, 'max_features': 0.9585579601468681}. Best is trial 2 with value: 1.1020672431202136.\u001b[0m\n",
      "\u001b[32m[I 2021-05-02 16:25:24,444]\u001b[0m Trial 3 finished with value: 1.104518742566896 and parameters: {'criterion': 'gini', 'max_depth': 24, 'min_samples_split': 60, 'min_samples_leaf': 93, 'max_features': 0.6866283058204149}. Best is trial 2 with value: 1.1020672431202136.\u001b[0m\n",
      "\u001b[32m[I 2021-05-02 16:27:39,962]\u001b[0m Trial 4 finished with value: 1.1040201896011002 and parameters: {'criterion': 'entropy', 'max_depth': 24, 'min_samples_split': 49, 'min_samples_leaf': 51, 'max_features': 0.5080523336547316}. Best is trial 2 with value: 1.1020672431202136.\u001b[0m\n",
      "\u001b[32m[I 2021-05-02 16:29:04,138]\u001b[0m Trial 5 finished with value: 1.1111987572684623 and parameters: {'criterion': 'gini', 'max_depth': 7, 'min_samples_split': 36, 'min_samples_leaf': 39, 'max_features': 0.8838147787297554}. Best is trial 2 with value: 1.1020672431202136.\u001b[0m\n",
      "\u001b[32m[I 2021-05-02 16:31:43,401]\u001b[0m Trial 6 finished with value: 1.1066214574618263 and parameters: {'criterion': 'entropy', 'max_depth': 13, 'min_samples_split': 2, 'min_samples_leaf': 76, 'max_features': 0.9872679092372638}. Best is trial 2 with value: 1.1020672431202136.\u001b[0m\n"
     ]
    },
    {
     "name": "stdout",
     "output_type": "stream",
     "text": [
      "There was an error during 4_Optuna_ExtraTrees training.\n",
      "Please check AutoML_1/errors.md for details.\n",
      "Skip boost_on_errors because no parameters were generated.\n"
     ]
    },
    {
     "ename": "AutoMLException",
     "evalue": "No models produced. \nPlease check your data or submit a Github issue at https://github.com/mljar/mljar-supervised/issues/new.",
     "output_type": "error",
     "traceback": [
      "\u001b[0;31m---------------------------------------------------------------------------\u001b[0m",
      "\u001b[0;31mAutoMLException\u001b[0m                           Traceback (most recent call last)",
      "\u001b[0;32m<ipython-input-9-d004255339c2>\u001b[0m in \u001b[0;36m<module>\u001b[0;34m\u001b[0m\n\u001b[1;32m      9\u001b[0m     \u001b[0moptuna_time_budget\u001b[0m \u001b[0;34m=\u001b[0m \u001b[0;36m1000\u001b[0m\u001b[0;34m\u001b[0m\u001b[0;34m\u001b[0m\u001b[0m\n\u001b[1;32m     10\u001b[0m )\n\u001b[0;32m---> 11\u001b[0;31m \u001b[0mautoml\u001b[0m\u001b[0;34m.\u001b[0m\u001b[0mfit\u001b[0m\u001b[0;34m(\u001b[0m\u001b[0mtrain\u001b[0m\u001b[0;34m[\u001b[0m\u001b[0mx_cols\u001b[0m\u001b[0;34m]\u001b[0m\u001b[0;34m,\u001b[0m \u001b[0mtrain\u001b[0m\u001b[0;34m[\u001b[0m\u001b[0my_col\u001b[0m\u001b[0;34m]\u001b[0m\u001b[0;34m)\u001b[0m\u001b[0;34m\u001b[0m\u001b[0;34m\u001b[0m\u001b[0m\n\u001b[0m",
      "\u001b[0;32m/opt/conda/lib/python3.7/site-packages/supervised/automl.py\u001b[0m in \u001b[0;36mfit\u001b[0;34m(self, X, y, sample_weight)\u001b[0m\n\u001b[1;32m    325\u001b[0m             \u001b[0mAutoML\u001b[0m \u001b[0mobject\u001b[0m\u001b[0;34m:\u001b[0m \u001b[0mReturns\u001b[0m\u001b[0;31m \u001b[0m\u001b[0;31m`\u001b[0m\u001b[0mself\u001b[0m\u001b[0;31m`\u001b[0m\u001b[0;34m\u001b[0m\u001b[0;34m\u001b[0m\u001b[0m\n\u001b[1;32m    326\u001b[0m         \"\"\"\n\u001b[0;32m--> 327\u001b[0;31m         \u001b[0;32mreturn\u001b[0m \u001b[0mself\u001b[0m\u001b[0;34m.\u001b[0m\u001b[0m_fit\u001b[0m\u001b[0;34m(\u001b[0m\u001b[0mX\u001b[0m\u001b[0;34m,\u001b[0m \u001b[0my\u001b[0m\u001b[0;34m,\u001b[0m \u001b[0msample_weight\u001b[0m\u001b[0;34m)\u001b[0m\u001b[0;34m\u001b[0m\u001b[0;34m\u001b[0m\u001b[0m\n\u001b[0m\u001b[1;32m    328\u001b[0m \u001b[0;34m\u001b[0m\u001b[0m\n\u001b[1;32m    329\u001b[0m     \u001b[0;32mdef\u001b[0m \u001b[0mpredict\u001b[0m\u001b[0;34m(\u001b[0m\u001b[0mself\u001b[0m\u001b[0;34m,\u001b[0m \u001b[0mX\u001b[0m\u001b[0;34m)\u001b[0m\u001b[0;34m:\u001b[0m\u001b[0;34m\u001b[0m\u001b[0;34m\u001b[0m\u001b[0m\n",
      "\u001b[0;32m/opt/conda/lib/python3.7/site-packages/supervised/base_automl.py\u001b[0m in \u001b[0;36m_fit\u001b[0;34m(self, X, y, sample_weight)\u001b[0m\n\u001b[1;32m   1109\u001b[0m \u001b[0;34m\u001b[0m\u001b[0m\n\u001b[1;32m   1110\u001b[0m         \u001b[0;32mexcept\u001b[0m \u001b[0mException\u001b[0m \u001b[0;32mas\u001b[0m \u001b[0me\u001b[0m\u001b[0;34m:\u001b[0m\u001b[0;34m\u001b[0m\u001b[0;34m\u001b[0m\u001b[0m\n\u001b[0;32m-> 1111\u001b[0;31m             \u001b[0;32mraise\u001b[0m \u001b[0me\u001b[0m\u001b[0;34m\u001b[0m\u001b[0;34m\u001b[0m\u001b[0m\n\u001b[0m\u001b[1;32m   1112\u001b[0m         \u001b[0;32mfinally\u001b[0m\u001b[0;34m:\u001b[0m\u001b[0;34m\u001b[0m\u001b[0;34m\u001b[0m\u001b[0m\n\u001b[1;32m   1113\u001b[0m             \u001b[0;32mif\u001b[0m \u001b[0mself\u001b[0m\u001b[0;34m.\u001b[0m\u001b[0m_X_path\u001b[0m \u001b[0;32mis\u001b[0m \u001b[0;32mnot\u001b[0m \u001b[0;32mNone\u001b[0m\u001b[0;34m:\u001b[0m\u001b[0;34m\u001b[0m\u001b[0;34m\u001b[0m\u001b[0m\n",
      "\u001b[0;32m/opt/conda/lib/python3.7/site-packages/supervised/base_automl.py\u001b[0m in \u001b[0;36m_fit\u001b[0;34m(self, X, y, sample_weight)\u001b[0m\n\u001b[1;32m   1029\u001b[0m                     \u001b[0;32mif\u001b[0m \u001b[0mlen\u001b[0m\u001b[0;34m(\u001b[0m\u001b[0mself\u001b[0m\u001b[0;34m.\u001b[0m\u001b[0m_models\u001b[0m\u001b[0;34m)\u001b[0m \u001b[0;34m==\u001b[0m \u001b[0;36m0\u001b[0m\u001b[0;34m:\u001b[0m\u001b[0;34m\u001b[0m\u001b[0;34m\u001b[0m\u001b[0m\n\u001b[1;32m   1030\u001b[0m                         raise AutoMLException(\n\u001b[0;32m-> 1031\u001b[0;31m                             \u001b[0;34m\"No models produced. \\nPlease check your data or\"\u001b[0m\u001b[0;34m\u001b[0m\u001b[0;34m\u001b[0m\u001b[0m\n\u001b[0m\u001b[1;32m   1032\u001b[0m                             \u001b[0;34m\" submit a Github issue at https://github.com/mljar/mljar-supervised/issues/new.\"\u001b[0m\u001b[0;34m\u001b[0m\u001b[0;34m\u001b[0m\u001b[0m\n\u001b[1;32m   1033\u001b[0m                         )\n",
      "\u001b[0;31mAutoMLException\u001b[0m: No models produced. \nPlease check your data or submit a Github issue at https://github.com/mljar/mljar-supervised/issues/new."
     ]
    }
   ],
   "source": [
    "automl = AutoML(\n",
    "    mode=\"Optuna\", \n",
    "    total_time_limit=14400,\n",
    "    ml_task = 'multiclass_classification',\n",
    "    stack_models = True,\n",
    "    eval_metric= 'logloss',\n",
    "    boost_on_errors=True,\n",
    "    algorithms = ['LightGBM', 'Xgboost', 'CatBoost', 'Extra Trees'],\n",
    "    optuna_time_budget = 1000\n",
    ")\n",
    "automl.fit(train[x_cols], train[y_col])"
   ]
  },
  {
   "cell_type": "code",
   "execution_count": 10,
   "id": "downtown-waste",
   "metadata": {
    "execution": {
     "iopub.execute_input": "2021-05-02T16:33:53.228141Z",
     "iopub.status.busy": "2021-05-02T16:33:53.227437Z",
     "iopub.status.idle": "2021-05-02T16:33:53.251281Z",
     "shell.execute_reply": "2021-05-02T16:33:53.251798Z"
    },
    "papermill": {
     "duration": 0.202512,
     "end_time": "2021-05-02T16:33:53.251948",
     "exception": false,
     "start_time": "2021-05-02T16:33:53.049436",
     "status": "completed"
    },
    "tags": []
   },
   "outputs": [
    {
     "ename": "AutoMLException",
     "evalue": "Cannot load AutoML directory. expected str, bytes or os.PathLike object, not NoneType",
     "output_type": "error",
     "traceback": [
      "\u001b[0;31m---------------------------------------------------------------------------\u001b[0m",
      "\u001b[0;31mTypeError\u001b[0m                                 Traceback (most recent call last)",
      "\u001b[0;32m/opt/conda/lib/python3.7/site-packages/supervised/base_automl.py\u001b[0m in \u001b[0;36mload\u001b[0;34m(self, path)\u001b[0m\n\u001b[1;32m    127\u001b[0m         \u001b[0;32mtry\u001b[0m\u001b[0;34m:\u001b[0m\u001b[0;34m\u001b[0m\u001b[0;34m\u001b[0m\u001b[0m\n\u001b[0;32m--> 128\u001b[0;31m             \u001b[0mparams\u001b[0m \u001b[0;34m=\u001b[0m \u001b[0mjson\u001b[0m\u001b[0;34m.\u001b[0m\u001b[0mload\u001b[0m\u001b[0;34m(\u001b[0m\u001b[0mopen\u001b[0m\u001b[0;34m(\u001b[0m\u001b[0mos\u001b[0m\u001b[0;34m.\u001b[0m\u001b[0mpath\u001b[0m\u001b[0;34m.\u001b[0m\u001b[0mjoin\u001b[0m\u001b[0;34m(\u001b[0m\u001b[0mpath\u001b[0m\u001b[0;34m,\u001b[0m \u001b[0;34m\"params.json\"\u001b[0m\u001b[0;34m)\u001b[0m\u001b[0;34m)\u001b[0m\u001b[0;34m)\u001b[0m\u001b[0;34m\u001b[0m\u001b[0;34m\u001b[0m\u001b[0m\n\u001b[0m\u001b[1;32m    129\u001b[0m \u001b[0;34m\u001b[0m\u001b[0m\n",
      "\u001b[0;32m/opt/conda/lib/python3.7/posixpath.py\u001b[0m in \u001b[0;36mjoin\u001b[0;34m(a, *p)\u001b[0m\n\u001b[1;32m     79\u001b[0m     ends with a separator.\"\"\"\n\u001b[0;32m---> 80\u001b[0;31m     \u001b[0ma\u001b[0m \u001b[0;34m=\u001b[0m \u001b[0mos\u001b[0m\u001b[0;34m.\u001b[0m\u001b[0mfspath\u001b[0m\u001b[0;34m(\u001b[0m\u001b[0ma\u001b[0m\u001b[0;34m)\u001b[0m\u001b[0;34m\u001b[0m\u001b[0;34m\u001b[0m\u001b[0m\n\u001b[0m\u001b[1;32m     81\u001b[0m     \u001b[0msep\u001b[0m \u001b[0;34m=\u001b[0m \u001b[0m_get_sep\u001b[0m\u001b[0;34m(\u001b[0m\u001b[0ma\u001b[0m\u001b[0;34m)\u001b[0m\u001b[0;34m\u001b[0m\u001b[0;34m\u001b[0m\u001b[0m\n",
      "\u001b[0;31mTypeError\u001b[0m: expected str, bytes or os.PathLike object, not NoneType",
      "\nDuring handling of the above exception, another exception occurred:\n",
      "\u001b[0;31mAutoMLException\u001b[0m                           Traceback (most recent call last)",
      "\u001b[0;32m<ipython-input-10-f518385cbd70>\u001b[0m in \u001b[0;36m<module>\u001b[0;34m\u001b[0m\n\u001b[0;32m----> 1\u001b[0;31m \u001b[0mpreds\u001b[0m \u001b[0;34m=\u001b[0m \u001b[0mautoml\u001b[0m\u001b[0;34m.\u001b[0m\u001b[0mpredict_proba\u001b[0m\u001b[0;34m(\u001b[0m\u001b[0mtest\u001b[0m\u001b[0;34m)\u001b[0m\u001b[0;34m\u001b[0m\u001b[0;34m\u001b[0m\u001b[0m\n\u001b[0m",
      "\u001b[0;32m/opt/conda/lib/python3.7/site-packages/supervised/automl.py\u001b[0m in \u001b[0;36mpredict_proba\u001b[0;34m(self, X)\u001b[0m\n\u001b[1;32m    363\u001b[0m \u001b[0;34m\u001b[0m\u001b[0m\n\u001b[1;32m    364\u001b[0m         \"\"\"\n\u001b[0;32m--> 365\u001b[0;31m         \u001b[0;32mreturn\u001b[0m \u001b[0mself\u001b[0m\u001b[0;34m.\u001b[0m\u001b[0m_predict_proba\u001b[0m\u001b[0;34m(\u001b[0m\u001b[0mX\u001b[0m\u001b[0;34m)\u001b[0m\u001b[0;34m\u001b[0m\u001b[0;34m\u001b[0m\u001b[0m\n\u001b[0m\u001b[1;32m    366\u001b[0m \u001b[0;34m\u001b[0m\u001b[0m\n\u001b[1;32m    367\u001b[0m     \u001b[0;32mdef\u001b[0m \u001b[0mpredict_all\u001b[0m\u001b[0;34m(\u001b[0m\u001b[0mself\u001b[0m\u001b[0;34m,\u001b[0m \u001b[0mX\u001b[0m\u001b[0;34m)\u001b[0m\u001b[0;34m:\u001b[0m\u001b[0;34m\u001b[0m\u001b[0;34m\u001b[0m\u001b[0m\n",
      "\u001b[0;32m/opt/conda/lib/python3.7/site-packages/supervised/base_automl.py\u001b[0m in \u001b[0;36m_predict_proba\u001b[0;34m(self, X)\u001b[0m\n\u001b[1;32m   1318\u001b[0m         \u001b[0;31m# If classification task the result is in column 'label'\u001b[0m\u001b[0;34m\u001b[0m\u001b[0;34m\u001b[0m\u001b[0;34m\u001b[0m\u001b[0m\n\u001b[1;32m   1319\u001b[0m         \u001b[0;31m# Need to drop `label` column.\u001b[0m\u001b[0;34m\u001b[0m\u001b[0;34m\u001b[0m\u001b[0;34m\u001b[0m\u001b[0m\n\u001b[0;32m-> 1320\u001b[0;31m         \u001b[0;32mreturn\u001b[0m \u001b[0mself\u001b[0m\u001b[0;34m.\u001b[0m\u001b[0m_base_predict\u001b[0m\u001b[0;34m(\u001b[0m\u001b[0mX\u001b[0m\u001b[0;34m)\u001b[0m\u001b[0;34m.\u001b[0m\u001b[0mdrop\u001b[0m\u001b[0;34m(\u001b[0m\u001b[0;34m[\u001b[0m\u001b[0;34m\"label\"\u001b[0m\u001b[0;34m]\u001b[0m\u001b[0;34m,\u001b[0m \u001b[0maxis\u001b[0m\u001b[0;34m=\u001b[0m\u001b[0;36m1\u001b[0m\u001b[0;34m)\u001b[0m\u001b[0;34m.\u001b[0m\u001b[0mto_numpy\u001b[0m\u001b[0;34m(\u001b[0m\u001b[0;34m)\u001b[0m\u001b[0;34m\u001b[0m\u001b[0;34m\u001b[0m\u001b[0m\n\u001b[0m\u001b[1;32m   1321\u001b[0m \u001b[0;34m\u001b[0m\u001b[0m\n\u001b[1;32m   1322\u001b[0m     \u001b[0;32mdef\u001b[0m \u001b[0m_predict_all\u001b[0m\u001b[0;34m(\u001b[0m\u001b[0mself\u001b[0m\u001b[0;34m,\u001b[0m \u001b[0mX\u001b[0m\u001b[0;34m)\u001b[0m\u001b[0;34m:\u001b[0m\u001b[0;34m\u001b[0m\u001b[0;34m\u001b[0m\u001b[0m\n",
      "\u001b[0;32m/opt/conda/lib/python3.7/site-packages/supervised/base_automl.py\u001b[0m in \u001b[0;36m_base_predict\u001b[0;34m(self, X, model)\u001b[0m\n\u001b[1;32m   1230\u001b[0m         \u001b[0;32mif\u001b[0m \u001b[0mmodel\u001b[0m \u001b[0;32mis\u001b[0m \u001b[0;32mNone\u001b[0m\u001b[0;34m:\u001b[0m\u001b[0;34m\u001b[0m\u001b[0;34m\u001b[0m\u001b[0m\n\u001b[1;32m   1231\u001b[0m             \u001b[0;32mif\u001b[0m \u001b[0mself\u001b[0m\u001b[0;34m.\u001b[0m\u001b[0m_best_model\u001b[0m \u001b[0;32mis\u001b[0m \u001b[0;32mNone\u001b[0m\u001b[0;34m:\u001b[0m\u001b[0;34m\u001b[0m\u001b[0;34m\u001b[0m\u001b[0m\n\u001b[0;32m-> 1232\u001b[0;31m                 \u001b[0mself\u001b[0m\u001b[0;34m.\u001b[0m\u001b[0mload\u001b[0m\u001b[0;34m(\u001b[0m\u001b[0mself\u001b[0m\u001b[0;34m.\u001b[0m\u001b[0mresults_path\u001b[0m\u001b[0;34m)\u001b[0m\u001b[0;34m\u001b[0m\u001b[0;34m\u001b[0m\u001b[0m\n\u001b[0m\u001b[1;32m   1233\u001b[0m             \u001b[0mmodel\u001b[0m \u001b[0;34m=\u001b[0m \u001b[0mself\u001b[0m\u001b[0;34m.\u001b[0m\u001b[0m_best_model\u001b[0m\u001b[0;34m\u001b[0m\u001b[0;34m\u001b[0m\u001b[0m\n\u001b[1;32m   1234\u001b[0m \u001b[0;34m\u001b[0m\u001b[0m\n",
      "\u001b[0;32m/opt/conda/lib/python3.7/site-packages/supervised/base_automl.py\u001b[0m in \u001b[0;36mload\u001b[0;34m(self, path)\u001b[0m\n\u001b[1;32m    212\u001b[0m \u001b[0;34m\u001b[0m\u001b[0m\n\u001b[1;32m    213\u001b[0m         \u001b[0;32mexcept\u001b[0m \u001b[0mException\u001b[0m \u001b[0;32mas\u001b[0m \u001b[0me\u001b[0m\u001b[0;34m:\u001b[0m\u001b[0;34m\u001b[0m\u001b[0;34m\u001b[0m\u001b[0m\n\u001b[0;32m--> 214\u001b[0;31m             \u001b[0;32mraise\u001b[0m \u001b[0mAutoMLException\u001b[0m\u001b[0;34m(\u001b[0m\u001b[0;34mf\"Cannot load AutoML directory. {str(e)}\"\u001b[0m\u001b[0;34m)\u001b[0m\u001b[0;34m\u001b[0m\u001b[0;34m\u001b[0m\u001b[0m\n\u001b[0m\u001b[1;32m    215\u001b[0m \u001b[0;34m\u001b[0m\u001b[0m\n\u001b[1;32m    216\u001b[0m     def get_leaderboard(\n",
      "\u001b[0;31mAutoMLException\u001b[0m: Cannot load AutoML directory. expected str, bytes or os.PathLike object, not NoneType"
     ]
    }
   ],
   "source": [
    "preds = automl.predict_proba(test)"
   ]
  },
  {
   "cell_type": "code",
   "execution_count": 11,
   "id": "universal-automation",
   "metadata": {
    "execution": {
     "iopub.execute_input": "2021-05-02T16:33:53.633280Z",
     "iopub.status.busy": "2021-05-02T16:33:53.632643Z",
     "iopub.status.idle": "2021-05-02T16:33:53.691620Z",
     "shell.execute_reply": "2021-05-02T16:33:53.691211Z"
    },
    "papermill": {
     "duration": 0.247409,
     "end_time": "2021-05-02T16:33:53.691742",
     "exception": false,
     "start_time": "2021-05-02T16:33:53.444333",
     "status": "completed"
    },
    "tags": []
   },
   "outputs": [
    {
     "ename": "NameError",
     "evalue": "name 'preds' is not defined",
     "output_type": "error",
     "traceback": [
      "\u001b[0;31m---------------------------------------------------------------------------\u001b[0m",
      "\u001b[0;31mNameError\u001b[0m                                 Traceback (most recent call last)",
      "\u001b[0;32m<ipython-input-11-ba58f48f8dad>\u001b[0m in \u001b[0;36m<module>\u001b[0;34m\u001b[0m\n\u001b[1;32m      1\u001b[0m \u001b[0msub\u001b[0m \u001b[0;34m=\u001b[0m \u001b[0mpd\u001b[0m\u001b[0;34m.\u001b[0m\u001b[0mread_csv\u001b[0m\u001b[0;34m(\u001b[0m\u001b[0;34m\"../input/tabular-playground-series-may-2021/sample_submission.csv\"\u001b[0m\u001b[0;34m)\u001b[0m\u001b[0;34m\u001b[0m\u001b[0;34m\u001b[0m\u001b[0m\n\u001b[0;32m----> 2\u001b[0;31m \u001b[0msub\u001b[0m\u001b[0;34m[\u001b[0m\u001b[0msub\u001b[0m\u001b[0;34m.\u001b[0m\u001b[0mcolumns\u001b[0m\u001b[0;34m[\u001b[0m\u001b[0;36m1\u001b[0m\u001b[0;34m:\u001b[0m\u001b[0;34m]\u001b[0m\u001b[0;34m]\u001b[0m \u001b[0;34m=\u001b[0m \u001b[0mpreds\u001b[0m\u001b[0;34m\u001b[0m\u001b[0;34m\u001b[0m\u001b[0m\n\u001b[0m",
      "\u001b[0;31mNameError\u001b[0m: name 'preds' is not defined"
     ]
    }
   ],
   "source": [
    "sub = pd.read_csv(\"../input/tabular-playground-series-may-2021/sample_submission.csv\")\n",
    "sub[sub.columns[1:]] = preds"
   ]
  },
  {
   "cell_type": "code",
   "execution_count": 12,
   "id": "gothic-capacity",
   "metadata": {
    "execution": {
     "iopub.execute_input": "2021-05-02T16:33:54.047472Z",
     "iopub.status.busy": "2021-05-02T16:33:54.046745Z",
     "iopub.status.idle": "2021-05-02T16:33:54.066415Z",
     "shell.execute_reply": "2021-05-02T16:33:54.065986Z"
    },
    "papermill": {
     "duration": 0.199476,
     "end_time": "2021-05-02T16:33:54.066545",
     "exception": false,
     "start_time": "2021-05-02T16:33:53.867069",
     "status": "completed"
    },
    "tags": []
   },
   "outputs": [
    {
     "ename": "ImportError",
     "evalue": "cannot import name 'CompressionOptions' from 'pandas._typing' (/opt/conda/lib/python3.7/site-packages/pandas/_typing.py)",
     "output_type": "error",
     "traceback": [
      "\u001b[0;31m---------------------------------------------------------------------------\u001b[0m",
      "\u001b[0;31mImportError\u001b[0m                               Traceback (most recent call last)",
      "\u001b[0;32m<ipython-input-12-25debd32c3f1>\u001b[0m in \u001b[0;36m<module>\u001b[0;34m\u001b[0m\n\u001b[0;32m----> 1\u001b[0;31m \u001b[0msub\u001b[0m\u001b[0;34m.\u001b[0m\u001b[0mto_csv\u001b[0m\u001b[0;34m(\u001b[0m\u001b[0;34m\"mljar_automl_2.csv\"\u001b[0m\u001b[0;34m,\u001b[0m \u001b[0mindex\u001b[0m\u001b[0;34m=\u001b[0m\u001b[0;32mFalse\u001b[0m\u001b[0;34m)\u001b[0m\u001b[0;34m\u001b[0m\u001b[0;34m\u001b[0m\u001b[0m\n\u001b[0m",
      "\u001b[0;32m/opt/conda/lib/python3.7/site-packages/pandas/core/generic.py\u001b[0m in \u001b[0;36mto_csv\u001b[0;34m(self, path_or_buf, sep, na_rep, float_format, columns, header, index, index_label, mode, encoding, compression, quoting, quotechar, line_terminator, chunksize, date_format, doublequote, escapechar, decimal, errors)\u001b[0m\n\u001b[1;32m   3143\u001b[0m         \u001b[0mExamples\u001b[0m\u001b[0;34m\u001b[0m\u001b[0;34m\u001b[0m\u001b[0m\n\u001b[1;32m   3144\u001b[0m         \u001b[0;34m-\u001b[0m\u001b[0;34m-\u001b[0m\u001b[0;34m-\u001b[0m\u001b[0;34m-\u001b[0m\u001b[0;34m-\u001b[0m\u001b[0;34m-\u001b[0m\u001b[0;34m-\u001b[0m\u001b[0;34m-\u001b[0m\u001b[0;34m\u001b[0m\u001b[0;34m\u001b[0m\u001b[0m\n\u001b[0;32m-> 3145\u001b[0;31m         >>> df = pd.DataFrame(dict(name=['Raphael', 'Donatello'],\n\u001b[0m\u001b[1;32m   3146\u001b[0m         \u001b[0;34m...\u001b[0m                   \u001b[0mmask\u001b[0m\u001b[0;34m=\u001b[0m\u001b[0;34m[\u001b[0m\u001b[0;34m'red'\u001b[0m\u001b[0;34m,\u001b[0m \u001b[0;34m'purple'\u001b[0m\u001b[0;34m]\u001b[0m\u001b[0;34m,\u001b[0m\u001b[0;34m\u001b[0m\u001b[0;34m\u001b[0m\u001b[0m\n\u001b[1;32m   3147\u001b[0m         ...                   weapon=['sai', 'bo staff']))\n",
      "\u001b[0;32m/opt/conda/lib/python3.7/site-packages/pandas/io/formats/csvs.py\u001b[0m in \u001b[0;36m<module>\u001b[0;34m\u001b[0m\n\u001b[1;32m     10\u001b[0m \u001b[0;34m\u001b[0m\u001b[0m\n\u001b[1;32m     11\u001b[0m \u001b[0;32mfrom\u001b[0m \u001b[0mpandas\u001b[0m\u001b[0;34m.\u001b[0m\u001b[0m_libs\u001b[0m \u001b[0;32mimport\u001b[0m \u001b[0mwriters\u001b[0m \u001b[0;32mas\u001b[0m \u001b[0mlibwriters\u001b[0m\u001b[0;34m\u001b[0m\u001b[0;34m\u001b[0m\u001b[0m\n\u001b[0;32m---> 12\u001b[0;31m from pandas._typing import (\n\u001b[0m\u001b[1;32m     13\u001b[0m     \u001b[0mCompressionOptions\u001b[0m\u001b[0;34m,\u001b[0m\u001b[0;34m\u001b[0m\u001b[0;34m\u001b[0m\u001b[0m\n\u001b[1;32m     14\u001b[0m     \u001b[0mFilePathOrBuffer\u001b[0m\u001b[0;34m,\u001b[0m\u001b[0;34m\u001b[0m\u001b[0;34m\u001b[0m\u001b[0m\n",
      "\u001b[0;31mImportError\u001b[0m: cannot import name 'CompressionOptions' from 'pandas._typing' (/opt/conda/lib/python3.7/site-packages/pandas/_typing.py)"
     ]
    }
   ],
   "source": [
    "sub.to_csv(\"mljar_automl_2.csv\", index=False)"
   ]
  },
  {
   "cell_type": "code",
   "execution_count": 13,
   "id": "paperback-employer",
   "metadata": {
    "execution": {
     "iopub.execute_input": "2021-05-02T16:33:54.432870Z",
     "iopub.status.busy": "2021-05-02T16:33:54.425034Z",
     "iopub.status.idle": "2021-05-02T16:33:54.436419Z",
     "shell.execute_reply": "2021-05-02T16:33:54.435998Z"
    },
    "papermill": {
     "duration": 0.195751,
     "end_time": "2021-05-02T16:33:54.436546",
     "exception": false,
     "start_time": "2021-05-02T16:33:54.240795",
     "status": "completed"
    },
    "tags": []
   },
   "outputs": [
    {
     "ename": "NameError",
     "evalue": "name 'preds' is not defined",
     "output_type": "error",
     "traceback": [
      "\u001b[0;31m---------------------------------------------------------------------------\u001b[0m",
      "\u001b[0;31mNameError\u001b[0m                                 Traceback (most recent call last)",
      "\u001b[0;32m<ipython-input-13-82edb6f041bb>\u001b[0m in \u001b[0;36m<module>\u001b[0;34m\u001b[0m\n\u001b[1;32m      1\u001b[0m \u001b[0;32mimport\u001b[0m \u001b[0mpickle\u001b[0m\u001b[0;34m\u001b[0m\u001b[0;34m\u001b[0m\u001b[0m\n\u001b[1;32m      2\u001b[0m \u001b[0moutfile\u001b[0m \u001b[0;34m=\u001b[0m \u001b[0mopen\u001b[0m\u001b[0;34m(\u001b[0m\u001b[0;34m'preds_object'\u001b[0m\u001b[0;34m,\u001b[0m \u001b[0;34m'wb'\u001b[0m\u001b[0;34m)\u001b[0m\u001b[0;34m\u001b[0m\u001b[0;34m\u001b[0m\u001b[0m\n\u001b[0;32m----> 3\u001b[0;31m \u001b[0mpickle\u001b[0m\u001b[0;34m.\u001b[0m\u001b[0mdump\u001b[0m\u001b[0;34m(\u001b[0m\u001b[0mpreds\u001b[0m\u001b[0;34m,\u001b[0m \u001b[0moutfile\u001b[0m\u001b[0;34m)\u001b[0m\u001b[0;34m\u001b[0m\u001b[0;34m\u001b[0m\u001b[0m\n\u001b[0m\u001b[1;32m      4\u001b[0m \u001b[0moutfile\u001b[0m\u001b[0;34m.\u001b[0m\u001b[0mclose\u001b[0m\u001b[0;34m(\u001b[0m\u001b[0;34m)\u001b[0m\u001b[0;34m\u001b[0m\u001b[0;34m\u001b[0m\u001b[0m\n",
      "\u001b[0;31mNameError\u001b[0m: name 'preds' is not defined"
     ]
    }
   ],
   "source": [
    "import pickle\n",
    "outfile = open('preds_object', 'wb')\n",
    "pickle.dump(preds, outfile)\n",
    "outfile.close()"
   ]
  },
  {
   "cell_type": "code",
   "execution_count": 14,
   "id": "committed-tablet",
   "metadata": {
    "execution": {
     "iopub.execute_input": "2021-05-02T16:33:54.790741Z",
     "iopub.status.busy": "2021-05-02T16:33:54.790109Z",
     "iopub.status.idle": "2021-05-02T16:33:54.927058Z",
     "shell.execute_reply": "2021-05-02T16:33:54.926614Z"
    },
    "papermill": {
     "duration": 0.316053,
     "end_time": "2021-05-02T16:33:54.927201",
     "exception": false,
     "start_time": "2021-05-02T16:33:54.611148",
     "status": "completed"
    },
    "tags": []
   },
   "outputs": [],
   "source": [
    "automl.report()"
   ]
  },
  {
   "cell_type": "code",
   "execution_count": null,
   "id": "surrounded-premiere",
   "metadata": {
    "papermill": {
     "duration": 0.175305,
     "end_time": "2021-05-02T16:33:55.278525",
     "exception": false,
     "start_time": "2021-05-02T16:33:55.103220",
     "status": "completed"
    },
    "tags": []
   },
   "outputs": [],
   "source": []
  }
 ],
 "metadata": {
  "kernelspec": {
   "display_name": "Python 3",
   "language": "python",
   "name": "python3"
  },
  "language_info": {
   "codemirror_mode": {
    "name": "ipython",
    "version": 3
   },
   "file_extension": ".py",
   "mimetype": "text/x-python",
   "name": "python",
   "nbconvert_exporter": "python",
   "pygments_lexer": "ipython3",
   "version": "3.7.10"
  },
  "papermill": {
   "default_parameters": {},
   "duration": 4481.150988,
   "end_time": "2021-05-02T16:33:57.235761",
   "environment_variables": {},
   "exception": null,
   "input_path": "__notebook__.ipynb",
   "output_path": "__notebook__.ipynb",
   "parameters": {},
   "start_time": "2021-05-02T15:19:16.084773",
   "version": "2.3.3"
  }
 },
 "nbformat": 4,
 "nbformat_minor": 5
}
