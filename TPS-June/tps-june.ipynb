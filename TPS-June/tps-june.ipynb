{
 "cells": [
  {
   "cell_type": "code",
   "execution_count": 1,
   "id": "mobile-volume",
   "metadata": {
    "_cell_guid": "b1076dfc-b9ad-4769-8c92-a6c4dae69d19",
    "_uuid": "8f2839f25d086af736a60e9eeb907d3b93b6e0e5",
    "execution": {
     "iopub.execute_input": "2021-06-18T19:13:17.734841Z",
     "iopub.status.busy": "2021-06-18T19:13:17.733388Z",
     "iopub.status.idle": "2021-06-18T19:15:52.073696Z",
     "shell.execute_reply": "2021-06-18T19:15:52.073113Z"
    },
    "papermill": {
     "duration": 154.36245,
     "end_time": "2021-06-18T19:15:52.073861",
     "exception": false,
     "start_time": "2021-06-18T19:13:17.711411",
     "status": "completed"
    },
    "tags": []
   },
   "outputs": [
    {
     "name": "stdout",
     "output_type": "stream",
     "text": [
      "Requirement already satisfied: scikit-learn in /opt/conda/lib/python3.7/site-packages (0.24.1)\r\n",
      "\u001b[33mWARNING: Retrying (Retry(total=4, connect=None, read=None, redirect=None, status=None)) after connection broken by 'NewConnectionError('<pip._vendor.urllib3.connection.HTTPSConnection object at 0x7f9e6e839990>: Failed to establish a new connection: [Errno -3] Temporary failure in name resolution')': /simple/scikit-learn/\u001b[0m\r\n",
      "\u001b[33mWARNING: Retrying (Retry(total=3, connect=None, read=None, redirect=None, status=None)) after connection broken by 'NewConnectionError('<pip._vendor.urllib3.connection.HTTPSConnection object at 0x7f9e6e805f50>: Failed to establish a new connection: [Errno -3] Temporary failure in name resolution')': /simple/scikit-learn/\u001b[0m\r\n",
      "\u001b[33mWARNING: Retrying (Retry(total=2, connect=None, read=None, redirect=None, status=None)) after connection broken by 'NewConnectionError('<pip._vendor.urllib3.connection.HTTPSConnection object at 0x7f9e6e805050>: Failed to establish a new connection: [Errno -3] Temporary failure in name resolution')': /simple/scikit-learn/\u001b[0m\r\n",
      "\u001b[33mWARNING: Retrying (Retry(total=1, connect=None, read=None, redirect=None, status=None)) after connection broken by 'NewConnectionError('<pip._vendor.urllib3.connection.HTTPSConnection object at 0x7f9e6e839cd0>: Failed to establish a new connection: [Errno -3] Temporary failure in name resolution')': /simple/scikit-learn/\u001b[0m\r\n",
      "\u001b[33mWARNING: Retrying (Retry(total=0, connect=None, read=None, redirect=None, status=None)) after connection broken by 'NewConnectionError('<pip._vendor.urllib3.connection.HTTPSConnection object at 0x7f9e6e82f050>: Failed to establish a new connection: [Errno -3] Temporary failure in name resolution')': /simple/scikit-learn/\u001b[0m\r\n",
      "Requirement already satisfied: joblib>=0.11 in /opt/conda/lib/python3.7/site-packages (from scikit-learn) (1.0.1)\r\n",
      "Requirement already satisfied: scipy>=0.19.1 in /opt/conda/lib/python3.7/site-packages (from scikit-learn) (1.5.4)\r\n",
      "Requirement already satisfied: threadpoolctl>=2.0.0 in /opt/conda/lib/python3.7/site-packages (from scikit-learn) (2.1.0)\r\n",
      "Requirement already satisfied: numpy>=1.13.3 in /opt/conda/lib/python3.7/site-packages (from scikit-learn) (1.19.5)\r\n"
     ]
    }
   ],
   "source": [
    "!pip install --upgrade scikit-learn"
   ]
  },
  {
   "cell_type": "code",
   "execution_count": 2,
   "id": "abstract-vehicle",
   "metadata": {
    "execution": {
     "iopub.execute_input": "2021-06-18T19:15:52.096096Z",
     "iopub.status.busy": "2021-06-18T19:15:52.095538Z",
     "iopub.status.idle": "2021-06-18T19:15:56.204599Z",
     "shell.execute_reply": "2021-06-18T19:15:56.204119Z"
    },
    "papermill": {
     "duration": 4.123735,
     "end_time": "2021-06-18T19:15:56.204729",
     "exception": false,
     "start_time": "2021-06-18T19:15:52.080994",
     "status": "completed"
    },
    "tags": []
   },
   "outputs": [
    {
     "data": {
      "text/html": [
       "<style type='text/css'>\n",
       ".datatable table.frame { margin-bottom: 0; }\n",
       ".datatable table.frame thead { border-bottom: none; }\n",
       ".datatable table.frame tr.coltypes td {  color: #FFFFFF;  line-height: 6px;  padding: 0 0.5em;}\n",
       ".datatable .bool    { background: #DDDD99; }\n",
       ".datatable .object  { background: #565656; }\n",
       ".datatable .int     { background: #5D9E5D; }\n",
       ".datatable .float   { background: #4040CC; }\n",
       ".datatable .str     { background: #CC4040; }\n",
       ".datatable .row_index {  background: var(--jp-border-color3);  border-right: 1px solid var(--jp-border-color0);  color: var(--jp-ui-font-color3);  font-size: 9px;}\n",
       ".datatable .frame tr.coltypes .row_index {  background: var(--jp-border-color0);}\n",
       ".datatable th:nth-child(2) { padding-left: 12px; }\n",
       ".datatable .hellipsis {  color: var(--jp-cell-editor-border-color);}\n",
       ".datatable .vellipsis {  background: var(--jp-layout-color0);  color: var(--jp-cell-editor-border-color);}\n",
       ".datatable .na {  color: var(--jp-cell-editor-border-color);  font-size: 80%;}\n",
       ".datatable .footer { font-size: 9px; }\n",
       ".datatable .frame_dimensions {  background: var(--jp-border-color3);  border-top: 1px solid var(--jp-border-color0);  color: var(--jp-ui-font-color3);  display: inline-block;  opacity: 0.6;  padding: 1px 10px 1px 5px;}\n",
       "</style>\n"
      ],
      "text/plain": [
       "<IPython.core.display.HTML object>"
      ]
     },
     "metadata": {},
     "output_type": "display_data"
    }
   ],
   "source": [
    "import numpy as np\n",
    "import pandas as pd\n",
    "import matplotlib.pyplot as plt\n",
    "import seaborn as sns\n",
    "from sklearn.preprocessing import OrdinalEncoder,OneHotEncoder, LabelEncoder\n",
    "from sklearn.compose import ColumnTransformer\n",
    "from sklearn.pipeline import Pipeline\n",
    "from sklearn.metrics import accuracy_score,roc_auc_score, log_loss\n",
    "from sklearn.model_selection import StratifiedKFold, KFold,cross_val_predict,cross_val_score,cross_validate\n",
    "from sklearn.linear_model import LogisticRegression\n",
    "from sklearn.naive_bayes import MultinomialNB \n",
    "from sklearn.ensemble import RandomForestClassifier\n",
    "from sklearn.impute import SimpleImputer\n",
    "from sklearn.model_selection import train_test_split\n",
    "import optuna\n",
    "import lightgbm as lgbm\n",
    "import xgboost as xgb\n",
    "import pickle\n",
    "# from google.colab import files\n",
    "import category_encoders as ce\n",
    "from catboost import CatBoostClassifier, Pool\n",
    "from sklearn.feature_selection import SelectKBest, f_classif,chi2,SelectPercentile\n",
    "from scipy.stats import rankdata\n",
    "from sklearn.mixture import GaussianMixture \n",
    "from scipy.sparse import hstack\n",
    "from sklearn.preprocessing import StandardScaler,MinMaxScaler\n",
    "from sklearn.svm import SVC, LinearSVC\n",
    "from sklearn.neighbors import KNeighborsClassifier\n",
    "from sklearn.tree import DecisionTreeClassifier\n",
    "from sklearn.ensemble import ExtraTreesClassifier,GradientBoostingClassifier,AdaBoostClassifier\n",
    "from sklearn.neighbors import KNeighborsClassifier\n",
    "from sklearn.multiclass import OneVsRestClassifier\n",
    "from sklearn.calibration import CalibratedClassifierCV\n",
    "from sklearn.model_selection import train_test_split\n",
    "from sklearn.calibration import calibration_curve\n",
    "\n",
    "import string\n",
    "import re"
   ]
  },
  {
   "cell_type": "code",
   "execution_count": 3,
   "id": "floral-magnitude",
   "metadata": {
    "execution": {
     "iopub.execute_input": "2021-06-18T19:15:56.226184Z",
     "iopub.status.busy": "2021-06-18T19:15:56.225628Z",
     "iopub.status.idle": "2021-06-18T19:15:58.044430Z",
     "shell.execute_reply": "2021-06-18T19:15:58.043890Z"
    },
    "papermill": {
     "duration": 1.831938,
     "end_time": "2021-06-18T19:15:58.044566",
     "exception": false,
     "start_time": "2021-06-18T19:15:56.212628",
     "status": "completed"
    },
    "tags": []
   },
   "outputs": [],
   "source": [
    "df_all = pd.read_csv('../input/tabular-playground-series-jun-2021/train.csv')\n",
    "df_test = pd.read_csv('../input/tabular-playground-series-jun-2021/test.csv')\n",
    "df_submission = pd.read_csv('../input/tabular-playground-series-jun-2021/sample_submission.csv')"
   ]
  },
  {
   "cell_type": "code",
   "execution_count": 4,
   "id": "potential-invalid",
   "metadata": {
    "execution": {
     "iopub.execute_input": "2021-06-18T19:15:58.108166Z",
     "iopub.status.busy": "2021-06-18T19:15:58.106673Z",
     "iopub.status.idle": "2021-06-18T19:15:59.727790Z",
     "shell.execute_reply": "2021-06-18T19:15:59.727228Z"
    },
    "papermill": {
     "duration": 1.675637,
     "end_time": "2021-06-18T19:15:59.727951",
     "exception": false,
     "start_time": "2021-06-18T19:15:58.052314",
     "status": "completed"
    },
    "tags": []
   },
   "outputs": [],
   "source": [
    "X = df_all.drop(labels=['id','target'],axis=1,inplace=False).copy()\n",
    "y = df_all['target'].values\n",
    "X_test = df_test.drop(labels=['id'],axis=1,inplace=False).copy()\n",
    "random_seed = 2001\n",
    "\n",
    "encoder = OrdinalEncoder()\n",
    "all_encoded = encoder.fit_transform(X.append(X_test))\n",
    "X = all_encoded[0:len(X)]\n",
    "X_test = all_encoded[len(X):]"
   ]
  },
  {
   "cell_type": "code",
   "execution_count": 5,
   "id": "quality-flour",
   "metadata": {
    "execution": {
     "iopub.execute_input": "2021-06-18T19:15:59.746922Z",
     "iopub.status.busy": "2021-06-18T19:15:59.746431Z",
     "iopub.status.idle": "2021-06-18T19:15:59.750304Z",
     "shell.execute_reply": "2021-06-18T19:15:59.749884Z"
    },
    "papermill": {
     "duration": 0.014791,
     "end_time": "2021-06-18T19:15:59.750419",
     "exception": false,
     "start_time": "2021-06-18T19:15:59.735628",
     "status": "completed"
    },
    "tags": []
   },
   "outputs": [],
   "source": [
    "# params = {\n",
    "#           'bootstrap':True,\n",
    "#           'max_depth':30,\n",
    "#           'max_features':'auto'  ,\n",
    "#           'min_samples_leaf' :10,\n",
    "#           'min_samples_split':5,\n",
    "#           'n_estimators':1560\n",
    "#           }\n",
    "\n",
    "params = {'max_depth': 22, \n",
    "          'n_estimators': 1620, \n",
    "          'max_features': 'sqrt', \n",
    "          'min_samples_split': 2, \n",
    "          'bootstrap': False, \n",
    "          'min_samples_leaf': 5}"
   ]
  },
  {
   "cell_type": "code",
   "execution_count": 6,
   "id": "arctic-channel",
   "metadata": {
    "execution": {
     "iopub.execute_input": "2021-06-18T19:15:59.776038Z",
     "iopub.status.busy": "2021-06-18T19:15:59.774927Z",
     "iopub.status.idle": "2021-06-18T20:06:34.380846Z",
     "shell.execute_reply": "2021-06-18T20:06:34.380378Z"
    },
    "papermill": {
     "duration": 3034.623354,
     "end_time": "2021-06-18T20:06:34.381013",
     "exception": false,
     "start_time": "2021-06-18T19:15:59.757659",
     "status": "completed"
    },
    "tags": []
   },
   "outputs": [
    {
     "name": "stdout",
     "output_type": "stream",
     "text": [
      "fold: 1,log_loss: 1.7626182788118505\n",
      "fold: 2,log_loss: 1.7627925974953298\n",
      "fold: 3,log_loss: 1.759443962149712\n",
      "fold: 4,log_loss: 1.7616900211200333\n",
      "fold: 5,log_loss: 1.7599808811239506\n",
      "random_forest ,log_loss: 1.7613051481401754\n"
     ]
    }
   ],
   "source": [
    "name = 'random_forest'\n",
    "k=5\n",
    "seed_list=[2001,2002,2003]\n",
    "kf = StratifiedKFold(n_splits=k,shuffle=True,random_state=random_seed)\n",
    "oof = np.zeros((len(df_all),9))\n",
    "test_preds_list = []\n",
    "score_list = []\n",
    "fold=1\n",
    "  \n",
    "splits = list(kf.split(X,y))\n",
    "fold = 1\n",
    "for train_idx, val_idx in splits:\n",
    "    X_train, X_val = X[train_idx], X[val_idx]\n",
    "    y_train, y_val = y[train_idx], y[val_idx]\n",
    "\n",
    "    val_preds_list = []\n",
    "\n",
    "    for seed in seed_list:\n",
    "\n",
    "        # fit and run model\n",
    "\n",
    "        base_model = RandomForestClassifier(random_state=seed)\n",
    "        model = CalibratedClassifierCV(base_model, method='isotonic', cv=k)\n",
    "\n",
    "        model.fit(X_train,y=y_train)\n",
    "\n",
    "\n",
    "        val_preds_list.append(model.predict_proba(X_val))\n",
    "        test_preds_list.append(model.predict_proba(X_test))\n",
    "\n",
    "    oof[val_idx] = np.mean(val_preds_list,axis=0)\n",
    "    score = log_loss(y_val, oof[val_idx])\n",
    "    print(f\"fold: {fold},log_loss: {score}\")\n",
    "    score_list.append(score)\n",
    "    # print(f\"fold: {fold}, class0 tr %: {y_train.value_counts()[0]/len(y_train)}, class0 val %: {y_val.value_counts()[0]/len(y_val)} \")\n",
    "    fold +=1\n",
    "\n",
    "cv_logloss = np.mean(score_list)\n",
    "print(f\"{name} ,log_loss: {cv_logloss}\")\n",
    "\n",
    "preds= np.mean(test_preds_list,axis=0)\n",
    "\n",
    "\n",
    "file_name_oof = \"rfc_3seeds_oof.txt\"\n",
    "file_name_test = \"rfc_3seeds_test.csv\"\n",
    "with open(file_name_oof, \"wb\") as fp:\n",
    "      pickle.dump(oof, fp)\n",
    "\n",
    "#files.download(file_name_oof)\n",
    "\n",
    "df_submission[['Class_1','Class_2','Class_3','Class_4','Class_5','Class_6','Class_7','Class_8','Class_9']] = preds\n",
    "df_submission.to_csv(file_name_test,index=None)\n",
    "#files.download(file_name_test) "
   ]
  }
 ],
 "metadata": {
  "kernelspec": {
   "display_name": "Python 3",
   "language": "python",
   "name": "python3"
  },
  "language_info": {
   "codemirror_mode": {
    "name": "ipython",
    "version": 3
   },
   "file_extension": ".py",
   "mimetype": "text/x-python",
   "name": "python",
   "nbconvert_exporter": "python",
   "pygments_lexer": "ipython3",
   "version": "3.7.10"
  },
  "papermill": {
   "default_parameters": {},
   "duration": 3205.73893,
   "end_time": "2021-06-18T20:06:36.197043",
   "environment_variables": {},
   "exception": null,
   "input_path": "__notebook__.ipynb",
   "output_path": "__notebook__.ipynb",
   "parameters": {},
   "start_time": "2021-06-18T19:13:10.458113",
   "version": "2.3.3"
  }
 },
 "nbformat": 4,
 "nbformat_minor": 5
}
