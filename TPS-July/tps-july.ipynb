{
 "cells": [
  {
   "cell_type": "code",
   "execution_count": 1,
   "id": "purple-methodology",
   "metadata": {
    "_cell_guid": "b1076dfc-b9ad-4769-8c92-a6c4dae69d19",
    "_uuid": "8f2839f25d086af736a60e9eeb907d3b93b6e0e5",
    "execution": {
     "iopub.execute_input": "2021-07-01T01:53:45.830813Z",
     "iopub.status.busy": "2021-07-01T01:53:45.830272Z",
     "iopub.status.idle": "2021-07-01T01:53:47.864357Z",
     "shell.execute_reply": "2021-07-01T01:53:47.863671Z",
     "shell.execute_reply.started": "2021-07-01T01:53:01.661425Z"
    },
    "papermill": {
     "duration": 2.053566,
     "end_time": "2021-07-01T01:53:47.864524",
     "exception": false,
     "start_time": "2021-07-01T01:53:45.810958",
     "status": "completed"
    },
    "tags": []
   },
   "outputs": [
    {
     "data": {
      "text/html": [
       "<style type='text/css'>\n",
       ".datatable table.frame { margin-bottom: 0; }\n",
       ".datatable table.frame thead { border-bottom: none; }\n",
       ".datatable table.frame tr.coltypes td {  color: #FFFFFF;  line-height: 6px;  padding: 0 0.5em;}\n",
       ".datatable .bool    { background: #DDDD99; }\n",
       ".datatable .object  { background: #565656; }\n",
       ".datatable .int     { background: #5D9E5D; }\n",
       ".datatable .float   { background: #4040CC; }\n",
       ".datatable .str     { background: #CC4040; }\n",
       ".datatable .row_index {  background: var(--jp-border-color3);  border-right: 1px solid var(--jp-border-color0);  color: var(--jp-ui-font-color3);  font-size: 9px;}\n",
       ".datatable .frame tr.coltypes .row_index {  background: var(--jp-border-color0);}\n",
       ".datatable th:nth-child(2) { padding-left: 12px; }\n",
       ".datatable .hellipsis {  color: var(--jp-cell-editor-border-color);}\n",
       ".datatable .vellipsis {  background: var(--jp-layout-color0);  color: var(--jp-cell-editor-border-color);}\n",
       ".datatable .na {  color: var(--jp-cell-editor-border-color);  font-size: 80%;}\n",
       ".datatable .footer { font-size: 9px; }\n",
       ".datatable .frame_dimensions {  background: var(--jp-border-color3);  border-top: 1px solid var(--jp-border-color0);  color: var(--jp-ui-font-color3);  display: inline-block;  opacity: 0.6;  padding: 1px 10px 1px 5px;}\n",
       "</style>\n"
      ],
      "text/plain": [
       "<IPython.core.display.HTML object>"
      ]
     },
     "metadata": {},
     "output_type": "display_data"
    }
   ],
   "source": [
    "import numpy as np # linear algebra\n",
    "import pandas as pd # data processing, CSV file I/O (e.g. pd.read_csv)\n",
    "import seaborn as sns\n",
    "from lightgbm import LGBMRegressor\n",
    "from xgboost import XGBRegressor\n",
    "from sklearn. metrics import mean_squared_log_error\n",
    "from sklearn.multioutput import MultiOutputRegressor\n",
    "from sklearn.ensemble import RandomForestRegressor\n",
    "from sklearn.svm import SVR\n",
    "\n",
    "from sklearn.linear_model import Lasso, Ridge"
   ]
  },
  {
   "cell_type": "code",
   "execution_count": 2,
   "id": "explicit-partnership",
   "metadata": {
    "execution": {
     "iopub.execute_input": "2021-07-01T01:53:47.885973Z",
     "iopub.status.busy": "2021-07-01T01:53:47.885473Z",
     "iopub.status.idle": "2021-07-01T01:53:47.941279Z",
     "shell.execute_reply": "2021-07-01T01:53:47.940247Z",
     "shell.execute_reply.started": "2021-07-01T01:19:47.970281Z"
    },
    "papermill": {
     "duration": 0.067067,
     "end_time": "2021-07-01T01:53:47.941435",
     "exception": false,
     "start_time": "2021-07-01T01:53:47.874368",
     "status": "completed"
    },
    "tags": []
   },
   "outputs": [],
   "source": [
    "train = pd.read_csv('../input/tabular-playground-series-jul-2021/train.csv')\n",
    "test = pd.read_csv('../input/tabular-playground-series-jul-2021/test.csv')\n",
    "submission = pd.read_csv('../input/tabular-playground-series-jul-2021/sample_submission.csv')"
   ]
  },
  {
   "cell_type": "code",
   "execution_count": 3,
   "id": "ranking-simulation",
   "metadata": {
    "execution": {
     "iopub.execute_input": "2021-07-01T01:53:47.968133Z",
     "iopub.status.busy": "2021-07-01T01:53:47.967591Z",
     "iopub.status.idle": "2021-07-01T01:53:47.990227Z",
     "shell.execute_reply": "2021-07-01T01:53:47.990734Z",
     "shell.execute_reply.started": "2021-07-01T01:06:16.207743Z"
    },
    "papermill": {
     "duration": 0.039629,
     "end_time": "2021-07-01T01:53:47.990873",
     "exception": false,
     "start_time": "2021-07-01T01:53:47.951244",
     "status": "completed"
    },
    "tags": []
   },
   "outputs": [
    {
     "data": {
      "text/html": [
       "<div>\n",
       "<style scoped>\n",
       "    .dataframe tbody tr th:only-of-type {\n",
       "        vertical-align: middle;\n",
       "    }\n",
       "\n",
       "    .dataframe tbody tr th {\n",
       "        vertical-align: top;\n",
       "    }\n",
       "\n",
       "    .dataframe thead th {\n",
       "        text-align: right;\n",
       "    }\n",
       "</style>\n",
       "<table border=\"1\" class=\"dataframe\">\n",
       "  <thead>\n",
       "    <tr style=\"text-align: right;\">\n",
       "      <th></th>\n",
       "      <th>date_time</th>\n",
       "      <th>deg_C</th>\n",
       "      <th>relative_humidity</th>\n",
       "      <th>absolute_humidity</th>\n",
       "      <th>sensor_1</th>\n",
       "      <th>sensor_2</th>\n",
       "      <th>sensor_3</th>\n",
       "      <th>sensor_4</th>\n",
       "      <th>sensor_5</th>\n",
       "      <th>target_carbon_monoxide</th>\n",
       "      <th>target_benzene</th>\n",
       "      <th>target_nitrogen_oxides</th>\n",
       "    </tr>\n",
       "  </thead>\n",
       "  <tbody>\n",
       "    <tr>\n",
       "      <th>0</th>\n",
       "      <td>2010-03-10 18:00:00</td>\n",
       "      <td>13.1</td>\n",
       "      <td>46.0</td>\n",
       "      <td>0.7578</td>\n",
       "      <td>1387.2</td>\n",
       "      <td>1087.8</td>\n",
       "      <td>1056.0</td>\n",
       "      <td>1742.8</td>\n",
       "      <td>1293.4</td>\n",
       "      <td>2.5</td>\n",
       "      <td>12.0</td>\n",
       "      <td>167.7</td>\n",
       "    </tr>\n",
       "    <tr>\n",
       "      <th>1</th>\n",
       "      <td>2010-03-10 19:00:00</td>\n",
       "      <td>13.2</td>\n",
       "      <td>45.3</td>\n",
       "      <td>0.7255</td>\n",
       "      <td>1279.1</td>\n",
       "      <td>888.2</td>\n",
       "      <td>1197.5</td>\n",
       "      <td>1449.9</td>\n",
       "      <td>1010.9</td>\n",
       "      <td>2.1</td>\n",
       "      <td>9.9</td>\n",
       "      <td>98.9</td>\n",
       "    </tr>\n",
       "    <tr>\n",
       "      <th>2</th>\n",
       "      <td>2010-03-10 20:00:00</td>\n",
       "      <td>12.6</td>\n",
       "      <td>56.2</td>\n",
       "      <td>0.7502</td>\n",
       "      <td>1331.9</td>\n",
       "      <td>929.6</td>\n",
       "      <td>1060.2</td>\n",
       "      <td>1586.1</td>\n",
       "      <td>1117.0</td>\n",
       "      <td>2.2</td>\n",
       "      <td>9.2</td>\n",
       "      <td>127.1</td>\n",
       "    </tr>\n",
       "    <tr>\n",
       "      <th>3</th>\n",
       "      <td>2010-03-10 21:00:00</td>\n",
       "      <td>11.0</td>\n",
       "      <td>62.4</td>\n",
       "      <td>0.7867</td>\n",
       "      <td>1321.0</td>\n",
       "      <td>929.0</td>\n",
       "      <td>1102.9</td>\n",
       "      <td>1536.5</td>\n",
       "      <td>1263.2</td>\n",
       "      <td>2.2</td>\n",
       "      <td>9.7</td>\n",
       "      <td>177.2</td>\n",
       "    </tr>\n",
       "    <tr>\n",
       "      <th>4</th>\n",
       "      <td>2010-03-10 22:00:00</td>\n",
       "      <td>11.9</td>\n",
       "      <td>59.0</td>\n",
       "      <td>0.7888</td>\n",
       "      <td>1272.0</td>\n",
       "      <td>852.7</td>\n",
       "      <td>1180.9</td>\n",
       "      <td>1415.5</td>\n",
       "      <td>1132.2</td>\n",
       "      <td>1.5</td>\n",
       "      <td>6.4</td>\n",
       "      <td>121.8</td>\n",
       "    </tr>\n",
       "  </tbody>\n",
       "</table>\n",
       "</div>"
      ],
      "text/plain": [
       "             date_time  deg_C  relative_humidity  absolute_humidity  sensor_1  \\\n",
       "0  2010-03-10 18:00:00   13.1               46.0             0.7578    1387.2   \n",
       "1  2010-03-10 19:00:00   13.2               45.3             0.7255    1279.1   \n",
       "2  2010-03-10 20:00:00   12.6               56.2             0.7502    1331.9   \n",
       "3  2010-03-10 21:00:00   11.0               62.4             0.7867    1321.0   \n",
       "4  2010-03-10 22:00:00   11.9               59.0             0.7888    1272.0   \n",
       "\n",
       "   sensor_2  sensor_3  sensor_4  sensor_5  target_carbon_monoxide  \\\n",
       "0    1087.8    1056.0    1742.8    1293.4                     2.5   \n",
       "1     888.2    1197.5    1449.9    1010.9                     2.1   \n",
       "2     929.6    1060.2    1586.1    1117.0                     2.2   \n",
       "3     929.0    1102.9    1536.5    1263.2                     2.2   \n",
       "4     852.7    1180.9    1415.5    1132.2                     1.5   \n",
       "\n",
       "   target_benzene  target_nitrogen_oxides  \n",
       "0            12.0                   167.7  \n",
       "1             9.9                    98.9  \n",
       "2             9.2                   127.1  \n",
       "3             9.7                   177.2  \n",
       "4             6.4                   121.8  "
      ]
     },
     "execution_count": 3,
     "metadata": {},
     "output_type": "execute_result"
    }
   ],
   "source": [
    "train.head()"
   ]
  },
  {
   "cell_type": "code",
   "execution_count": 4,
   "id": "funny-emperor",
   "metadata": {
    "execution": {
     "iopub.execute_input": "2021-07-01T01:53:48.012260Z",
     "iopub.status.busy": "2021-07-01T01:53:48.011707Z",
     "iopub.status.idle": "2021-07-01T01:53:48.022883Z",
     "shell.execute_reply": "2021-07-01T01:53:48.022437Z",
     "shell.execute_reply.started": "2021-07-01T01:11:50.996834Z"
    },
    "papermill": {
     "duration": 0.022752,
     "end_time": "2021-07-01T01:53:48.022988",
     "exception": false,
     "start_time": "2021-07-01T01:53:48.000236",
     "status": "completed"
    },
    "tags": []
   },
   "outputs": [],
   "source": [
    "train['date_time'] = pd.to_datetime(train['date_time'])\n",
    "test['date_time'] = pd.to_datetime(test['date_time'])"
   ]
  },
  {
   "cell_type": "code",
   "execution_count": 5,
   "id": "sharing-scratch",
   "metadata": {
    "execution": {
     "iopub.execute_input": "2021-07-01T01:53:48.047223Z",
     "iopub.status.busy": "2021-07-01T01:53:48.046608Z",
     "iopub.status.idle": "2021-07-01T01:53:48.050344Z",
     "shell.execute_reply": "2021-07-01T01:53:48.050775Z",
     "shell.execute_reply.started": "2021-07-01T01:11:57.125108Z"
    },
    "papermill": {
     "duration": 0.018215,
     "end_time": "2021-07-01T01:53:48.050932",
     "exception": false,
     "start_time": "2021-07-01T01:53:48.032717",
     "status": "completed"
    },
    "tags": []
   },
   "outputs": [
    {
     "name": "stdout",
     "output_type": "stream",
     "text": [
      "The starting date in train data in 2010-03-10 18:00:00\n",
      "The ending date in train data in 2011-01-01 00:00:00\n"
     ]
    }
   ],
   "source": [
    "print(f\"The starting date in train data in {train['date_time'].min()}\")\n",
    "print(f\"The ending date in train data in {train['date_time'].max()}\")"
   ]
  },
  {
   "cell_type": "code",
   "execution_count": 6,
   "id": "passing-monday",
   "metadata": {
    "execution": {
     "iopub.execute_input": "2021-07-01T01:53:48.076125Z",
     "iopub.status.busy": "2021-07-01T01:53:48.075462Z",
     "iopub.status.idle": "2021-07-01T01:53:48.078959Z",
     "shell.execute_reply": "2021-07-01T01:53:48.078424Z",
     "shell.execute_reply.started": "2021-07-01T01:12:15.412008Z"
    },
    "papermill": {
     "duration": 0.018269,
     "end_time": "2021-07-01T01:53:48.079080",
     "exception": false,
     "start_time": "2021-07-01T01:53:48.060811",
     "status": "completed"
    },
    "tags": []
   },
   "outputs": [
    {
     "name": "stdout",
     "output_type": "stream",
     "text": [
      "The starting date in test data in 2011-01-01 00:00:00\n",
      "The ending date in test data in 2011-04-04 14:00:00\n"
     ]
    }
   ],
   "source": [
    "print(f\"The starting date in test data in {test['date_time'].min()}\")\n",
    "print(f\"The ending date in test data in {test['date_time'].max()}\")"
   ]
  },
  {
   "cell_type": "code",
   "execution_count": 7,
   "id": "sweet-firewall",
   "metadata": {
    "execution": {
     "iopub.execute_input": "2021-07-01T01:53:48.102921Z",
     "iopub.status.busy": "2021-07-01T01:53:48.102429Z",
     "iopub.status.idle": "2021-07-01T01:53:48.105735Z",
     "shell.execute_reply": "2021-07-01T01:53:48.105207Z",
     "shell.execute_reply.started": "2021-07-01T01:19:53.861215Z"
    },
    "papermill": {
     "duration": 0.016605,
     "end_time": "2021-07-01T01:53:48.105841",
     "exception": false,
     "start_time": "2021-07-01T01:53:48.089236",
     "status": "completed"
    },
    "tags": []
   },
   "outputs": [],
   "source": [
    "def rmsle(ytrue, ypred):\n",
    "    return np.sqrt(mean_squared_log_error(ytrue, ypred))"
   ]
  },
  {
   "cell_type": "code",
   "execution_count": 8,
   "id": "serious-turkey",
   "metadata": {
    "execution": {
     "iopub.execute_input": "2021-07-01T01:53:48.142403Z",
     "iopub.status.busy": "2021-07-01T01:53:48.141446Z",
     "iopub.status.idle": "2021-07-01T01:53:48.144647Z",
     "shell.execute_reply": "2021-07-01T01:53:48.145231Z",
     "shell.execute_reply.started": "2021-07-01T01:22:20.021240Z"
    },
    "papermill": {
     "duration": 0.028898,
     "end_time": "2021-07-01T01:53:48.145443",
     "exception": false,
     "start_time": "2021-07-01T01:53:48.116545",
     "status": "completed"
    },
    "tags": []
   },
   "outputs": [
    {
     "data": {
      "text/plain": [
       "((7111, 8), (2247, 8), (7111, 3))"
      ]
     },
     "execution_count": 8,
     "metadata": {},
     "output_type": "execute_result"
    }
   ],
   "source": [
    "# Features to use:\n",
    "columns_to_use = ['deg_C','relative_humidity','absolute_humidity','sensor_1','sensor_2','sensor_3','sensor_4','sensor_5']\n",
    "y_train = train[['target_carbon_monoxide', 'target_benzene', 'target_nitrogen_oxides']]\n",
    "x_train = train.drop(['date_time','target_carbon_monoxide', 'target_benzene', 'target_nitrogen_oxides'], axis=1)\n",
    "x_test = test.drop(['date_time'], axis=1)\n",
    "x_train.shape, x_test.shape, y_train.shape"
   ]
  },
  {
   "cell_type": "code",
   "execution_count": 9,
   "id": "utility-onion",
   "metadata": {
    "execution": {
     "iopub.execute_input": "2021-07-01T01:53:48.184834Z",
     "iopub.status.busy": "2021-07-01T01:53:48.177805Z",
     "iopub.status.idle": "2021-07-01T01:53:48.188195Z",
     "shell.execute_reply": "2021-07-01T01:53:48.187396Z",
     "shell.execute_reply.started": "2021-07-01T01:32:31.402710Z"
    },
    "papermill": {
     "duration": 0.027835,
     "end_time": "2021-07-01T01:53:48.188377",
     "exception": false,
     "start_time": "2021-07-01T01:53:48.160542",
     "status": "completed"
    },
    "tags": []
   },
   "outputs": [
    {
     "data": {
      "text/plain": [
       "0       167.7\n",
       "1        98.9\n",
       "2       127.1\n",
       "3       177.2\n",
       "4       121.8\n",
       "        ...  \n",
       "7106    191.1\n",
       "7107    221.3\n",
       "7108    227.4\n",
       "7109    199.8\n",
       "7110    186.5\n",
       "Name: target_nitrogen_oxides, Length: 7111, dtype: float64"
      ]
     },
     "execution_count": 9,
     "metadata": {},
     "output_type": "execute_result"
    }
   ],
   "source": [
    "y_train.iloc[:, 2]"
   ]
  },
  {
   "cell_type": "code",
   "execution_count": 10,
   "id": "vital-microphone",
   "metadata": {
    "execution": {
     "iopub.execute_input": "2021-07-01T01:53:48.225808Z",
     "iopub.status.busy": "2021-07-01T01:53:48.225204Z",
     "iopub.status.idle": "2021-07-01T01:53:58.406367Z",
     "shell.execute_reply": "2021-07-01T01:53:58.405699Z",
     "shell.execute_reply.started": "2021-07-01T01:53:17.059598Z"
    },
    "papermill": {
     "duration": 10.20103,
     "end_time": "2021-07-01T01:53:58.406499",
     "exception": false,
     "start_time": "2021-07-01T01:53:48.205469",
     "status": "completed"
    },
    "tags": []
   },
   "outputs": [
    {
     "data": {
      "text/html": [
       "<div>\n",
       "<style scoped>\n",
       "    .dataframe tbody tr th:only-of-type {\n",
       "        vertical-align: middle;\n",
       "    }\n",
       "\n",
       "    .dataframe tbody tr th {\n",
       "        vertical-align: top;\n",
       "    }\n",
       "\n",
       "    .dataframe thead th {\n",
       "        text-align: right;\n",
       "    }\n",
       "</style>\n",
       "<table border=\"1\" class=\"dataframe\">\n",
       "  <thead>\n",
       "    <tr style=\"text-align: right;\">\n",
       "      <th></th>\n",
       "      <th>date_time</th>\n",
       "      <th>target_carbon_monoxide</th>\n",
       "      <th>target_benzene</th>\n",
       "      <th>target_nitrogen_oxides</th>\n",
       "    </tr>\n",
       "  </thead>\n",
       "  <tbody>\n",
       "    <tr>\n",
       "      <th>0</th>\n",
       "      <td>2011-01-01 00:00:00</td>\n",
       "      <td>1.915729</td>\n",
       "      <td>5.991015</td>\n",
       "      <td>263.393974</td>\n",
       "    </tr>\n",
       "    <tr>\n",
       "      <th>1</th>\n",
       "      <td>2011-01-01 01:00:00</td>\n",
       "      <td>2.627029</td>\n",
       "      <td>9.001099</td>\n",
       "      <td>345.849897</td>\n",
       "    </tr>\n",
       "    <tr>\n",
       "      <th>2</th>\n",
       "      <td>2011-01-01 02:00:00</td>\n",
       "      <td>2.306136</td>\n",
       "      <td>8.346452</td>\n",
       "      <td>288.529597</td>\n",
       "    </tr>\n",
       "    <tr>\n",
       "      <th>3</th>\n",
       "      <td>2011-01-01 03:00:00</td>\n",
       "      <td>2.392457</td>\n",
       "      <td>8.909213</td>\n",
       "      <td>281.456846</td>\n",
       "    </tr>\n",
       "    <tr>\n",
       "      <th>4</th>\n",
       "      <td>2011-01-01 04:00:00</td>\n",
       "      <td>1.866613</td>\n",
       "      <td>6.858150</td>\n",
       "      <td>230.660041</td>\n",
       "    </tr>\n",
       "  </tbody>\n",
       "</table>\n",
       "</div>"
      ],
      "text/plain": [
       "             date_time  target_carbon_monoxide  target_benzene  \\\n",
       "0  2011-01-01 00:00:00                1.915729        5.991015   \n",
       "1  2011-01-01 01:00:00                2.627029        9.001099   \n",
       "2  2011-01-01 02:00:00                2.306136        8.346452   \n",
       "3  2011-01-01 03:00:00                2.392457        8.909213   \n",
       "4  2011-01-01 04:00:00                1.866613        6.858150   \n",
       "\n",
       "   target_nitrogen_oxides  \n",
       "0              263.393974  \n",
       "1              345.849897  \n",
       "2              288.529597  \n",
       "3              281.456846  \n",
       "4              230.660041  "
      ]
     },
     "execution_count": 10,
     "metadata": {},
     "output_type": "execute_result"
    }
   ],
   "source": [
    "xgb = SVR()\n",
    "xgb.fit(x_train, y_train.iloc[:, 0])\n",
    "submission['target_carbon_monoxide'] = xgb.predict(x_test)\n",
    "\n",
    "xgb = SVR()\n",
    "xgb.fit(x_train, y_train.iloc[:, 1])\n",
    "submission['target_benzene'] = xgb.predict(x_test)\n",
    "\n",
    "xgb = SVR()\n",
    "xgb.fit(x_train, y_train.iloc[:, 2])\n",
    "submission['target_nitrogen_oxides'] = xgb.predict(x_test)\n",
    "\n",
    "submission.head()"
   ]
  },
  {
   "cell_type": "code",
   "execution_count": 11,
   "id": "capital-blake",
   "metadata": {
    "execution": {
     "iopub.execute_input": "2021-07-01T01:53:58.434202Z",
     "iopub.status.busy": "2021-07-01T01:53:58.433645Z",
     "iopub.status.idle": "2021-07-01T01:53:58.456232Z",
     "shell.execute_reply": "2021-07-01T01:53:58.455748Z",
     "shell.execute_reply.started": "2021-07-01T01:24:34.403306Z"
    },
    "papermill": {
     "duration": 0.037635,
     "end_time": "2021-07-01T01:53:58.456361",
     "exception": false,
     "start_time": "2021-07-01T01:53:58.418726",
     "status": "completed"
    },
    "tags": []
   },
   "outputs": [],
   "source": [
    "submission.to_csv('submission.csv', index=False)"
   ]
  }
 ],
 "metadata": {
  "kernelspec": {
   "display_name": "Python 3",
   "language": "python",
   "name": "python3"
  },
  "language_info": {
   "codemirror_mode": {
    "name": "ipython",
    "version": 3
   },
   "file_extension": ".py",
   "mimetype": "text/x-python",
   "name": "python",
   "nbconvert_exporter": "python",
   "pygments_lexer": "ipython3",
   "version": "3.7.10"
  },
  "papermill": {
   "default_parameters": {},
   "duration": 20.344047,
   "end_time": "2021-07-01T01:53:59.177237",
   "environment_variables": {},
   "exception": null,
   "input_path": "__notebook__.ipynb",
   "output_path": "__notebook__.ipynb",
   "parameters": {},
   "start_time": "2021-07-01T01:53:38.833190",
   "version": "2.3.3"
  }
 },
 "nbformat": 4,
 "nbformat_minor": 5
}
