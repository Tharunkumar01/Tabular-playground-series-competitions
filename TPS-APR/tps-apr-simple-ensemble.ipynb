{
 "cells": [
  {
   "cell_type": "markdown",
   "id": "cognitive-buddy",
   "metadata": {
    "papermill": {
     "duration": 0.010988,
     "end_time": "2021-04-30T08:31:31.325013",
     "exception": false,
     "start_time": "2021-04-30T08:31:31.314025",
     "status": "completed"
    },
    "tags": []
   },
   "source": [
    "## Kudos to these notebooks\n",
    "\n",
    "1. https://www.kaggle.com/remekkinas/ensemble-learning-meta-classifier-for-stacking\n",
    "2. https://www.kaggle.com/gomes555/tps-apr2021-catboost-run-pseudo-label\n",
    "3. https://www.kaggle.com/alexryzhkov/lightautoml-interpretable-model-autowoe\n",
    "4. https://www.kaggle.com/hiro5299834/tps-apr-2021-pseudo-labeling-voting-ensemble"
   ]
  },
  {
   "cell_type": "markdown",
   "id": "rational-sodium",
   "metadata": {
    "papermill": {
     "duration": 0.011084,
     "end_time": "2021-04-30T08:31:31.347850",
     "exception": false,
     "start_time": "2021-04-30T08:31:31.336766",
     "status": "completed"
    },
    "tags": []
   },
   "source": [
    "## Load libraries"
   ]
  },
  {
   "cell_type": "code",
   "execution_count": 1,
   "id": "sound-rolling",
   "metadata": {
    "execution": {
     "iopub.execute_input": "2021-04-30T08:31:31.388497Z",
     "iopub.status.busy": "2021-04-30T08:31:31.387734Z",
     "iopub.status.idle": "2021-04-30T08:31:31.396201Z",
     "shell.execute_reply": "2021-04-30T08:31:31.395391Z"
    },
    "papermill": {
     "duration": 0.031592,
     "end_time": "2021-04-30T08:31:31.396745",
     "exception": false,
     "start_time": "2021-04-30T08:31:31.365153",
     "status": "completed"
    },
    "tags": []
   },
   "outputs": [],
   "source": [
    "import numpy as np \n",
    "import pandas as pd "
   ]
  },
  {
   "cell_type": "markdown",
   "id": "uniform-metro",
   "metadata": {
    "papermill": {
     "duration": 0.016184,
     "end_time": "2021-04-30T08:31:31.424774",
     "exception": false,
     "start_time": "2021-04-30T08:31:31.408590",
     "status": "completed"
    },
    "tags": []
   },
   "source": [
    "## Read data"
   ]
  },
  {
   "cell_type": "code",
   "execution_count": 2,
   "id": "virtual-brake",
   "metadata": {
    "execution": {
     "iopub.execute_input": "2021-04-30T08:31:31.461639Z",
     "iopub.status.busy": "2021-04-30T08:31:31.460957Z",
     "iopub.status.idle": "2021-04-30T08:31:31.515592Z",
     "shell.execute_reply": "2021-04-30T08:31:31.516622Z"
    },
    "papermill": {
     "duration": 0.077598,
     "end_time": "2021-04-30T08:31:31.516840",
     "exception": false,
     "start_time": "2021-04-30T08:31:31.439242",
     "status": "completed"
    },
    "tags": []
   },
   "outputs": [],
   "source": [
    "sub = pd.read_csv('/kaggle/input/tabular-playground-series-apr-2021/sample_submission.csv')"
   ]
  },
  {
   "cell_type": "code",
   "execution_count": 3,
   "id": "communist-defendant",
   "metadata": {
    "execution": {
     "iopub.execute_input": "2021-04-30T08:31:31.549464Z",
     "iopub.status.busy": "2021-04-30T08:31:31.548653Z",
     "iopub.status.idle": "2021-04-30T08:31:31.805857Z",
     "shell.execute_reply": "2021-04-30T08:31:31.805202Z"
    },
    "papermill": {
     "duration": 0.278531,
     "end_time": "2021-04-30T08:31:31.806072",
     "exception": false,
     "start_time": "2021-04-30T08:31:31.527541",
     "status": "completed"
    },
    "tags": []
   },
   "outputs": [],
   "source": [
    "sub1 = pd.read_csv('../input/mljar-submission/mljar_submission.csv') \n",
    "sub2 = pd.read_csv('../input/ensembles-1/mljar_second_0.960938.csv') \n",
    "sub3 = pd.read_csv('../input/ensembles-1/2_mljar_submission.csv') \n",
    "sub4 = pd.read_csv('../input/ensembles-1/last_sub_mljar_2.csv')"
   ]
  },
  {
   "cell_type": "markdown",
   "id": "growing-equality",
   "metadata": {
    "papermill": {
     "duration": 0.009911,
     "end_time": "2021-04-30T08:31:31.826549",
     "exception": false,
     "start_time": "2021-04-30T08:31:31.816638",
     "status": "completed"
    },
    "tags": []
   },
   "source": [
    "## Submit"
   ]
  },
  {
   "cell_type": "code",
   "execution_count": 4,
   "id": "royal-composer",
   "metadata": {
    "execution": {
     "iopub.execute_input": "2021-04-30T08:31:31.861732Z",
     "iopub.status.busy": "2021-04-30T08:31:31.861021Z",
     "iopub.status.idle": "2021-04-30T08:31:32.052997Z",
     "shell.execute_reply": "2021-04-30T08:31:32.051339Z"
    },
    "papermill": {
     "duration": 0.21658,
     "end_time": "2021-04-30T08:31:32.053345",
     "exception": false,
     "start_time": "2021-04-30T08:31:31.836765",
     "status": "completed"
    },
    "tags": []
   },
   "outputs": [
    {
     "data": {
      "text/plain": [
       "0.34336"
      ]
     },
     "execution_count": 4,
     "metadata": {},
     "output_type": "execute_result"
    }
   ],
   "source": [
    "res = (2*sub1['Survived'] + sub2['Survived'] + sub3['Survived'] + 2*sub4['Survived'])/6\n",
    "sub.Survived = np.where(res > 0.5, 1, 0).astype(int)\n",
    "\n",
    "sub.to_csv(\"last_submission.csv\", index = False)\n",
    "sub['Survived'].mean()"
   ]
  },
  {
   "cell_type": "markdown",
   "id": "supported-range",
   "metadata": {
    "papermill": {
     "duration": 0.015365,
     "end_time": "2021-04-30T08:31:32.081602",
     "exception": false,
     "start_time": "2021-04-30T08:31:32.066237",
     "status": "completed"
    },
    "tags": []
   },
   "source": [
    "## Don't forget to upvote this and previous author's notebook"
   ]
  },
  {
   "cell_type": "code",
   "execution_count": null,
   "id": "descending-geography",
   "metadata": {
    "papermill": {
     "duration": 0.009995,
     "end_time": "2021-04-30T08:31:32.105823",
     "exception": false,
     "start_time": "2021-04-30T08:31:32.095828",
     "status": "completed"
    },
    "tags": []
   },
   "outputs": [],
   "source": []
  }
 ],
 "metadata": {
  "kernelspec": {
   "display_name": "Python 3",
   "language": "python",
   "name": "python3"
  },
  "language_info": {
   "codemirror_mode": {
    "name": "ipython",
    "version": 3
   },
   "file_extension": ".py",
   "mimetype": "text/x-python",
   "name": "python",
   "nbconvert_exporter": "python",
   "pygments_lexer": "ipython3",
   "version": "3.7.10"
  },
  "papermill": {
   "default_parameters": {},
   "duration": 11.306777,
   "end_time": "2021-04-30T08:31:32.931734",
   "environment_variables": {},
   "exception": null,
   "input_path": "__notebook__.ipynb",
   "output_path": "__notebook__.ipynb",
   "parameters": {},
   "start_time": "2021-04-30T08:31:21.624957",
   "version": "2.3.3"
  }
 },
 "nbformat": 4,
 "nbformat_minor": 5
}
