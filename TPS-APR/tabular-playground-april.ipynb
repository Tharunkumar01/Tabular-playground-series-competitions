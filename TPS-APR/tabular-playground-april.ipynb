{
 "cells": [
  {
   "cell_type": "code",
   "execution_count": 1,
   "id": "appropriate-poultry",
   "metadata": {
    "execution": {
     "iopub.execute_input": "2021-04-04T08:46:43.693341Z",
     "iopub.status.busy": "2021-04-04T08:46:43.691563Z",
     "iopub.status.idle": "2021-04-04T08:47:53.544007Z",
     "shell.execute_reply": "2021-04-04T08:47:53.542484Z"
    },
    "papermill": {
     "duration": 69.864802,
     "end_time": "2021-04-04T08:47:53.544266",
     "exception": false,
     "start_time": "2021-04-04T08:46:43.679464",
     "status": "completed"
    },
    "tags": []
   },
   "outputs": [
    {
     "name": "stdout",
     "output_type": "stream",
     "text": [
      "Collecting mljar-supervised\r\n",
      "  Downloading mljar-supervised-0.10.3.tar.gz (101 kB)\r\n",
      "\u001b[K     |████████████████████████████████| 101 kB 392 kB/s \r\n",
      "\u001b[?25hRequirement already satisfied: numpy<1.20.0 in /opt/conda/lib/python3.7/site-packages (from mljar-supervised) (1.19.5)\r\n",
      "Collecting pandas==1.2.0\r\n",
      "  Downloading pandas-1.2.0-cp37-cp37m-manylinux1_x86_64.whl (9.9 MB)\r\n",
      "\u001b[K     |████████████████████████████████| 9.9 MB 7.7 MB/s \r\n",
      "\u001b[?25hCollecting scipy==1.6.1\r\n",
      "  Downloading scipy-1.6.1-cp37-cp37m-manylinux1_x86_64.whl (27.4 MB)\r\n",
      "\u001b[K     |████████████████████████████████| 27.4 MB 11.4 MB/s \r\n",
      "\u001b[?25hRequirement already satisfied: scikit-learn==0.24.1 in /opt/conda/lib/python3.7/site-packages (from mljar-supervised) (0.24.1)\r\n",
      "Requirement already satisfied: xgboost==1.3.3 in /opt/conda/lib/python3.7/site-packages (from mljar-supervised) (1.3.3)\r\n",
      "Collecting lightgbm==3.0.0\r\n",
      "  Downloading lightgbm-3.0.0-py2.py3-none-manylinux1_x86_64.whl (1.7 MB)\r\n",
      "\u001b[K     |████████████████████████████████| 1.7 MB 20.2 MB/s \r\n",
      "\u001b[?25hCollecting catboost==0.24.4\r\n",
      "  Downloading catboost-0.24.4-cp37-none-manylinux1_x86_64.whl (65.7 MB)\r\n",
      "\u001b[K     |████████████████████████████████| 65.7 MB 34 kB/s \r\n",
      "\u001b[?25hRequirement already satisfied: joblib==1.0.1 in /opt/conda/lib/python3.7/site-packages (from mljar-supervised) (1.0.1)\r\n",
      "Collecting cloudpickle==1.3.0\r\n",
      "  Downloading cloudpickle-1.3.0-py2.py3-none-any.whl (26 kB)\r\n",
      "Requirement already satisfied: pyarrow>=2.0.0 in /opt/conda/lib/python3.7/site-packages (from mljar-supervised) (3.0.0)\r\n",
      "Collecting tabulate==0.8.7\r\n",
      "  Downloading tabulate-0.8.7-py3-none-any.whl (24 kB)\r\n",
      "Requirement already satisfied: matplotlib>=3.2.2 in /opt/conda/lib/python3.7/site-packages (from mljar-supervised) (3.4.0)\r\n",
      "Collecting dtreeviz==1.0\r\n",
      "  Downloading dtreeviz-1.0.tar.gz (42 kB)\r\n",
      "\u001b[K     |████████████████████████████████| 42 kB 501 kB/s \r\n",
      "\u001b[?25hCollecting shap==0.36.0\r\n",
      "  Downloading shap-0.36.0.tar.gz (319 kB)\r\n",
      "\u001b[K     |████████████████████████████████| 319 kB 37.6 MB/s \r\n",
      "\u001b[?25hCollecting seaborn==0.10.1\r\n",
      "  Downloading seaborn-0.10.1-py3-none-any.whl (215 kB)\r\n",
      "\u001b[K     |████████████████████████████████| 215 kB 39.6 MB/s \r\n",
      "\u001b[?25hRequirement already satisfied: wordcloud==1.8.1 in /opt/conda/lib/python3.7/site-packages (from mljar-supervised) (1.8.1)\r\n",
      "Requirement already satisfied: category_encoders==2.2.2 in /opt/conda/lib/python3.7/site-packages (from mljar-supervised) (2.2.2)\r\n",
      "Requirement already satisfied: optuna==2.6.0 in /opt/conda/lib/python3.7/site-packages (from mljar-supervised) (2.6.0)\r\n",
      "Requirement already satisfied: plotly in /opt/conda/lib/python3.7/site-packages (from catboost==0.24.4->mljar-supervised) (4.14.3)\r\n",
      "Requirement already satisfied: six in /opt/conda/lib/python3.7/site-packages (from catboost==0.24.4->mljar-supervised) (1.15.0)\r\n",
      "Requirement already satisfied: graphviz in /opt/conda/lib/python3.7/site-packages (from catboost==0.24.4->mljar-supervised) (0.8.4)\r\n",
      "Requirement already satisfied: statsmodels>=0.9.0 in /opt/conda/lib/python3.7/site-packages (from category_encoders==2.2.2->mljar-supervised) (0.12.2)\r\n",
      "Requirement already satisfied: patsy>=0.5.1 in /opt/conda/lib/python3.7/site-packages (from category_encoders==2.2.2->mljar-supervised) (0.5.1)\r\n",
      "Collecting graphviz\r\n",
      "  Downloading graphviz-0.16-py2.py3-none-any.whl (19 kB)\r\n",
      "Collecting colour\r\n",
      "  Downloading colour-0.1.5-py2.py3-none-any.whl (23 kB)\r\n",
      "Requirement already satisfied: pytest in /opt/conda/lib/python3.7/site-packages (from dtreeviz==1.0->mljar-supervised) (6.2.2)\r\n",
      "Requirement already satisfied: cmaes>=0.8.2 in /opt/conda/lib/python3.7/site-packages (from optuna==2.6.0->mljar-supervised) (0.8.2)\r\n",
      "Requirement already satisfied: alembic in /opt/conda/lib/python3.7/site-packages (from optuna==2.6.0->mljar-supervised) (1.5.8)\r\n",
      "Requirement already satisfied: tqdm in /opt/conda/lib/python3.7/site-packages (from optuna==2.6.0->mljar-supervised) (4.56.2)\r\n",
      "Requirement already satisfied: sqlalchemy>=1.1.0 in /opt/conda/lib/python3.7/site-packages (from optuna==2.6.0->mljar-supervised) (1.3.23)\r\n",
      "Requirement already satisfied: colorlog in /opt/conda/lib/python3.7/site-packages (from optuna==2.6.0->mljar-supervised) (4.8.0)\r\n",
      "Requirement already satisfied: packaging>=20.0 in /opt/conda/lib/python3.7/site-packages (from optuna==2.6.0->mljar-supervised) (20.9)\r\n",
      "Requirement already satisfied: cliff in /opt/conda/lib/python3.7/site-packages (from optuna==2.6.0->mljar-supervised) (3.7.0)\r\n",
      "Requirement already satisfied: pytz>=2017.3 in /opt/conda/lib/python3.7/site-packages (from pandas==1.2.0->mljar-supervised) (2021.1)\r\n",
      "Requirement already satisfied: python-dateutil>=2.7.3 in /opt/conda/lib/python3.7/site-packages (from pandas==1.2.0->mljar-supervised) (2.8.1)\r\n",
      "Requirement already satisfied: threadpoolctl>=2.0.0 in /opt/conda/lib/python3.7/site-packages (from scikit-learn==0.24.1->mljar-supervised) (2.1.0)\r\n",
      "Requirement already satisfied: slicer in /opt/conda/lib/python3.7/site-packages (from shap==0.36.0->mljar-supervised) (0.0.7)\r\n",
      "Requirement already satisfied: numba in /opt/conda/lib/python3.7/site-packages (from shap==0.36.0->mljar-supervised) (0.52.0)\r\n",
      "Requirement already satisfied: pillow in /opt/conda/lib/python3.7/site-packages (from wordcloud==1.8.1->mljar-supervised) (7.2.0)\r\n",
      "Requirement already satisfied: cycler>=0.10 in /opt/conda/lib/python3.7/site-packages (from matplotlib>=3.2.2->mljar-supervised) (0.10.0)\r\n",
      "Requirement already satisfied: pyparsing>=2.2.1 in /opt/conda/lib/python3.7/site-packages (from matplotlib>=3.2.2->mljar-supervised) (2.4.7)\r\n",
      "Requirement already satisfied: kiwisolver>=1.0.1 in /opt/conda/lib/python3.7/site-packages (from matplotlib>=3.2.2->mljar-supervised) (1.3.1)\r\n",
      "Requirement already satisfied: Mako in /opt/conda/lib/python3.7/site-packages (from alembic->optuna==2.6.0->mljar-supervised) (1.1.4)\r\n",
      "Requirement already satisfied: python-editor>=0.3 in /opt/conda/lib/python3.7/site-packages (from alembic->optuna==2.6.0->mljar-supervised) (1.0.4)\r\n",
      "Requirement already satisfied: pbr!=2.1.0,>=2.0.0 in /opt/conda/lib/python3.7/site-packages (from cliff->optuna==2.6.0->mljar-supervised) (5.5.1)\r\n",
      "Requirement already satisfied: PyYAML>=3.12 in /opt/conda/lib/python3.7/site-packages (from cliff->optuna==2.6.0->mljar-supervised) (5.3.1)\r\n",
      "Requirement already satisfied: stevedore>=2.0.1 in /opt/conda/lib/python3.7/site-packages (from cliff->optuna==2.6.0->mljar-supervised) (3.3.0)\r\n",
      "Requirement already satisfied: PrettyTable>=0.7.2 in /opt/conda/lib/python3.7/site-packages (from cliff->optuna==2.6.0->mljar-supervised) (2.0.0)\r\n",
      "Requirement already satisfied: cmd2>=1.0.0 in /opt/conda/lib/python3.7/site-packages (from cliff->optuna==2.6.0->mljar-supervised) (1.5.0)\r\n",
      "Requirement already satisfied: wcwidth>=0.1.7 in /opt/conda/lib/python3.7/site-packages (from cmd2>=1.0.0->cliff->optuna==2.6.0->mljar-supervised) (0.2.5)\r\n",
      "Requirement already satisfied: pyperclip>=1.6 in /opt/conda/lib/python3.7/site-packages (from cmd2>=1.0.0->cliff->optuna==2.6.0->mljar-supervised) (1.8.2)\r\n",
      "Requirement already satisfied: importlib-metadata>=1.6.0 in /opt/conda/lib/python3.7/site-packages (from cmd2>=1.0.0->cliff->optuna==2.6.0->mljar-supervised) (3.4.0)\r\n",
      "Requirement already satisfied: colorama>=0.3.7 in /opt/conda/lib/python3.7/site-packages (from cmd2>=1.0.0->cliff->optuna==2.6.0->mljar-supervised) (0.4.4)\r\n",
      "Requirement already satisfied: attrs>=16.3.0 in /opt/conda/lib/python3.7/site-packages (from cmd2>=1.0.0->cliff->optuna==2.6.0->mljar-supervised) (20.3.0)\r\n",
      "Requirement already satisfied: zipp>=0.5 in /opt/conda/lib/python3.7/site-packages (from importlib-metadata>=1.6.0->cmd2>=1.0.0->cliff->optuna==2.6.0->mljar-supervised) (3.4.0)\r\n",
      "Requirement already satisfied: typing-extensions>=3.6.4 in /opt/conda/lib/python3.7/site-packages (from importlib-metadata>=1.6.0->cmd2>=1.0.0->cliff->optuna==2.6.0->mljar-supervised) (3.7.4.3)\r\n",
      "Requirement already satisfied: setuptools in /opt/conda/lib/python3.7/site-packages (from PrettyTable>=0.7.2->cliff->optuna==2.6.0->mljar-supervised) (49.6.0.post20210108)\r\n",
      "Requirement already satisfied: MarkupSafe>=0.9.2 in /opt/conda/lib/python3.7/site-packages (from Mako->alembic->optuna==2.6.0->mljar-supervised) (1.1.1)\r\n",
      "Requirement already satisfied: llvmlite<0.36,>=0.35.0 in /opt/conda/lib/python3.7/site-packages (from numba->shap==0.36.0->mljar-supervised) (0.35.0)\r\n",
      "Requirement already satisfied: retrying>=1.3.3 in /opt/conda/lib/python3.7/site-packages (from plotly->catboost==0.24.4->mljar-supervised) (1.3.3)\r\n",
      "Requirement already satisfied: iniconfig in /opt/conda/lib/python3.7/site-packages (from pytest->dtreeviz==1.0->mljar-supervised) (1.1.1)\r\n",
      "Requirement already satisfied: pluggy<1.0.0a1,>=0.12 in /opt/conda/lib/python3.7/site-packages (from pytest->dtreeviz==1.0->mljar-supervised) (0.13.1)\r\n",
      "Requirement already satisfied: py>=1.8.2 in /opt/conda/lib/python3.7/site-packages (from pytest->dtreeviz==1.0->mljar-supervised) (1.10.0)\r\n",
      "Requirement already satisfied: toml in /opt/conda/lib/python3.7/site-packages (from pytest->dtreeviz==1.0->mljar-supervised) (0.10.2)\r\n",
      "Building wheels for collected packages: mljar-supervised, dtreeviz, shap\r\n",
      "  Building wheel for mljar-supervised (setup.py) ... \u001b[?25l-\b \b\\\b \b|\b \bdone\r\n",
      "\u001b[?25h  Created wheel for mljar-supervised: filename=mljar_supervised-0.10.3-py3-none-any.whl size=134890 sha256=9b1d30efabe056305c702acd583d707e4216caefbb1971c33aa4eed4571e977f\r\n",
      "  Stored in directory: /root/.cache/pip/wheels/a3/c8/5a/5c3617a8488b49cb9d5ae6b2d79b0e4e6ddcf381def60fde7f\r\n",
      "  Building wheel for dtreeviz (setup.py) ... \u001b[?25l-\b \b\\\b \bdone\r\n",
      "\u001b[?25h  Created wheel for dtreeviz: filename=dtreeviz-1.0-py3-none-any.whl size=47219 sha256=199b692a950e8509fdf2117e7638f75976c5e64a9766d9e808dd6bea75201745\r\n",
      "  Stored in directory: /root/.cache/pip/wheels/0a/27/39/56e6216f118120c9a3d1c7a5f4ce96f06a98ccd20f691166fe\r\n",
      "  Building wheel for shap (setup.py) ... \u001b[?25l-\b \b\\\b \b|\b \b/\b \b-\b \b\\\b \bdone\r\n",
      "\u001b[?25h  Created wheel for shap: filename=shap-0.36.0-cp37-cp37m-linux_x86_64.whl size=461189 sha256=6a0b055ef70c5e5d3fbb1b708d8a72762f168cfb32eec95372395ee3a8536915\r\n",
      "  Stored in directory: /root/.cache/pip/wheels/6b/1e/4a/b1d65778aac48b677ac2a758251f9cccb338775e8d174f3696\r\n",
      "Successfully built mljar-supervised dtreeviz shap\r\n",
      "Installing collected packages: scipy, pandas, graphviz, colour, tabulate, shap, seaborn, lightgbm, dtreeviz, cloudpickle, catboost, mljar-supervised\r\n",
      "  Attempting uninstall: scipy\r\n",
      "    Found existing installation: scipy 1.5.4\r\n",
      "    Uninstalling scipy-1.5.4:\r\n",
      "      Successfully uninstalled scipy-1.5.4\r\n",
      "  Attempting uninstall: pandas\r\n",
      "    Found existing installation: pandas 1.2.2\r\n",
      "    Uninstalling pandas-1.2.2:\r\n",
      "      Successfully uninstalled pandas-1.2.2\r\n",
      "  Attempting uninstall: graphviz\r\n",
      "    Found existing installation: graphviz 0.8.4\r\n",
      "    Uninstalling graphviz-0.8.4:\r\n",
      "      Successfully uninstalled graphviz-0.8.4\r\n",
      "  Attempting uninstall: tabulate\r\n",
      "    Found existing installation: tabulate 0.8.9\r\n",
      "    Uninstalling tabulate-0.8.9:\r\n",
      "      Successfully uninstalled tabulate-0.8.9\r\n",
      "  Attempting uninstall: shap\r\n",
      "    Found existing installation: shap 0.39.0\r\n",
      "    Uninstalling shap-0.39.0:\r\n",
      "      Successfully uninstalled shap-0.39.0\r\n",
      "  Attempting uninstall: seaborn\r\n",
      "    Found existing installation: seaborn 0.11.1\r\n",
      "    Uninstalling seaborn-0.11.1:\r\n",
      "      Successfully uninstalled seaborn-0.11.1\r\n",
      "  Attempting uninstall: lightgbm\r\n",
      "    Found existing installation: lightgbm 3.1.1\r\n",
      "    Uninstalling lightgbm-3.1.1:\r\n",
      "      Successfully uninstalled lightgbm-3.1.1\r\n",
      "  Attempting uninstall: cloudpickle\r\n",
      "    Found existing installation: cloudpickle 1.6.0\r\n",
      "    Uninstalling cloudpickle-1.6.0:\r\n",
      "      Successfully uninstalled cloudpickle-1.6.0\r\n",
      "  Attempting uninstall: catboost\r\n",
      "    Found existing installation: catboost 0.25\r\n",
      "    Uninstalling catboost-0.25:\r\n",
      "      Successfully uninstalled catboost-0.25\r\n",
      "\u001b[31mERROR: pip's dependency resolver does not currently take into account all the packages that are installed. This behaviour is the source of the following dependency conflicts.\r\n",
      "pyldavis 3.3.1 requires numpy>=1.20.0, but you have numpy 1.19.5 which is incompatible.\r\n",
      "pdpbox 0.2.1 requires matplotlib==3.1.1, but you have matplotlib 3.4.0 which is incompatible.\r\n",
      "mxnet 1.8.0.post0 requires graphviz<0.9.0,>=0.8.1, but you have graphviz 0.16 which is incompatible.\r\n",
      "matrixprofile 1.1.10 requires protobuf==3.11.2, but you have protobuf 3.15.6 which is incompatible.\r\n",
      "distributed 2021.3.1 requires cloudpickle>=1.5.0, but you have cloudpickle 1.3.0 which is incompatible.\r\n",
      "autogluon-core 0.1.0 requires graphviz<0.9.0,>=0.8.1, but you have graphviz 0.16 which is incompatible.\r\n",
      "autogluon-core 0.1.0 requires scipy==1.5.4, but you have scipy 1.6.1 which is incompatible.\u001b[0m\r\n",
      "Successfully installed catboost-0.24.4 cloudpickle-1.3.0 colour-0.1.5 dtreeviz-1.0 graphviz-0.16 lightgbm-3.0.0 mljar-supervised-0.10.3 pandas-1.2.0 scipy-1.6.1 seaborn-0.10.1 shap-0.36.0 tabulate-0.8.7\r\n"
     ]
    }
   ],
   "source": [
    "!pip install mljar-supervised"
   ]
  },
  {
   "cell_type": "code",
   "execution_count": 2,
   "id": "ultimate-limitation",
   "metadata": {
    "execution": {
     "iopub.execute_input": "2021-04-04T08:47:53.804981Z",
     "iopub.status.busy": "2021-04-04T08:47:53.804046Z",
     "iopub.status.idle": "2021-04-04T08:47:57.484060Z",
     "shell.execute_reply": "2021-04-04T08:47:57.484665Z"
    },
    "papermill": {
     "duration": 3.81326,
     "end_time": "2021-04-04T08:47:57.484869",
     "exception": false,
     "start_time": "2021-04-04T08:47:53.671609",
     "status": "completed"
    },
    "tags": []
   },
   "outputs": [
    {
     "data": {
      "text/html": [
       "<style type='text/css'>\n",
       ".datatable table.frame { margin-bottom: 0; }\n",
       ".datatable table.frame thead { border-bottom: none; }\n",
       ".datatable table.frame tr.coltypes td {  color: #FFFFFF;  line-height: 6px;  padding: 0 0.5em;}\n",
       ".datatable .bool    { background: #DDDD99; }\n",
       ".datatable .object  { background: #565656; }\n",
       ".datatable .int     { background: #5D9E5D; }\n",
       ".datatable .float   { background: #4040CC; }\n",
       ".datatable .str     { background: #CC4040; }\n",
       ".datatable .row_index {  background: var(--jp-border-color3);  border-right: 1px solid var(--jp-border-color0);  color: var(--jp-ui-font-color3);  font-size: 9px;}\n",
       ".datatable .frame tr.coltypes .row_index {  background: var(--jp-border-color0);}\n",
       ".datatable th:nth-child(2) { padding-left: 12px; }\n",
       ".datatable .hellipsis {  color: var(--jp-cell-editor-border-color);}\n",
       ".datatable .vellipsis {  background: var(--jp-layout-color0);  color: var(--jp-cell-editor-border-color);}\n",
       ".datatable .na {  color: var(--jp-cell-editor-border-color);  font-size: 80%;}\n",
       ".datatable .footer { font-size: 9px; }\n",
       ".datatable .frame_dimensions {  background: var(--jp-border-color3);  border-top: 1px solid var(--jp-border-color0);  color: var(--jp-ui-font-color3);  display: inline-block;  opacity: 0.6;  padding: 1px 10px 1px 5px;}\n",
       "</style>\n"
      ],
      "text/plain": [
       "<IPython.core.display.HTML object>"
      ]
     },
     "metadata": {},
     "output_type": "display_data"
    }
   ],
   "source": [
    "import numpy as np\n",
    "import pandas as pd\n",
    "from supervised.automl import AutoML"
   ]
  },
  {
   "cell_type": "code",
   "execution_count": 3,
   "id": "cognitive-provider",
   "metadata": {
    "execution": {
     "iopub.execute_input": "2021-04-04T08:47:57.713057Z",
     "iopub.status.busy": "2021-04-04T08:47:57.712398Z",
     "iopub.status.idle": "2021-04-04T08:47:58.390572Z",
     "shell.execute_reply": "2021-04-04T08:47:58.391165Z"
    },
    "papermill": {
     "duration": 0.794485,
     "end_time": "2021-04-04T08:47:58.391350",
     "exception": false,
     "start_time": "2021-04-04T08:47:57.596865",
     "status": "completed"
    },
    "tags": []
   },
   "outputs": [],
   "source": [
    "train_df = pd.read_csv(\"../input/tabular-playground-series-apr-2021/train.csv\")\n",
    "test_df = pd.read_csv(\"../input/tabular-playground-series-apr-2021/test.csv\")\n"
   ]
  },
  {
   "cell_type": "code",
   "execution_count": 4,
   "id": "nasty-clause",
   "metadata": {
    "execution": {
     "iopub.execute_input": "2021-04-04T08:47:58.621757Z",
     "iopub.status.busy": "2021-04-04T08:47:58.621089Z",
     "iopub.status.idle": "2021-04-04T08:47:58.625701Z",
     "shell.execute_reply": "2021-04-04T08:47:58.626232Z"
    },
    "papermill": {
     "duration": 0.122101,
     "end_time": "2021-04-04T08:47:58.626418",
     "exception": false,
     "start_time": "2021-04-04T08:47:58.504317",
     "status": "completed"
    },
    "tags": []
   },
   "outputs": [],
   "source": [
    "x_cols = train_df.columns[2:].tolist()\n",
    "y_cols = train_df.columns[1]"
   ]
  },
  {
   "cell_type": "code",
   "execution_count": 5,
   "id": "studied-lightweight",
   "metadata": {
    "execution": {
     "iopub.execute_input": "2021-04-04T08:47:58.867794Z",
     "iopub.status.busy": "2021-04-04T08:47:58.866973Z",
     "iopub.status.idle": "2021-04-04T08:57:48.981888Z",
     "shell.execute_reply": "2021-04-04T08:57:48.981124Z"
    },
    "papermill": {
     "duration": 590.242195,
     "end_time": "2021-04-04T08:57:48.982205",
     "exception": false,
     "start_time": "2021-04-04T08:47:58.740010",
     "status": "completed"
    },
    "tags": []
   },
   "outputs": [
    {
     "name": "stdout",
     "output_type": "stream",
     "text": [
      "Linear algorithm was disabled.\n",
      "AutoML directory: AutoML_1\n",
      "The task is binary_classification with evaluation metric f1\n",
      "AutoML will use algorithms: ['Decision Tree', 'Random Forest', 'Extra Trees', 'LightGBM', 'Xgboost', 'CatBoost', 'Neural Network', 'Nearest Neighbors']\n",
      "AutoML will stack models\n",
      "AutoML will ensemble availabe models\n",
      "AutoML steps: ['adjust_validation', 'simple_algorithms', 'default_algorithms', 'not_so_random', 'mix_encoding', 'golden_features', 'kmeans_features', 'hill_climbing_1', 'hill_climbing_2', 'boost_on_errors', 'ensemble', 'stack', 'ensemble_stacked']\n",
      "* Step adjust_validation will try to check up to 1 model\n",
      "1_DecisionTree f1 0.747742 trained in 34.42 seconds\n",
      "Disable stacking for split validation\n",
      "* Step simple_algorithms will try to check up to 2 models\n",
      "2_DecisionTree f1 0.743776 trained in 32.21 seconds\n",
      "3_DecisionTree f1 0.743776 trained in 32.53 seconds\n",
      "* Step default_algorithms will try to check up to 7 models\n",
      "4_Default_LightGBM f1 0.736977 trained in 46.89 seconds\n",
      "5_Default_Xgboost f1 0.739644 trained in 48.57 seconds\n",
      "* Step not_so_random will try to check up to 63 models\n",
      "15_LightGBM f1 0.735568 trained in 45.75 seconds\n",
      "6_Xgboost f1 0.732708 trained in 50.91 seconds\n",
      "24_CatBoost f1 0.740172 trained in 41.36 seconds\n",
      "33_RandomForest f1 0.743274 trained in 111.69 seconds\n",
      "Skip mix_encoding because of the time limit.\n",
      "Skip golden_features because of the time limit.\n",
      "* Step kmeans_features will try to check up to 3 models\n",
      "1_DecisionTree_KMeansFeatures f1 0.747742 trained in 34.46 seconds\n",
      "* Step hill_climbing_1 will try to check up to 13 models\n",
      "34_DecisionTree f1 0.720405 trained in 30.93 seconds\n",
      "35_DecisionTree f1 0.720405 trained in 32.17 seconds\n",
      "* Step hill_climbing_2 will try to check up to 11 models\n",
      "36_DecisionTree f1 0.738816 trained in 32.83 seconds\n",
      "* Step ensemble will try to check up to 1 model\n",
      "Ensemble f1 0.749352 trained in 4.62 seconds\n",
      "AutoML fit time: 590.07 seconds\n",
      "AutoML best model: Ensemble\n"
     ]
    },
    {
     "data": {
      "text/plain": [
       "AutoML(eval_metric='f1', features_selection=False, mode='Compete',\n",
       "       total_time_limit=600)"
      ]
     },
     "execution_count": 5,
     "metadata": {},
     "output_type": "execute_result"
    }
   ],
   "source": [
    "automl = AutoML(mode=\"Compete\", eval_metric='f1', total_time_limit=600, features_selection=False)\n",
    "automl.fit(train_df[x_cols], train_df[y_cols])"
   ]
  },
  {
   "cell_type": "code",
   "execution_count": 6,
   "id": "statistical-omaha",
   "metadata": {
    "execution": {
     "iopub.execute_input": "2021-04-04T08:57:49.235011Z",
     "iopub.status.busy": "2021-04-04T08:57:49.234230Z",
     "iopub.status.idle": "2021-04-04T09:00:05.205913Z",
     "shell.execute_reply": "2021-04-04T09:00:05.206493Z"
    },
    "papermill": {
     "duration": 136.101478,
     "end_time": "2021-04-04T09:00:05.206753",
     "exception": false,
     "start_time": "2021-04-04T08:57:49.105275",
     "status": "completed"
    },
    "tags": []
   },
   "outputs": [],
   "source": [
    "preds = automl.predict(test_df[x_cols])"
   ]
  },
  {
   "cell_type": "code",
   "execution_count": 7,
   "id": "familiar-floating",
   "metadata": {
    "execution": {
     "iopub.execute_input": "2021-04-04T09:00:05.453624Z",
     "iopub.status.busy": "2021-04-04T09:00:05.452806Z",
     "iopub.status.idle": "2021-04-04T09:00:05.457389Z",
     "shell.execute_reply": "2021-04-04T09:00:05.456796Z"
    },
    "papermill": {
     "duration": 0.130322,
     "end_time": "2021-04-04T09:00:05.457552",
     "exception": false,
     "start_time": "2021-04-04T09:00:05.327230",
     "status": "completed"
    },
    "tags": []
   },
   "outputs": [
    {
     "data": {
      "text/plain": [
       "array([0, 1, 1, ..., 0, 1, 1])"
      ]
     },
     "execution_count": 7,
     "metadata": {},
     "output_type": "execute_result"
    }
   ],
   "source": [
    "preds"
   ]
  },
  {
   "cell_type": "code",
   "execution_count": 8,
   "id": "packed-google",
   "metadata": {
    "execution": {
     "iopub.execute_input": "2021-04-04T09:00:05.702233Z",
     "iopub.status.busy": "2021-04-04T09:00:05.701493Z",
     "iopub.status.idle": "2021-04-04T09:00:05.904062Z",
     "shell.execute_reply": "2021-04-04T09:00:05.904652Z"
    },
    "papermill": {
     "duration": 0.326452,
     "end_time": "2021-04-04T09:00:05.904859",
     "exception": false,
     "start_time": "2021-04-04T09:00:05.578407",
     "status": "completed"
    },
    "tags": []
   },
   "outputs": [],
   "source": [
    "submission = pd.DataFrame({'PassengerId':test_df.iloc[:,0], 'Survived':preds})\n",
    "submission.to_csv('submission.csv', index=False)"
   ]
  }
 ],
 "metadata": {
  "kernelspec": {
   "display_name": "Python 3",
   "language": "python",
   "name": "python3"
  },
  "language_info": {
   "codemirror_mode": {
    "name": "ipython",
    "version": 3
   },
   "file_extension": ".py",
   "mimetype": "text/x-python",
   "name": "python",
   "nbconvert_exporter": "python",
   "pygments_lexer": "ipython3",
   "version": "3.7.9"
  },
  "papermill": {
   "default_parameters": {},
   "duration": 811.157446,
   "end_time": "2021-04-04T09:00:08.041511",
   "environment_variables": {},
   "exception": null,
   "input_path": "__notebook__.ipynb",
   "output_path": "__notebook__.ipynb",
   "parameters": {},
   "start_time": "2021-04-04T08:46:36.884065",
   "version": "2.3.2"
  }
 },
 "nbformat": 4,
 "nbformat_minor": 5
}
