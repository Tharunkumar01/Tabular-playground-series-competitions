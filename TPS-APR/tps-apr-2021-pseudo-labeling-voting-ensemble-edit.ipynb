{
 "cells": [
  {
   "cell_type": "markdown",
   "id": "green-translator",
   "metadata": {
    "papermill": {
     "duration": 0.025415,
     "end_time": "2021-04-24T14:51:13.834554",
     "exception": false,
     "start_time": "2021-04-24T14:51:13.809139",
     "status": "completed"
    },
    "tags": []
   },
   "source": [
    "# Libraries"
   ]
  },
  {
   "cell_type": "code",
   "execution_count": 1,
   "id": "arctic-transfer",
   "metadata": {
    "execution": {
     "iopub.execute_input": "2021-04-24T14:51:13.890424Z",
     "iopub.status.busy": "2021-04-24T14:51:13.888957Z",
     "iopub.status.idle": "2021-04-24T14:51:55.251660Z",
     "shell.execute_reply": "2021-04-24T14:51:55.251091Z"
    },
    "papermill": {
     "duration": 41.391942,
     "end_time": "2021-04-24T14:51:55.251826",
     "exception": false,
     "start_time": "2021-04-24T14:51:13.859884",
     "status": "completed"
    },
    "tags": []
   },
   "outputs": [
    {
     "name": "stdout",
     "output_type": "stream",
     "text": [
      "Collecting kaggler\r\n",
      "  Downloading Kaggler-0.8.13.tar.gz (818 kB)\r\n",
      "\u001b[K     |████████████████████████████████| 818 kB 1.3 MB/s \r\n",
      "\u001b[?25hRequirement already satisfied: tensorflow in /opt/conda/lib/python3.7/site-packages (from kaggler) (2.4.1)\r\n",
      "Requirement already satisfied: cython in /opt/conda/lib/python3.7/site-packages (from kaggler) (0.29.22)\r\n",
      "Requirement already satisfied: hyperopt in /opt/conda/lib/python3.7/site-packages (from kaggler) (0.2.5)\r\n",
      "Requirement already satisfied: lightgbm in /opt/conda/lib/python3.7/site-packages (from kaggler) (3.1.1)\r\n",
      "Requirement already satisfied: ml-metrics in /opt/conda/lib/python3.7/site-packages (from kaggler) (0.1.4)\r\n",
      "Requirement already satisfied: statsmodels in /opt/conda/lib/python3.7/site-packages (from kaggler) (0.12.2)\r\n",
      "Requirement already satisfied: matplotlib in /opt/conda/lib/python3.7/site-packages (from kaggler) (3.4.0)\r\n",
      "Requirement already satisfied: kaggle in /opt/conda/lib/python3.7/site-packages (from kaggler) (1.5.12)\r\n",
      "Requirement already satisfied: keras in /opt/conda/lib/python3.7/site-packages (from kaggler) (2.4.3)\r\n",
      "Requirement already satisfied: xgboost in /opt/conda/lib/python3.7/site-packages (from kaggler) (1.3.3)\r\n",
      "Requirement already satisfied: numpy in /opt/conda/lib/python3.7/site-packages (from hyperopt->kaggler) (1.19.5)\r\n",
      "Requirement already satisfied: tqdm in /opt/conda/lib/python3.7/site-packages (from hyperopt->kaggler) (4.56.2)\r\n",
      "Requirement already satisfied: six in /opt/conda/lib/python3.7/site-packages (from hyperopt->kaggler) (1.15.0)\r\n",
      "Requirement already satisfied: networkx>=2.2 in /opt/conda/lib/python3.7/site-packages (from hyperopt->kaggler) (2.5)\r\n",
      "Requirement already satisfied: future in /opt/conda/lib/python3.7/site-packages (from hyperopt->kaggler) (0.18.2)\r\n",
      "Requirement already satisfied: scipy in /opt/conda/lib/python3.7/site-packages (from hyperopt->kaggler) (1.5.4)\r\n",
      "Requirement already satisfied: cloudpickle in /opt/conda/lib/python3.7/site-packages (from hyperopt->kaggler) (1.6.0)\r\n",
      "Requirement already satisfied: decorator>=4.3.0 in /opt/conda/lib/python3.7/site-packages (from networkx>=2.2->hyperopt->kaggler) (4.4.2)\r\n",
      "Requirement already satisfied: requests in /opt/conda/lib/python3.7/site-packages (from kaggle->kaggler) (2.25.1)\r\n",
      "Requirement already satisfied: python-dateutil in /opt/conda/lib/python3.7/site-packages (from kaggle->kaggler) (2.8.1)\r\n",
      "Requirement already satisfied: certifi in /opt/conda/lib/python3.7/site-packages (from kaggle->kaggler) (2020.12.5)\r\n",
      "Requirement already satisfied: python-slugify in /opt/conda/lib/python3.7/site-packages (from kaggle->kaggler) (4.0.1)\r\n",
      "Requirement already satisfied: urllib3 in /opt/conda/lib/python3.7/site-packages (from kaggle->kaggler) (1.26.3)\r\n",
      "Requirement already satisfied: pyyaml in /opt/conda/lib/python3.7/site-packages (from keras->kaggler) (5.3.1)\r\n",
      "Requirement already satisfied: h5py in /opt/conda/lib/python3.7/site-packages (from keras->kaggler) (2.10.0)\r\n",
      "Requirement already satisfied: wheel in /opt/conda/lib/python3.7/site-packages (from lightgbm->kaggler) (0.36.2)\r\n",
      "Requirement already satisfied: scikit-learn!=0.22.0 in /opt/conda/lib/python3.7/site-packages (from lightgbm->kaggler) (0.24.1)\r\n",
      "Requirement already satisfied: threadpoolctl>=2.0.0 in /opt/conda/lib/python3.7/site-packages (from scikit-learn!=0.22.0->lightgbm->kaggler) (2.1.0)\r\n",
      "Requirement already satisfied: joblib>=0.11 in /opt/conda/lib/python3.7/site-packages (from scikit-learn!=0.22.0->lightgbm->kaggler) (1.0.1)\r\n",
      "Requirement already satisfied: kiwisolver>=1.0.1 in /opt/conda/lib/python3.7/site-packages (from matplotlib->kaggler) (1.3.1)\r\n",
      "Requirement already satisfied: pyparsing>=2.2.1 in /opt/conda/lib/python3.7/site-packages (from matplotlib->kaggler) (2.4.7)\r\n",
      "Requirement already satisfied: cycler>=0.10 in /opt/conda/lib/python3.7/site-packages (from matplotlib->kaggler) (0.10.0)\r\n",
      "Requirement already satisfied: pillow>=6.2.0 in /opt/conda/lib/python3.7/site-packages (from matplotlib->kaggler) (7.2.0)\r\n",
      "Requirement already satisfied: pandas in /opt/conda/lib/python3.7/site-packages (from ml-metrics->kaggler) (1.1.5)\r\n",
      "Requirement already satisfied: pytz>=2017.2 in /opt/conda/lib/python3.7/site-packages (from pandas->ml-metrics->kaggler) (2021.1)\r\n",
      "Requirement already satisfied: text-unidecode>=1.3 in /opt/conda/lib/python3.7/site-packages (from python-slugify->kaggle->kaggler) (1.3)\r\n",
      "Requirement already satisfied: chardet<5,>=3.0.2 in /opt/conda/lib/python3.7/site-packages (from requests->kaggle->kaggler) (3.0.4)\r\n",
      "Requirement already satisfied: idna<3,>=2.5 in /opt/conda/lib/python3.7/site-packages (from requests->kaggle->kaggler) (2.10)\r\n",
      "Requirement already satisfied: patsy>=0.5 in /opt/conda/lib/python3.7/site-packages (from statsmodels->kaggler) (0.5.1)\r\n",
      "Requirement already satisfied: flatbuffers~=1.12.0 in /opt/conda/lib/python3.7/site-packages (from tensorflow->kaggler) (1.12)\r\n",
      "Requirement already satisfied: termcolor~=1.1.0 in /opt/conda/lib/python3.7/site-packages (from tensorflow->kaggler) (1.1.0)\r\n",
      "Requirement already satisfied: typing-extensions~=3.7.4 in /opt/conda/lib/python3.7/site-packages (from tensorflow->kaggler) (3.7.4.3)\r\n",
      "Requirement already satisfied: tensorflow-estimator<2.5.0,>=2.4.0 in /opt/conda/lib/python3.7/site-packages (from tensorflow->kaggler) (2.4.0)\r\n",
      "Requirement already satisfied: gast==0.3.3 in /opt/conda/lib/python3.7/site-packages (from tensorflow->kaggler) (0.3.3)\r\n",
      "Requirement already satisfied: keras-preprocessing~=1.1.2 in /opt/conda/lib/python3.7/site-packages (from tensorflow->kaggler) (1.1.2)\r\n",
      "Requirement already satisfied: astunparse~=1.6.3 in /opt/conda/lib/python3.7/site-packages (from tensorflow->kaggler) (1.6.3)\r\n",
      "Requirement already satisfied: grpcio~=1.32.0 in /opt/conda/lib/python3.7/site-packages (from tensorflow->kaggler) (1.32.0)\r\n",
      "Requirement already satisfied: tensorboard~=2.4 in /opt/conda/lib/python3.7/site-packages (from tensorflow->kaggler) (2.4.1)\r\n",
      "Requirement already satisfied: absl-py~=0.10 in /opt/conda/lib/python3.7/site-packages (from tensorflow->kaggler) (0.12.0)\r\n",
      "Requirement already satisfied: google-pasta~=0.2 in /opt/conda/lib/python3.7/site-packages (from tensorflow->kaggler) (0.2.0)\r\n",
      "Requirement already satisfied: wrapt~=1.12.1 in /opt/conda/lib/python3.7/site-packages (from tensorflow->kaggler) (1.12.1)\r\n",
      "Requirement already satisfied: opt-einsum~=3.3.0 in /opt/conda/lib/python3.7/site-packages (from tensorflow->kaggler) (3.3.0)\r\n",
      "Requirement already satisfied: protobuf>=3.9.2 in /opt/conda/lib/python3.7/site-packages (from tensorflow->kaggler) (3.15.6)\r\n",
      "Requirement already satisfied: werkzeug>=0.11.15 in /opt/conda/lib/python3.7/site-packages (from tensorboard~=2.4->tensorflow->kaggler) (1.0.1)\r\n",
      "Requirement already satisfied: google-auth<2,>=1.6.3 in /opt/conda/lib/python3.7/site-packages (from tensorboard~=2.4->tensorflow->kaggler) (1.24.0)\r\n",
      "Requirement already satisfied: markdown>=2.6.8 in /opt/conda/lib/python3.7/site-packages (from tensorboard~=2.4->tensorflow->kaggler) (3.3.3)\r\n",
      "Requirement already satisfied: setuptools>=41.0.0 in /opt/conda/lib/python3.7/site-packages (from tensorboard~=2.4->tensorflow->kaggler) (49.6.0.post20210108)\r\n",
      "Requirement already satisfied: tensorboard-plugin-wit>=1.6.0 in /opt/conda/lib/python3.7/site-packages (from tensorboard~=2.4->tensorflow->kaggler) (1.8.0)\r\n",
      "Requirement already satisfied: google-auth-oauthlib<0.5,>=0.4.1 in /opt/conda/lib/python3.7/site-packages (from tensorboard~=2.4->tensorflow->kaggler) (0.4.2)\r\n",
      "Requirement already satisfied: cachetools<5.0,>=2.0.0 in /opt/conda/lib/python3.7/site-packages (from google-auth<2,>=1.6.3->tensorboard~=2.4->tensorflow->kaggler) (4.2.1)\r\n",
      "Requirement already satisfied: rsa<5,>=3.1.4 in /opt/conda/lib/python3.7/site-packages (from google-auth<2,>=1.6.3->tensorboard~=2.4->tensorflow->kaggler) (4.7.1)\r\n",
      "Requirement already satisfied: pyasn1-modules>=0.2.1 in /opt/conda/lib/python3.7/site-packages (from google-auth<2,>=1.6.3->tensorboard~=2.4->tensorflow->kaggler) (0.2.7)\r\n",
      "Requirement already satisfied: requests-oauthlib>=0.7.0 in /opt/conda/lib/python3.7/site-packages (from google-auth-oauthlib<0.5,>=0.4.1->tensorboard~=2.4->tensorflow->kaggler) (1.3.0)\r\n",
      "Requirement already satisfied: importlib-metadata in /opt/conda/lib/python3.7/site-packages (from markdown>=2.6.8->tensorboard~=2.4->tensorflow->kaggler) (3.4.0)\r\n",
      "Requirement already satisfied: pyasn1<0.5.0,>=0.4.6 in /opt/conda/lib/python3.7/site-packages (from pyasn1-modules>=0.2.1->google-auth<2,>=1.6.3->tensorboard~=2.4->tensorflow->kaggler) (0.4.8)\r\n",
      "Requirement already satisfied: oauthlib>=3.0.0 in /opt/conda/lib/python3.7/site-packages (from requests-oauthlib>=0.7.0->google-auth-oauthlib<0.5,>=0.4.1->tensorboard~=2.4->tensorflow->kaggler) (3.0.1)\r\n",
      "Requirement already satisfied: zipp>=0.5 in /opt/conda/lib/python3.7/site-packages (from importlib-metadata->markdown>=2.6.8->tensorboard~=2.4->tensorflow->kaggler) (3.4.0)\r\n",
      "Building wheels for collected packages: kaggler\r\n",
      "  Building wheel for kaggler (setup.py) ... \u001b[?25l-\b \b\\\b \b|\b \b/\b \b-\b \b\\\b \b|\b \b/\b \b-\b \b\\\b \b|\b \b/\b \b-\b \b\\\b \b|\b \b/\b \b-\b \b\\\b \b|\b \bdone\r\n",
      "\u001b[?25h  Created wheel for kaggler: filename=Kaggler-0.8.13-cp37-cp37m-linux_x86_64.whl size=2136988 sha256=f4c5a92ad6be5042806156817d9bc0adb9e69e5dcf32282e3e673408f493f78c\r\n",
      "  Stored in directory: /root/.cache/pip/wheels/7b/86/67/f26c540f45ad37dde626e6dae72e56701a0b7ab7e1999cbe5e\r\n",
      "Successfully built kaggler\r\n",
      "Installing collected packages: kaggler\r\n",
      "Successfully installed kaggler-0.8.13\r\n"
     ]
    }
   ],
   "source": [
    "!pip install kaggler"
   ]
  },
  {
   "cell_type": "code",
   "execution_count": 2,
   "id": "ignored-pacific",
   "metadata": {
    "ExecuteTime": {
     "end_time": "2021-04-05T07:36:19.629205Z",
     "start_time": "2021-04-05T07:36:19.625401Z"
    },
    "_cell_guid": "e084ed06-ea73-4241-8faa-7be314013adb",
    "_uuid": "8422c101-b93a-4f1e-b917-272554859ddb",
    "collapsed": false,
    "execution": {
     "iopub.execute_input": "2021-04-24T14:51:55.327855Z",
     "iopub.status.busy": "2021-04-24T14:51:55.327094Z",
     "iopub.status.idle": "2021-04-24T14:52:05.247376Z",
     "shell.execute_reply": "2021-04-24T14:52:05.246288Z"
    },
    "jupyter": {
     "outputs_hidden": false
    },
    "papermill": {
     "duration": 9.960955,
     "end_time": "2021-04-24T14:52:05.247532",
     "exception": false,
     "start_time": "2021-04-24T14:51:55.286577",
     "status": "completed"
    },
    "tags": []
   },
   "outputs": [
    {
     "data": {
      "text/html": [
       "<style type='text/css'>\n",
       ".datatable table.frame { margin-bottom: 0; }\n",
       ".datatable table.frame thead { border-bottom: none; }\n",
       ".datatable table.frame tr.coltypes td {  color: #FFFFFF;  line-height: 6px;  padding: 0 0.5em;}\n",
       ".datatable .bool    { background: #DDDD99; }\n",
       ".datatable .object  { background: #565656; }\n",
       ".datatable .int     { background: #5D9E5D; }\n",
       ".datatable .float   { background: #4040CC; }\n",
       ".datatable .str     { background: #CC4040; }\n",
       ".datatable .row_index {  background: var(--jp-border-color3);  border-right: 1px solid var(--jp-border-color0);  color: var(--jp-ui-font-color3);  font-size: 9px;}\n",
       ".datatable .frame tr.coltypes .row_index {  background: var(--jp-border-color0);}\n",
       ".datatable th:nth-child(2) { padding-left: 12px; }\n",
       ".datatable .hellipsis {  color: var(--jp-cell-editor-border-color);}\n",
       ".datatable .vellipsis {  background: var(--jp-layout-color0);  color: var(--jp-cell-editor-border-color);}\n",
       ".datatable .na {  color: var(--jp-cell-editor-border-color);  font-size: 80%;}\n",
       ".datatable .footer { font-size: 9px; }\n",
       ".datatable .frame_dimensions {  background: var(--jp-border-color3);  border-top: 1px solid var(--jp-border-color0);  color: var(--jp-ui-font-color3);  display: inline-block;  opacity: 0.6;  padding: 1px 10px 1px 5px;}\n",
       "</style>\n"
      ],
      "text/plain": [
       "<IPython.core.display.HTML object>"
      ]
     },
     "metadata": {},
     "output_type": "display_data"
    }
   ],
   "source": [
    "import pandas as pd\n",
    "import numpy as np\n",
    "import random\n",
    "import os\n",
    "\n",
    "from sklearn.metrics import accuracy_score\n",
    "from sklearn.preprocessing import LabelEncoder, StandardScaler\n",
    "from sklearn.model_selection import train_test_split, KFold, StratifiedKFold\n",
    "\n",
    "import lightgbm as lgb\n",
    "import catboost as ctb\n",
    "from sklearn.model_selection import GridSearchCV\n",
    "from sklearn.tree import DecisionTreeClassifier, export_graphviz\n",
    "\n",
    "import graphviz\n",
    "import matplotlib.pyplot as plt\n",
    "import seaborn as sns\n",
    "\n",
    "from kaggler.preprocessing import LabelEncoder\n",
    "from xgboost import XGBClassifier\n",
    "\n",
    "import warnings\n",
    "warnings.simplefilter('ignore')"
   ]
  },
  {
   "cell_type": "code",
   "execution_count": 3,
   "id": "negative-advice",
   "metadata": {
    "execution": {
     "iopub.execute_input": "2021-04-24T14:52:05.325546Z",
     "iopub.status.busy": "2021-04-24T14:52:05.323704Z",
     "iopub.status.idle": "2021-04-24T14:52:05.326210Z",
     "shell.execute_reply": "2021-04-24T14:52:05.326604Z"
    },
    "papermill": {
     "duration": 0.042809,
     "end_time": "2021-04-24T14:52:05.326735",
     "exception": false,
     "start_time": "2021-04-24T14:52:05.283926",
     "status": "completed"
    },
    "tags": []
   },
   "outputs": [],
   "source": [
    "TARGET = 'Survived'\n",
    "\n",
    "N_ESTIMATORS = 1000\n",
    "N_SPLITS = 10\n",
    "SEED = 2021\n",
    "EARLY_STOPPING_ROUNDS = 100\n",
    "VERBOSE = 100"
   ]
  },
  {
   "cell_type": "code",
   "execution_count": 4,
   "id": "intimate-bacon",
   "metadata": {
    "execution": {
     "iopub.execute_input": "2021-04-24T14:52:05.402661Z",
     "iopub.status.busy": "2021-04-24T14:52:05.400980Z",
     "iopub.status.idle": "2021-04-24T14:52:05.403384Z",
     "shell.execute_reply": "2021-04-24T14:52:05.403794Z"
    },
    "papermill": {
     "duration": 0.042416,
     "end_time": "2021-04-24T14:52:05.403942",
     "exception": false,
     "start_time": "2021-04-24T14:52:05.361526",
     "status": "completed"
    },
    "tags": []
   },
   "outputs": [],
   "source": [
    "def set_seed(seed=42):\n",
    "    random.seed(seed)\n",
    "    os.environ['PYTHONHASHSEED'] = str(seed)\n",
    "    np.random.seed(seed)\n",
    "    \n",
    "set_seed(SEED)"
   ]
  },
  {
   "cell_type": "markdown",
   "id": "refined-month",
   "metadata": {
    "ExecuteTime": {
     "end_time": "2021-04-05T07:36:20.503129Z",
     "start_time": "2021-04-05T07:36:20.498496Z"
    },
    "_cell_guid": "9fb39135-47eb-4d2b-b41e-8c50544feb98",
    "_uuid": "4c503ac3-b779-4597-a37f-b94c97d0ebd9",
    "jupyter": {
     "outputs_hidden": false
    },
    "papermill": {
     "duration": 0.035638,
     "end_time": "2021-04-24T14:52:05.475023",
     "exception": false,
     "start_time": "2021-04-24T14:52:05.439385",
     "status": "completed"
    },
    "tags": []
   },
   "source": [
    "# Load data"
   ]
  },
  {
   "cell_type": "code",
   "execution_count": 5,
   "id": "governmental-proposition",
   "metadata": {
    "ExecuteTime": {
     "end_time": "2021-04-05T07:36:20.37188Z",
     "start_time": "2021-04-05T07:36:20.084718Z"
    },
    "_cell_guid": "af349323-3a02-4979-9345-74a25709144a",
    "_uuid": "7685b8a3-c0c9-48de-a607-5798e38e29cc",
    "collapsed": false,
    "execution": {
     "iopub.execute_input": "2021-04-24T14:52:05.552455Z",
     "iopub.status.busy": "2021-04-24T14:52:05.551927Z",
     "iopub.status.idle": "2021-04-24T14:52:06.383911Z",
     "shell.execute_reply": "2021-04-24T14:52:06.384509Z"
    },
    "jupyter": {
     "outputs_hidden": false
    },
    "papermill": {
     "duration": 0.874446,
     "end_time": "2021-04-24T14:52:06.384729",
     "exception": false,
     "start_time": "2021-04-24T14:52:05.510283",
     "status": "completed"
    },
    "tags": []
   },
   "outputs": [],
   "source": [
    "train_df = pd.read_csv('../input/tabular-playground-series-apr-2021/train.csv')\n",
    "test_df = pd.read_csv('../input/tabular-playground-series-apr-2021/test.csv')\n",
    "submission = pd.read_csv('../input/tabular-playground-series-apr-2021/sample_submission.csv')\n",
    "test_df[TARGET] = pd.read_csv(\"../input/tps-apr-2021-label/pseudo_label.csv\")[TARGET]\n",
    "\n",
    "df = pd.concat([train_df, test_df]).reset_index(drop=True)"
   ]
  },
  {
   "cell_type": "markdown",
   "id": "endangered-polish",
   "metadata": {
    "papermill": {
     "duration": 0.059282,
     "end_time": "2021-04-24T14:52:06.534059",
     "exception": false,
     "start_time": "2021-04-24T14:52:06.474777",
     "status": "completed"
    },
    "tags": []
   },
   "source": [
    "# Filling missing values"
   ]
  },
  {
   "cell_type": "code",
   "execution_count": 6,
   "id": "after-constitutional",
   "metadata": {
    "execution": {
     "iopub.execute_input": "2021-04-24T14:52:06.662236Z",
     "iopub.status.busy": "2021-04-24T14:52:06.661462Z",
     "iopub.status.idle": "2021-04-24T14:52:10.431704Z",
     "shell.execute_reply": "2021-04-24T14:52:10.432800Z"
    },
    "papermill": {
     "duration": 3.83991,
     "end_time": "2021-04-24T14:52:10.432970",
     "exception": false,
     "start_time": "2021-04-24T14:52:06.593060",
     "status": "completed"
    },
    "tags": []
   },
   "outputs": [
    {
     "name": "stdout",
     "output_type": "stream",
     "text": [
      "14 6 8\n"
     ]
    }
   ],
   "source": [
    "\n",
    "df['Embarked'] = df['Embarked'].fillna('No')\n",
    "df['Cabin'] = df['Cabin'].fillna('_')\n",
    "df['CabinType'] = df['Cabin'].apply(lambda x:x[0])\n",
    "df.Ticket = df.Ticket.map(lambda x:str(x).split()[0] if len(str(x).split()) > 1 else 'X')\n",
    "\n",
    "df['Age'].fillna(round(df['Age'].median()), inplace=True,)\n",
    "df['Age'] = df['Age'].apply(round).astype(int)\n",
    "\n",
    "df['Fare'].fillna(round(df['Fare'].median()), inplace=True,)\n",
    "\n",
    "df['FirstName'] = df['Name'].str.split(', ').str[0]\n",
    "df['SecondName'] = df['Name'].str.split(', ').str[1]\n",
    "\n",
    "df['n'] = 1\n",
    "\n",
    "gb = df.groupby('FirstName')\n",
    "df_names = gb['n'].sum()\n",
    "df['SameFirstName'] = df['FirstName'].apply(lambda x:df_names[x])\n",
    "\n",
    "gb = df.groupby('SecondName')\n",
    "df_names = gb['n'].sum()\n",
    "df['SameSecondName'] = df['SecondName'].apply(lambda x:df_names[x])\n",
    "\n",
    "df['Sex'] = (df['Sex'] == 'male').astype(int)\n",
    "\n",
    "df['FamilySize'] = df.SibSp + df.Parch + 1\n",
    "\n",
    "feature_cols = ['Pclass', 'Age','Embarked','Parch','SibSp','Fare','CabinType','Ticket','SameFirstName', 'SameSecondName', 'Sex',\n",
    "                'FamilySize', 'FirstName', 'SecondName']\n",
    "cat_cols = ['Pclass','Embarked','CabinType','Ticket', 'FirstName', 'SecondName']\n",
    "num_cols = [x for x in feature_cols if x not in cat_cols]\n",
    "print(len(feature_cols), len(cat_cols), len(num_cols))"
   ]
  },
  {
   "cell_type": "code",
   "execution_count": 7,
   "id": "sustained-campus",
   "metadata": {
    "execution": {
     "iopub.execute_input": "2021-04-24T14:52:10.511087Z",
     "iopub.status.busy": "2021-04-24T14:52:10.510368Z",
     "iopub.status.idle": "2021-04-24T14:52:11.645515Z",
     "shell.execute_reply": "2021-04-24T14:52:11.645034Z"
    },
    "papermill": {
     "duration": 1.176949,
     "end_time": "2021-04-24T14:52:11.645651",
     "exception": false,
     "start_time": "2021-04-24T14:52:10.468702",
     "status": "completed"
    },
    "tags": []
   },
   "outputs": [],
   "source": [
    "for col in ['SameFirstName', 'SameSecondName', 'Fare', 'FamilySize', 'Parch', 'SibSp']:\n",
    "    df[col] = np.log2(1 + df[col])\n",
    "    \n",
    "scaler = StandardScaler()\n",
    "df[num_cols] = scaler.fit_transform(df[num_cols])\n",
    "\n",
    "lbe = LabelEncoder(min_obs=50)\n",
    "df[cat_cols] = lbe.fit_transform(df[cat_cols]).astype(int)"
   ]
  },
  {
   "cell_type": "code",
   "execution_count": 8,
   "id": "continuing-accident",
   "metadata": {
    "ExecuteTime": {
     "end_time": "2021-04-05T07:36:21.336506Z",
     "start_time": "2021-04-05T07:36:21.28146Z"
    },
    "_cell_guid": "8fe82644-8eac-4bdc-8ff3-5537deb09e19",
    "_uuid": "bdf1b542-e552-4e8d-8233-71dfe29c4a39",
    "collapsed": false,
    "execution": {
     "iopub.execute_input": "2021-04-24T14:52:11.721007Z",
     "iopub.status.busy": "2021-04-24T14:52:11.720451Z",
     "iopub.status.idle": "2021-04-24T14:52:11.724430Z",
     "shell.execute_reply": "2021-04-24T14:52:11.724036Z"
    },
    "jupyter": {
     "outputs_hidden": false
    },
    "papermill": {
     "duration": 0.042702,
     "end_time": "2021-04-24T14:52:11.724547",
     "exception": false,
     "start_time": "2021-04-24T14:52:11.681845",
     "status": "completed"
    },
    "tags": []
   },
   "outputs": [],
   "source": [
    "# # Age fillna with mean age for each class\n",
    "# all_df['Age'] = all_df['Age'].fillna(all_df['Age'].mean())\n",
    "\n",
    "# # Cabin, fillna with 'X' and take first letter\n",
    "# all_df['Cabin'] = all_df['Cabin'].fillna('X').map(lambda x: x[0].strip())\n",
    "\n",
    "# # Ticket, fillna with 'X', split string and take first split \n",
    "# all_df['Ticket'] = all_df['Ticket'].fillna('X').map(lambda x:str(x).split()[0] if len(str(x).split()) > 1 else 'X')\n",
    "\n",
    "# # Fare, fillna with mean value\n",
    "# fare_map = all_df[['Fare', 'Pclass']].dropna().groupby('Pclass').median().to_dict()\n",
    "# all_df['Fare'] = all_df['Fare'].fillna(all_df['Pclass'].map(fare_map['Fare']))\n",
    "# all_df['Fare'] = np.log1p(all_df['Fare'])\n",
    "\n",
    "# # Embarked, fillna with 'X' value\n",
    "# all_df['Embarked'] = all_df['Embarked'].fillna('X')\n",
    "\n",
    "# # Name, take only surnames\n",
    "# all_df['Name'] = all_df['Name'].map(lambda x: x.split(',')[0])"
   ]
  },
  {
   "cell_type": "markdown",
   "id": "manufactured-segment",
   "metadata": {
    "papermill": {
     "duration": 0.03517,
     "end_time": "2021-04-24T14:52:11.794845",
     "exception": false,
     "start_time": "2021-04-24T14:52:11.759675",
     "status": "completed"
    },
    "tags": []
   },
   "source": [
    "# Encoding"
   ]
  },
  {
   "cell_type": "code",
   "execution_count": 9,
   "id": "compact-sound",
   "metadata": {
    "ExecuteTime": {
     "end_time": "2021-04-05T07:36:23.841679Z",
     "start_time": "2021-04-05T07:36:23.838273Z"
    },
    "_cell_guid": "5db0e9df-a909-40cc-8d9b-715e097aaf40",
    "_uuid": "94f46a4b-7657-4923-85d1-63e43aa64c50",
    "collapsed": false,
    "execution": {
     "iopub.execute_input": "2021-04-24T14:52:11.870883Z",
     "iopub.status.busy": "2021-04-24T14:52:11.869173Z",
     "iopub.status.idle": "2021-04-24T14:52:11.871440Z",
     "shell.execute_reply": "2021-04-24T14:52:11.871856Z"
    },
    "jupyter": {
     "outputs_hidden": false
    },
    "papermill": {
     "duration": 0.04191,
     "end_time": "2021-04-24T14:52:11.871980",
     "exception": false,
     "start_time": "2021-04-24T14:52:11.830070",
     "status": "completed"
    },
    "tags": []
   },
   "outputs": [],
   "source": [
    "# label_cols = ['Name']\n",
    "# onehot_cols = ['Cabin']\n",
    "# numerical_cols = ['Pclass', 'Age', 'SibSp', 'Parch', 'Fare']"
   ]
  },
  {
   "cell_type": "code",
   "execution_count": 10,
   "id": "assisted-rogers",
   "metadata": {
    "ExecuteTime": {
     "end_time": "2021-04-05T07:36:24.590836Z",
     "start_time": "2021-04-05T07:36:24.384849Z"
    },
    "_cell_guid": "d9725940-ab11-4fce-a499-a4cc6c19ffd1",
    "_uuid": "dc723ead-6522-4ff0-bd01-00ff66506ffa",
    "collapsed": false,
    "execution": {
     "iopub.execute_input": "2021-04-24T14:52:11.946503Z",
     "iopub.status.busy": "2021-04-24T14:52:11.946004Z",
     "iopub.status.idle": "2021-04-24T14:52:11.949954Z",
     "shell.execute_reply": "2021-04-24T14:52:11.949510Z"
    },
    "jupyter": {
     "outputs_hidden": false
    },
    "papermill": {
     "duration": 0.042572,
     "end_time": "2021-04-24T14:52:11.950058",
     "exception": false,
     "start_time": "2021-04-24T14:52:11.907486",
     "status": "completed"
    },
    "tags": []
   },
   "outputs": [],
   "source": [
    "# def label_encoder(c):\n",
    "#     le = LabelEncoder()\n",
    "#     return le.fit_transform(c)\n",
    "\n",
    "# scaler = StandardScaler()\n",
    "\n",
    "# onehot_encoded_df = pd.get_dummies(all_df[onehot_cols])\n",
    "# label_encoded_df = all_df[label_cols].apply(label_encoder)\n",
    "# numerical_df = pd.DataFrame(scaler.fit_transform(all_df[numerical_cols]), columns=numerical_cols)\n",
    "# target_df = all_df[TARGET]\n",
    "\n",
    "# # all_df = pd.concat([numerical_df, label_encoded_df, onehot_encoded_df, target_df], axis=1)"
   ]
  },
  {
   "cell_type": "code",
   "execution_count": 11,
   "id": "vocal-advancement",
   "metadata": {
    "execution": {
     "iopub.execute_input": "2021-04-24T14:52:12.028412Z",
     "iopub.status.busy": "2021-04-24T14:52:12.026961Z",
     "iopub.status.idle": "2021-04-24T14:52:12.044942Z",
     "shell.execute_reply": "2021-04-24T14:52:12.044471Z"
    },
    "papermill": {
     "duration": 0.059532,
     "end_time": "2021-04-24T14:52:12.045077",
     "exception": false,
     "start_time": "2021-04-24T14:52:11.985545",
     "status": "completed"
    },
    "tags": []
   },
   "outputs": [],
   "source": [
    "all_df = df\n",
    "all_df = all_df.drop(['Name', 'PassengerId'], axis=1)\n"
   ]
  },
  {
   "cell_type": "code",
   "execution_count": 12,
   "id": "thousand-lemon",
   "metadata": {
    "execution": {
     "iopub.execute_input": "2021-04-24T14:52:12.134321Z",
     "iopub.status.busy": "2021-04-24T14:52:12.133091Z",
     "iopub.status.idle": "2021-04-24T14:52:12.136127Z",
     "shell.execute_reply": "2021-04-24T14:52:12.135682Z"
    },
    "papermill": {
     "duration": 0.054832,
     "end_time": "2021-04-24T14:52:12.136255",
     "exception": false,
     "start_time": "2021-04-24T14:52:12.081423",
     "status": "completed"
    },
    "tags": []
   },
   "outputs": [],
   "source": [
    "all_df = all_df.drop(['Cabin'], axis=1)"
   ]
  },
  {
   "cell_type": "code",
   "execution_count": 13,
   "id": "dependent-spell",
   "metadata": {
    "execution": {
     "iopub.execute_input": "2021-04-24T14:52:12.224547Z",
     "iopub.status.busy": "2021-04-24T14:52:12.224033Z",
     "iopub.status.idle": "2021-04-24T14:52:12.238613Z",
     "shell.execute_reply": "2021-04-24T14:52:12.237805Z"
    },
    "papermill": {
     "duration": 0.06597,
     "end_time": "2021-04-24T14:52:12.238734",
     "exception": false,
     "start_time": "2021-04-24T14:52:12.172764",
     "status": "completed"
    },
    "tags": []
   },
   "outputs": [
    {
     "data": {
      "text/html": [
       "<div>\n",
       "<style scoped>\n",
       "    .dataframe tbody tr th:only-of-type {\n",
       "        vertical-align: middle;\n",
       "    }\n",
       "\n",
       "    .dataframe tbody tr th {\n",
       "        vertical-align: top;\n",
       "    }\n",
       "\n",
       "    .dataframe thead th {\n",
       "        text-align: right;\n",
       "    }\n",
       "</style>\n",
       "<table border=\"1\" class=\"dataframe\">\n",
       "  <thead>\n",
       "    <tr style=\"text-align: right;\">\n",
       "      <th></th>\n",
       "      <th>Survived</th>\n",
       "      <th>Pclass</th>\n",
       "      <th>Sex</th>\n",
       "      <th>Age</th>\n",
       "      <th>SibSp</th>\n",
       "      <th>Parch</th>\n",
       "      <th>Ticket</th>\n",
       "      <th>Fare</th>\n",
       "      <th>Embarked</th>\n",
       "      <th>CabinType</th>\n",
       "      <th>FirstName</th>\n",
       "      <th>SecondName</th>\n",
       "      <th>n</th>\n",
       "      <th>SameFirstName</th>\n",
       "      <th>SameSecondName</th>\n",
       "      <th>FamilySize</th>\n",
       "    </tr>\n",
       "  </thead>\n",
       "  <tbody>\n",
       "    <tr>\n",
       "      <th>0</th>\n",
       "      <td>1</td>\n",
       "      <td>1</td>\n",
       "      <td>0.767417</td>\n",
       "      <td>-0.202735</td>\n",
       "      <td>2.024581</td>\n",
       "      <td>-0.582112</td>\n",
       "      <td>1</td>\n",
       "      <td>0.134444</td>\n",
       "      <td>0</td>\n",
       "      <td>1</td>\n",
       "      <td>0</td>\n",
       "      <td>628</td>\n",
       "      <td>1</td>\n",
       "      <td>0.196393</td>\n",
       "      <td>-1.010234</td>\n",
       "      <td>1.034039</td>\n",
       "    </tr>\n",
       "    <tr>\n",
       "      <th>1</th>\n",
       "      <td>0</td>\n",
       "      <td>0</td>\n",
       "      <td>0.767417</td>\n",
       "      <td>-0.202735</td>\n",
       "      <td>-0.639750</td>\n",
       "      <td>-0.582112</td>\n",
       "      <td>1</td>\n",
       "      <td>-0.533979</td>\n",
       "      <td>0</td>\n",
       "      <td>0</td>\n",
       "      <td>491</td>\n",
       "      <td>0</td>\n",
       "      <td>1</td>\n",
       "      <td>0.269642</td>\n",
       "      <td>-1.292962</td>\n",
       "      <td>-0.751193</td>\n",
       "    </tr>\n",
       "    <tr>\n",
       "      <th>2</th>\n",
       "      <td>0</td>\n",
       "      <td>0</td>\n",
       "      <td>0.767417</td>\n",
       "      <td>-2.080481</td>\n",
       "      <td>1.041256</td>\n",
       "      <td>1.851592</td>\n",
       "      <td>24</td>\n",
       "      <td>1.070905</td>\n",
       "      <td>0</td>\n",
       "      <td>0</td>\n",
       "      <td>123</td>\n",
       "      <td>18</td>\n",
       "      <td>1</td>\n",
       "      <td>0.864030</td>\n",
       "      <td>0.782105</td>\n",
       "      <td>1.608756</td>\n",
       "    </tr>\n",
       "    <tr>\n",
       "      <th>3</th>\n",
       "      <td>0</td>\n",
       "      <td>0</td>\n",
       "      <td>0.767417</td>\n",
       "      <td>-0.929604</td>\n",
       "      <td>-0.639750</td>\n",
       "      <td>-0.582112</td>\n",
       "      <td>3</td>\n",
       "      <td>-0.555655</td>\n",
       "      <td>0</td>\n",
       "      <td>0</td>\n",
       "      <td>512</td>\n",
       "      <td>1</td>\n",
       "      <td>1</td>\n",
       "      <td>0.259769</td>\n",
       "      <td>1.617216</td>\n",
       "      <td>-0.751193</td>\n",
       "    </tr>\n",
       "    <tr>\n",
       "      <th>4</th>\n",
       "      <td>1</td>\n",
       "      <td>0</td>\n",
       "      <td>0.767417</td>\n",
       "      <td>-0.566170</td>\n",
       "      <td>-0.639750</td>\n",
       "      <td>-0.582112</td>\n",
       "      <td>1</td>\n",
       "      <td>-1.023854</td>\n",
       "      <td>0</td>\n",
       "      <td>0</td>\n",
       "      <td>0</td>\n",
       "      <td>4</td>\n",
       "      <td>1</td>\n",
       "      <td>0.098290</td>\n",
       "      <td>1.467485</td>\n",
       "      <td>-0.751193</td>\n",
       "    </tr>\n",
       "    <tr>\n",
       "      <th>...</th>\n",
       "      <td>...</td>\n",
       "      <td>...</td>\n",
       "      <td>...</td>\n",
       "      <td>...</td>\n",
       "      <td>...</td>\n",
       "      <td>...</td>\n",
       "      <td>...</td>\n",
       "      <td>...</td>\n",
       "      <td>...</td>\n",
       "      <td>...</td>\n",
       "      <td>...</td>\n",
       "      <td>...</td>\n",
       "      <td>...</td>\n",
       "      <td>...</td>\n",
       "      <td>...</td>\n",
       "      <td>...</td>\n",
       "    </tr>\n",
       "    <tr>\n",
       "      <th>199995</th>\n",
       "      <td>1</td>\n",
       "      <td>0</td>\n",
       "      <td>-1.303073</td>\n",
       "      <td>-0.445025</td>\n",
       "      <td>-0.639750</td>\n",
       "      <td>-0.582112</td>\n",
       "      <td>1</td>\n",
       "      <td>-0.787083</td>\n",
       "      <td>2</td>\n",
       "      <td>0</td>\n",
       "      <td>0</td>\n",
       "      <td>0</td>\n",
       "      <td>1</td>\n",
       "      <td>0.026440</td>\n",
       "      <td>-2.373951</td>\n",
       "      <td>-0.751193</td>\n",
       "    </tr>\n",
       "    <tr>\n",
       "      <th>199996</th>\n",
       "      <td>0</td>\n",
       "      <td>1</td>\n",
       "      <td>0.767417</td>\n",
       "      <td>1.493293</td>\n",
       "      <td>1.041256</td>\n",
       "      <td>-0.582112</td>\n",
       "      <td>1</td>\n",
       "      <td>1.029122</td>\n",
       "      <td>0</td>\n",
       "      <td>0</td>\n",
       "      <td>4</td>\n",
       "      <td>125</td>\n",
       "      <td>1</td>\n",
       "      <td>1.992961</td>\n",
       "      <td>0.042430</td>\n",
       "      <td>0.293101</td>\n",
       "    </tr>\n",
       "    <tr>\n",
       "      <th>199997</th>\n",
       "      <td>0</td>\n",
       "      <td>0</td>\n",
       "      <td>0.767417</td>\n",
       "      <td>0.766424</td>\n",
       "      <td>-0.639750</td>\n",
       "      <td>-0.582112</td>\n",
       "      <td>1</td>\n",
       "      <td>-0.722300</td>\n",
       "      <td>0</td>\n",
       "      <td>0</td>\n",
       "      <td>0</td>\n",
       "      <td>624</td>\n",
       "      <td>1</td>\n",
       "      <td>-0.704332</td>\n",
       "      <td>-0.999141</td>\n",
       "      <td>-0.751193</td>\n",
       "    </tr>\n",
       "    <tr>\n",
       "      <th>199998</th>\n",
       "      <td>1</td>\n",
       "      <td>1</td>\n",
       "      <td>-1.303073</td>\n",
       "      <td>0.887568</td>\n",
       "      <td>1.041256</td>\n",
       "      <td>1.851592</td>\n",
       "      <td>2</td>\n",
       "      <td>0.220218</td>\n",
       "      <td>1</td>\n",
       "      <td>2</td>\n",
       "      <td>0</td>\n",
       "      <td>51</td>\n",
       "      <td>1</td>\n",
       "      <td>-0.506468</td>\n",
       "      <td>0.390204</td>\n",
       "      <td>1.608756</td>\n",
       "    </tr>\n",
       "    <tr>\n",
       "      <th>199999</th>\n",
       "      <td>1</td>\n",
       "      <td>1</td>\n",
       "      <td>-1.303073</td>\n",
       "      <td>0.402989</td>\n",
       "      <td>-0.639750</td>\n",
       "      <td>1.851592</td>\n",
       "      <td>2</td>\n",
       "      <td>2.062973</td>\n",
       "      <td>1</td>\n",
       "      <td>5</td>\n",
       "      <td>0</td>\n",
       "      <td>0</td>\n",
       "      <td>1</td>\n",
       "      <td>-1.140673</td>\n",
       "      <td>-1.033073</td>\n",
       "      <td>1.034039</td>\n",
       "    </tr>\n",
       "  </tbody>\n",
       "</table>\n",
       "<p>200000 rows × 16 columns</p>\n",
       "</div>"
      ],
      "text/plain": [
       "        Survived  Pclass       Sex       Age     SibSp     Parch  Ticket  \\\n",
       "0              1       1  0.767417 -0.202735  2.024581 -0.582112       1   \n",
       "1              0       0  0.767417 -0.202735 -0.639750 -0.582112       1   \n",
       "2              0       0  0.767417 -2.080481  1.041256  1.851592      24   \n",
       "3              0       0  0.767417 -0.929604 -0.639750 -0.582112       3   \n",
       "4              1       0  0.767417 -0.566170 -0.639750 -0.582112       1   \n",
       "...          ...     ...       ...       ...       ...       ...     ...   \n",
       "199995         1       0 -1.303073 -0.445025 -0.639750 -0.582112       1   \n",
       "199996         0       1  0.767417  1.493293  1.041256 -0.582112       1   \n",
       "199997         0       0  0.767417  0.766424 -0.639750 -0.582112       1   \n",
       "199998         1       1 -1.303073  0.887568  1.041256  1.851592       2   \n",
       "199999         1       1 -1.303073  0.402989 -0.639750  1.851592       2   \n",
       "\n",
       "            Fare  Embarked  CabinType  FirstName  SecondName  n  \\\n",
       "0       0.134444         0          1          0         628  1   \n",
       "1      -0.533979         0          0        491           0  1   \n",
       "2       1.070905         0          0        123          18  1   \n",
       "3      -0.555655         0          0        512           1  1   \n",
       "4      -1.023854         0          0          0           4  1   \n",
       "...          ...       ...        ...        ...         ... ..   \n",
       "199995 -0.787083         2          0          0           0  1   \n",
       "199996  1.029122         0          0          4         125  1   \n",
       "199997 -0.722300         0          0          0         624  1   \n",
       "199998  0.220218         1          2          0          51  1   \n",
       "199999  2.062973         1          5          0           0  1   \n",
       "\n",
       "        SameFirstName  SameSecondName  FamilySize  \n",
       "0            0.196393       -1.010234    1.034039  \n",
       "1            0.269642       -1.292962   -0.751193  \n",
       "2            0.864030        0.782105    1.608756  \n",
       "3            0.259769        1.617216   -0.751193  \n",
       "4            0.098290        1.467485   -0.751193  \n",
       "...               ...             ...         ...  \n",
       "199995       0.026440       -2.373951   -0.751193  \n",
       "199996       1.992961        0.042430    0.293101  \n",
       "199997      -0.704332       -0.999141   -0.751193  \n",
       "199998      -0.506468        0.390204    1.608756  \n",
       "199999      -1.140673       -1.033073    1.034039  \n",
       "\n",
       "[200000 rows x 16 columns]"
      ]
     },
     "execution_count": 13,
     "metadata": {},
     "output_type": "execute_result"
    }
   ],
   "source": [
    "all_df"
   ]
  },
  {
   "cell_type": "markdown",
   "id": "pending-spencer",
   "metadata": {
    "papermill": {
     "duration": 0.036985,
     "end_time": "2021-04-24T14:52:12.313691",
     "exception": false,
     "start_time": "2021-04-24T14:52:12.276706",
     "status": "completed"
    },
    "tags": []
   },
   "source": [
    "# LightGBM"
   ]
  },
  {
   "cell_type": "code",
   "execution_count": 14,
   "id": "automated-security",
   "metadata": {
    "ExecuteTime": {
     "end_time": "2021-04-05T07:42:10.128819Z",
     "start_time": "2021-04-05T07:42:10.1251Z"
    },
    "_cell_guid": "b49fc139-9689-45ea-a4d7-2855a559200e",
    "_uuid": "7d72bc52-7935-4878-ae4b-c18aafa33511",
    "collapsed": false,
    "execution": {
     "iopub.execute_input": "2021-04-24T14:52:12.393639Z",
     "iopub.status.busy": "2021-04-24T14:52:12.392073Z",
     "iopub.status.idle": "2021-04-24T14:52:12.394397Z",
     "shell.execute_reply": "2021-04-24T14:52:12.394828Z"
    },
    "jupyter": {
     "outputs_hidden": false
    },
    "papermill": {
     "duration": 0.044677,
     "end_time": "2021-04-24T14:52:12.394957",
     "exception": false,
     "start_time": "2021-04-24T14:52:12.350280",
     "status": "completed"
    },
    "tags": []
   },
   "outputs": [],
   "source": [
    "params = {\n",
    "    'metric': 'binary_logloss',\n",
    "    'n_estimators': N_ESTIMATORS,\n",
    "    'objective': 'binary',\n",
    "    'random_state': SEED,\n",
    "    'learning_rate': 0.01,\n",
    "    'min_child_samples': 150,\n",
    "    'reg_alpha': 3e-5,\n",
    "    'reg_lambda': 9e-2,\n",
    "    'num_leaves': 20,\n",
    "    'max_depth': 16,\n",
    "    'colsample_bytree': 0.8,\n",
    "    'subsample': 0.8,\n",
    "    'subsample_freq': 2,\n",
    "    'max_bin': 240,\n",
    "}"
   ]
  },
  {
   "cell_type": "code",
   "execution_count": 15,
   "id": "wicked-employment",
   "metadata": {
    "execution": {
     "iopub.execute_input": "2021-04-24T14:52:12.487122Z",
     "iopub.status.busy": "2021-04-24T14:52:12.485987Z",
     "iopub.status.idle": "2021-04-24T14:55:14.770163Z",
     "shell.execute_reply": "2021-04-24T14:55:14.770716Z"
    },
    "papermill": {
     "duration": 182.336998,
     "end_time": "2021-04-24T14:55:14.770945",
     "exception": false,
     "start_time": "2021-04-24T14:52:12.433947",
     "status": "completed"
    },
    "tags": []
   },
   "outputs": [
    {
     "name": "stdout",
     "output_type": "stream",
     "text": [
      "===== FOLD 0 =====\n",
      "Training until validation scores don't improve for 100 rounds\n",
      "[100]\ttraining's binary_logloss: 0.408055\tvalid_1's binary_logloss: 0.513247\n",
      "[200]\ttraining's binary_logloss: 0.342271\tvalid_1's binary_logloss: 0.492827\n",
      "Early stopping, best iteration is:\n",
      "[197]\ttraining's binary_logloss: 0.343498\tvalid_1's binary_logloss: 0.492754\n",
      "Training until validation scores don't improve for 100 rounds\n",
      "[200]\ttraining's binary_logloss: 0.343397\tvalid_1's binary_logloss: 0.49275\n",
      "[300]\ttraining's binary_logloss: 0.339913\tvalid_1's binary_logloss: 0.492794\n",
      "Early stopping, best iteration is:\n",
      "[230]\ttraining's binary_logloss: 0.342303\tvalid_1's binary_logloss: 0.49272\n",
      "===== ACCURACY SCORE 0.773906 =====\n",
      "\n",
      "===== FOLD 1 =====\n",
      "Training until validation scores don't improve for 100 rounds\n",
      "[100]\ttraining's binary_logloss: 0.40848\tvalid_1's binary_logloss: 0.511615\n",
      "[200]\ttraining's binary_logloss: 0.342903\tvalid_1's binary_logloss: 0.490253\n",
      "[300]\ttraining's binary_logloss: 0.320861\tvalid_1's binary_logloss: 0.49405\n",
      "Early stopping, best iteration is:\n",
      "[207]\ttraining's binary_logloss: 0.34064\tvalid_1's binary_logloss: 0.490197\n",
      "Training until validation scores don't improve for 100 rounds\n",
      "[300]\ttraining's binary_logloss: 0.337738\tvalid_1's binary_logloss: 0.490263\n",
      "Early stopping, best iteration is:\n",
      "[217]\ttraining's binary_logloss: 0.34033\tvalid_1's binary_logloss: 0.490188\n",
      "===== ACCURACY SCORE 0.776602 =====\n",
      "\n",
      "===== FOLD 2 =====\n",
      "Training until validation scores don't improve for 100 rounds\n",
      "[100]\ttraining's binary_logloss: 0.407936\tvalid_1's binary_logloss: 0.516737\n",
      "[200]\ttraining's binary_logloss: 0.342088\tvalid_1's binary_logloss: 0.498154\n",
      "Early stopping, best iteration is:\n",
      "[197]\ttraining's binary_logloss: 0.343325\tvalid_1's binary_logloss: 0.497995\n",
      "Training until validation scores don't improve for 100 rounds\n",
      "[200]\ttraining's binary_logloss: 0.343223\tvalid_1's binary_logloss: 0.497998\n",
      "Early stopping, best iteration is:\n",
      "[199]\ttraining's binary_logloss: 0.343265\tvalid_1's binary_logloss: 0.497995\n",
      "===== ACCURACY SCORE 0.772281 =====\n",
      "\n",
      "===== FOLD 3 =====\n",
      "Training until validation scores don't improve for 100 rounds\n",
      "[100]\ttraining's binary_logloss: 0.408314\tvalid_1's binary_logloss: 0.513874\n",
      "[200]\ttraining's binary_logloss: 0.342722\tvalid_1's binary_logloss: 0.493328\n",
      "[300]\ttraining's binary_logloss: 0.320686\tvalid_1's binary_logloss: 0.497489\n",
      "Early stopping, best iteration is:\n",
      "[207]\ttraining's binary_logloss: 0.340458\tvalid_1's binary_logloss: 0.493233\n",
      "Training until validation scores don't improve for 100 rounds\n",
      "[300]\ttraining's binary_logloss: 0.33756\tvalid_1's binary_logloss: 0.493345\n",
      "Early stopping, best iteration is:\n",
      "[217]\ttraining's binary_logloss: 0.340147\tvalid_1's binary_logloss: 0.493224\n",
      "===== ACCURACY SCORE 0.777845 =====\n",
      "\n",
      "===== FOLD 4 =====\n",
      "Training until validation scores don't improve for 100 rounds\n",
      "[100]\ttraining's binary_logloss: 0.407521\tvalid_1's binary_logloss: 0.521549\n",
      "[200]\ttraining's binary_logloss: 0.341666\tvalid_1's binary_logloss: 0.505176\n",
      "Early stopping, best iteration is:\n",
      "[197]\ttraining's binary_logloss: 0.342883\tvalid_1's binary_logloss: 0.504992\n",
      "Training until validation scores don't improve for 100 rounds\n",
      "[200]\ttraining's binary_logloss: 0.342783\tvalid_1's binary_logloss: 0.504994\n",
      "Early stopping, best iteration is:\n",
      "[199]\ttraining's binary_logloss: 0.342824\tvalid_1's binary_logloss: 0.50499\n",
      "===== ACCURACY SCORE 0.769929 =====\n",
      "\n",
      "===== FOLD 5 =====\n",
      "Training until validation scores don't improve for 100 rounds\n",
      "[100]\ttraining's binary_logloss: 0.408184\tvalid_1's binary_logloss: 0.515412\n",
      "[200]\ttraining's binary_logloss: 0.342486\tvalid_1's binary_logloss: 0.496202\n",
      "Early stopping, best iteration is:\n",
      "[197]\ttraining's binary_logloss: 0.343716\tvalid_1's binary_logloss: 0.496181\n",
      "Training until validation scores don't improve for 100 rounds\n",
      "[200]\ttraining's binary_logloss: 0.343614\tvalid_1's binary_logloss: 0.496179\n",
      "[300]\ttraining's binary_logloss: 0.340126\tvalid_1's binary_logloss: 0.496265\n",
      "Early stopping, best iteration is:\n",
      "[207]\ttraining's binary_logloss: 0.343365\tvalid_1's binary_logloss: 0.496168\n",
      "===== ACCURACY SCORE 0.776007 =====\n",
      "\n",
      "===== FOLD 6 =====\n",
      "Training until validation scores don't improve for 100 rounds\n",
      "[100]\ttraining's binary_logloss: 0.408394\tvalid_1's binary_logloss: 0.512058\n",
      "[200]\ttraining's binary_logloss: 0.342701\tvalid_1's binary_logloss: 0.491099\n",
      "[300]\ttraining's binary_logloss: 0.320634\tvalid_1's binary_logloss: 0.495347\n",
      "Early stopping, best iteration is:\n",
      "[206]\ttraining's binary_logloss: 0.340809\tvalid_1's binary_logloss: 0.491017\n",
      "Training until validation scores don't improve for 100 rounds\n",
      "[300]\ttraining's binary_logloss: 0.337826\tvalid_1's binary_logloss: 0.491067\n",
      "Early stopping, best iteration is:\n",
      "[236]\ttraining's binary_logloss: 0.339819\tvalid_1's binary_logloss: 0.491009\n",
      "===== ACCURACY SCORE 0.776378 =====\n",
      "\n",
      "===== FOLD 7 =====\n",
      "Training until validation scores don't improve for 100 rounds\n",
      "[100]\ttraining's binary_logloss: 0.408119\tvalid_1's binary_logloss: 0.514884\n",
      "[200]\ttraining's binary_logloss: 0.34246\tvalid_1's binary_logloss: 0.494258\n",
      "Early stopping, best iteration is:\n",
      "[197]\ttraining's binary_logloss: 0.343688\tvalid_1's binary_logloss: 0.494169\n",
      "Training until validation scores don't improve for 100 rounds\n",
      "[200]\ttraining's binary_logloss: 0.343586\tvalid_1's binary_logloss: 0.494162\n",
      "[300]\ttraining's binary_logloss: 0.340104\tvalid_1's binary_logloss: 0.494174\n",
      "Early stopping, best iteration is:\n",
      "[249]\ttraining's binary_logloss: 0.341819\tvalid_1's binary_logloss: 0.494142\n",
      "===== ACCURACY SCORE 0.774785 =====\n",
      "\n",
      "===== FOLD 8 =====\n",
      "Training until validation scores don't improve for 100 rounds\n",
      "[100]\ttraining's binary_logloss: 0.40854\tvalid_1's binary_logloss: 0.508328\n",
      "[200]\ttraining's binary_logloss: 0.342983\tvalid_1's binary_logloss: 0.485466\n",
      "[300]\ttraining's binary_logloss: 0.320938\tvalid_1's binary_logloss: 0.488667\n",
      "Early stopping, best iteration is:\n",
      "[201]\ttraining's binary_logloss: 0.34259\tvalid_1's binary_logloss: 0.48546\n",
      "Training until validation scores don't improve for 100 rounds\n",
      "[300]\ttraining's binary_logloss: 0.339304\tvalid_1's binary_logloss: 0.485348\n",
      "[400]\ttraining's binary_logloss: 0.336397\tvalid_1's binary_logloss: 0.485341\n",
      "Early stopping, best iteration is:\n",
      "[349]\ttraining's binary_logloss: 0.337889\tvalid_1's binary_logloss: 0.485292\n",
      "===== ACCURACY SCORE 0.781213 =====\n",
      "\n",
      "===== FOLD 9 =====\n",
      "Training until validation scores don't improve for 100 rounds\n",
      "[100]\ttraining's binary_logloss: 0.408883\tvalid_1's binary_logloss: 0.504304\n",
      "[200]\ttraining's binary_logloss: 0.343302\tvalid_1's binary_logloss: 0.480707\n",
      "[300]\ttraining's binary_logloss: 0.321325\tvalid_1's binary_logloss: 0.483588\n",
      "Early stopping, best iteration is:\n",
      "[212]\ttraining's binary_logloss: 0.339252\tvalid_1's binary_logloss: 0.480522\n",
      "Training until validation scores don't improve for 100 rounds\n",
      "[300]\ttraining's binary_logloss: 0.336643\tvalid_1's binary_logloss: 0.480564\n",
      "Early stopping, best iteration is:\n",
      "[222]\ttraining's binary_logloss: 0.338962\tvalid_1's binary_logloss: 0.480515\n",
      "===== ACCURACY SCORE 0.785564 =====\n",
      "\n",
      "===== ACCURACY SCORE 0.776450 =====\n"
     ]
    }
   ],
   "source": [
    "lgb_oof = np.zeros(train_df.shape[0])\n",
    "lgb_preds = np.zeros(test_df.shape[0])\n",
    "feature_importances = pd.DataFrame()\n",
    "\n",
    "skf = StratifiedKFold(n_splits=N_SPLITS, shuffle=True, random_state=SEED)\n",
    "\n",
    "for fold, (train_idx, valid_idx) in enumerate(skf.split(all_df, all_df[TARGET])):\n",
    "    print(f\"===== FOLD {fold} =====\")\n",
    "    oof_idx = np.array([idx for idx in valid_idx if idx < train_df.shape[0]])\n",
    "    preds_idx = np.array([idx for idx in valid_idx if idx >= train_df.shape[0]])\n",
    "\n",
    "    X_train, y_train = all_df.iloc[train_idx].drop(TARGET, axis=1), all_df.iloc[train_idx][TARGET]\n",
    "    X_valid, y_valid = all_df.iloc[oof_idx].drop(TARGET, axis=1), all_df.iloc[oof_idx][TARGET]\n",
    "    X_test = all_df.iloc[preds_idx].drop(TARGET, axis=1)\n",
    "    \n",
    "    pre_model = lgb.LGBMRegressor(**params)\n",
    "    pre_model.fit(\n",
    "        X_train, y_train,\n",
    "        eval_set=[(X_train, y_train),(X_valid, y_valid)],\n",
    "        early_stopping_rounds=EARLY_STOPPING_ROUNDS,\n",
    "        verbose=VERBOSE\n",
    "    )\n",
    "\n",
    "    params2 = params.copy()\n",
    "    params2['learning_rate'] = params['learning_rate'] * 0.1\n",
    "    model = lgb.LGBMRegressor(**params2)\n",
    "    model.fit(\n",
    "        X_train, y_train,\n",
    "        eval_set=[(X_train, y_train),(X_valid, y_valid)],\n",
    "        early_stopping_rounds=EARLY_STOPPING_ROUNDS,\n",
    "        verbose=VERBOSE,\n",
    "        init_model=pre_model\n",
    "    )\n",
    "    \n",
    "    fi_tmp = pd.DataFrame()\n",
    "    fi_tmp[\"feature\"] = model.feature_name_\n",
    "    fi_tmp[\"importance\"] = model.feature_importances_\n",
    "    fi_tmp[\"fold\"] = fold\n",
    "    fi_tmp[\"seed\"] = SEED\n",
    "    feature_importances = feature_importances.append(fi_tmp)\n",
    "    \n",
    "    lgb_oof[oof_idx] = model.predict(X_valid)\n",
    "    lgb_preds[preds_idx-train_df.shape[0]] = model.predict(X_test)\n",
    "    \n",
    "    acc_score = accuracy_score(y_valid, np.where(lgb_oof[oof_idx]>0.5, 1, 0))\n",
    "    print(f\"===== ACCURACY SCORE {acc_score:.6f} =====\\n\")\n",
    "    \n",
    "acc_score = accuracy_score(all_df[:train_df.shape[0]][TARGET], np.where(lgb_oof>0.5, 1, 0))\n",
    "print(f\"===== ACCURACY SCORE {acc_score:.6f} =====\")"
   ]
  },
  {
   "cell_type": "markdown",
   "id": "settled-subdivision",
   "metadata": {
    "papermill": {
     "duration": 0.056272,
     "end_time": "2021-04-24T14:55:14.884808",
     "exception": false,
     "start_time": "2021-04-24T14:55:14.828536",
     "status": "completed"
    },
    "tags": []
   },
   "source": [
    "### Feature importance"
   ]
  },
  {
   "cell_type": "code",
   "execution_count": 16,
   "id": "moral-feeling",
   "metadata": {
    "ExecuteTime": {
     "end_time": "2021-04-05T06:53:55.912277Z",
     "start_time": "2021-04-05T06:53:55.664403Z"
    },
    "_cell_guid": "cc478b5a-29c0-4f5e-8cec-e4d67ddac008",
    "_uuid": "fe9b90d5-c826-4870-9560-43b4fd9631f9",
    "collapsed": false,
    "execution": {
     "iopub.execute_input": "2021-04-24T14:55:15.005827Z",
     "iopub.status.busy": "2021-04-24T14:55:15.004815Z",
     "iopub.status.idle": "2021-04-24T14:55:15.741498Z",
     "shell.execute_reply": "2021-04-24T14:55:15.740536Z"
    },
    "jupyter": {
     "outputs_hidden": false
    },
    "papermill": {
     "duration": 0.800718,
     "end_time": "2021-04-24T14:55:15.741641",
     "exception": false,
     "start_time": "2021-04-24T14:55:14.940923",
     "status": "completed"
    },
    "tags": []
   },
   "outputs": [
    {
     "data": {
      "image/png": "[encoded data removed]",
      "text/plain": [
       "<Figure size 720x720 with 1 Axes>"
      ]
     },
     "metadata": {
      "needs_background": "light"
     },
     "output_type": "display_data"
    }
   ],
   "source": [
    "# just to get ideas to improve\n",
    "order = list(feature_importances.groupby(\"feature\").mean().sort_values(\"importance\", ascending=False).index)\n",
    "plt.figure(figsize=(10, 10))\n",
    "sns.barplot(x=\"importance\", y=\"feature\", data=feature_importances, order=order)\n",
    "plt.title(\"{} importance\".format(\"LGBMRegressor\"))\n",
    "plt.tight_layout()"
   ]
  },
  {
   "cell_type": "markdown",
   "id": "accessible-generation",
   "metadata": {
    "papermill": {
     "duration": 0.057612,
     "end_time": "2021-04-24T14:55:15.857230",
     "exception": false,
     "start_time": "2021-04-24T14:55:15.799618",
     "status": "completed"
    },
    "tags": []
   },
   "source": [
    "# CatBoost"
   ]
  },
  {
   "cell_type": "code",
   "execution_count": 17,
   "id": "radical-idaho",
   "metadata": {
    "execution": {
     "iopub.execute_input": "2021-04-24T14:55:15.979675Z",
     "iopub.status.busy": "2021-04-24T14:55:15.977893Z",
     "iopub.status.idle": "2021-04-24T14:55:15.980263Z",
     "shell.execute_reply": "2021-04-24T14:55:15.980663Z"
    },
    "papermill": {
     "duration": 0.065993,
     "end_time": "2021-04-24T14:55:15.980816",
     "exception": false,
     "start_time": "2021-04-24T14:55:15.914823",
     "status": "completed"
    },
    "tags": []
   },
   "outputs": [],
   "source": [
    "params = {\n",
    "    'bootstrap_type': 'Poisson',\n",
    "    'loss_function': 'Logloss',\n",
    "    'eval_metric': 'Logloss',\n",
    "    'random_seed': SEED,\n",
    "    'task_type': 'GPU',\n",
    "    'max_depth': 8,\n",
    "    'learning_rate': 0.01,\n",
    "    'n_estimators': N_ESTIMATORS,\n",
    "    'max_bin': 280,\n",
    "    'min_data_in_leaf': 64,\n",
    "    'l2_leaf_reg': 0.01,\n",
    "    'subsample': 0.8\n",
    "}"
   ]
  },
  {
   "cell_type": "code",
   "execution_count": 18,
   "id": "pretty-bandwidth",
   "metadata": {
    "execution": {
     "iopub.execute_input": "2021-04-24T14:55:16.109777Z",
     "iopub.status.busy": "2021-04-24T14:55:16.108934Z",
     "iopub.status.idle": "2021-04-24T14:56:58.555185Z",
     "shell.execute_reply": "2021-04-24T14:56:58.556170Z"
    },
    "papermill": {
     "duration": 102.517584,
     "end_time": "2021-04-24T14:56:58.556410",
     "exception": false,
     "start_time": "2021-04-24T14:55:16.038826",
     "status": "completed"
    },
    "tags": []
   },
   "outputs": [
    {
     "name": "stdout",
     "output_type": "stream",
     "text": [
      "===== FOLD 0 =====\n",
      "0:\tlearn: 0.6836760\ttest: 0.6866686\tbest: 0.6866686 (0)\ttotal: 28.1ms\tremaining: 28s\n",
      "100:\tlearn: 0.3529370\ttest: 0.4956800\tbest: 0.4956800 (100)\ttotal: 1.38s\tremaining: 12.2s\n",
      "200:\tlearn: 0.3170473\ttest: 0.4996252\tbest: 0.4946672 (120)\ttotal: 2.7s\tremaining: 10.7s\n",
      "bestTest = 0.494667236\n",
      "bestIteration = 120\n",
      "Shrink model to first 121 iterations.\n",
      "===== ACCURACY SCORE 0.772223 =====\n",
      "\n",
      "===== FOLD 1 =====\n",
      "0:\tlearn: 0.6837025\ttest: 0.6866196\tbest: 0.6866196 (0)\ttotal: 14.3ms\tremaining: 14.3s\n",
      "100:\tlearn: 0.3534344\ttest: 0.4921121\tbest: 0.4921121 (100)\ttotal: 1.34s\tremaining: 11.9s\n",
      "200:\tlearn: 0.3177498\ttest: 0.4942080\tbest: 0.4905940 (126)\ttotal: 3.1s\tremaining: 12.3s\n",
      "bestTest = 0.4905940421\n",
      "bestIteration = 126\n",
      "Shrink model to first 127 iterations.\n",
      "===== ACCURACY SCORE 0.776300 =====\n",
      "\n",
      "===== FOLD 2 =====\n",
      "0:\tlearn: 0.6836740\ttest: 0.6866715\tbest: 0.6866715 (0)\ttotal: 14.5ms\tremaining: 14.5s\n",
      "100:\tlearn: 0.3526300\ttest: 0.5000094\tbest: 0.5000094 (100)\ttotal: 1.45s\tremaining: 12.9s\n",
      "200:\tlearn: 0.3167566\ttest: 0.5057352\tbest: 0.4994346 (118)\ttotal: 2.82s\tremaining: 11.2s\n",
      "bestTest = 0.4994346088\n",
      "bestIteration = 118\n",
      "Shrink model to first 119 iterations.\n",
      "===== ACCURACY SCORE 0.771380 =====\n",
      "\n",
      "===== FOLD 3 =====\n",
      "0:\tlearn: 0.6836697\ttest: 0.6866120\tbest: 0.6866120 (0)\ttotal: 14ms\tremaining: 14s\n",
      "100:\tlearn: 0.3530430\ttest: 0.4954258\tbest: 0.4954258 (100)\ttotal: 1.92s\tremaining: 17.1s\n",
      "200:\tlearn: 0.3174360\ttest: 0.4992627\tbest: 0.4944685 (113)\ttotal: 3.21s\tremaining: 12.8s\n",
      "bestTest = 0.4944684548\n",
      "bestIteration = 113\n",
      "Shrink model to first 114 iterations.\n",
      "===== ACCURACY SCORE 0.778549 =====\n",
      "\n",
      "===== FOLD 4 =====\n",
      "0:\tlearn: 0.6836375\ttest: 0.6868006\tbest: 0.6868006 (0)\ttotal: 14.6ms\tremaining: 14.6s\n",
      "100:\tlearn: 0.3519802\ttest: 0.5072590\tbest: 0.5072590 (100)\ttotal: 1.72s\tremaining: 15.3s\n",
      "200:\tlearn: 0.3161514\ttest: 0.5150222\tbest: 0.5070440 (110)\ttotal: 3.06s\tremaining: 12.2s\n",
      "bestTest = 0.5070440039\n",
      "bestIteration = 110\n",
      "Shrink model to first 111 iterations.\n",
      "===== ACCURACY SCORE 0.768532 =====\n",
      "\n",
      "===== FOLD 5 =====\n",
      "0:\tlearn: 0.6836676\ttest: 0.6866325\tbest: 0.6866325 (0)\ttotal: 15ms\tremaining: 15s\n",
      "100:\tlearn: 0.3528092\ttest: 0.4978365\tbest: 0.4978365 (100)\ttotal: 1.36s\tremaining: 12.1s\n",
      "200:\tlearn: 0.3169444\ttest: 0.5043250\tbest: 0.4971953 (112)\ttotal: 2.68s\tremaining: 10.7s\n",
      "bestTest = 0.4971952945\n",
      "bestIteration = 112\n",
      "Shrink model to first 113 iterations.\n",
      "===== ACCURACY SCORE 0.775807 =====\n",
      "\n",
      "===== FOLD 6 =====\n",
      "0:\tlearn: 0.6836780\ttest: 0.6866609\tbest: 0.6866609 (0)\ttotal: 14.6ms\tremaining: 14.6s\n",
      "100:\tlearn: 0.3531149\ttest: 0.4956271\tbest: 0.4956271 (100)\ttotal: 1.34s\tremaining: 11.9s\n",
      "200:\tlearn: 0.3172131\ttest: 0.4989001\tbest: 0.4945520 (121)\ttotal: 2.68s\tremaining: 10.7s\n",
      "bestTest = 0.4945519943\n",
      "bestIteration = 121\n",
      "Shrink model to first 122 iterations.\n",
      "===== ACCURACY SCORE 0.776778 =====\n",
      "\n",
      "===== FOLD 7 =====\n",
      "0:\tlearn: 0.6836788\ttest: 0.6866420\tbest: 0.6866420 (0)\ttotal: 13.9ms\tremaining: 13.9s\n",
      "100:\tlearn: 0.3533046\ttest: 0.4951615\tbest: 0.4951615 (100)\ttotal: 1.66s\tremaining: 14.8s\n",
      "200:\tlearn: 0.3172833\ttest: 0.4993568\tbest: 0.4941434 (115)\ttotal: 2.97s\tremaining: 11.8s\n",
      "bestTest = 0.4941433632\n",
      "bestIteration = 115\n",
      "Shrink model to first 116 iterations.\n",
      "===== ACCURACY SCORE 0.774885 =====\n",
      "\n",
      "===== FOLD 8 =====\n",
      "0:\tlearn: 0.6836968\ttest: 0.6865612\tbest: 0.6865612 (0)\ttotal: 14.3ms\tremaining: 14.3s\n",
      "100:\tlearn: 0.3536214\ttest: 0.4891203\tbest: 0.4891203 (100)\ttotal: 1.44s\tremaining: 12.8s\n",
      "200:\tlearn: 0.3178249\ttest: 0.4905729\tbest: 0.4873234 (127)\ttotal: 2.76s\tremaining: 11s\n",
      "bestTest = 0.4873233742\n",
      "bestIteration = 127\n",
      "Shrink model to first 128 iterations.\n",
      "===== ACCURACY SCORE 0.780417 =====\n",
      "\n",
      "===== FOLD 9 =====\n",
      "0:\tlearn: 0.6837128\ttest: 0.6864060\tbest: 0.6864060 (0)\ttotal: 14.2ms\tremaining: 14.2s\n",
      "100:\tlearn: 0.3539794\ttest: 0.4838299\tbest: 0.4838299 (100)\ttotal: 1.35s\tremaining: 12s\n",
      "200:\tlearn: 0.3182214\ttest: 0.4852792\tbest: 0.4817554 (129)\ttotal: 2.66s\tremaining: 10.6s\n",
      "bestTest = 0.4817554245\n",
      "bestIteration = 129\n",
      "Shrink model to first 130 iterations.\n",
      "===== ACCURACY SCORE 0.785064 =====\n",
      "\n",
      "===== ACCURACY SCORE 0.775990 =====\n"
     ]
    }
   ],
   "source": [
    "ctb_oof = np.zeros(train_df.shape[0])\n",
    "ctb_preds = np.zeros(test_df.shape[0])\n",
    "feature_importances = pd.DataFrame()\n",
    "\n",
    "skf = StratifiedKFold(n_splits=N_SPLITS, shuffle=True, random_state=SEED)\n",
    "\n",
    "for fold, (train_idx, valid_idx) in enumerate(skf.split(all_df, all_df[TARGET])):\n",
    "    print(f\"===== FOLD {fold} =====\")\n",
    "    oof_idx = np.array([idx for idx in valid_idx if idx < train_df.shape[0]])\n",
    "    preds_idx = np.array([idx for idx in valid_idx if idx >= train_df.shape[0]])\n",
    "\n",
    "    X_train, y_train = all_df.iloc[train_idx].drop(TARGET, axis=1), all_df.iloc[train_idx][TARGET]\n",
    "    X_valid, y_valid = all_df.iloc[oof_idx].drop(TARGET, axis=1), all_df.iloc[oof_idx][TARGET]\n",
    "    X_test = all_df.iloc[preds_idx].drop(TARGET, axis=1)\n",
    "    \n",
    "    model = ctb.CatBoostClassifier(**params)\n",
    "    model.fit(X_train, y_train,\n",
    "              eval_set=[(X_valid, y_valid)],\n",
    "              use_best_model=True,\n",
    "              early_stopping_rounds=EARLY_STOPPING_ROUNDS,\n",
    "              verbose=VERBOSE\n",
    "              )\n",
    "    \n",
    "    fi_tmp = pd.DataFrame()\n",
    "    fi_tmp[\"feature\"] = X_test.columns.to_list()\n",
    "    fi_tmp[\"importance\"] = model.get_feature_importance()\n",
    "    fi_tmp[\"fold\"] = fold\n",
    "    fi_tmp[\"seed\"] = SEED\n",
    "    feature_importances = feature_importances.append(fi_tmp)\n",
    "    \n",
    "    ctb_oof[oof_idx] = model.predict(X_valid)\n",
    "    ctb_preds[preds_idx-train_df.shape[0]] = model.predict(X_test)\n",
    "    \n",
    "    acc_score = accuracy_score(y_valid, np.where(ctb_oof[oof_idx]>0.5, 1, 0))\n",
    "    print(f\"===== ACCURACY SCORE {acc_score:.6f} =====\\n\")\n",
    "    \n",
    "acc_score = accuracy_score(all_df[:train_df.shape[0]][TARGET], np.where(ctb_oof>0.5, 1, 0))\n",
    "print(f\"===== ACCURACY SCORE {acc_score:.6f} =====\")"
   ]
  },
  {
   "cell_type": "markdown",
   "id": "retired-improvement",
   "metadata": {
    "papermill": {
     "duration": 0.100523,
     "end_time": "2021-04-24T14:56:58.758864",
     "exception": false,
     "start_time": "2021-04-24T14:56:58.658341",
     "status": "completed"
    },
    "tags": []
   },
   "source": [
    "### Feature importance"
   ]
  },
  {
   "cell_type": "code",
   "execution_count": 19,
   "id": "utility-objective",
   "metadata": {
    "execution": {
     "iopub.execute_input": "2021-04-24T14:56:58.971539Z",
     "iopub.status.busy": "2021-04-24T14:56:58.970862Z",
     "iopub.status.idle": "2021-04-24T14:56:59.986236Z",
     "shell.execute_reply": "2021-04-24T14:56:59.987215Z"
    },
    "papermill": {
     "duration": 1.128206,
     "end_time": "2021-04-24T14:56:59.987414",
     "exception": false,
     "start_time": "2021-04-24T14:56:58.859208",
     "status": "completed"
    },
    "tags": []
   },
   "outputs": [
    {
     "data": {
      "image/png": "[encoded data removed]",
      "text/plain": [
       "<Figure size 720x720 with 1 Axes>"
      ]
     },
     "metadata": {
      "needs_background": "light"
     },
     "output_type": "display_data"
    }
   ],
   "source": [
    "# just to get ideas to improve\n",
    "order = list(feature_importances.groupby(\"feature\").mean().sort_values(\"importance\", ascending=False).index)\n",
    "plt.figure(figsize=(10, 10))\n",
    "sns.barplot(x=\"importance\", y=\"feature\", data=feature_importances, order=order)\n",
    "plt.title(\"{} importance\".format(\"CatBoostClassifier\"))\n",
    "plt.tight_layout()"
   ]
  },
  {
   "cell_type": "markdown",
   "id": "associate-removal",
   "metadata": {
    "papermill": {
     "duration": 0.070235,
     "end_time": "2021-04-24T14:57:00.162391",
     "exception": false,
     "start_time": "2021-04-24T14:57:00.092156",
     "status": "completed"
    },
    "tags": []
   },
   "source": [
    "# DecisionTreeModel"
   ]
  },
  {
   "cell_type": "code",
   "execution_count": 20,
   "id": "responsible-victim",
   "metadata": {
    "execution": {
     "iopub.execute_input": "2021-04-24T14:57:00.306090Z",
     "iopub.status.busy": "2021-04-24T14:57:00.305139Z",
     "iopub.status.idle": "2021-04-24T14:57:00.307637Z",
     "shell.execute_reply": "2021-04-24T14:57:00.307121Z"
    },
    "papermill": {
     "duration": 0.075376,
     "end_time": "2021-04-24T14:57:00.307778",
     "exception": false,
     "start_time": "2021-04-24T14:57:00.232402",
     "status": "completed"
    },
    "tags": []
   },
   "outputs": [],
   "source": [
    "# # Tuning the DecisionTreeClassifier by the GridSearchCV\n",
    "# parameters = {\n",
    "#     'max_depth': np.arange(2, 5, dtype=int),\n",
    "#     'min_samples_leaf':  np.arange(2, 5, dtype=int)\n",
    "# }\n",
    "\n",
    "# classifier = DecisionTreeClassifier(random_state=2021)\n",
    "\n",
    "# model = GridSearchCV(\n",
    "#     estimator=classifier,\n",
    "#     param_grid=parameters,\n",
    "#     scoring='accuracy',\n",
    "#     cv=10,\n",
    "#     n_jobs=-1)\n",
    "# model.fit(X_train, y_train)\n",
    "\n",
    "# best_parameters = model.best_params_\n",
    "# print(best_parameters)"
   ]
  },
  {
   "cell_type": "code",
   "execution_count": 21,
   "id": "qualified-commercial",
   "metadata": {
    "execution": {
     "iopub.execute_input": "2021-04-24T14:57:00.456708Z",
     "iopub.status.busy": "2021-04-24T14:57:00.455914Z",
     "iopub.status.idle": "2021-04-24T14:57:31.538485Z",
     "shell.execute_reply": "2021-04-24T14:57:31.539161Z"
    },
    "papermill": {
     "duration": 31.163025,
     "end_time": "2021-04-24T14:57:31.539369",
     "exception": false,
     "start_time": "2021-04-24T14:57:00.376344",
     "status": "completed"
    },
    "tags": []
   },
   "outputs": [
    {
     "name": "stdout",
     "output_type": "stream",
     "text": [
      "===== FOLD 0 =====\n",
      "===== ACCURACY SCORE 0.776777 =====\n",
      "\n",
      "===== FOLD 1 =====\n",
      "===== ACCURACY SCORE 0.777811 =====\n",
      "\n",
      "===== FOLD 2 =====\n",
      "===== ACCURACY SCORE 0.774885 =====\n",
      "\n",
      "===== FOLD 3 =====\n",
      "===== ACCURACY SCORE 0.779958 =====\n",
      "\n",
      "===== FOLD 4 =====\n",
      "===== ACCURACY SCORE 0.770927 =====\n",
      "\n",
      "===== FOLD 5 =====\n",
      "===== ACCURACY SCORE 0.778513 =====\n",
      "\n",
      "===== FOLD 6 =====\n",
      "===== ACCURACY SCORE 0.779178 =====\n",
      "\n",
      "===== FOLD 7 =====\n",
      "===== ACCURACY SCORE 0.776487 =====\n",
      "\n",
      "===== FOLD 8 =====\n",
      "===== ACCURACY SCORE 0.781710 =====\n",
      "\n",
      "===== FOLD 9 =====\n",
      "===== ACCURACY SCORE 0.786964 =====\n",
      "\n",
      "===== ACCURACY SCORE 0.778320 =====\n"
     ]
    }
   ],
   "source": [
    "dtm_oof = np.zeros(train_df.shape[0])\n",
    "dtm_preds = np.zeros(test_df.shape[0])\n",
    "feature_importances = pd.DataFrame()\n",
    "\n",
    "skf = StratifiedKFold(n_splits=N_SPLITS, shuffle=True, random_state=SEED)\n",
    "\n",
    "for fold, (train_idx, valid_idx) in enumerate(skf.split(all_df, all_df[TARGET])):\n",
    "    print(f\"===== FOLD {fold} =====\")\n",
    "    oof_idx = np.array([idx for idx in valid_idx if idx < train_df.shape[0]])\n",
    "    preds_idx = np.array([idx for idx in valid_idx if idx >= train_df.shape[0]])\n",
    "\n",
    "    X_train, y_train = all_df.iloc[train_idx].drop(TARGET, axis=1), all_df.iloc[train_idx][TARGET]\n",
    "    X_valid, y_valid = all_df.iloc[oof_idx].drop(TARGET, axis=1), all_df.iloc[oof_idx][TARGET]\n",
    "    X_test = all_df.iloc[preds_idx].drop(TARGET, axis=1)\n",
    "    \n",
    "    model = XGBClassifier(tree_method = 'gpu_hist',learning_rate=0.01, max_depth=10, min_child_weight=17, n_estimators=100, n_jobs=1, subsample=1.0, verbosity=0)\n",
    "    model.fit(X_train, y_train)\n",
    "    \n",
    "    dtm_oof[oof_idx] = model.predict(X_valid)\n",
    "    dtm_preds[preds_idx-train_df.shape[0]] = model.predict(X_test)\n",
    "    \n",
    "    acc_score = accuracy_score(y_valid, np.where(dtm_oof[oof_idx]>0.5, 1, 0))\n",
    "    print(f\"===== ACCURACY SCORE {acc_score:.6f} =====\\n\")\n",
    "    \n",
    "acc_score = accuracy_score(all_df[:train_df.shape[0]][TARGET], np.where(dtm_oof>0.5, 1, 0))\n",
    "print(f\"===== ACCURACY SCORE {acc_score:.6f} =====\")"
   ]
  },
  {
   "cell_type": "markdown",
   "id": "running-coast",
   "metadata": {
    "papermill": {
     "duration": 0.073819,
     "end_time": "2021-04-24T14:57:31.688027",
     "exception": false,
     "start_time": "2021-04-24T14:57:31.614208",
     "status": "completed"
    },
    "tags": []
   },
   "source": [
    "### Plot tree"
   ]
  },
  {
   "cell_type": "code",
   "execution_count": 22,
   "id": "fleet-vegetable",
   "metadata": {
    "execution": {
     "iopub.execute_input": "2021-04-24T14:57:31.838757Z",
     "iopub.status.busy": "2021-04-24T14:57:31.837863Z",
     "iopub.status.idle": "2021-04-24T14:57:31.840302Z",
     "shell.execute_reply": "2021-04-24T14:57:31.840729Z"
    },
    "papermill": {
     "duration": 0.079599,
     "end_time": "2021-04-24T14:57:31.840882",
     "exception": false,
     "start_time": "2021-04-24T14:57:31.761283",
     "status": "completed"
    },
    "tags": []
   },
   "outputs": [],
   "source": [
    "# # plot tree\n",
    "# dot_data = export_graphviz(\n",
    "#     model,\n",
    "#     out_file=None,\n",
    "#     feature_names=X_train.columns,\n",
    "#     class_names=['0', '1'],\n",
    "#     filled=True,\n",
    "#     rounded=False,\n",
    "#     special_characters=True,\n",
    "#     precision=3\n",
    "# )\n",
    "# graph = graphviz.Source(dot_data)\n",
    "# graph "
   ]
  },
  {
   "cell_type": "markdown",
   "id": "alike-academy",
   "metadata": {
    "papermill": {
     "duration": 0.073525,
     "end_time": "2021-04-24T14:57:31.988514",
     "exception": false,
     "start_time": "2021-04-24T14:57:31.914989",
     "status": "completed"
    },
    "tags": []
   },
   "source": [
    "# Ensemble"
   ]
  },
  {
   "cell_type": "code",
   "execution_count": 23,
   "id": "dressed-collective",
   "metadata": {
    "execution": {
     "iopub.execute_input": "2021-04-24T14:57:32.141011Z",
     "iopub.status.busy": "2021-04-24T14:57:32.140090Z",
     "iopub.status.idle": "2021-04-24T14:57:32.155846Z",
     "shell.execute_reply": "2021-04-24T14:57:32.155386Z"
    },
    "papermill": {
     "duration": 0.094888,
     "end_time": "2021-04-24T14:57:32.155980",
     "exception": false,
     "start_time": "2021-04-24T14:57:32.061092",
     "status": "completed"
    },
    "tags": []
   },
   "outputs": [],
   "source": [
    "bound_1 = pd.Series(lgb_preds).sort_values(ascending = False).head(34911).values[-1]"
   ]
  },
  {
   "cell_type": "code",
   "execution_count": 24,
   "id": "distributed-avatar",
   "metadata": {
    "execution": {
     "iopub.execute_input": "2021-04-24T14:57:32.308549Z",
     "iopub.status.busy": "2021-04-24T14:57:32.307696Z",
     "iopub.status.idle": "2021-04-24T14:57:32.314119Z",
     "shell.execute_reply": "2021-04-24T14:57:32.313679Z"
    },
    "papermill": {
     "duration": 0.084249,
     "end_time": "2021-04-24T14:57:32.314243",
     "exception": false,
     "start_time": "2021-04-24T14:57:32.229994",
     "status": "completed"
    },
    "tags": []
   },
   "outputs": [],
   "source": [
    "submission['submit_lgb'] = (lgb_preds>bound_1).astype(int)\n",
    "submission['submit_ctb'] = pd.Series(ctb_preds).astype(int)\n",
    "submission['submit_dtm'] = pd.Series(dtm_preds).astype(int)"
   ]
  },
  {
   "cell_type": "code",
   "execution_count": 25,
   "id": "academic-report",
   "metadata": {
    "execution": {
     "iopub.execute_input": "2021-04-24T14:57:32.500878Z",
     "iopub.status.busy": "2021-04-24T14:57:32.499470Z",
     "iopub.status.idle": "2021-04-24T14:57:32.518526Z",
     "shell.execute_reply": "2021-04-24T14:57:32.517631Z"
    },
    "papermill": {
     "duration": 0.129855,
     "end_time": "2021-04-24T14:57:32.518723",
     "exception": false,
     "start_time": "2021-04-24T14:57:32.388868",
     "status": "completed"
    },
    "tags": []
   },
   "outputs": [
    {
     "data": {
      "text/plain": [
       "0    64925\n",
       "3    33877\n",
       "1      621\n",
       "2      577\n",
       "dtype: int64"
      ]
     },
     "execution_count": 25,
     "metadata": {},
     "output_type": "execute_result"
    }
   ],
   "source": [
    "submission[[col for col in submission.columns if col.startswith('submit_')]].sum(axis = 1).value_counts()"
   ]
  },
  {
   "cell_type": "code",
   "execution_count": 26,
   "id": "placed-namibia",
   "metadata": {
    "execution": {
     "iopub.execute_input": "2021-04-24T14:57:32.774027Z",
     "iopub.status.busy": "2021-04-24T14:57:32.773200Z",
     "iopub.status.idle": "2021-04-24T14:57:32.781268Z",
     "shell.execute_reply": "2021-04-24T14:57:32.782279Z"
    },
    "papermill": {
     "duration": 0.140243,
     "end_time": "2021-04-24T14:57:32.782475",
     "exception": false,
     "start_time": "2021-04-24T14:57:32.642232",
     "status": "completed"
    },
    "tags": []
   },
   "outputs": [],
   "source": [
    "submission[TARGET] = (submission[[col for col in submission.columns if col.startswith('submit_')]].sum(axis=1) >= 2).astype(int)\n",
    "submission.drop([col for col in submission.columns if col.startswith('submit_')], axis=1, inplace=True)"
   ]
  },
  {
   "cell_type": "markdown",
   "id": "optical-mirror",
   "metadata": {
    "papermill": {
     "duration": 0.120064,
     "end_time": "2021-04-24T14:57:33.026390",
     "exception": false,
     "start_time": "2021-04-24T14:57:32.906326",
     "status": "completed"
    },
    "tags": []
   },
   "source": [
    "# Ensemble/Submission"
   ]
  },
  {
   "cell_type": "code",
   "execution_count": 27,
   "id": "exposed-matrix",
   "metadata": {
    "execution": {
     "iopub.execute_input": "2021-04-24T14:57:33.193682Z",
     "iopub.status.busy": "2021-04-24T14:57:33.192851Z",
     "iopub.status.idle": "2021-04-24T14:57:33.450961Z",
     "shell.execute_reply": "2021-04-24T14:57:33.451588Z"
    },
    "papermill": {
     "duration": 0.340536,
     "end_time": "2021-04-24T14:57:33.451806",
     "exception": false,
     "start_time": "2021-04-24T14:57:33.111270",
     "status": "completed"
    },
    "tags": []
   },
   "outputs": [],
   "source": [
    "submission.to_csv('LCX_without_ensemble.csv', index=False)"
   ]
  },
  {
   "cell_type": "code",
   "execution_count": 28,
   "id": "flush-river",
   "metadata": {
    "execution": {
     "iopub.execute_input": "2021-04-24T14:57:33.612491Z",
     "iopub.status.busy": "2021-04-24T14:57:33.611868Z",
     "iopub.status.idle": "2021-04-24T14:57:34.044119Z",
     "shell.execute_reply": "2021-04-24T14:57:34.044626Z"
    },
    "papermill": {
     "duration": 0.514724,
     "end_time": "2021-04-24T14:57:34.044857",
     "exception": false,
     "start_time": "2021-04-24T14:57:33.530133",
     "status": "completed"
    },
    "tags": []
   },
   "outputs": [
    {
     "ename": "FileNotFoundError",
     "evalue": "[Errno 2] No such file or directory: '../input/tps-apr-2021-pseudo-labeling-voting-ensemble-edit/scoring_edit.csv'",
     "output_type": "error",
     "traceback": [
      "\u001b[0;31m---------------------------------------------------------------------------\u001b[0m",
      "\u001b[0;31mFileNotFoundError\u001b[0m                         Traceback (most recent call last)",
      "\u001b[0;32m<ipython-input-28-7fda29961ee4>\u001b[0m in \u001b[0;36m<module>\u001b[0;34m\u001b[0m\n\u001b[1;32m      1\u001b[0m \u001b[0msubmission\u001b[0m\u001b[0;34m[\u001b[0m\u001b[0;34m'submit_1'\u001b[0m\u001b[0;34m]\u001b[0m \u001b[0;34m=\u001b[0m \u001b[0msubmission\u001b[0m\u001b[0;34m[\u001b[0m\u001b[0mTARGET\u001b[0m\u001b[0;34m]\u001b[0m\u001b[0;34m.\u001b[0m\u001b[0mcopy\u001b[0m\u001b[0;34m(\u001b[0m\u001b[0;34m)\u001b[0m\u001b[0;34m\u001b[0m\u001b[0;34m\u001b[0m\u001b[0m\n\u001b[0;32m----> 2\u001b[0;31m \u001b[0msubmission\u001b[0m\u001b[0;34m[\u001b[0m\u001b[0;34m'submit_2'\u001b[0m\u001b[0;34m]\u001b[0m \u001b[0;34m=\u001b[0m \u001b[0mpd\u001b[0m\u001b[0;34m.\u001b[0m\u001b[0mread_csv\u001b[0m\u001b[0;34m(\u001b[0m\u001b[0;34m\"../input/tps-apr-2021-pseudo-labeling-voting-ensemble-edit/scoring_edit.csv\"\u001b[0m\u001b[0;34m)\u001b[0m\u001b[0;34m[\u001b[0m\u001b[0mTARGET\u001b[0m\u001b[0;34m]\u001b[0m\u001b[0;34m\u001b[0m\u001b[0;34m\u001b[0m\u001b[0m\n\u001b[0m\u001b[1;32m      3\u001b[0m \u001b[0msubmission\u001b[0m\u001b[0;34m[\u001b[0m\u001b[0;34m'submit_3'\u001b[0m\u001b[0;34m]\u001b[0m \u001b[0;34m=\u001b[0m \u001b[0mpd\u001b[0m\u001b[0;34m.\u001b[0m\u001b[0mread_csv\u001b[0m\u001b[0;34m(\u001b[0m\u001b[0;34m\"../input/tps-apr-2021-label/pseudo_label.csv\"\u001b[0m\u001b[0;34m)\u001b[0m\u001b[0;34m[\u001b[0m\u001b[0mTARGET\u001b[0m\u001b[0;34m]\u001b[0m\u001b[0;34m\u001b[0m\u001b[0;34m\u001b[0m\u001b[0m\n",
      "\u001b[0;32m/opt/conda/lib/python3.7/site-packages/pandas/io/parsers.py\u001b[0m in \u001b[0;36mread_csv\u001b[0;34m(filepath_or_buffer, sep, delimiter, header, names, index_col, usecols, squeeze, prefix, mangle_dupe_cols, dtype, engine, converters, true_values, false_values, skipinitialspace, skiprows, skipfooter, nrows, na_values, keep_default_na, na_filter, verbose, skip_blank_lines, parse_dates, infer_datetime_format, keep_date_col, date_parser, dayfirst, cache_dates, iterator, chunksize, compression, thousands, decimal, lineterminator, quotechar, quoting, doublequote, escapechar, comment, encoding, dialect, error_bad_lines, warn_bad_lines, delim_whitespace, low_memory, memory_map, float_precision)\u001b[0m\n\u001b[1;32m    686\u001b[0m     )\n\u001b[1;32m    687\u001b[0m \u001b[0;34m\u001b[0m\u001b[0m\n\u001b[0;32m--> 688\u001b[0;31m     \u001b[0;32mreturn\u001b[0m \u001b[0m_read\u001b[0m\u001b[0;34m(\u001b[0m\u001b[0mfilepath_or_buffer\u001b[0m\u001b[0;34m,\u001b[0m \u001b[0mkwds\u001b[0m\u001b[0;34m)\u001b[0m\u001b[0;34m\u001b[0m\u001b[0;34m\u001b[0m\u001b[0m\n\u001b[0m\u001b[1;32m    689\u001b[0m \u001b[0;34m\u001b[0m\u001b[0m\n\u001b[1;32m    690\u001b[0m \u001b[0;34m\u001b[0m\u001b[0m\n",
      "\u001b[0;32m/opt/conda/lib/python3.7/site-packages/pandas/io/parsers.py\u001b[0m in \u001b[0;36m_read\u001b[0;34m(filepath_or_buffer, kwds)\u001b[0m\n\u001b[1;32m    452\u001b[0m \u001b[0;34m\u001b[0m\u001b[0m\n\u001b[1;32m    453\u001b[0m     \u001b[0;31m# Create the parser.\u001b[0m\u001b[0;34m\u001b[0m\u001b[0;34m\u001b[0m\u001b[0;34m\u001b[0m\u001b[0m\n\u001b[0;32m--> 454\u001b[0;31m     \u001b[0mparser\u001b[0m \u001b[0;34m=\u001b[0m \u001b[0mTextFileReader\u001b[0m\u001b[0;34m(\u001b[0m\u001b[0mfp_or_buf\u001b[0m\u001b[0;34m,\u001b[0m \u001b[0;34m**\u001b[0m\u001b[0mkwds\u001b[0m\u001b[0;34m)\u001b[0m\u001b[0;34m\u001b[0m\u001b[0;34m\u001b[0m\u001b[0m\n\u001b[0m\u001b[1;32m    455\u001b[0m \u001b[0;34m\u001b[0m\u001b[0m\n\u001b[1;32m    456\u001b[0m     \u001b[0;32mif\u001b[0m \u001b[0mchunksize\u001b[0m \u001b[0;32mor\u001b[0m \u001b[0miterator\u001b[0m\u001b[0;34m:\u001b[0m\u001b[0;34m\u001b[0m\u001b[0;34m\u001b[0m\u001b[0m\n",
      "\u001b[0;32m/opt/conda/lib/python3.7/site-packages/pandas/io/parsers.py\u001b[0m in \u001b[0;36m__init__\u001b[0;34m(self, f, engine, **kwds)\u001b[0m\n\u001b[1;32m    946\u001b[0m             \u001b[0mself\u001b[0m\u001b[0;34m.\u001b[0m\u001b[0moptions\u001b[0m\u001b[0;34m[\u001b[0m\u001b[0;34m\"has_index_names\"\u001b[0m\u001b[0;34m]\u001b[0m \u001b[0;34m=\u001b[0m \u001b[0mkwds\u001b[0m\u001b[0;34m[\u001b[0m\u001b[0;34m\"has_index_names\"\u001b[0m\u001b[0;34m]\u001b[0m\u001b[0;34m\u001b[0m\u001b[0;34m\u001b[0m\u001b[0m\n\u001b[1;32m    947\u001b[0m \u001b[0;34m\u001b[0m\u001b[0m\n\u001b[0;32m--> 948\u001b[0;31m         \u001b[0mself\u001b[0m\u001b[0;34m.\u001b[0m\u001b[0m_make_engine\u001b[0m\u001b[0;34m(\u001b[0m\u001b[0mself\u001b[0m\u001b[0;34m.\u001b[0m\u001b[0mengine\u001b[0m\u001b[0;34m)\u001b[0m\u001b[0;34m\u001b[0m\u001b[0;34m\u001b[0m\u001b[0m\n\u001b[0m\u001b[1;32m    949\u001b[0m \u001b[0;34m\u001b[0m\u001b[0m\n\u001b[1;32m    950\u001b[0m     \u001b[0;32mdef\u001b[0m \u001b[0mclose\u001b[0m\u001b[0;34m(\u001b[0m\u001b[0mself\u001b[0m\u001b[0;34m)\u001b[0m\u001b[0;34m:\u001b[0m\u001b[0;34m\u001b[0m\u001b[0;34m\u001b[0m\u001b[0m\n",
      "\u001b[0;32m/opt/conda/lib/python3.7/site-packages/pandas/io/parsers.py\u001b[0m in \u001b[0;36m_make_engine\u001b[0;34m(self, engine)\u001b[0m\n\u001b[1;32m   1178\u001b[0m     \u001b[0;32mdef\u001b[0m \u001b[0m_make_engine\u001b[0m\u001b[0;34m(\u001b[0m\u001b[0mself\u001b[0m\u001b[0;34m,\u001b[0m \u001b[0mengine\u001b[0m\u001b[0;34m=\u001b[0m\u001b[0;34m\"c\"\u001b[0m\u001b[0;34m)\u001b[0m\u001b[0;34m:\u001b[0m\u001b[0;34m\u001b[0m\u001b[0;34m\u001b[0m\u001b[0m\n\u001b[1;32m   1179\u001b[0m         \u001b[0;32mif\u001b[0m \u001b[0mengine\u001b[0m \u001b[0;34m==\u001b[0m \u001b[0;34m\"c\"\u001b[0m\u001b[0;34m:\u001b[0m\u001b[0;34m\u001b[0m\u001b[0;34m\u001b[0m\u001b[0m\n\u001b[0;32m-> 1180\u001b[0;31m             \u001b[0mself\u001b[0m\u001b[0;34m.\u001b[0m\u001b[0m_engine\u001b[0m \u001b[0;34m=\u001b[0m \u001b[0mCParserWrapper\u001b[0m\u001b[0;34m(\u001b[0m\u001b[0mself\u001b[0m\u001b[0;34m.\u001b[0m\u001b[0mf\u001b[0m\u001b[0;34m,\u001b[0m \u001b[0;34m**\u001b[0m\u001b[0mself\u001b[0m\u001b[0;34m.\u001b[0m\u001b[0moptions\u001b[0m\u001b[0;34m)\u001b[0m\u001b[0;34m\u001b[0m\u001b[0;34m\u001b[0m\u001b[0m\n\u001b[0m\u001b[1;32m   1181\u001b[0m         \u001b[0;32melse\u001b[0m\u001b[0;34m:\u001b[0m\u001b[0;34m\u001b[0m\u001b[0;34m\u001b[0m\u001b[0m\n\u001b[1;32m   1182\u001b[0m             \u001b[0;32mif\u001b[0m \u001b[0mengine\u001b[0m \u001b[0;34m==\u001b[0m \u001b[0;34m\"python\"\u001b[0m\u001b[0;34m:\u001b[0m\u001b[0;34m\u001b[0m\u001b[0;34m\u001b[0m\u001b[0m\n",
      "\u001b[0;32m/opt/conda/lib/python3.7/site-packages/pandas/io/parsers.py\u001b[0m in \u001b[0;36m__init__\u001b[0;34m(self, src, **kwds)\u001b[0m\n\u001b[1;32m   2008\u001b[0m         \u001b[0mkwds\u001b[0m\u001b[0;34m[\u001b[0m\u001b[0;34m\"usecols\"\u001b[0m\u001b[0;34m]\u001b[0m \u001b[0;34m=\u001b[0m \u001b[0mself\u001b[0m\u001b[0;34m.\u001b[0m\u001b[0musecols\u001b[0m\u001b[0;34m\u001b[0m\u001b[0;34m\u001b[0m\u001b[0m\n\u001b[1;32m   2009\u001b[0m \u001b[0;34m\u001b[0m\u001b[0m\n\u001b[0;32m-> 2010\u001b[0;31m         \u001b[0mself\u001b[0m\u001b[0;34m.\u001b[0m\u001b[0m_reader\u001b[0m \u001b[0;34m=\u001b[0m \u001b[0mparsers\u001b[0m\u001b[0;34m.\u001b[0m\u001b[0mTextReader\u001b[0m\u001b[0;34m(\u001b[0m\u001b[0msrc\u001b[0m\u001b[0;34m,\u001b[0m \u001b[0;34m**\u001b[0m\u001b[0mkwds\u001b[0m\u001b[0;34m)\u001b[0m\u001b[0;34m\u001b[0m\u001b[0;34m\u001b[0m\u001b[0m\n\u001b[0m\u001b[1;32m   2011\u001b[0m         \u001b[0mself\u001b[0m\u001b[0;34m.\u001b[0m\u001b[0munnamed_cols\u001b[0m \u001b[0;34m=\u001b[0m \u001b[0mself\u001b[0m\u001b[0;34m.\u001b[0m\u001b[0m_reader\u001b[0m\u001b[0;34m.\u001b[0m\u001b[0munnamed_cols\u001b[0m\u001b[0;34m\u001b[0m\u001b[0;34m\u001b[0m\u001b[0m\n\u001b[1;32m   2012\u001b[0m \u001b[0;34m\u001b[0m\u001b[0m\n",
      "\u001b[0;32mpandas/_libs/parsers.pyx\u001b[0m in \u001b[0;36mpandas._libs.parsers.TextReader.__cinit__\u001b[0;34m()\u001b[0m\n",
      "\u001b[0;32mpandas/_libs/parsers.pyx\u001b[0m in \u001b[0;36mpandas._libs.parsers.TextReader._setup_parser_source\u001b[0;34m()\u001b[0m\n",
      "\u001b[0;31mFileNotFoundError\u001b[0m: [Errno 2] No such file or directory: '../input/tps-apr-2021-pseudo-labeling-voting-ensemble-edit/scoring_edit.csv'"
     ]
    }
   ],
   "source": [
    "submission['submit_1'] = submission[TARGET].copy()\n",
    "submission['submit_2'] = pd.read_csv(\"../input/tps-apr-2021-pseudo-labeling-voting-ensemble-edit/scoring_edit.csv\")[TARGET]\n",
    "submission['submit_3'] = pd.read_csv(\"../input/tps-apr-2021-label/pseudo_label.csv\")[TARGET]\n"
   ]
  },
  {
   "cell_type": "code",
   "execution_count": 29,
   "id": "supported-hostel",
   "metadata": {
    "execution": {
     "iopub.execute_input": "2021-04-24T14:57:34.204953Z",
     "iopub.status.busy": "2021-04-24T14:57:34.204030Z",
     "iopub.status.idle": "2021-04-24T14:57:34.214082Z",
     "shell.execute_reply": "2021-04-24T14:57:34.213492Z"
    },
    "papermill": {
     "duration": 0.09239,
     "end_time": "2021-04-24T14:57:34.214197",
     "exception": false,
     "start_time": "2021-04-24T14:57:34.121807",
     "status": "completed"
    },
    "tags": []
   },
   "outputs": [
    {
     "data": {
      "text/plain": [
       "0    65546\n",
       "1    34454\n",
       "dtype: int64"
      ]
     },
     "execution_count": 29,
     "metadata": {},
     "output_type": "execute_result"
    }
   ],
   "source": [
    "submission[[col for col in submission.columns if col.startswith('submit_')]].sum(axis = 1).value_counts()"
   ]
  },
  {
   "cell_type": "code",
   "execution_count": 30,
   "id": "suited-philip",
   "metadata": {
    "execution": {
     "iopub.execute_input": "2021-04-24T14:57:34.373693Z",
     "iopub.status.busy": "2021-04-24T14:57:34.372611Z",
     "iopub.status.idle": "2021-04-24T14:57:34.376597Z",
     "shell.execute_reply": "2021-04-24T14:57:34.376979Z"
    },
    "papermill": {
     "duration": 0.085839,
     "end_time": "2021-04-24T14:57:34.377126",
     "exception": false,
     "start_time": "2021-04-24T14:57:34.291287",
     "status": "completed"
    },
    "tags": []
   },
   "outputs": [],
   "source": [
    "submission[TARGET] = (submission[[col for col in submission.columns if col.startswith('submit_')]].sum(axis=1) >= 2).astype(int)"
   ]
  },
  {
   "cell_type": "code",
   "execution_count": 31,
   "id": "little-nightmare",
   "metadata": {
    "ExecuteTime": {
     "end_time": "2021-04-05T06:28:42.559972Z",
     "start_time": "2021-04-05T06:28:42.544632Z"
    },
    "_cell_guid": "f08d0cb1-44a3-4a76-81ce-e11528fe77a9",
    "_uuid": "e348ccf4-4674-4510-8b64-3042e66b1c3e",
    "collapsed": false,
    "execution": {
     "iopub.execute_input": "2021-04-24T14:57:34.536083Z",
     "iopub.status.busy": "2021-04-24T14:57:34.535095Z",
     "iopub.status.idle": "2021-04-24T14:57:34.698610Z",
     "shell.execute_reply": "2021-04-24T14:57:34.698117Z"
    },
    "jupyter": {
     "outputs_hidden": false
    },
    "papermill": {
     "duration": 0.245711,
     "end_time": "2021-04-24T14:57:34.698729",
     "exception": false,
     "start_time": "2021-04-24T14:57:34.453018",
     "status": "completed"
    },
    "tags": []
   },
   "outputs": [],
   "source": [
    "submission[['PassengerId', TARGET]].to_csv(\"LCX_with_ensemble.csv\", index = False)"
   ]
  },
  {
   "cell_type": "code",
   "execution_count": 32,
   "id": "thorough-ethnic",
   "metadata": {
    "execution": {
     "iopub.execute_input": "2021-04-24T14:57:34.858801Z",
     "iopub.status.busy": "2021-04-24T14:57:34.857992Z",
     "iopub.status.idle": "2021-04-24T14:57:35.016551Z",
     "shell.execute_reply": "2021-04-24T14:57:35.017056Z"
    },
    "papermill": {
     "duration": 0.240958,
     "end_time": "2021-04-24T14:57:35.017227",
     "exception": false,
     "start_time": "2021-04-24T14:57:34.776269",
     "status": "completed"
    },
    "tags": []
   },
   "outputs": [
    {
     "data": {
      "text/plain": [
       "<AxesSubplot:>"
      ]
     },
     "execution_count": 32,
     "metadata": {},
     "output_type": "execute_result"
    },
    {
     "data": {
      "image/png": "[encoded data removed]",
      "text/plain": [
       "<Figure size 432x288 with 1 Axes>"
      ]
     },
     "metadata": {
      "needs_background": "light"
     },
     "output_type": "display_data"
    }
   ],
   "source": [
    "submission[TARGET].hist()"
   ]
  },
  {
   "cell_type": "code",
   "execution_count": null,
   "id": "animal-dodge",
   "metadata": {
    "papermill": {
     "duration": 0.083202,
     "end_time": "2021-04-24T14:57:35.184091",
     "exception": false,
     "start_time": "2021-04-24T14:57:35.100889",
     "status": "completed"
    },
    "tags": []
   },
   "outputs": [],
   "source": []
  }
 ],
 "metadata": {
  "kernelspec": {
   "display_name": "Python 3",
   "language": "python",
   "name": "python3"
  },
  "language_info": {
   "codemirror_mode": {
    "name": "ipython",
    "version": 3
   },
   "file_extension": ".py",
   "mimetype": "text/x-python",
   "name": "python",
   "nbconvert_exporter": "python",
   "pygments_lexer": "ipython3",
   "version": "3.7.9"
  },
  "papermill": {
   "default_parameters": {},
   "duration": 388.626413,
   "end_time": "2021-04-24T14:57:37.323358",
   "environment_variables": {},
   "exception": null,
   "input_path": "__notebook__.ipynb",
   "output_path": "__notebook__.ipynb",
   "parameters": {},
   "start_time": "2021-04-24T14:51:08.696945",
   "version": "2.3.2"
  }
 },
 "nbformat": 4,
 "nbformat_minor": 5
}
