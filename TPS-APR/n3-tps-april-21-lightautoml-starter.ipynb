{
 "cells": [
  {
   "cell_type": "markdown",
   "id": "northern-steal",
   "metadata": {
    "papermill": {
     "duration": 0.022556,
     "end_time": "2021-04-29T10:57:55.539246",
     "exception": false,
     "start_time": "2021-04-29T10:57:55.516690",
     "status": "completed"
    },
    "tags": []
   },
   "source": [
    "#### Please upvote if you find the notebook useful :)\n",
    "\n",
    "#### If you are new to LightAutoML, [here](https://www.kaggle.com/c/tabular-playground-series-apr-2021/discussion/231090) is the explanation discussion topic\n",
    "\n",
    "#### In this notebook we try to incorporate features from [this notebook](https://www.kaggle.com/jmargni/tps-apr-2021-lightgbm-cv) to our LightAutoML solution to show how it can be done in real ML tasks.\n",
    "#### To make difference inside pseudolabelling process we also added Catboost algo with params from [this](https://www.kaggle.com/belov38/catboost-lb) notebook\n",
    "\n",
    "### The main idea of this kernel is pseudolabelling the test data (described in details [here](https://www.kaggle.com/c/tabular-playground-series-apr-2021/discussion/231738)) and building model using our opensourced framework [LightAutoML](https://github.com/sberbank-ai-lab/LightAutoML).\n",
    "\n",
    "# Step 0.0. Install LightAutoML"
   ]
  },
  {
   "cell_type": "code",
   "execution_count": 1,
   "id": "unexpected-committee",
   "metadata": {
    "_kg_hide-output": true,
    "execution": {
     "iopub.execute_input": "2021-04-29T10:57:55.587147Z",
     "iopub.status.busy": "2021-04-29T10:57:55.586014Z",
     "iopub.status.idle": "2021-04-29T10:58:16.184301Z",
     "shell.execute_reply": "2021-04-29T10:58:16.183601Z"
    },
    "papermill": {
     "duration": 20.623002,
     "end_time": "2021-04-29T10:58:16.184492",
     "exception": false,
     "start_time": "2021-04-29T10:57:55.561490",
     "status": "completed"
    },
    "scrolled": true,
    "tags": []
   },
   "outputs": [
    {
     "name": "stdout",
     "output_type": "stream",
     "text": [
      "Collecting lightautoml\r\n",
      "  Downloading LightAutoML-0.2.12-py3-none-any.whl (249 kB)\r\n",
      "\u001b[K     |████████████████████████████████| 249 kB 1.3 MB/s \r\n",
      "\u001b[?25hRequirement already satisfied: tqdm in /opt/conda/lib/python3.7/site-packages (from lightautoml) (4.56.2)\r\n",
      "Requirement already satisfied: catboost in /opt/conda/lib/python3.7/site-packages (from lightautoml) (0.25)\r\n",
      "Requirement already satisfied: jinja2 in /opt/conda/lib/python3.7/site-packages (from lightautoml) (2.11.3)\r\n",
      "Collecting efficientnet-pytorch\r\n",
      "  Downloading efficientnet_pytorch-0.7.1.tar.gz (21 kB)\r\n",
      "Requirement already satisfied: networkx in /opt/conda/lib/python3.7/site-packages (from lightautoml) (2.5)\r\n",
      "Requirement already satisfied: joblib in /opt/conda/lib/python3.7/site-packages (from lightautoml) (1.0.1)\r\n",
      "Requirement already satisfied: nltk in /opt/conda/lib/python3.7/site-packages (from lightautoml) (3.2.4)\r\n",
      "Requirement already satisfied: albumentations>=0.4.6 in /opt/conda/lib/python3.7/site-packages (from lightautoml) (0.5.2)\r\n",
      "Requirement already satisfied: pywavelets in /opt/conda/lib/python3.7/site-packages (from lightautoml) (1.1.1)\r\n",
      "Collecting lightgbm<3.0,>=2.3\r\n",
      "  Downloading lightgbm-2.3.1-py2.py3-none-manylinux1_x86_64.whl (1.2 MB)\r\n",
      "\u001b[K     |████████████████████████████████| 1.2 MB 5.3 MB/s \r\n",
      "\u001b[?25hRequirement already satisfied: pandas>=1 in /opt/conda/lib/python3.7/site-packages (from lightautoml) (1.2.2)\r\n",
      "Requirement already satisfied: optuna in /opt/conda/lib/python3.7/site-packages (from lightautoml) (2.6.0)\r\n",
      "Requirement already satisfied: cmaes in /opt/conda/lib/python3.7/site-packages (from lightautoml) (0.8.2)\r\n",
      "Requirement already satisfied: scipy in /opt/conda/lib/python3.7/site-packages (from lightautoml) (1.5.4)\r\n",
      "Requirement already satisfied: holidays in /opt/conda/lib/python3.7/site-packages (from lightautoml) (0.10.5.2)\r\n",
      "Requirement already satisfied: pyyaml in /opt/conda/lib/python3.7/site-packages (from lightautoml) (5.3.1)\r\n",
      "Requirement already satisfied: scikit-learn>=0.22 in /opt/conda/lib/python3.7/site-packages (from lightautoml) (0.24.1)\r\n",
      "Requirement already satisfied: opencv-python in /opt/conda/lib/python3.7/site-packages (from lightautoml) (4.5.1.48)\r\n",
      "Requirement already satisfied: torch>=1.6 in /opt/conda/lib/python3.7/site-packages (from lightautoml) (1.7.0)\r\n",
      "Requirement already satisfied: torchvision in /opt/conda/lib/python3.7/site-packages (from lightautoml) (0.8.1)\r\n",
      "Collecting poetry-core<2.0.0,>=1.0.0\r\n",
      "  Downloading poetry_core-1.0.3-py2.py3-none-any.whl (424 kB)\r\n",
      "\u001b[K     |████████████████████████████████| 424 kB 7.0 MB/s \r\n",
      "\u001b[?25hRequirement already satisfied: numpy in /opt/conda/lib/python3.7/site-packages (from lightautoml) (1.19.5)\r\n",
      "Requirement already satisfied: scikit-image in /opt/conda/lib/python3.7/site-packages (from lightautoml) (0.18.1)\r\n",
      "Requirement already satisfied: webencodings in /opt/conda/lib/python3.7/site-packages (from lightautoml) (0.5.1)\r\n",
      "Collecting autowoe>=1.2\r\n",
      "  Downloading AutoWoE-1.2.5-py3-none-any.whl (204 kB)\r\n",
      "\u001b[K     |████████████████████████████████| 204 kB 6.8 MB/s \r\n",
      "\u001b[?25hRequirement already satisfied: gensim in /opt/conda/lib/python3.7/site-packages (from lightautoml) (4.0.0)\r\n",
      "Collecting json2html\r\n",
      "  Downloading json2html-1.3.0.tar.gz (7.0 kB)\r\n",
      "Collecting importlib-metadata<2.0,>=1.0\r\n",
      "  Downloading importlib_metadata-1.7.0-py2.py3-none-any.whl (31 kB)\r\n",
      "Collecting log-calls\r\n",
      "  Downloading log_calls-0.3.2.tar.gz (232 kB)\r\n",
      "\u001b[K     |████████████████████████████████| 232 kB 7.3 MB/s \r\n",
      "\u001b[?25hRequirement already satisfied: transformers>=4 in /opt/conda/lib/python3.7/site-packages (from lightautoml) (4.4.2)\r\n",
      "Requirement already satisfied: seaborn in /opt/conda/lib/python3.7/site-packages (from lightautoml) (0.11.1)\r\n",
      "Requirement already satisfied: imgaug>=0.4.0 in /opt/conda/lib/python3.7/site-packages (from albumentations>=0.4.6->lightautoml) (0.4.0)\r\n",
      "Requirement already satisfied: opencv-python-headless>=4.1.1 in /opt/conda/lib/python3.7/site-packages (from albumentations>=0.4.6->lightautoml) (4.5.1.48)\r\n",
      "Collecting sphinx\r\n",
      "  Downloading Sphinx-3.5.4-py3-none-any.whl (2.8 MB)\r\n",
      "\u001b[K     |████████████████████████████████| 2.8 MB 7.3 MB/s \r\n",
      "\u001b[?25hRequirement already satisfied: matplotlib in /opt/conda/lib/python3.7/site-packages (from autowoe>=1.2->lightautoml) (3.4.0)\r\n",
      "Requirement already satisfied: sphinx-rtd-theme in /opt/conda/lib/python3.7/site-packages (from autowoe>=1.2->lightautoml) (0.2.4)\r\n",
      "Requirement already satisfied: pytz in /opt/conda/lib/python3.7/site-packages (from autowoe>=1.2->lightautoml) (2021.1)\r\n",
      "Requirement already satisfied: pytest in /opt/conda/lib/python3.7/site-packages (from autowoe>=1.2->lightautoml) (6.2.2)\r\n",
      "Requirement already satisfied: imageio in /opt/conda/lib/python3.7/site-packages (from imgaug>=0.4.0->albumentations>=0.4.6->lightautoml) (2.9.0)\r\n",
      "Requirement already satisfied: Pillow in /opt/conda/lib/python3.7/site-packages (from imgaug>=0.4.0->albumentations>=0.4.6->lightautoml) (7.2.0)\r\n",
      "Requirement already satisfied: Shapely in /opt/conda/lib/python3.7/site-packages (from imgaug>=0.4.0->albumentations>=0.4.6->lightautoml) (1.7.1)\r\n",
      "Requirement already satisfied: six in /opt/conda/lib/python3.7/site-packages (from imgaug>=0.4.0->albumentations>=0.4.6->lightautoml) (1.15.0)\r\n",
      "Requirement already satisfied: zipp>=0.5 in /opt/conda/lib/python3.7/site-packages (from importlib-metadata<2.0,>=1.0->lightautoml) (3.4.0)\r\n",
      "Requirement already satisfied: python-dateutil>=2.7.3 in /opt/conda/lib/python3.7/site-packages (from pandas>=1->lightautoml) (2.8.1)\r\n",
      "Requirement already satisfied: tifffile>=2019.7.26 in /opt/conda/lib/python3.7/site-packages (from scikit-image->lightautoml) (2021.3.17)\r\n",
      "Requirement already satisfied: cycler>=0.10 in /opt/conda/lib/python3.7/site-packages (from matplotlib->autowoe>=1.2->lightautoml) (0.10.0)\r\n",
      "Requirement already satisfied: kiwisolver>=1.0.1 in /opt/conda/lib/python3.7/site-packages (from matplotlib->autowoe>=1.2->lightautoml) (1.3.1)\r\n",
      "Requirement already satisfied: pyparsing>=2.2.1 in /opt/conda/lib/python3.7/site-packages (from matplotlib->autowoe>=1.2->lightautoml) (2.4.7)\r\n",
      "Requirement already satisfied: decorator>=4.3.0 in /opt/conda/lib/python3.7/site-packages (from networkx->lightautoml) (4.4.2)\r\n",
      "Requirement already satisfied: threadpoolctl>=2.0.0 in /opt/conda/lib/python3.7/site-packages (from scikit-learn>=0.22->lightautoml) (2.1.0)\r\n",
      "Requirement already satisfied: future in /opt/conda/lib/python3.7/site-packages (from torch>=1.6->lightautoml) (0.18.2)\r\n",
      "Requirement already satisfied: typing_extensions in /opt/conda/lib/python3.7/site-packages (from torch>=1.6->lightautoml) (3.7.4.3)\r\n",
      "Requirement already satisfied: dataclasses in /opt/conda/lib/python3.7/site-packages (from torch>=1.6->lightautoml) (0.6)\r\n",
      "Requirement already satisfied: requests in /opt/conda/lib/python3.7/site-packages (from transformers>=4->lightautoml) (2.25.1)\r\n",
      "Requirement already satisfied: packaging in /opt/conda/lib/python3.7/site-packages (from transformers>=4->lightautoml) (20.9)\r\n",
      "Requirement already satisfied: tokenizers<0.11,>=0.10.1 in /opt/conda/lib/python3.7/site-packages (from transformers>=4->lightautoml) (0.10.1)\r\n",
      "Requirement already satisfied: filelock in /opt/conda/lib/python3.7/site-packages (from transformers>=4->lightautoml) (3.0.12)\r\n",
      "Requirement already satisfied: regex!=2019.12.17 in /opt/conda/lib/python3.7/site-packages (from transformers>=4->lightautoml) (2020.11.13)\r\n",
      "Requirement already satisfied: sacremoses in /opt/conda/lib/python3.7/site-packages (from transformers>=4->lightautoml) (0.0.43)\r\n",
      "Requirement already satisfied: graphviz in /opt/conda/lib/python3.7/site-packages (from catboost->lightautoml) (0.8.4)\r\n",
      "Requirement already satisfied: plotly in /opt/conda/lib/python3.7/site-packages (from catboost->lightautoml) (4.14.3)\r\n",
      "Requirement already satisfied: smart-open>=1.8.1 in /opt/conda/lib/python3.7/site-packages (from gensim->lightautoml) (5.0.0)\r\n",
      "Requirement already satisfied: hijri-converter in /opt/conda/lib/python3.7/site-packages (from holidays->lightautoml) (2.1.1)\r\n",
      "Requirement already satisfied: korean-lunar-calendar in /opt/conda/lib/python3.7/site-packages (from holidays->lightautoml) (0.2.1)\r\n",
      "Requirement already satisfied: convertdate>=2.3.0 in /opt/conda/lib/python3.7/site-packages (from holidays->lightautoml) (2.3.2)\r\n",
      "Requirement already satisfied: pymeeus<=1,>=0.3.13 in /opt/conda/lib/python3.7/site-packages (from convertdate>=2.3.0->holidays->lightautoml) (0.5.11)\r\n",
      "Requirement already satisfied: MarkupSafe>=0.23 in /opt/conda/lib/python3.7/site-packages (from jinja2->lightautoml) (1.1.1)\r\n",
      "Requirement already satisfied: cliff in /opt/conda/lib/python3.7/site-packages (from optuna->lightautoml) (3.7.0)\r\n",
      "Requirement already satisfied: colorlog in /opt/conda/lib/python3.7/site-packages (from optuna->lightautoml) (4.8.0)\r\n",
      "Requirement already satisfied: alembic in /opt/conda/lib/python3.7/site-packages (from optuna->lightautoml) (1.5.8)\r\n",
      "Requirement already satisfied: sqlalchemy>=1.1.0 in /opt/conda/lib/python3.7/site-packages (from optuna->lightautoml) (1.3.23)\r\n",
      "Requirement already satisfied: python-editor>=0.3 in /opt/conda/lib/python3.7/site-packages (from alembic->optuna->lightautoml) (1.0.4)\r\n",
      "Requirement already satisfied: Mako in /opt/conda/lib/python3.7/site-packages (from alembic->optuna->lightautoml) (1.1.4)\r\n",
      "Requirement already satisfied: PrettyTable>=0.7.2 in /opt/conda/lib/python3.7/site-packages (from cliff->optuna->lightautoml) (2.0.0)\r\n",
      "Requirement already satisfied: pbr!=2.1.0,>=2.0.0 in /opt/conda/lib/python3.7/site-packages (from cliff->optuna->lightautoml) (5.5.1)\r\n",
      "Requirement already satisfied: stevedore>=2.0.1 in /opt/conda/lib/python3.7/site-packages (from cliff->optuna->lightautoml) (3.3.0)\r\n",
      "Requirement already satisfied: cmd2>=1.0.0 in /opt/conda/lib/python3.7/site-packages (from cliff->optuna->lightautoml) (1.5.0)\r\n",
      "Requirement already satisfied: colorama>=0.3.7 in /opt/conda/lib/python3.7/site-packages (from cmd2>=1.0.0->cliff->optuna->lightautoml) (0.4.4)\r\n",
      "Requirement already satisfied: wcwidth>=0.1.7 in /opt/conda/lib/python3.7/site-packages (from cmd2>=1.0.0->cliff->optuna->lightautoml) (0.2.5)\r\n",
      "Requirement already satisfied: pyperclip>=1.6 in /opt/conda/lib/python3.7/site-packages (from cmd2>=1.0.0->cliff->optuna->lightautoml) (1.8.2)\r\n",
      "Requirement already satisfied: attrs>=16.3.0 in /opt/conda/lib/python3.7/site-packages (from cmd2>=1.0.0->cliff->optuna->lightautoml) (20.3.0)\r\n",
      "Requirement already satisfied: setuptools in /opt/conda/lib/python3.7/site-packages (from PrettyTable>=0.7.2->cliff->optuna->lightautoml) (49.6.0.post20210108)\r\n",
      "Requirement already satisfied: retrying>=1.3.3 in /opt/conda/lib/python3.7/site-packages (from plotly->catboost->lightautoml) (1.3.3)\r\n",
      "Requirement already satisfied: py>=1.8.2 in /opt/conda/lib/python3.7/site-packages (from pytest->autowoe>=1.2->lightautoml) (1.10.0)\r\n",
      "Requirement already satisfied: iniconfig in /opt/conda/lib/python3.7/site-packages (from pytest->autowoe>=1.2->lightautoml) (1.1.1)\r\n",
      "Requirement already satisfied: toml in /opt/conda/lib/python3.7/site-packages (from pytest->autowoe>=1.2->lightautoml) (0.10.2)\r\n",
      "Requirement already satisfied: pluggy<1.0.0a1,>=0.12 in /opt/conda/lib/python3.7/site-packages (from pytest->autowoe>=1.2->lightautoml) (0.13.1)\r\n",
      "Requirement already satisfied: idna<3,>=2.5 in /opt/conda/lib/python3.7/site-packages (from requests->transformers>=4->lightautoml) (2.10)\r\n",
      "Requirement already satisfied: urllib3<1.27,>=1.21.1 in /opt/conda/lib/python3.7/site-packages (from requests->transformers>=4->lightautoml) (1.26.3)\r\n",
      "Requirement already satisfied: chardet<5,>=3.0.2 in /opt/conda/lib/python3.7/site-packages (from requests->transformers>=4->lightautoml) (3.0.4)\r\n",
      "Requirement already satisfied: certifi>=2017.4.17 in /opt/conda/lib/python3.7/site-packages (from requests->transformers>=4->lightautoml) (2020.12.5)\r\n",
      "Requirement already satisfied: click in /opt/conda/lib/python3.7/site-packages (from sacremoses->transformers>=4->lightautoml) (7.1.2)\r\n",
      "Requirement already satisfied: docutils<0.17,>=0.12 in /opt/conda/lib/python3.7/site-packages (from sphinx->autowoe>=1.2->lightautoml) (0.16)\r\n",
      "Collecting snowballstemmer>=1.1\r\n",
      "  Downloading snowballstemmer-2.1.0-py2.py3-none-any.whl (93 kB)\r\n",
      "\u001b[K     |████████████████████████████████| 93 kB 1.2 MB/s \r\n",
      "\u001b[?25hRequirement already satisfied: babel>=1.3 in /opt/conda/lib/python3.7/site-packages (from sphinx->autowoe>=1.2->lightautoml) (2.9.0)\r\n",
      "Collecting imagesize\r\n",
      "  Downloading imagesize-1.2.0-py2.py3-none-any.whl (4.8 kB)\r\n",
      "Collecting sphinxcontrib-applehelp\r\n",
      "  Downloading sphinxcontrib_applehelp-1.0.2-py2.py3-none-any.whl (121 kB)\r\n",
      "\u001b[K     |████████████████████████████████| 121 kB 11.2 MB/s \r\n",
      "\u001b[?25hCollecting sphinxcontrib-jsmath\r\n",
      "  Downloading sphinxcontrib_jsmath-1.0.1-py2.py3-none-any.whl (5.1 kB)\r\n",
      "Collecting sphinxcontrib-devhelp\r\n",
      "  Downloading sphinxcontrib_devhelp-1.0.2-py2.py3-none-any.whl (84 kB)\r\n",
      "\u001b[K     |████████████████████████████████| 84 kB 2.2 MB/s \r\n",
      "\u001b[?25hCollecting sphinxcontrib-serializinghtml\r\n",
      "  Downloading sphinxcontrib_serializinghtml-1.1.4-py2.py3-none-any.whl (89 kB)\r\n",
      "\u001b[K     |████████████████████████████████| 89 kB 4.5 MB/s \r\n",
      "\u001b[?25hCollecting sphinxcontrib-qthelp\r\n",
      "  Downloading sphinxcontrib_qthelp-1.0.3-py2.py3-none-any.whl (90 kB)\r\n",
      "\u001b[K     |████████████████████████████████| 90 kB 4.8 MB/s \r\n",
      "\u001b[?25hCollecting alabaster<0.8,>=0.7\r\n",
      "  Downloading alabaster-0.7.12-py2.py3-none-any.whl (14 kB)\r\n",
      "Requirement already satisfied: Pygments>=2.0 in /opt/conda/lib/python3.7/site-packages (from sphinx->autowoe>=1.2->lightautoml) (2.8.0)\r\n",
      "Collecting sphinxcontrib-htmlhelp\r\n",
      "  Downloading sphinxcontrib_htmlhelp-1.0.3-py2.py3-none-any.whl (96 kB)\r\n",
      "\u001b[K     |████████████████████████████████| 96 kB 3.2 MB/s \r\n",
      "\u001b[?25hBuilding wheels for collected packages: efficientnet-pytorch, json2html, log-calls\r\n",
      "  Building wheel for efficientnet-pytorch (setup.py) ... \u001b[?25l-\b \b\\\b \bdone\r\n",
      "\u001b[?25h  Created wheel for efficientnet-pytorch: filename=efficientnet_pytorch-0.7.1-py3-none-any.whl size=16446 sha256=e645e7bae37c10762829e8719a859e1334bfb9d4376631e07c7f387fbd4cfe1c\r\n",
      "  Stored in directory: /root/.cache/pip/wheels/0e/cc/b2/49e74588263573ff778da58cc99b9c6349b496636a7e165be6\r\n",
      "  Building wheel for json2html (setup.py) ... \u001b[?25l-\b \b\\\b \bdone\r\n",
      "\u001b[?25h  Created wheel for json2html: filename=json2html-1.3.0-py3-none-any.whl size=7595 sha256=053863e2af0ede012f22175f33e2074085d97012399683fc7bea4ecafc22934e\r\n",
      "  Stored in directory: /root/.cache/pip/wheels/e5/99/37/e1839a5ad733e0d6abb7e0419fd913e8926ddf96408239ce01\r\n",
      "  Building wheel for log-calls (setup.py) ... \u001b[?25l-\b \b\\\b \bdone\r\n",
      "\u001b[?25h  Created wheel for log-calls: filename=log_calls-0.3.2-py3-none-any.whl size=51828 sha256=5ae719302255332102027ef81cb36ef64faa5745968c8ef85bb3f906cf4b2c7f\r\n",
      "  Stored in directory: /root/.cache/pip/wheels/4c/4b/a5/a5643cfdcff002bbaf88cff0e52326db94182507613b53e971\r\n",
      "Successfully built efficientnet-pytorch json2html log-calls\r\n",
      "Installing collected packages: importlib-metadata, sphinxcontrib-serializinghtml, sphinxcontrib-qthelp, sphinxcontrib-jsmath, sphinxcontrib-htmlhelp, sphinxcontrib-devhelp, sphinxcontrib-applehelp, snowballstemmer, imagesize, alabaster, sphinx, lightgbm, poetry-core, log-calls, json2html, efficientnet-pytorch, autowoe, lightautoml\r\n",
      "  Attempting uninstall: importlib-metadata\r\n",
      "    Found existing installation: importlib-metadata 3.4.0\r\n",
      "    Uninstalling importlib-metadata-3.4.0:\r\n",
      "      Successfully uninstalled importlib-metadata-3.4.0\r\n",
      "  Attempting uninstall: lightgbm\r\n",
      "    Found existing installation: lightgbm 3.1.1\r\n",
      "    Uninstalling lightgbm-3.1.1:\r\n",
      "      Successfully uninstalled lightgbm-3.1.1\r\n",
      "Successfully installed alabaster-0.7.12 autowoe-1.2.5 efficientnet-pytorch-0.7.1 imagesize-1.2.0 importlib-metadata-1.7.0 json2html-1.3.0 lightautoml-0.2.12 lightgbm-2.3.1 log-calls-0.3.2 poetry-core-1.0.3 snowballstemmer-2.1.0 sphinx-3.5.4 sphinxcontrib-applehelp-1.0.2 sphinxcontrib-devhelp-1.0.2 sphinxcontrib-htmlhelp-1.0.3 sphinxcontrib-jsmath-1.0.1 sphinxcontrib-qthelp-1.0.3 sphinxcontrib-serializinghtml-1.1.4\r\n"
     ]
    }
   ],
   "source": [
    "!pip install -U lightautoml"
   ]
  },
  {
   "cell_type": "markdown",
   "id": "popular-elimination",
   "metadata": {
    "papermill": {
     "duration": 0.054402,
     "end_time": "2021-04-29T10:58:16.292531",
     "exception": false,
     "start_time": "2021-04-29T10:58:16.238129",
     "status": "completed"
    },
    "tags": []
   },
   "source": [
    "# Step 0.1. Import necessary libraries "
   ]
  },
  {
   "cell_type": "code",
   "execution_count": 2,
   "id": "functional-sunrise",
   "metadata": {
    "execution": {
     "iopub.execute_input": "2021-04-29T10:58:16.411711Z",
     "iopub.status.busy": "2021-04-29T10:58:16.410999Z",
     "iopub.status.idle": "2021-04-29T10:58:24.198504Z",
     "shell.execute_reply": "2021-04-29T10:58:24.197702Z"
    },
    "papermill": {
     "duration": 7.850843,
     "end_time": "2021-04-29T10:58:24.198664",
     "exception": false,
     "start_time": "2021-04-29T10:58:16.347821",
     "status": "completed"
    },
    "tags": []
   },
   "outputs": [
    {
     "data": {
      "text/html": [
       "<style type='text/css'>\n",
       ".datatable table.frame { margin-bottom: 0; }\n",
       ".datatable table.frame thead { border-bottom: none; }\n",
       ".datatable table.frame tr.coltypes td {  color: #FFFFFF;  line-height: 6px;  padding: 0 0.5em;}\n",
       ".datatable .bool    { background: #DDDD99; }\n",
       ".datatable .object  { background: #565656; }\n",
       ".datatable .int     { background: #5D9E5D; }\n",
       ".datatable .float   { background: #4040CC; }\n",
       ".datatable .str     { background: #CC4040; }\n",
       ".datatable .row_index {  background: var(--jp-border-color3);  border-right: 1px solid var(--jp-border-color0);  color: var(--jp-ui-font-color3);  font-size: 9px;}\n",
       ".datatable .frame tr.coltypes .row_index {  background: var(--jp-border-color0);}\n",
       ".datatable th:nth-child(2) { padding-left: 12px; }\n",
       ".datatable .hellipsis {  color: var(--jp-cell-editor-border-color);}\n",
       ".datatable .vellipsis {  background: var(--jp-layout-color0);  color: var(--jp-cell-editor-border-color);}\n",
       ".datatable .na {  color: var(--jp-cell-editor-border-color);  font-size: 80%;}\n",
       ".datatable .footer { font-size: 9px; }\n",
       ".datatable .frame_dimensions {  background: var(--jp-border-color3);  border-top: 1px solid var(--jp-border-color0);  color: var(--jp-ui-font-color3);  display: inline-block;  opacity: 0.6;  padding: 1px 10px 1px 5px;}\n",
       "</style>\n"
      ],
      "text/plain": [
       "<IPython.core.display.HTML object>"
      ]
     },
     "metadata": {},
     "output_type": "display_data"
    }
   ],
   "source": [
    "%matplotlib inline\n",
    "\n",
    "# Standard python libraries\n",
    "import os\n",
    "import time\n",
    "import re\n",
    "\n",
    "# Installed libraries\n",
    "import numpy as np\n",
    "import pandas as pd\n",
    "from sklearn.metrics import accuracy_score, f1_score, roc_auc_score\n",
    "from sklearn.model_selection import train_test_split\n",
    "import torch\n",
    "import matplotlib.pyplot as plt\n",
    "\n",
    "# Imports from our package\n",
    "from lightautoml.automl.presets.tabular_presets import TabularAutoML, TabularUtilizedAutoML\n",
    "from lightautoml.dataset.roles import DatetimeRole\n",
    "from lightautoml.tasks import Task\n",
    "from lightautoml.utils.profiler import Profiler"
   ]
  },
  {
   "cell_type": "markdown",
   "id": "commercial-joint",
   "metadata": {
    "papermill": {
     "duration": 0.051647,
     "end_time": "2021-04-29T10:58:24.303051",
     "exception": false,
     "start_time": "2021-04-29T10:58:24.251404",
     "status": "completed"
    },
    "tags": []
   },
   "source": [
    "# Step 0.2. Parameters "
   ]
  },
  {
   "cell_type": "code",
   "execution_count": 3,
   "id": "deluxe-kruger",
   "metadata": {
    "execution": {
     "iopub.execute_input": "2021-04-29T10:58:24.413036Z",
     "iopub.status.busy": "2021-04-29T10:58:24.412269Z",
     "iopub.status.idle": "2021-04-29T10:58:24.414298Z",
     "shell.execute_reply": "2021-04-29T10:58:24.414794Z"
    },
    "papermill": {
     "duration": 0.059187,
     "end_time": "2021-04-29T10:58:24.414952",
     "exception": false,
     "start_time": "2021-04-29T10:58:24.355765",
     "status": "completed"
    },
    "tags": []
   },
   "outputs": [],
   "source": [
    "N_THREADS = 4 # threads cnt for lgbm and linear models\n",
    "N_FOLDS = 10 # folds cnt for AutoML\n",
    "RANDOM_STATE = 42 # fixed random state for various reasons\n",
    "TEST_SIZE = 0.2 # Test size for metric check\n",
    "TIMEOUT = 3*3600 # Time in seconds for automl run"
   ]
  },
  {
   "cell_type": "markdown",
   "id": "median-hayes",
   "metadata": {
    "papermill": {
     "duration": 0.053571,
     "end_time": "2021-04-29T10:58:24.520353",
     "exception": false,
     "start_time": "2021-04-29T10:58:24.466782",
     "status": "completed"
    },
    "tags": []
   },
   "source": [
    "# Step 0.3. Fix torch number of threads and numpy seed "
   ]
  },
  {
   "cell_type": "code",
   "execution_count": 4,
   "id": "blond-supplement",
   "metadata": {
    "execution": {
     "iopub.execute_input": "2021-04-29T10:58:24.633171Z",
     "iopub.status.busy": "2021-04-29T10:58:24.632498Z",
     "iopub.status.idle": "2021-04-29T10:58:24.637752Z",
     "shell.execute_reply": "2021-04-29T10:58:24.637086Z"
    },
    "papermill": {
     "duration": 0.062088,
     "end_time": "2021-04-29T10:58:24.637896",
     "exception": false,
     "start_time": "2021-04-29T10:58:24.575808",
     "status": "completed"
    },
    "tags": []
   },
   "outputs": [],
   "source": [
    "np.random.seed(RANDOM_STATE)\n",
    "torch.set_num_threads(N_THREADS)"
   ]
  },
  {
   "cell_type": "markdown",
   "id": "living-pricing",
   "metadata": {
    "papermill": {
     "duration": 0.057319,
     "end_time": "2021-04-29T10:58:24.750288",
     "exception": false,
     "start_time": "2021-04-29T10:58:24.692969",
     "status": "completed"
    },
    "tags": []
   },
   "source": [
    "# Step 0.4. Data load "
   ]
  },
  {
   "cell_type": "code",
   "execution_count": 5,
   "id": "alpha-drink",
   "metadata": {
    "execution": {
     "iopub.execute_input": "2021-04-29T10:58:24.866859Z",
     "iopub.status.busy": "2021-04-29T10:58:24.866163Z",
     "iopub.status.idle": "2021-04-29T10:58:25.943199Z",
     "shell.execute_reply": "2021-04-29T10:58:25.943703Z"
    },
    "papermill": {
     "duration": 1.139952,
     "end_time": "2021-04-29T10:58:25.943890",
     "exception": false,
     "start_time": "2021-04-29T10:58:24.803938",
     "status": "completed"
    },
    "tags": []
   },
   "outputs": [
    {
     "name": "stdout",
     "output_type": "stream",
     "text": [
      "CPU times: user 601 ms, sys: 74 ms, total: 675 ms\n",
      "Wall time: 1.04 s\n"
     ]
    },
    {
     "data": {
      "text/html": [
       "<div>\n",
       "<style scoped>\n",
       "    .dataframe tbody tr th:only-of-type {\n",
       "        vertical-align: middle;\n",
       "    }\n",
       "\n",
       "    .dataframe tbody tr th {\n",
       "        vertical-align: top;\n",
       "    }\n",
       "\n",
       "    .dataframe thead th {\n",
       "        text-align: right;\n",
       "    }\n",
       "</style>\n",
       "<table border=\"1\" class=\"dataframe\">\n",
       "  <thead>\n",
       "    <tr style=\"text-align: right;\">\n",
       "      <th></th>\n",
       "      <th>Pclass</th>\n",
       "      <th>Age</th>\n",
       "      <th>SibSp</th>\n",
       "      <th>Parch</th>\n",
       "      <th>Fare</th>\n",
       "      <th>Name</th>\n",
       "      <th>Ticket</th>\n",
       "      <th>Sex</th>\n",
       "      <th>Cabin_A</th>\n",
       "      <th>Cabin_B</th>\n",
       "      <th>...</th>\n",
       "      <th>Cabin_E</th>\n",
       "      <th>Cabin_F</th>\n",
       "      <th>Cabin_G</th>\n",
       "      <th>Cabin_T</th>\n",
       "      <th>Cabin_X</th>\n",
       "      <th>Embarked_C</th>\n",
       "      <th>Embarked_Q</th>\n",
       "      <th>Embarked_S</th>\n",
       "      <th>Embarked_X</th>\n",
       "      <th>Survived</th>\n",
       "    </tr>\n",
       "  </thead>\n",
       "  <tbody>\n",
       "    <tr>\n",
       "      <th>0</th>\n",
       "      <td>-1.425730</td>\n",
       "      <td>-4.307127e-16</td>\n",
       "      <td>1.901268</td>\n",
       "      <td>-0.505478</td>\n",
       "      <td>0.134351</td>\n",
       "      <td>17441</td>\n",
       "      <td>49</td>\n",
       "      <td>1</td>\n",
       "      <td>0</td>\n",
       "      <td>0</td>\n",
       "      <td>...</td>\n",
       "      <td>0</td>\n",
       "      <td>0</td>\n",
       "      <td>0</td>\n",
       "      <td>0</td>\n",
       "      <td>0</td>\n",
       "      <td>0</td>\n",
       "      <td>0</td>\n",
       "      <td>1</td>\n",
       "      <td>0</td>\n",
       "      <td>1</td>\n",
       "    </tr>\n",
       "    <tr>\n",
       "      <th>1</th>\n",
       "      <td>0.877699</td>\n",
       "      <td>-4.307127e-16</td>\n",
       "      <td>-0.539572</td>\n",
       "      <td>-0.505478</td>\n",
       "      <td>-0.533837</td>\n",
       "      <td>3063</td>\n",
       "      <td>49</td>\n",
       "      <td>1</td>\n",
       "      <td>0</td>\n",
       "      <td>0</td>\n",
       "      <td>...</td>\n",
       "      <td>0</td>\n",
       "      <td>0</td>\n",
       "      <td>0</td>\n",
       "      <td>0</td>\n",
       "      <td>1</td>\n",
       "      <td>0</td>\n",
       "      <td>0</td>\n",
       "      <td>1</td>\n",
       "      <td>0</td>\n",
       "      <td>0</td>\n",
       "    </tr>\n",
       "    <tr>\n",
       "      <th>2</th>\n",
       "      <td>0.877699</td>\n",
       "      <td>-2.069149e+00</td>\n",
       "      <td>0.680848</td>\n",
       "      <td>1.628715</td>\n",
       "      <td>1.070483</td>\n",
       "      <td>17798</td>\n",
       "      <td>14</td>\n",
       "      <td>1</td>\n",
       "      <td>0</td>\n",
       "      <td>0</td>\n",
       "      <td>...</td>\n",
       "      <td>0</td>\n",
       "      <td>0</td>\n",
       "      <td>0</td>\n",
       "      <td>0</td>\n",
       "      <td>1</td>\n",
       "      <td>0</td>\n",
       "      <td>0</td>\n",
       "      <td>1</td>\n",
       "      <td>0</td>\n",
       "      <td>0</td>\n",
       "    </tr>\n",
       "    <tr>\n",
       "      <th>3</th>\n",
       "      <td>0.877699</td>\n",
       "      <td>-9.374220e-01</td>\n",
       "      <td>-0.539572</td>\n",
       "      <td>-0.505478</td>\n",
       "      <td>-0.555506</td>\n",
       "      <td>12742</td>\n",
       "      <td>0</td>\n",
       "      <td>1</td>\n",
       "      <td>0</td>\n",
       "      <td>0</td>\n",
       "      <td>...</td>\n",
       "      <td>0</td>\n",
       "      <td>0</td>\n",
       "      <td>0</td>\n",
       "      <td>0</td>\n",
       "      <td>1</td>\n",
       "      <td>0</td>\n",
       "      <td>0</td>\n",
       "      <td>1</td>\n",
       "      <td>0</td>\n",
       "      <td>0</td>\n",
       "    </tr>\n",
       "    <tr>\n",
       "      <th>4</th>\n",
       "      <td>0.877699</td>\n",
       "      <td>-5.737175e-01</td>\n",
       "      <td>-0.539572</td>\n",
       "      <td>-0.505478</td>\n",
       "      <td>-1.023540</td>\n",
       "      <td>2335</td>\n",
       "      <td>49</td>\n",
       "      <td>1</td>\n",
       "      <td>0</td>\n",
       "      <td>0</td>\n",
       "      <td>...</td>\n",
       "      <td>0</td>\n",
       "      <td>0</td>\n",
       "      <td>0</td>\n",
       "      <td>0</td>\n",
       "      <td>1</td>\n",
       "      <td>0</td>\n",
       "      <td>0</td>\n",
       "      <td>1</td>\n",
       "      <td>0</td>\n",
       "      <td>1</td>\n",
       "    </tr>\n",
       "  </tbody>\n",
       "</table>\n",
       "<p>5 rows × 22 columns</p>\n",
       "</div>"
      ],
      "text/plain": [
       "     Pclass           Age     SibSp     Parch      Fare   Name  Ticket  Sex  \\\n",
       "0 -1.425730 -4.307127e-16  1.901268 -0.505478  0.134351  17441      49    1   \n",
       "1  0.877699 -4.307127e-16 -0.539572 -0.505478 -0.533837   3063      49    1   \n",
       "2  0.877699 -2.069149e+00  0.680848  1.628715  1.070483  17798      14    1   \n",
       "3  0.877699 -9.374220e-01 -0.539572 -0.505478 -0.555506  12742       0    1   \n",
       "4  0.877699 -5.737175e-01 -0.539572 -0.505478 -1.023540   2335      49    1   \n",
       "\n",
       "   Cabin_A  Cabin_B  ...  Cabin_E  Cabin_F  Cabin_G  Cabin_T  Cabin_X  \\\n",
       "0        0        0  ...        0        0        0        0        0   \n",
       "1        0        0  ...        0        0        0        0        1   \n",
       "2        0        0  ...        0        0        0        0        1   \n",
       "3        0        0  ...        0        0        0        0        1   \n",
       "4        0        0  ...        0        0        0        0        1   \n",
       "\n",
       "   Embarked_C  Embarked_Q  Embarked_S  Embarked_X  Survived  \n",
       "0           0           0           1           0         1  \n",
       "1           0           0           1           0         0  \n",
       "2           0           0           1           0         0  \n",
       "3           0           0           1           0         0  \n",
       "4           0           0           1           0         1  \n",
       "\n",
       "[5 rows x 22 columns]"
      ]
     },
     "execution_count": 5,
     "metadata": {},
     "output_type": "execute_result"
    }
   ],
   "source": [
    "%%time\n",
    "\n",
    "train_data = pd.read_csv('../input/loading-other-data-for-tps-apr/balanced_dataset.csv')\n",
    "train_data.head()"
   ]
  },
  {
   "cell_type": "code",
   "execution_count": 6,
   "id": "urban-hometown",
   "metadata": {
    "execution": {
     "iopub.execute_input": "2021-04-29T10:58:26.070257Z",
     "iopub.status.busy": "2021-04-29T10:58:26.069518Z",
     "iopub.status.idle": "2021-04-29T10:58:26.431155Z",
     "shell.execute_reply": "2021-04-29T10:58:26.431661Z"
    },
    "papermill": {
     "duration": 0.424624,
     "end_time": "2021-04-29T10:58:26.431851",
     "exception": false,
     "start_time": "2021-04-29T10:58:26.007227",
     "status": "completed"
    },
    "tags": []
   },
   "outputs": [
    {
     "data": {
      "text/html": [
       "<div>\n",
       "<style scoped>\n",
       "    .dataframe tbody tr th:only-of-type {\n",
       "        vertical-align: middle;\n",
       "    }\n",
       "\n",
       "    .dataframe tbody tr th {\n",
       "        vertical-align: top;\n",
       "    }\n",
       "\n",
       "    .dataframe thead th {\n",
       "        text-align: right;\n",
       "    }\n",
       "</style>\n",
       "<table border=\"1\" class=\"dataframe\">\n",
       "  <thead>\n",
       "    <tr style=\"text-align: right;\">\n",
       "      <th></th>\n",
       "      <th>Pclass</th>\n",
       "      <th>Age</th>\n",
       "      <th>SibSp</th>\n",
       "      <th>Parch</th>\n",
       "      <th>Fare</th>\n",
       "      <th>Name</th>\n",
       "      <th>Ticket</th>\n",
       "      <th>Sex</th>\n",
       "      <th>Cabin_A</th>\n",
       "      <th>Cabin_B</th>\n",
       "      <th>...</th>\n",
       "      <th>Cabin_D</th>\n",
       "      <th>Cabin_E</th>\n",
       "      <th>Cabin_F</th>\n",
       "      <th>Cabin_G</th>\n",
       "      <th>Cabin_T</th>\n",
       "      <th>Cabin_X</th>\n",
       "      <th>Embarked_C</th>\n",
       "      <th>Embarked_Q</th>\n",
       "      <th>Embarked_S</th>\n",
       "      <th>Embarked_X</th>\n",
       "    </tr>\n",
       "  </thead>\n",
       "  <tbody>\n",
       "    <tr>\n",
       "      <th>0</th>\n",
       "      <td>0.877699</td>\n",
       "      <td>-0.937422</td>\n",
       "      <td>-0.539572</td>\n",
       "      <td>-0.505478</td>\n",
       "      <td>0.949786</td>\n",
       "      <td>10830</td>\n",
       "      <td>49</td>\n",
       "      <td>1</td>\n",
       "      <td>0</td>\n",
       "      <td>0</td>\n",
       "      <td>...</td>\n",
       "      <td>0</td>\n",
       "      <td>0</td>\n",
       "      <td>0</td>\n",
       "      <td>0</td>\n",
       "      <td>0</td>\n",
       "      <td>1</td>\n",
       "      <td>0</td>\n",
       "      <td>0</td>\n",
       "      <td>1</td>\n",
       "      <td>0</td>\n",
       "    </tr>\n",
       "    <tr>\n",
       "      <th>1</th>\n",
       "      <td>0.877699</td>\n",
       "      <td>1.123570</td>\n",
       "      <td>-0.539572</td>\n",
       "      <td>-0.505478</td>\n",
       "      <td>-1.273379</td>\n",
       "      <td>17134</td>\n",
       "      <td>49</td>\n",
       "      <td>0</td>\n",
       "      <td>0</td>\n",
       "      <td>0</td>\n",
       "      <td>...</td>\n",
       "      <td>0</td>\n",
       "      <td>0</td>\n",
       "      <td>0</td>\n",
       "      <td>0</td>\n",
       "      <td>0</td>\n",
       "      <td>1</td>\n",
       "      <td>0</td>\n",
       "      <td>0</td>\n",
       "      <td>1</td>\n",
       "      <td>0</td>\n",
       "    </tr>\n",
       "    <tr>\n",
       "      <th>2</th>\n",
       "      <td>-1.425730</td>\n",
       "      <td>-0.937422</td>\n",
       "      <td>-0.539572</td>\n",
       "      <td>-0.505478</td>\n",
       "      <td>0.481059</td>\n",
       "      <td>9978</td>\n",
       "      <td>49</td>\n",
       "      <td>0</td>\n",
       "      <td>0</td>\n",
       "      <td>1</td>\n",
       "      <td>...</td>\n",
       "      <td>0</td>\n",
       "      <td>0</td>\n",
       "      <td>0</td>\n",
       "      <td>0</td>\n",
       "      <td>0</td>\n",
       "      <td>0</td>\n",
       "      <td>1</td>\n",
       "      <td>0</td>\n",
       "      <td>0</td>\n",
       "      <td>0</td>\n",
       "    </tr>\n",
       "    <tr>\n",
       "      <th>3</th>\n",
       "      <td>-0.274016</td>\n",
       "      <td>-0.573717</td>\n",
       "      <td>-0.539572</td>\n",
       "      <td>-0.505478</td>\n",
       "      <td>-0.563310</td>\n",
       "      <td>13303</td>\n",
       "      <td>49</td>\n",
       "      <td>1</td>\n",
       "      <td>0</td>\n",
       "      <td>0</td>\n",
       "      <td>...</td>\n",
       "      <td>0</td>\n",
       "      <td>0</td>\n",
       "      <td>0</td>\n",
       "      <td>0</td>\n",
       "      <td>0</td>\n",
       "      <td>1</td>\n",
       "      <td>0</td>\n",
       "      <td>0</td>\n",
       "      <td>1</td>\n",
       "      <td>0</td>\n",
       "    </tr>\n",
       "    <tr>\n",
       "      <th>4</th>\n",
       "      <td>-1.425730</td>\n",
       "      <td>-1.058657</td>\n",
       "      <td>-0.539572</td>\n",
       "      <td>1.628715</td>\n",
       "      <td>0.125497</td>\n",
       "      <td>4406</td>\n",
       "      <td>49</td>\n",
       "      <td>0</td>\n",
       "      <td>0</td>\n",
       "      <td>1</td>\n",
       "      <td>...</td>\n",
       "      <td>0</td>\n",
       "      <td>0</td>\n",
       "      <td>0</td>\n",
       "      <td>0</td>\n",
       "      <td>0</td>\n",
       "      <td>0</td>\n",
       "      <td>1</td>\n",
       "      <td>0</td>\n",
       "      <td>0</td>\n",
       "      <td>0</td>\n",
       "    </tr>\n",
       "  </tbody>\n",
       "</table>\n",
       "<p>5 rows × 21 columns</p>\n",
       "</div>"
      ],
      "text/plain": [
       "     Pclass       Age     SibSp     Parch      Fare   Name  Ticket  Sex  \\\n",
       "0  0.877699 -0.937422 -0.539572 -0.505478  0.949786  10830      49    1   \n",
       "1  0.877699  1.123570 -0.539572 -0.505478 -1.273379  17134      49    0   \n",
       "2 -1.425730 -0.937422 -0.539572 -0.505478  0.481059   9978      49    0   \n",
       "3 -0.274016 -0.573717 -0.539572 -0.505478 -0.563310  13303      49    1   \n",
       "4 -1.425730 -1.058657 -0.539572  1.628715  0.125497   4406      49    0   \n",
       "\n",
       "   Cabin_A  Cabin_B  ...  Cabin_D  Cabin_E  Cabin_F  Cabin_G  Cabin_T  \\\n",
       "0        0        0  ...        0        0        0        0        0   \n",
       "1        0        0  ...        0        0        0        0        0   \n",
       "2        0        1  ...        0        0        0        0        0   \n",
       "3        0        0  ...        0        0        0        0        0   \n",
       "4        0        1  ...        0        0        0        0        0   \n",
       "\n",
       "   Cabin_X  Embarked_C  Embarked_Q  Embarked_S  Embarked_X  \n",
       "0        1           0           0           1           0  \n",
       "1        1           0           0           1           0  \n",
       "2        0           1           0           0           0  \n",
       "3        1           0           0           1           0  \n",
       "4        0           1           0           0           0  \n",
       "\n",
       "[5 rows x 21 columns]"
      ]
     },
     "execution_count": 6,
     "metadata": {},
     "output_type": "execute_result"
    }
   ],
   "source": [
    "test_data = pd.read_csv('../input/loading-other-data-for-tps-apr/test.csv')\n",
    "test_data.head()"
   ]
  },
  {
   "cell_type": "code",
   "execution_count": 7,
   "id": "heavy-peace",
   "metadata": {
    "execution": {
     "iopub.execute_input": "2021-04-29T10:58:26.574131Z",
     "iopub.status.busy": "2021-04-29T10:58:26.573271Z",
     "iopub.status.idle": "2021-04-29T10:58:26.620848Z",
     "shell.execute_reply": "2021-04-29T10:58:26.620260Z"
    },
    "papermill": {
     "duration": 0.124897,
     "end_time": "2021-04-29T10:58:26.621024",
     "exception": false,
     "start_time": "2021-04-29T10:58:26.496127",
     "status": "completed"
    },
    "tags": []
   },
   "outputs": [
    {
     "data": {
      "text/html": [
       "<div>\n",
       "<style scoped>\n",
       "    .dataframe tbody tr th:only-of-type {\n",
       "        vertical-align: middle;\n",
       "    }\n",
       "\n",
       "    .dataframe tbody tr th {\n",
       "        vertical-align: top;\n",
       "    }\n",
       "\n",
       "    .dataframe thead th {\n",
       "        text-align: right;\n",
       "    }\n",
       "</style>\n",
       "<table border=\"1\" class=\"dataframe\">\n",
       "  <thead>\n",
       "    <tr style=\"text-align: right;\">\n",
       "      <th></th>\n",
       "      <th>PassengerId</th>\n",
       "      <th>Survived</th>\n",
       "    </tr>\n",
       "  </thead>\n",
       "  <tbody>\n",
       "    <tr>\n",
       "      <th>0</th>\n",
       "      <td>100000</td>\n",
       "      <td>1</td>\n",
       "    </tr>\n",
       "    <tr>\n",
       "      <th>1</th>\n",
       "      <td>100001</td>\n",
       "      <td>1</td>\n",
       "    </tr>\n",
       "    <tr>\n",
       "      <th>2</th>\n",
       "      <td>100002</td>\n",
       "      <td>1</td>\n",
       "    </tr>\n",
       "    <tr>\n",
       "      <th>3</th>\n",
       "      <td>100003</td>\n",
       "      <td>1</td>\n",
       "    </tr>\n",
       "    <tr>\n",
       "      <th>4</th>\n",
       "      <td>100004</td>\n",
       "      <td>1</td>\n",
       "    </tr>\n",
       "  </tbody>\n",
       "</table>\n",
       "</div>"
      ],
      "text/plain": [
       "   PassengerId  Survived\n",
       "0       100000         1\n",
       "1       100001         1\n",
       "2       100002         1\n",
       "3       100003         1\n",
       "4       100004         1"
      ]
     },
     "execution_count": 7,
     "metadata": {},
     "output_type": "execute_result"
    }
   ],
   "source": [
    "submission = pd.read_csv('../input/tabular-playground-series-apr-2021/sample_submission.csv')\n",
    "submission.head()"
   ]
  },
  {
   "cell_type": "code",
   "execution_count": 8,
   "id": "measured-charles",
   "metadata": {
    "execution": {
     "iopub.execute_input": "2021-04-29T10:58:26.747576Z",
     "iopub.status.busy": "2021-04-29T10:58:26.746802Z",
     "iopub.status.idle": "2021-04-29T10:58:26.749783Z",
     "shell.execute_reply": "2021-04-29T10:58:26.750271Z"
    },
    "papermill": {
     "duration": 0.067349,
     "end_time": "2021-04-29T10:58:26.750508",
     "exception": false,
     "start_time": "2021-04-29T10:58:26.683159",
     "status": "completed"
    },
    "tags": []
   },
   "outputs": [],
   "source": [
    "# # Now we use our almost best submission\n",
    "# pseudo_label_test = pd.read_csv('../input/n3-tps-april-21-lightautoml-starter/LightAutoML_compose_version_25.csv')\n",
    "# pseudo_label_test"
   ]
  },
  {
   "cell_type": "code",
   "execution_count": 9,
   "id": "looking-winning",
   "metadata": {
    "execution": {
     "iopub.execute_input": "2021-04-29T10:58:26.875216Z",
     "iopub.status.busy": "2021-04-29T10:58:26.874492Z",
     "iopub.status.idle": "2021-04-29T10:58:26.878229Z",
     "shell.execute_reply": "2021-04-29T10:58:26.878781Z"
    },
    "papermill": {
     "duration": 0.067454,
     "end_time": "2021-04-29T10:58:26.878967",
     "exception": false,
     "start_time": "2021-04-29T10:58:26.811513",
     "status": "completed"
    },
    "tags": []
   },
   "outputs": [],
   "source": [
    "# test_data['Survived'] = pseudo_label_test['Survived'].values"
   ]
  },
  {
   "cell_type": "markdown",
   "id": "fitted-application",
   "metadata": {
    "papermill": {
     "duration": 0.058952,
     "end_time": "2021-04-29T10:58:26.995640",
     "exception": false,
     "start_time": "2021-04-29T10:58:26.936688",
     "status": "completed"
    },
    "tags": []
   },
   "source": [
    "# Step 0.5. Add new features\n",
    "\n",
    "#### Important note: below we can see new features creation from [this notebook](https://www.kaggle.com/jmargni/tps-apr-2021-lightgbm-cv) but I have deleted all NaNs filling if they don't use test data to do it"
   ]
  },
  {
   "cell_type": "code",
   "execution_count": 10,
   "id": "copyrighted-schema",
   "metadata": {
    "execution": {
     "iopub.execute_input": "2021-04-29T10:58:27.125851Z",
     "iopub.status.busy": "2021-04-29T10:58:27.125089Z",
     "iopub.status.idle": "2021-04-29T10:58:27.137130Z",
     "shell.execute_reply": "2021-04-29T10:58:27.136525Z"
    },
    "papermill": {
     "duration": 0.078696,
     "end_time": "2021-04-29T10:58:27.137281",
     "exception": false,
     "start_time": "2021-04-29T10:58:27.058585",
     "status": "completed"
    },
    "tags": []
   },
   "outputs": [],
   "source": [
    "#ref.: https://www.kaggle.com/jmargni/tps-apr-2021-lightgbm-cv\n",
    "\n",
    "def create_extra_features(data):\n",
    "    # Age fillna with mean age for each class\n",
    "    age_map = data[['Age', 'Pclass']].dropna().groupby('Pclass').mean().to_dict()\n",
    "    data.Age = data.Age.fillna(data.Pclass.map(age_map['Age']))\n",
    "\n",
    "    # Cabin, fillna with 'X' and take first letter\n",
    "    data.Cabin = data.Cabin.map(lambda x: str(x)[0].strip())\n",
    "\n",
    "    # Ticket, fillna with 'X', split string and take first split \n",
    "    data.Ticket = data.Ticket.map(lambda x:str(x).split()[0] if len(str(x).split()) > 1 else 'X')\n",
    "\n",
    "    # Fare, fillna with mean value \n",
    "    # (THE ONLY FILLNA LEFT BECAUSE HERE WE USE TEST DATASET - LightAutoML can't do it in real life because of strict distinction between train and test stages)\n",
    "    data.Fare = data.Fare.fillna(data.Fare.mean())\n",
    "\n",
    "    # Embarked, fillna with 'X' value\n",
    "    #all_df.Embarked = all_df.Embarked.fillna('X')\n",
    "    \n",
    "    # Name, take only surnames\n",
    "    #data.Name = data.Name.map(lambda x: str(x).split(',')[0])\n",
    "       \n",
    "    # let's leave this features here to use after receiving plateau from pseudolabelling\n",
    "    \n",
    "    data['FirstName'] = data.Name.map(lambda x: str(x).split(',')[0])\n",
    "    data['Surname'] = data.Name.map(lambda x: str(x).split(',')[1])\n",
    "    \n",
    "    for col in ['Name', 'FirstName', 'Surname']:\n",
    "        data['Counter_' + col] = data[col].map(data.groupby(col)['PassengerId'].count().to_dict())\n",
    "        \n",
    "    data.drop(columns = ['Name', 'Surname'], inplace = True)\n",
    "\n",
    "    \n",
    "    return data\n"
   ]
  },
  {
   "cell_type": "code",
   "execution_count": 11,
   "id": "heated-senegal",
   "metadata": {
    "execution": {
     "iopub.execute_input": "2021-04-29T10:58:27.262190Z",
     "iopub.status.busy": "2021-04-29T10:58:27.261443Z",
     "iopub.status.idle": "2021-04-29T10:58:27.267438Z",
     "shell.execute_reply": "2021-04-29T10:58:27.266424Z"
    },
    "papermill": {
     "duration": 0.071752,
     "end_time": "2021-04-29T10:58:27.267653",
     "exception": false,
     "start_time": "2021-04-29T10:58:27.195901",
     "status": "completed"
    },
    "tags": []
   },
   "outputs": [
    {
     "name": "stdout",
     "output_type": "stream",
     "text": [
      "(245436, 22) (100000, 21)\n"
     ]
    }
   ],
   "source": [
    "all_df = train_data\n",
    "# all_df = create_extra_features(all_df)\n",
    "# train_data, test_data = all_df[:len(train_data)], all_df[len(train_data):]\n",
    "print(train_data.shape, test_data.shape)"
   ]
  },
  {
   "cell_type": "markdown",
   "id": "figured-constitution",
   "metadata": {
    "papermill": {
     "duration": 0.055414,
     "end_time": "2021-04-29T10:58:27.379882",
     "exception": false,
     "start_time": "2021-04-29T10:58:27.324468",
     "status": "completed"
    },
    "tags": []
   },
   "source": [
    "# ========= AutoML preset usage =========\n",
    "\n",
    "\n",
    "# Step 1. Create Task"
   ]
  },
  {
   "cell_type": "code",
   "execution_count": 12,
   "id": "facial-ethiopia",
   "metadata": {
    "execution": {
     "iopub.execute_input": "2021-04-29T10:58:27.498896Z",
     "iopub.status.busy": "2021-04-29T10:58:27.498117Z",
     "iopub.status.idle": "2021-04-29T10:58:27.502237Z",
     "shell.execute_reply": "2021-04-29T10:58:27.501722Z"
    },
    "papermill": {
     "duration": 0.067067,
     "end_time": "2021-04-29T10:58:27.502376",
     "exception": false,
     "start_time": "2021-04-29T10:58:27.435309",
     "status": "completed"
    },
    "tags": []
   },
   "outputs": [
    {
     "name": "stdout",
     "output_type": "stream",
     "text": [
      "CPU times: user 1.06 ms, sys: 8 µs, total: 1.06 ms\n",
      "Wall time: 1.07 ms\n"
     ]
    }
   ],
   "source": [
    "%%time\n",
    "def acc_score(y_true, y_pred, **kwargs):\n",
    "    return accuracy_score(y_true, (y_pred > 0.5).astype(int), **kwargs)\n",
    "\n",
    "def roc_auc_metric(y_true, y_pred, sample_weight, **kwargs):\n",
    "    mask = (sample_weight > 1)\n",
    "    return roc_auc_score(y_true[mask], y_pred[mask])\n",
    "\n",
    "task = Task('binary', metric = roc_auc_metric, greater_is_better=True)"
   ]
  },
  {
   "cell_type": "markdown",
   "id": "burning-behavior",
   "metadata": {
    "papermill": {
     "duration": 0.055583,
     "end_time": "2021-04-29T10:58:27.614304",
     "exception": false,
     "start_time": "2021-04-29T10:58:27.558721",
     "status": "completed"
    },
    "tags": []
   },
   "source": [
    "# Step 2. Setup columns roles"
   ]
  },
  {
   "cell_type": "code",
   "execution_count": 13,
   "id": "bound-banking",
   "metadata": {
    "execution": {
     "iopub.execute_input": "2021-04-29T10:58:27.733525Z",
     "iopub.status.busy": "2021-04-29T10:58:27.732566Z",
     "iopub.status.idle": "2021-04-29T10:58:27.736036Z",
     "shell.execute_reply": "2021-04-29T10:58:27.736566Z"
    },
    "papermill": {
     "duration": 0.066506,
     "end_time": "2021-04-29T10:58:27.736742",
     "exception": false,
     "start_time": "2021-04-29T10:58:27.670236",
     "status": "completed"
    },
    "tags": []
   },
   "outputs": [],
   "source": [
    "# Add weights for metric calculation only by true targets\n",
    "# all_df['weight'] = [1.01] * len(train_data) + [0.99] * len(test_data)"
   ]
  },
  {
   "cell_type": "code",
   "execution_count": 14,
   "id": "circular-republican",
   "metadata": {
    "execution": {
     "iopub.execute_input": "2021-04-29T10:58:27.869595Z",
     "iopub.status.busy": "2021-04-29T10:58:27.868533Z",
     "iopub.status.idle": "2021-04-29T10:58:27.875682Z",
     "shell.execute_reply": "2021-04-29T10:58:27.876340Z"
    },
    "papermill": {
     "duration": 0.074336,
     "end_time": "2021-04-29T10:58:27.876559",
     "exception": false,
     "start_time": "2021-04-29T10:58:27.802223",
     "status": "completed"
    },
    "tags": []
   },
   "outputs": [
    {
     "name": "stdout",
     "output_type": "stream",
     "text": [
      "CPU times: user 5 µs, sys: 1e+03 ns, total: 6 µs\n",
      "Wall time: 11.9 µs\n"
     ]
    }
   ],
   "source": [
    "%%time\n",
    "\n",
    "roles = {\n",
    "    'target': 'Survived'\n",
    "     # To calculate metric only on real targets\n",
    "}"
   ]
  },
  {
   "cell_type": "markdown",
   "id": "premium-positive",
   "metadata": {
    "papermill": {
     "duration": 0.0602,
     "end_time": "2021-04-29T10:58:28.002527",
     "exception": false,
     "start_time": "2021-04-29T10:58:27.942327",
     "status": "completed"
    },
    "tags": []
   },
   "source": [
    "# Step 3. Train on full data (train + pseudolabeled by best submission test) using multistart with different seed and predict on test data\n",
    "\n",
    "As we currently have a bug in TabularUtilizedAutoML with specific configs setup (it will be fixed in the next release), we will use simple for cycle by random states to do the job. "
   ]
  },
  {
   "cell_type": "code",
   "execution_count": 15,
   "id": "meaning-palestine",
   "metadata": {
    "execution": {
     "iopub.execute_input": "2021-04-29T10:58:28.128239Z",
     "iopub.status.busy": "2021-04-29T10:58:28.127476Z",
     "iopub.status.idle": "2021-04-29T10:58:28.135428Z",
     "shell.execute_reply": "2021-04-29T10:58:28.134784Z"
    },
    "papermill": {
     "duration": 0.074013,
     "end_time": "2021-04-29T10:58:28.135605",
     "exception": false,
     "start_time": "2021-04-29T10:58:28.061592",
     "status": "completed"
    },
    "tags": []
   },
   "outputs": [],
   "source": [
    "params = {\n",
    "    'metric': 'binary_logloss',\n",
    "    'n_estimators': 10000,\n",
    "    'objective': 'binary',\n",
    "    'learning_rate': 0.02,\n",
    "    'min_child_samples': 150,\n",
    "    'reg_alpha': 3e-5,\n",
    "    'reg_lambda': 9e-2,\n",
    "    'num_leaves': 20,\n",
    "    'max_depth': 16,\n",
    "    'colsample_bytree': 0.8,\n",
    "    'subsample': 0.8,\n",
    "    'subsample_freq': 2,\n",
    "    'max_bin': 240\n",
    "}\n",
    "\n",
    "cb_params = {\n",
    "    'max_depth':6,\n",
    "    'max_ctr_complexity': 5,\n",
    "    'num_trees': 50000,\n",
    "    'od_wait': 500,\n",
    "    'od_type':'Iter', \n",
    "    'learning_rate': 0.04,\n",
    "    'min_data_in_leaf': 3\n",
    "}"
   ]
  },
  {
   "cell_type": "code",
   "execution_count": 16,
   "id": "alternative-concentrate",
   "metadata": {
    "_kg_hide-output": true,
    "execution": {
     "iopub.execute_input": "2021-04-29T10:58:28.267591Z",
     "iopub.status.busy": "2021-04-29T10:58:28.266849Z",
     "iopub.status.idle": "2021-04-29T10:59:22.965750Z",
     "shell.execute_reply": "2021-04-29T10:59:22.966347Z"
    },
    "papermill": {
     "duration": 54.768358,
     "end_time": "2021-04-29T10:59:22.966558",
     "exception": false,
     "start_time": "2021-04-29T10:58:28.198200",
     "status": "completed"
    },
    "scrolled": true,
    "tags": []
   },
   "outputs": [
    {
     "name": "stdout",
     "output_type": "stream",
     "text": [
      "==============================\n",
      "START RANDOM_STATE = 2000\n",
      "==============================\n",
      "Start automl preset with listed constraints:\n",
      "- time: 10800 seconds\n",
      "- cpus: 4 cores\n",
      "- memory: 16 gb\n",
      "\n",
      "Train data shape: (245436, 22)\n",
      "Feats was rejected during automatic roles guess: []\n",
      "\n",
      "\n",
      "Layer 1 ...\n",
      "Train process start. Time left 10769.80232000351 secs\n",
      "Start fitting Lvl_0_Pipe_0_Mod_0_LinearL2 ...\n",
      "\n",
      "===== Start working with fold 0 for Lvl_0_Pipe_0_Mod_0_LinearL2 =====\n",
      "\n"
     ]
    },
    {
     "name": "stderr",
     "output_type": "stream",
     "text": [
      "Model Lvl_0_Pipe_0_Mod_0_LinearL2 failed during ml_algo.fit_predict call.\n",
      "\n",
      "'>' not supported between instances of 'NoneType' and 'int'\n"
     ]
    },
    {
     "ename": "AssertionError",
     "evalue": "Pipeline finished with 0 models for some reason.\nProbably one or more models failed",
     "output_type": "error",
     "traceback": [
      "\u001b[0;31m---------------------------------------------------------------------------\u001b[0m",
      "\u001b[0;31mAssertionError\u001b[0m                            Traceback (most recent call last)",
      "\u001b[0;32m<timed exec>\u001b[0m in \u001b[0;36m<module>\u001b[0;34m\u001b[0m\n",
      "\u001b[0;32m/opt/conda/lib/python3.7/site-packages/log_calls/log_calls.py\u001b[0m in \u001b[0;36m_deco_base_f_wrapper_\u001b[0;34m(*args, **kwargs)\u001b[0m\n\u001b[1;32m   1937\u001b[0m                 \u001b[0;31m# (_xxx variables set, ok to call f)\u001b[0m\u001b[0;34m\u001b[0m\u001b[0;34m\u001b[0m\u001b[0;34m\u001b[0m\u001b[0m\n\u001b[1;32m   1938\u001b[0m                 \u001b[0;32mif\u001b[0m \u001b[0;32mnot\u001b[0m \u001b[0m_enabled\u001b[0m\u001b[0;34m:\u001b[0m\u001b[0;34m\u001b[0m\u001b[0;34m\u001b[0m\u001b[0m\n\u001b[0;32m-> 1939\u001b[0;31m                     \u001b[0mret\u001b[0m \u001b[0;34m=\u001b[0m \u001b[0mf\u001b[0m\u001b[0;34m(\u001b[0m\u001b[0;34m*\u001b[0m\u001b[0margs\u001b[0m\u001b[0;34m,\u001b[0m \u001b[0;34m**\u001b[0m\u001b[0mkwargs\u001b[0m\u001b[0;34m)\u001b[0m\u001b[0;34m\u001b[0m\u001b[0;34m\u001b[0m\u001b[0m\n\u001b[0m\u001b[1;32m   1940\u001b[0m                     \u001b[0mself\u001b[0m\u001b[0;34m.\u001b[0m\u001b[0m_logging_state_pop\u001b[0m\u001b[0;34m(\u001b[0m\u001b[0menabled_too\u001b[0m\u001b[0;34m=\u001b[0m\u001b[0;32mTrue\u001b[0m\u001b[0;34m)\u001b[0m\u001b[0;34m\u001b[0m\u001b[0;34m\u001b[0m\u001b[0m\n\u001b[1;32m   1941\u001b[0m                     \u001b[0;32mreturn\u001b[0m \u001b[0mret\u001b[0m\u001b[0;34m\u001b[0m\u001b[0;34m\u001b[0m\u001b[0m\n",
      "\u001b[0;32m/opt/conda/lib/python3.7/site-packages/lightautoml/automl/presets/tabular_presets.py\u001b[0m in \u001b[0;36mfit_predict\u001b[0;34m(self, train_data, roles, train_features, cv_iter, valid_data, valid_features)\u001b[0m\n\u001b[1;32m    413\u001b[0m             \u001b[0mdata\u001b[0m\u001b[0;34m,\u001b[0m \u001b[0m_\u001b[0m \u001b[0;34m=\u001b[0m \u001b[0mread_data\u001b[0m\u001b[0;34m(\u001b[0m\u001b[0mvalid_data\u001b[0m\u001b[0;34m,\u001b[0m \u001b[0mvalid_features\u001b[0m\u001b[0;34m,\u001b[0m \u001b[0mself\u001b[0m\u001b[0;34m.\u001b[0m\u001b[0mcpu_limit\u001b[0m\u001b[0;34m,\u001b[0m \u001b[0mself\u001b[0m\u001b[0;34m.\u001b[0m\u001b[0mread_csv_params\u001b[0m\u001b[0;34m)\u001b[0m\u001b[0;34m\u001b[0m\u001b[0;34m\u001b[0m\u001b[0m\n\u001b[1;32m    414\u001b[0m \u001b[0;34m\u001b[0m\u001b[0m\n\u001b[0;32m--> 415\u001b[0;31m         \u001b[0moof_pred\u001b[0m \u001b[0;34m=\u001b[0m \u001b[0msuper\u001b[0m\u001b[0;34m(\u001b[0m\u001b[0;34m)\u001b[0m\u001b[0;34m.\u001b[0m\u001b[0mfit_predict\u001b[0m\u001b[0;34m(\u001b[0m\u001b[0mtrain\u001b[0m\u001b[0;34m,\u001b[0m \u001b[0mroles\u001b[0m\u001b[0;34m=\u001b[0m\u001b[0mroles\u001b[0m\u001b[0;34m,\u001b[0m \u001b[0mcv_iter\u001b[0m\u001b[0;34m=\u001b[0m\u001b[0mcv_iter\u001b[0m\u001b[0;34m,\u001b[0m \u001b[0mvalid_data\u001b[0m\u001b[0;34m=\u001b[0m\u001b[0mvalid_data\u001b[0m\u001b[0;34m)\u001b[0m\u001b[0;34m\u001b[0m\u001b[0;34m\u001b[0m\u001b[0m\n\u001b[0m\u001b[1;32m    416\u001b[0m \u001b[0;34m\u001b[0m\u001b[0m\n\u001b[1;32m    417\u001b[0m         \u001b[0;32mreturn\u001b[0m \u001b[0mcast\u001b[0m\u001b[0;34m(\u001b[0m\u001b[0mNumpyDataset\u001b[0m\u001b[0;34m,\u001b[0m \u001b[0moof_pred\u001b[0m\u001b[0;34m)\u001b[0m\u001b[0;34m\u001b[0m\u001b[0;34m\u001b[0m\u001b[0m\n",
      "\u001b[0;32m/opt/conda/lib/python3.7/site-packages/log_calls/log_calls.py\u001b[0m in \u001b[0;36m_deco_base_f_wrapper_\u001b[0;34m(*args, **kwargs)\u001b[0m\n\u001b[1;32m   1937\u001b[0m                 \u001b[0;31m# (_xxx variables set, ok to call f)\u001b[0m\u001b[0;34m\u001b[0m\u001b[0;34m\u001b[0m\u001b[0;34m\u001b[0m\u001b[0m\n\u001b[1;32m   1938\u001b[0m                 \u001b[0;32mif\u001b[0m \u001b[0;32mnot\u001b[0m \u001b[0m_enabled\u001b[0m\u001b[0;34m:\u001b[0m\u001b[0;34m\u001b[0m\u001b[0;34m\u001b[0m\u001b[0m\n\u001b[0;32m-> 1939\u001b[0;31m                     \u001b[0mret\u001b[0m \u001b[0;34m=\u001b[0m \u001b[0mf\u001b[0m\u001b[0;34m(\u001b[0m\u001b[0;34m*\u001b[0m\u001b[0margs\u001b[0m\u001b[0;34m,\u001b[0m \u001b[0;34m**\u001b[0m\u001b[0mkwargs\u001b[0m\u001b[0;34m)\u001b[0m\u001b[0;34m\u001b[0m\u001b[0;34m\u001b[0m\u001b[0m\n\u001b[0m\u001b[1;32m   1940\u001b[0m                     \u001b[0mself\u001b[0m\u001b[0;34m.\u001b[0m\u001b[0m_logging_state_pop\u001b[0m\u001b[0;34m(\u001b[0m\u001b[0menabled_too\u001b[0m\u001b[0;34m=\u001b[0m\u001b[0;32mTrue\u001b[0m\u001b[0;34m)\u001b[0m\u001b[0;34m\u001b[0m\u001b[0;34m\u001b[0m\u001b[0m\n\u001b[1;32m   1941\u001b[0m                     \u001b[0;32mreturn\u001b[0m \u001b[0mret\u001b[0m\u001b[0;34m\u001b[0m\u001b[0;34m\u001b[0m\u001b[0m\n",
      "\u001b[0;32m/opt/conda/lib/python3.7/site-packages/lightautoml/automl/presets/base.py\u001b[0m in \u001b[0;36mfit_predict\u001b[0;34m(self, train_data, roles, train_features, cv_iter, valid_data, valid_features)\u001b[0m\n\u001b[1;32m    174\u001b[0m         \u001b[0mlogger\u001b[0m\u001b[0;34m.\u001b[0m\u001b[0minfo\u001b[0m\u001b[0;34m(\u001b[0m\u001b[0;34m'- memory: {} gb\\n'\u001b[0m\u001b[0;34m.\u001b[0m\u001b[0mformat\u001b[0m\u001b[0;34m(\u001b[0m\u001b[0mself\u001b[0m\u001b[0;34m.\u001b[0m\u001b[0mmemory_limit\u001b[0m\u001b[0;34m)\u001b[0m\u001b[0;34m)\u001b[0m\u001b[0;34m\u001b[0m\u001b[0;34m\u001b[0m\u001b[0m\n\u001b[1;32m    175\u001b[0m         \u001b[0mself\u001b[0m\u001b[0;34m.\u001b[0m\u001b[0mtimer\u001b[0m\u001b[0;34m.\u001b[0m\u001b[0mstart\u001b[0m\u001b[0;34m(\u001b[0m\u001b[0;34m)\u001b[0m\u001b[0;34m\u001b[0m\u001b[0;34m\u001b[0m\u001b[0m\n\u001b[0;32m--> 176\u001b[0;31m         \u001b[0mresult\u001b[0m \u001b[0;34m=\u001b[0m \u001b[0msuper\u001b[0m\u001b[0;34m(\u001b[0m\u001b[0;34m)\u001b[0m\u001b[0;34m.\u001b[0m\u001b[0mfit_predict\u001b[0m\u001b[0;34m(\u001b[0m\u001b[0mtrain_data\u001b[0m\u001b[0;34m,\u001b[0m \u001b[0mroles\u001b[0m\u001b[0;34m,\u001b[0m \u001b[0mtrain_features\u001b[0m\u001b[0;34m,\u001b[0m \u001b[0mcv_iter\u001b[0m\u001b[0;34m,\u001b[0m \u001b[0mvalid_data\u001b[0m\u001b[0;34m,\u001b[0m \u001b[0mvalid_features\u001b[0m\u001b[0;34m)\u001b[0m\u001b[0;34m\u001b[0m\u001b[0;34m\u001b[0m\u001b[0m\n\u001b[0m\u001b[1;32m    177\u001b[0m         \u001b[0mlogger\u001b[0m\u001b[0;34m.\u001b[0m\u001b[0minfo\u001b[0m\u001b[0;34m(\u001b[0m\u001b[0;34m'\\nAutoml preset training completed in {:.2f} seconds.'\u001b[0m\u001b[0;34m.\u001b[0m\u001b[0mformat\u001b[0m\u001b[0;34m(\u001b[0m\u001b[0mself\u001b[0m\u001b[0;34m.\u001b[0m\u001b[0mtimer\u001b[0m\u001b[0;34m.\u001b[0m\u001b[0mtime_spent\u001b[0m\u001b[0;34m)\u001b[0m\u001b[0;34m)\u001b[0m\u001b[0;34m\u001b[0m\u001b[0;34m\u001b[0m\u001b[0m\n\u001b[1;32m    178\u001b[0m \u001b[0;34m\u001b[0m\u001b[0m\n",
      "\u001b[0;32m/opt/conda/lib/python3.7/site-packages/log_calls/log_calls.py\u001b[0m in \u001b[0;36m_deco_base_f_wrapper_\u001b[0;34m(*args, **kwargs)\u001b[0m\n\u001b[1;32m   1937\u001b[0m                 \u001b[0;31m# (_xxx variables set, ok to call f)\u001b[0m\u001b[0;34m\u001b[0m\u001b[0;34m\u001b[0m\u001b[0;34m\u001b[0m\u001b[0m\n\u001b[1;32m   1938\u001b[0m                 \u001b[0;32mif\u001b[0m \u001b[0;32mnot\u001b[0m \u001b[0m_enabled\u001b[0m\u001b[0;34m:\u001b[0m\u001b[0;34m\u001b[0m\u001b[0;34m\u001b[0m\u001b[0m\n\u001b[0;32m-> 1939\u001b[0;31m                     \u001b[0mret\u001b[0m \u001b[0;34m=\u001b[0m \u001b[0mf\u001b[0m\u001b[0;34m(\u001b[0m\u001b[0;34m*\u001b[0m\u001b[0margs\u001b[0m\u001b[0;34m,\u001b[0m \u001b[0;34m**\u001b[0m\u001b[0mkwargs\u001b[0m\u001b[0;34m)\u001b[0m\u001b[0;34m\u001b[0m\u001b[0;34m\u001b[0m\u001b[0m\n\u001b[0m\u001b[1;32m   1940\u001b[0m                     \u001b[0mself\u001b[0m\u001b[0;34m.\u001b[0m\u001b[0m_logging_state_pop\u001b[0m\u001b[0;34m(\u001b[0m\u001b[0menabled_too\u001b[0m\u001b[0;34m=\u001b[0m\u001b[0;32mTrue\u001b[0m\u001b[0;34m)\u001b[0m\u001b[0;34m\u001b[0m\u001b[0;34m\u001b[0m\u001b[0m\n\u001b[1;32m   1941\u001b[0m                     \u001b[0;32mreturn\u001b[0m \u001b[0mret\u001b[0m\u001b[0;34m\u001b[0m\u001b[0;34m\u001b[0m\u001b[0m\n",
      "\u001b[0;32m/opt/conda/lib/python3.7/site-packages/lightautoml/automl/base.py\u001b[0m in \u001b[0;36mfit_predict\u001b[0;34m(self, train_data, roles, train_features, cv_iter, valid_data, valid_features)\u001b[0m\n\u001b[1;32m    189\u001b[0m             \u001b[0;32mfor\u001b[0m \u001b[0mk\u001b[0m\u001b[0;34m,\u001b[0m \u001b[0mml_pipe\u001b[0m \u001b[0;32min\u001b[0m \u001b[0menumerate\u001b[0m\u001b[0;34m(\u001b[0m\u001b[0mlevel\u001b[0m\u001b[0;34m)\u001b[0m\u001b[0;34m:\u001b[0m\u001b[0;34m\u001b[0m\u001b[0;34m\u001b[0m\u001b[0m\n\u001b[1;32m    190\u001b[0m \u001b[0;34m\u001b[0m\u001b[0m\n\u001b[0;32m--> 191\u001b[0;31m                 \u001b[0mpipe_pred\u001b[0m \u001b[0;34m=\u001b[0m \u001b[0mml_pipe\u001b[0m\u001b[0;34m.\u001b[0m\u001b[0mfit_predict\u001b[0m\u001b[0;34m(\u001b[0m\u001b[0mtrain_valid\u001b[0m\u001b[0;34m)\u001b[0m\u001b[0;34m\u001b[0m\u001b[0;34m\u001b[0m\u001b[0m\n\u001b[0m\u001b[1;32m    192\u001b[0m                 \u001b[0mlevel_predictions\u001b[0m\u001b[0;34m.\u001b[0m\u001b[0mappend\u001b[0m\u001b[0;34m(\u001b[0m\u001b[0mpipe_pred\u001b[0m\u001b[0;34m)\u001b[0m\u001b[0;34m\u001b[0m\u001b[0;34m\u001b[0m\u001b[0m\n\u001b[1;32m    193\u001b[0m                 \u001b[0mpipes\u001b[0m\u001b[0;34m.\u001b[0m\u001b[0mappend\u001b[0m\u001b[0;34m(\u001b[0m\u001b[0mml_pipe\u001b[0m\u001b[0;34m)\u001b[0m\u001b[0;34m\u001b[0m\u001b[0;34m\u001b[0m\u001b[0m\n",
      "\u001b[0;32m/opt/conda/lib/python3.7/site-packages/log_calls/log_calls.py\u001b[0m in \u001b[0;36m_deco_base_f_wrapper_\u001b[0;34m(*args, **kwargs)\u001b[0m\n\u001b[1;32m   1937\u001b[0m                 \u001b[0;31m# (_xxx variables set, ok to call f)\u001b[0m\u001b[0;34m\u001b[0m\u001b[0;34m\u001b[0m\u001b[0;34m\u001b[0m\u001b[0m\n\u001b[1;32m   1938\u001b[0m                 \u001b[0;32mif\u001b[0m \u001b[0;32mnot\u001b[0m \u001b[0m_enabled\u001b[0m\u001b[0;34m:\u001b[0m\u001b[0;34m\u001b[0m\u001b[0;34m\u001b[0m\u001b[0m\n\u001b[0;32m-> 1939\u001b[0;31m                     \u001b[0mret\u001b[0m \u001b[0;34m=\u001b[0m \u001b[0mf\u001b[0m\u001b[0;34m(\u001b[0m\u001b[0;34m*\u001b[0m\u001b[0margs\u001b[0m\u001b[0;34m,\u001b[0m \u001b[0;34m**\u001b[0m\u001b[0mkwargs\u001b[0m\u001b[0;34m)\u001b[0m\u001b[0;34m\u001b[0m\u001b[0;34m\u001b[0m\u001b[0m\n\u001b[0m\u001b[1;32m   1940\u001b[0m                     \u001b[0mself\u001b[0m\u001b[0;34m.\u001b[0m\u001b[0m_logging_state_pop\u001b[0m\u001b[0;34m(\u001b[0m\u001b[0menabled_too\u001b[0m\u001b[0;34m=\u001b[0m\u001b[0;32mTrue\u001b[0m\u001b[0;34m)\u001b[0m\u001b[0;34m\u001b[0m\u001b[0;34m\u001b[0m\u001b[0m\n\u001b[1;32m   1941\u001b[0m                     \u001b[0;32mreturn\u001b[0m \u001b[0mret\u001b[0m\u001b[0;34m\u001b[0m\u001b[0;34m\u001b[0m\u001b[0m\n",
      "\u001b[0;32m/opt/conda/lib/python3.7/site-packages/lightautoml/pipelines/ml/base.py\u001b[0m in \u001b[0;36mfit_predict\u001b[0;34m(self, train_valid)\u001b[0m\n\u001b[1;32m    129\u001b[0m                 \u001b[0mpredictions\u001b[0m\u001b[0;34m.\u001b[0m\u001b[0mappend\u001b[0m\u001b[0;34m(\u001b[0m\u001b[0mpreds\u001b[0m\u001b[0;34m)\u001b[0m\u001b[0;34m\u001b[0m\u001b[0;34m\u001b[0m\u001b[0m\n\u001b[1;32m    130\u001b[0m \u001b[0;34m\u001b[0m\u001b[0m\n\u001b[0;32m--> 131\u001b[0;31m         \u001b[0;32massert\u001b[0m \u001b[0mlen\u001b[0m\u001b[0;34m(\u001b[0m\u001b[0mpredictions\u001b[0m\u001b[0;34m)\u001b[0m \u001b[0;34m>\u001b[0m \u001b[0;36m0\u001b[0m\u001b[0;34m,\u001b[0m \u001b[0;34m'Pipeline finished with 0 models for some reason.\\nProbably one or more models failed'\u001b[0m\u001b[0;34m\u001b[0m\u001b[0;34m\u001b[0m\u001b[0m\n\u001b[0m\u001b[1;32m    132\u001b[0m \u001b[0;34m\u001b[0m\u001b[0m\n\u001b[1;32m    133\u001b[0m         \u001b[0mpredictions\u001b[0m \u001b[0;34m=\u001b[0m \u001b[0mconcatenate\u001b[0m\u001b[0;34m(\u001b[0m\u001b[0mpredictions\u001b[0m\u001b[0;34m)\u001b[0m\u001b[0;34m\u001b[0m\u001b[0;34m\u001b[0m\u001b[0m\n",
      "\u001b[0;31mAssertionError\u001b[0m: Pipeline finished with 0 models for some reason.\nProbably one or more models failed"
     ]
    }
   ],
   "source": [
    "%%time \n",
    "\n",
    "cnt_trained = 0\n",
    "results = []\n",
    "for it, rs in enumerate(range(2000, 2015)):\n",
    "    print('=' * 30)\n",
    "    print('START RANDOM_STATE = {}'.format(rs))\n",
    "    print('=' * 30)\n",
    "    \n",
    "    # Train AutoML\n",
    "    automl = TabularAutoML(task = task, \n",
    "                           timeout = TIMEOUT,\n",
    "                           cpu_limit = N_THREADS,\n",
    "                           general_params = {'use_algos': [['linear_l2', 'lgb', 'cb']]},\n",
    "                           selection_params = {'mode': 0},\n",
    "                           reader_params = {'n_jobs': N_THREADS, 'cv': N_FOLDS, 'random_state': rs},\n",
    "                           lgb_params = {'default_params': params, 'freeze_defaults': True},\n",
    "                           cb_params = {'default_params': cb_params, 'freeze_defaults': True})\n",
    "    \n",
    "    oof_pred = automl.fit_predict(all_df, roles = roles)\n",
    "    \n",
    "    # Predict on test\n",
    "    test_pred = automl.predict(test_data)\n",
    "    cnt_trained += 1\n",
    "    \n",
    "    # Save predictions\n",
    "    if it == 0:\n",
    "        oof_pred_full = oof_pred.data[:, 0].copy()\n",
    "        test_pred_full = test_pred.data[:, 0].copy()\n",
    "    else:\n",
    "        oof_pred_full += oof_pred.data[:, 0]\n",
    "        test_pred_full += test_pred.data[:, 0]\n",
    "    \n",
    "    # Check scores for current predict and aggregated one\n",
    "    acc_usual = acc_score(train_data['Survived'].values, oof_pred.data[:len(train_data), 0])\n",
    "    acc_full = acc_score(train_data['Survived'].values, oof_pred_full[:len(train_data)] / cnt_trained)\n",
    "    results.append((acc_usual, acc_full, acc_full - acc_usual))\n",
    "    \n",
    "    print('Check scores...')\n",
    "    print('OOF score: {}'.format(acc_usual))\n",
    "    print('OOF score full: {}'.format(acc_full))\n",
    "    print('Difference: {}'.format(acc_full - acc_usual))"
   ]
  },
  {
   "cell_type": "markdown",
   "id": "least-norfolk",
   "metadata": {
    "papermill": {
     "duration": 0.060992,
     "end_time": "2021-04-29T10:59:23.089663",
     "exception": false,
     "start_time": "2021-04-29T10:59:23.028671",
     "status": "completed"
    },
    "tags": []
   },
   "source": [
    "# Step 4. Graphic check for received results"
   ]
  },
  {
   "cell_type": "code",
   "execution_count": 17,
   "id": "boxed-reason",
   "metadata": {
    "execution": {
     "iopub.execute_input": "2021-04-29T10:59:23.215452Z",
     "iopub.status.busy": "2021-04-29T10:59:23.214799Z",
     "iopub.status.idle": "2021-04-29T10:59:23.454711Z",
     "shell.execute_reply": "2021-04-29T10:59:23.454176Z"
    },
    "papermill": {
     "duration": 0.304159,
     "end_time": "2021-04-29T10:59:23.454859",
     "exception": false,
     "start_time": "2021-04-29T10:59:23.150700",
     "status": "completed"
    },
    "tags": []
   },
   "outputs": [
    {
     "data": {
      "image/png": "[encoded data removed]",
      "text/plain": [
       "<Figure size 1440x720 with 1 Axes>"
      ]
     },
     "metadata": {
      "needs_background": "light"
     },
     "output_type": "display_data"
    }
   ],
   "source": [
    "plt.figure(figsize = (20, 10))\n",
    "plt.plot(range(1, cnt_trained + 1), [res[0] for res in results], color = 'b', linewidth = 2, label = 'Usual LightAutoML model accuracy')\n",
    "plt.plot(range(1, cnt_trained + 1), [res[1] for res in results], color = 'g', linewidth = 2, label = 'Accuracy for averaged LightAutoMLs')\n",
    "plt.grid()\n",
    "plt.legend()\n",
    "plt.title('LightAutoML accuracy vs. averaged LightAutoMLs composition accuracy')\n",
    "plt.xlabel('Iteration number')\n",
    "plt.ylabel('Accuracy score')\n",
    "plt.show()"
   ]
  },
  {
   "cell_type": "code",
   "execution_count": 18,
   "id": "knowing-representative",
   "metadata": {
    "execution": {
     "iopub.execute_input": "2021-04-29T10:59:23.587458Z",
     "iopub.status.busy": "2021-04-29T10:59:23.586812Z",
     "iopub.status.idle": "2021-04-29T10:59:23.595475Z",
     "shell.execute_reply": "2021-04-29T10:59:23.594714Z"
    },
    "papermill": {
     "duration": 0.077208,
     "end_time": "2021-04-29T10:59:23.595624",
     "exception": false,
     "start_time": "2021-04-29T10:59:23.518416",
     "status": "completed"
    },
    "tags": []
   },
   "outputs": [
    {
     "data": {
      "text/plain": [
       "nan"
      ]
     },
     "execution_count": 18,
     "metadata": {},
     "output_type": "execute_result"
    }
   ],
   "source": [
    "mean_acc = np.mean([res[0] for res in results])\n",
    "mean_acc"
   ]
  },
  {
   "cell_type": "code",
   "execution_count": 19,
   "id": "tough-verse",
   "metadata": {
    "execution": {
     "iopub.execute_input": "2021-04-29T10:59:23.728157Z",
     "iopub.status.busy": "2021-04-29T10:59:23.727446Z",
     "iopub.status.idle": "2021-04-29T10:59:23.730942Z",
     "shell.execute_reply": "2021-04-29T10:59:23.730309Z"
    },
    "papermill": {
     "duration": 0.071856,
     "end_time": "2021-04-29T10:59:23.731078",
     "exception": false,
     "start_time": "2021-04-29T10:59:23.659222",
     "status": "completed"
    },
    "tags": []
   },
   "outputs": [],
   "source": [
    "differences = np.array([res[1] - mean_acc for res in results])"
   ]
  },
  {
   "cell_type": "code",
   "execution_count": 20,
   "id": "dangerous-inspiration",
   "metadata": {
    "execution": {
     "iopub.execute_input": "2021-04-29T10:59:23.883534Z",
     "iopub.status.busy": "2021-04-29T10:59:23.881876Z",
     "iopub.status.idle": "2021-04-29T10:59:24.083647Z",
     "shell.execute_reply": "2021-04-29T10:59:24.082995Z"
    },
    "papermill": {
     "duration": 0.289573,
     "end_time": "2021-04-29T10:59:24.083790",
     "exception": false,
     "start_time": "2021-04-29T10:59:23.794217",
     "status": "completed"
    },
    "tags": []
   },
   "outputs": [
    {
     "data": {
      "image/png": "[encoded data removed]",
      "text/plain": [
       "<Figure size 1440x720 with 1 Axes>"
      ]
     },
     "metadata": {
      "needs_background": "light"
     },
     "output_type": "display_data"
    }
   ],
   "source": [
    "plt.figure(figsize = (20, 10))\n",
    "plt.plot(range(1, cnt_trained + 1), differences, color = 'g', linewidth = 2, label = 'Difference')\n",
    "plt.plot(range(1, cnt_trained + 1), [np.mean(differences[0:i+1]) for i in range(len(differences))], 'b-.', linewidth = 2, label = 'Cumulative mean difference')\n",
    "plt.plot(range(1, cnt_trained + 1), [0.0 for res in results], 'r--', linewidth = 2, label = 'Zero line')\n",
    "plt.grid()\n",
    "plt.legend()\n",
    "plt.title('Difference between mean LightAutoML accuracy and averaged LightAutoMLs composition accuracy at each iteration')\n",
    "plt.xlabel('Iteration number')\n",
    "plt.ylabel('Accuracy score difference')\n",
    "plt.show()"
   ]
  },
  {
   "cell_type": "markdown",
   "id": "appointed-andrew",
   "metadata": {
    "papermill": {
     "duration": 0.064219,
     "end_time": "2021-04-29T10:59:24.212811",
     "exception": false,
     "start_time": "2021-04-29T10:59:24.148592",
     "status": "completed"
    },
    "tags": []
   },
   "source": [
    "#### Everything ok, we are above zero line and cumulative mean difference in scores is growing :)"
   ]
  },
  {
   "cell_type": "markdown",
   "id": "eight-entrance",
   "metadata": {
    "papermill": {
     "duration": 0.063844,
     "end_time": "2021-04-29T10:59:24.340624",
     "exception": false,
     "start_time": "2021-04-29T10:59:24.276780",
     "status": "completed"
    },
    "tags": []
   },
   "source": [
    "# Step 5. Prepare submission"
   ]
  },
  {
   "cell_type": "code",
   "execution_count": 21,
   "id": "innocent-romantic",
   "metadata": {
    "execution": {
     "iopub.execute_input": "2021-04-29T10:59:24.486506Z",
     "iopub.status.busy": "2021-04-29T10:59:24.485580Z",
     "iopub.status.idle": "2021-04-29T10:59:24.500221Z",
     "shell.execute_reply": "2021-04-29T10:59:24.499557Z"
    },
    "papermill": {
     "duration": 0.094987,
     "end_time": "2021-04-29T10:59:24.500448",
     "exception": false,
     "start_time": "2021-04-29T10:59:24.405461",
     "status": "completed"
    },
    "tags": []
   },
   "outputs": [
    {
     "ename": "NameError",
     "evalue": "name 'test_pred_full' is not defined",
     "output_type": "error",
     "traceback": [
      "\u001b[0;31m---------------------------------------------------------------------------\u001b[0m",
      "\u001b[0;31mNameError\u001b[0m                                 Traceback (most recent call last)",
      "\u001b[0;32m<ipython-input-21-1911b00a1873>\u001b[0m in \u001b[0;36m<module>\u001b[0;34m\u001b[0m\n\u001b[0;32m----> 1\u001b[0;31m \u001b[0msubmission\u001b[0m\u001b[0;34m[\u001b[0m\u001b[0;34m'Survived'\u001b[0m\u001b[0;34m]\u001b[0m \u001b[0;34m=\u001b[0m \u001b[0;34m(\u001b[0m\u001b[0;34m(\u001b[0m\u001b[0mtest_pred_full\u001b[0m \u001b[0;34m/\u001b[0m \u001b[0mcnt_trained\u001b[0m\u001b[0;34m)\u001b[0m \u001b[0;34m>\u001b[0m \u001b[0;36m0.5\u001b[0m\u001b[0;34m)\u001b[0m\u001b[0;34m.\u001b[0m\u001b[0mastype\u001b[0m\u001b[0;34m(\u001b[0m\u001b[0mint\u001b[0m\u001b[0;34m)\u001b[0m\u001b[0;34m\u001b[0m\u001b[0;34m\u001b[0m\u001b[0m\n\u001b[0m\u001b[1;32m      2\u001b[0m \u001b[0msubmission\u001b[0m\u001b[0;34m.\u001b[0m\u001b[0mto_csv\u001b[0m\u001b[0;34m(\u001b[0m\u001b[0;34m'LightAutoML_compose_version_1.csv'\u001b[0m\u001b[0;34m,\u001b[0m \u001b[0mindex\u001b[0m \u001b[0;34m=\u001b[0m \u001b[0;32mFalse\u001b[0m\u001b[0;34m)\u001b[0m\u001b[0;34m\u001b[0m\u001b[0;34m\u001b[0m\u001b[0m\n",
      "\u001b[0;31mNameError\u001b[0m: name 'test_pred_full' is not defined"
     ]
    }
   ],
   "source": [
    "submission['Survived'] = ((test_pred_full / cnt_trained) > 0.5).astype(int)\n",
    "submission.to_csv('LightAutoML_compose_version_1.csv', index = False)"
   ]
  },
  {
   "cell_type": "code",
   "execution_count": 22,
   "id": "demanding-stocks",
   "metadata": {
    "execution": {
     "iopub.execute_input": "2021-04-29T10:59:24.636262Z",
     "iopub.status.busy": "2021-04-29T10:59:24.635579Z",
     "iopub.status.idle": "2021-04-29T10:59:24.639876Z",
     "shell.execute_reply": "2021-04-29T10:59:24.639323Z"
    },
    "papermill": {
     "duration": 0.074567,
     "end_time": "2021-04-29T10:59:24.640013",
     "exception": false,
     "start_time": "2021-04-29T10:59:24.565446",
     "status": "completed"
    },
    "tags": []
   },
   "outputs": [
    {
     "data": {
      "text/plain": [
       "1.0"
      ]
     },
     "execution_count": 22,
     "metadata": {},
     "output_type": "execute_result"
    }
   ],
   "source": [
    "submission['Survived'].mean()"
   ]
  },
  {
   "cell_type": "code",
   "execution_count": null,
   "id": "numeric-attention",
   "metadata": {
    "papermill": {
     "duration": 0.064915,
     "end_time": "2021-04-29T10:59:24.770691",
     "exception": false,
     "start_time": "2021-04-29T10:59:24.705776",
     "status": "completed"
    },
    "tags": []
   },
   "outputs": [],
   "source": []
  }
 ],
 "metadata": {
  "kernelspec": {
   "display_name": "Python 3",
   "language": "python",
   "name": "python3"
  },
  "language_info": {
   "codemirror_mode": {
    "name": "ipython",
    "version": 3
   },
   "file_extension": ".py",
   "mimetype": "text/x-python",
   "name": "python",
   "nbconvert_exporter": "python",
   "pygments_lexer": "ipython3",
   "version": "3.7.9"
  },
  "papermill": {
   "default_parameters": {},
   "duration": 97.789326,
   "end_time": "2021-04-29T10:59:27.151531",
   "environment_variables": {},
   "exception": null,
   "input_path": "__notebook__.ipynb",
   "output_path": "__notebook__.ipynb",
   "parameters": {},
   "start_time": "2021-04-29T10:57:49.362205",
   "version": "2.3.2"
  }
 },
 "nbformat": 4,
 "nbformat_minor": 5
}
