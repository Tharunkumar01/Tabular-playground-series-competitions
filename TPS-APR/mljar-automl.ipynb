{
 "cells": [
  {
   "cell_type": "code",
   "execution_count": 1,
   "id": "consecutive-partner",
   "metadata": {
    "execution": {
     "iopub.execute_input": "2021-04-29T04:23:45.399810Z",
     "iopub.status.busy": "2021-04-29T04:23:45.398734Z",
     "iopub.status.idle": "2021-04-29T04:24:50.672332Z",
     "shell.execute_reply": "2021-04-29T04:24:50.671388Z"
    },
    "papermill": {
     "duration": 65.283649,
     "end_time": "2021-04-29T04:24:50.672520",
     "exception": false,
     "start_time": "2021-04-29T04:23:45.388871",
     "status": "completed"
    },
    "tags": []
   },
   "outputs": [
    {
     "name": "stdout",
     "output_type": "stream",
     "text": [
      "Collecting mljar-supervised\r\n",
      "  Downloading mljar-supervised-0.10.3.tar.gz (101 kB)\r\n",
      "\u001b[K     |████████████████████████████████| 101 kB 3.6 MB/s \r\n",
      "\u001b[?25hRequirement already satisfied: numpy<1.20.0 in /opt/conda/lib/python3.7/site-packages (from mljar-supervised) (1.19.5)\r\n",
      "Collecting pandas==1.2.0\r\n",
      "  Downloading pandas-1.2.0-cp37-cp37m-manylinux1_x86_64.whl (9.9 MB)\r\n",
      "\u001b[K     |████████████████████████████████| 9.9 MB 14.4 MB/s \r\n",
      "\u001b[?25hCollecting scipy==1.6.1\r\n",
      "  Downloading scipy-1.6.1-cp37-cp37m-manylinux1_x86_64.whl (27.4 MB)\r\n",
      "\u001b[K     |████████████████████████████████| 27.4 MB 35.6 MB/s \r\n",
      "\u001b[?25hRequirement already satisfied: scikit-learn==0.24.1 in /opt/conda/lib/python3.7/site-packages (from mljar-supervised) (0.24.1)\r\n",
      "Collecting xgboost==1.3.3\r\n",
      "  Downloading xgboost-1.3.3-py3-none-manylinux2010_x86_64.whl (157.5 MB)\r\n",
      "\u001b[K     |████████████████████████████████| 157.5 MB 61 kB/s \r\n",
      "\u001b[?25hCollecting lightgbm==3.0.0\r\n",
      "  Downloading lightgbm-3.0.0-py2.py3-none-manylinux1_x86_64.whl (1.7 MB)\r\n",
      "\u001b[K     |████████████████████████████████| 1.7 MB 27.3 MB/s \r\n",
      "\u001b[?25hCollecting catboost==0.24.4\r\n",
      "  Downloading catboost-0.24.4-cp37-none-manylinux1_x86_64.whl (65.7 MB)\r\n",
      "\u001b[K     |████████████████████████████████| 65.7 MB 43.9 MB/s \r\n",
      "\u001b[?25hRequirement already satisfied: joblib==1.0.1 in /opt/conda/lib/python3.7/site-packages (from mljar-supervised) (1.0.1)\r\n",
      "Collecting cloudpickle==1.3.0\r\n",
      "  Downloading cloudpickle-1.3.0-py2.py3-none-any.whl (26 kB)\r\n",
      "Requirement already satisfied: pyarrow>=2.0.0 in /opt/conda/lib/python3.7/site-packages (from mljar-supervised) (3.0.0)\r\n",
      "Collecting tabulate==0.8.7\r\n",
      "  Downloading tabulate-0.8.7-py3-none-any.whl (24 kB)\r\n",
      "Requirement already satisfied: matplotlib>=3.2.2 in /opt/conda/lib/python3.7/site-packages (from mljar-supervised) (3.4.1)\r\n",
      "Collecting dtreeviz==1.0\r\n",
      "  Downloading dtreeviz-1.0.tar.gz (42 kB)\r\n",
      "\u001b[K     |████████████████████████████████| 42 kB 560 kB/s \r\n",
      "\u001b[?25hCollecting shap==0.36.0\r\n",
      "  Downloading shap-0.36.0.tar.gz (319 kB)\r\n",
      "\u001b[K     |████████████████████████████████| 319 kB 50.6 MB/s \r\n",
      "\u001b[?25hCollecting seaborn==0.10.1\r\n",
      "  Downloading seaborn-0.10.1-py3-none-any.whl (215 kB)\r\n",
      "\u001b[K     |████████████████████████████████| 215 kB 54.8 MB/s \r\n",
      "\u001b[?25hRequirement already satisfied: wordcloud==1.8.1 in /opt/conda/lib/python3.7/site-packages (from mljar-supervised) (1.8.1)\r\n",
      "Requirement already satisfied: category_encoders==2.2.2 in /opt/conda/lib/python3.7/site-packages (from mljar-supervised) (2.2.2)\r\n",
      "Collecting optuna==2.6.0\r\n",
      "  Downloading optuna-2.6.0-py3-none-any.whl (293 kB)\r\n",
      "\u001b[K     |████████████████████████████████| 293 kB 44.8 MB/s \r\n",
      "\u001b[?25hRequirement already satisfied: six in /opt/conda/lib/python3.7/site-packages (from catboost==0.24.4->mljar-supervised) (1.15.0)\r\n",
      "Requirement already satisfied: plotly in /opt/conda/lib/python3.7/site-packages (from catboost==0.24.4->mljar-supervised) (4.14.3)\r\n",
      "Requirement already satisfied: graphviz in /opt/conda/lib/python3.7/site-packages (from catboost==0.24.4->mljar-supervised) (0.8.4)\r\n",
      "Requirement already satisfied: statsmodels>=0.9.0 in /opt/conda/lib/python3.7/site-packages (from category_encoders==2.2.2->mljar-supervised) (0.12.2)\r\n",
      "Requirement already satisfied: patsy>=0.5.1 in /opt/conda/lib/python3.7/site-packages (from category_encoders==2.2.2->mljar-supervised) (0.5.1)\r\n",
      "Collecting graphviz\r\n",
      "  Downloading graphviz-0.16-py2.py3-none-any.whl (19 kB)\r\n",
      "Collecting colour\r\n",
      "  Downloading colour-0.1.5-py2.py3-none-any.whl (23 kB)\r\n",
      "Requirement already satisfied: pytest in /opt/conda/lib/python3.7/site-packages (from dtreeviz==1.0->mljar-supervised) (6.2.3)\r\n",
      "Requirement already satisfied: cliff in /opt/conda/lib/python3.7/site-packages (from optuna==2.6.0->mljar-supervised) (3.7.0)\r\n",
      "Requirement already satisfied: colorlog in /opt/conda/lib/python3.7/site-packages (from optuna==2.6.0->mljar-supervised) (5.0.1)\r\n",
      "Requirement already satisfied: alembic in /opt/conda/lib/python3.7/site-packages (from optuna==2.6.0->mljar-supervised) (1.5.8)\r\n",
      "Requirement already satisfied: tqdm in /opt/conda/lib/python3.7/site-packages (from optuna==2.6.0->mljar-supervised) (4.59.0)\r\n",
      "Requirement already satisfied: packaging>=20.0 in /opt/conda/lib/python3.7/site-packages (from optuna==2.6.0->mljar-supervised) (20.9)\r\n",
      "Requirement already satisfied: cmaes>=0.8.2 in /opt/conda/lib/python3.7/site-packages (from optuna==2.6.0->mljar-supervised) (0.8.2)\r\n",
      "Requirement already satisfied: sqlalchemy>=1.1.0 in /opt/conda/lib/python3.7/site-packages (from optuna==2.6.0->mljar-supervised) (1.4.3)\r\n",
      "Requirement already satisfied: pytz>=2017.3 in /opt/conda/lib/python3.7/site-packages (from pandas==1.2.0->mljar-supervised) (2021.1)\r\n",
      "Requirement already satisfied: python-dateutil>=2.7.3 in /opt/conda/lib/python3.7/site-packages (from pandas==1.2.0->mljar-supervised) (2.8.1)\r\n",
      "Requirement already satisfied: threadpoolctl>=2.0.0 in /opt/conda/lib/python3.7/site-packages (from scikit-learn==0.24.1->mljar-supervised) (2.1.0)\r\n",
      "Requirement already satisfied: slicer in /opt/conda/lib/python3.7/site-packages (from shap==0.36.0->mljar-supervised) (0.0.7)\r\n",
      "Requirement already satisfied: numba in /opt/conda/lib/python3.7/site-packages (from shap==0.36.0->mljar-supervised) (0.53.1)\r\n",
      "Requirement already satisfied: pillow in /opt/conda/lib/python3.7/site-packages (from wordcloud==1.8.1->mljar-supervised) (7.2.0)\r\n",
      "Requirement already satisfied: pyparsing>=2.2.1 in /opt/conda/lib/python3.7/site-packages (from matplotlib>=3.2.2->mljar-supervised) (2.4.7)\r\n",
      "Requirement already satisfied: kiwisolver>=1.0.1 in /opt/conda/lib/python3.7/site-packages (from matplotlib>=3.2.2->mljar-supervised) (1.3.1)\r\n",
      "Requirement already satisfied: cycler>=0.10 in /opt/conda/lib/python3.7/site-packages (from matplotlib>=3.2.2->mljar-supervised) (0.10.0)\r\n",
      "Requirement already satisfied: importlib-metadata in /opt/conda/lib/python3.7/site-packages (from sqlalchemy>=1.1.0->optuna==2.6.0->mljar-supervised) (3.4.0)\r\n",
      "Requirement already satisfied: greenlet!=0.4.17 in /opt/conda/lib/python3.7/site-packages (from sqlalchemy>=1.1.0->optuna==2.6.0->mljar-supervised) (1.0.0)\r\n",
      "Requirement already satisfied: Mako in /opt/conda/lib/python3.7/site-packages (from alembic->optuna==2.6.0->mljar-supervised) (1.1.4)\r\n",
      "Requirement already satisfied: python-editor>=0.3 in /opt/conda/lib/python3.7/site-packages (from alembic->optuna==2.6.0->mljar-supervised) (1.0.4)\r\n",
      "Requirement already satisfied: PyYAML>=3.12 in /opt/conda/lib/python3.7/site-packages (from cliff->optuna==2.6.0->mljar-supervised) (5.3.1)\r\n",
      "Requirement already satisfied: stevedore>=2.0.1 in /opt/conda/lib/python3.7/site-packages (from cliff->optuna==2.6.0->mljar-supervised) (3.3.0)\r\n",
      "Requirement already satisfied: cmd2>=1.0.0 in /opt/conda/lib/python3.7/site-packages (from cliff->optuna==2.6.0->mljar-supervised) (1.5.0)\r\n",
      "Requirement already satisfied: PrettyTable>=0.7.2 in /opt/conda/lib/python3.7/site-packages (from cliff->optuna==2.6.0->mljar-supervised) (2.1.0)\r\n",
      "Requirement already satisfied: pbr!=2.1.0,>=2.0.0 in /opt/conda/lib/python3.7/site-packages (from cliff->optuna==2.6.0->mljar-supervised) (5.5.1)\r\n",
      "Requirement already satisfied: pyperclip>=1.6 in /opt/conda/lib/python3.7/site-packages (from cmd2>=1.0.0->cliff->optuna==2.6.0->mljar-supervised) (1.8.2)\r\n",
      "Requirement already satisfied: wcwidth>=0.1.7 in /opt/conda/lib/python3.7/site-packages (from cmd2>=1.0.0->cliff->optuna==2.6.0->mljar-supervised) (0.2.5)\r\n",
      "Requirement already satisfied: attrs>=16.3.0 in /opt/conda/lib/python3.7/site-packages (from cmd2>=1.0.0->cliff->optuna==2.6.0->mljar-supervised) (20.3.0)\r\n",
      "Requirement already satisfied: colorama>=0.3.7 in /opt/conda/lib/python3.7/site-packages (from cmd2>=1.0.0->cliff->optuna==2.6.0->mljar-supervised) (0.4.4)\r\n",
      "Requirement already satisfied: typing-extensions>=3.6.4 in /opt/conda/lib/python3.7/site-packages (from importlib-metadata->sqlalchemy>=1.1.0->optuna==2.6.0->mljar-supervised) (3.7.4.3)\r\n",
      "Requirement already satisfied: zipp>=0.5 in /opt/conda/lib/python3.7/site-packages (from importlib-metadata->sqlalchemy>=1.1.0->optuna==2.6.0->mljar-supervised) (3.4.1)\r\n",
      "Requirement already satisfied: MarkupSafe>=0.9.2 in /opt/conda/lib/python3.7/site-packages (from Mako->alembic->optuna==2.6.0->mljar-supervised) (1.1.1)\r\n",
      "Requirement already satisfied: setuptools in /opt/conda/lib/python3.7/site-packages (from numba->shap==0.36.0->mljar-supervised) (49.6.0.post20210108)\r\n",
      "Requirement already satisfied: llvmlite<0.37,>=0.36.0rc1 in /opt/conda/lib/python3.7/site-packages (from numba->shap==0.36.0->mljar-supervised) (0.36.0)\r\n",
      "Requirement already satisfied: retrying>=1.3.3 in /opt/conda/lib/python3.7/site-packages (from plotly->catboost==0.24.4->mljar-supervised) (1.3.3)\r\n",
      "Requirement already satisfied: pluggy<1.0.0a1,>=0.12 in /opt/conda/lib/python3.7/site-packages (from pytest->dtreeviz==1.0->mljar-supervised) (0.13.1)\r\n",
      "Requirement already satisfied: iniconfig in /opt/conda/lib/python3.7/site-packages (from pytest->dtreeviz==1.0->mljar-supervised) (1.1.1)\r\n",
      "Requirement already satisfied: toml in /opt/conda/lib/python3.7/site-packages (from pytest->dtreeviz==1.0->mljar-supervised) (0.10.2)\r\n",
      "Requirement already satisfied: py>=1.8.2 in /opt/conda/lib/python3.7/site-packages (from pytest->dtreeviz==1.0->mljar-supervised) (1.10.0)\r\n",
      "Building wheels for collected packages: mljar-supervised, dtreeviz, shap\r\n",
      "  Building wheel for mljar-supervised (setup.py) ... \u001b[?25l-\b \b\\\b \bdone\r\n",
      "\u001b[?25h  Created wheel for mljar-supervised: filename=mljar_supervised-0.10.3-py3-none-any.whl size=134890 sha256=916561ff583bd9be25efae39b37893d485aaada3defb913e0f9cc14306ea9721\r\n",
      "  Stored in directory: /root/.cache/pip/wheels/a3/c8/5a/5c3617a8488b49cb9d5ae6b2d79b0e4e6ddcf381def60fde7f\r\n",
      "  Building wheel for dtreeviz (setup.py) ... \u001b[?25l-\b \b\\\b \bdone\r\n",
      "\u001b[?25h  Created wheel for dtreeviz: filename=dtreeviz-1.0-py3-none-any.whl size=47219 sha256=df62798c27afaebd2a27ec4ab76f247300436d8763b6ca3ad4802292a5878952\r\n",
      "  Stored in directory: /root/.cache/pip/wheels/0a/27/39/56e6216f118120c9a3d1c7a5f4ce96f06a98ccd20f691166fe\r\n",
      "  Building wheel for shap (setup.py) ... \u001b[?25l-\b \b\\\b \b|\b \b/\b \b-\b \b\\\b \bdone\r\n",
      "\u001b[?25h  Created wheel for shap: filename=shap-0.36.0-cp37-cp37m-linux_x86_64.whl size=461179 sha256=fb58ae9c784708696e5f61378c97f0f9b64d1ae6c9b67197618c55d33c6d80b8\r\n",
      "  Stored in directory: /root/.cache/pip/wheels/6b/1e/4a/b1d65778aac48b677ac2a758251f9cccb338775e8d174f3696\r\n",
      "Successfully built mljar-supervised dtreeviz shap\r\n",
      "Installing collected packages: scipy, pandas, xgboost, graphviz, colour, tabulate, shap, seaborn, optuna, lightgbm, dtreeviz, cloudpickle, catboost, mljar-supervised\r\n",
      "  Attempting uninstall: scipy\r\n",
      "    Found existing installation: scipy 1.5.4\r\n",
      "    Uninstalling scipy-1.5.4:\r\n",
      "      Successfully uninstalled scipy-1.5.4\r\n",
      "  Attempting uninstall: pandas\r\n",
      "    Found existing installation: pandas 1.2.3\r\n",
      "    Uninstalling pandas-1.2.3:\r\n",
      "      Successfully uninstalled pandas-1.2.3\r\n",
      "  Attempting uninstall: xgboost\r\n",
      "    Found existing installation: xgboost 1.4.0\r\n",
      "    Uninstalling xgboost-1.4.0:\r\n",
      "      Successfully uninstalled xgboost-1.4.0\r\n",
      "  Attempting uninstall: graphviz\r\n",
      "    Found existing installation: graphviz 0.8.4\r\n",
      "    Uninstalling graphviz-0.8.4:\r\n",
      "      Successfully uninstalled graphviz-0.8.4\r\n",
      "  Attempting uninstall: tabulate\r\n",
      "    Found existing installation: tabulate 0.8.9\r\n",
      "    Uninstalling tabulate-0.8.9:\r\n",
      "      Successfully uninstalled tabulate-0.8.9\r\n",
      "  Attempting uninstall: shap\r\n",
      "    Found existing installation: shap 0.39.0\r\n",
      "    Uninstalling shap-0.39.0:\r\n",
      "      Successfully uninstalled shap-0.39.0\r\n",
      "  Attempting uninstall: seaborn\r\n",
      "    Found existing installation: seaborn 0.11.1\r\n",
      "    Uninstalling seaborn-0.11.1:\r\n",
      "      Successfully uninstalled seaborn-0.11.1\r\n",
      "  Attempting uninstall: optuna\r\n",
      "    Found existing installation: optuna 2.7.0\r\n",
      "    Uninstalling optuna-2.7.0:\r\n",
      "      Successfully uninstalled optuna-2.7.0\r\n",
      "  Attempting uninstall: lightgbm\r\n",
      "    Found existing installation: lightgbm 3.2.0\r\n",
      "    Uninstalling lightgbm-3.2.0:\r\n",
      "      Successfully uninstalled lightgbm-3.2.0\r\n",
      "  Attempting uninstall: cloudpickle\r\n",
      "    Found existing installation: cloudpickle 1.6.0\r\n",
      "    Uninstalling cloudpickle-1.6.0:\r\n",
      "      Successfully uninstalled cloudpickle-1.6.0\r\n",
      "  Attempting uninstall: catboost\r\n",
      "    Found existing installation: catboost 0.25.1\r\n",
      "    Uninstalling catboost-0.25.1:\r\n",
      "      Successfully uninstalled catboost-0.25.1\r\n",
      "\u001b[31mERROR: pip's dependency resolver does not currently take into account all the packages that are installed. This behaviour is the source of the following dependency conflicts.\r\n",
      "pyldavis 3.3.1 requires numpy>=1.20.0, but you have numpy 1.19.5 which is incompatible.\r\n",
      "pdpbox 0.2.1 requires matplotlib==3.1.1, but you have matplotlib 3.4.1 which is incompatible.\r\n",
      "mxnet 1.8.0.post0 requires graphviz<0.9.0,>=0.8.1, but you have graphviz 0.16 which is incompatible.\r\n",
      "matrixprofile 1.1.10 requires protobuf==3.11.2, but you have protobuf 3.15.8 which is incompatible.\r\n",
      "distributed 2021.4.0 requires cloudpickle>=1.5.0, but you have cloudpickle 1.3.0 which is incompatible.\r\n",
      "autogluon-core 0.1.0 requires graphviz<0.9.0,>=0.8.1, but you have graphviz 0.16 which is incompatible.\r\n",
      "autogluon-core 0.1.0 requires scipy==1.5.4, but you have scipy 1.6.1 which is incompatible.\u001b[0m\r\n",
      "Successfully installed catboost-0.24.4 cloudpickle-1.3.0 colour-0.1.5 dtreeviz-1.0 graphviz-0.16 lightgbm-3.0.0 mljar-supervised-0.10.3 optuna-2.6.0 pandas-1.2.0 scipy-1.6.1 seaborn-0.10.1 shap-0.36.0 tabulate-0.8.7 xgboost-1.3.3\r\n"
     ]
    }
   ],
   "source": [
    "! pip install mljar-supervised"
   ]
  },
  {
   "cell_type": "code",
   "execution_count": 2,
   "id": "narrative-desire",
   "metadata": {
    "execution": {
     "iopub.execute_input": "2021-04-29T04:24:50.892468Z",
     "iopub.status.busy": "2021-04-29T04:24:50.891729Z",
     "iopub.status.idle": "2021-04-29T04:25:20.486418Z",
     "shell.execute_reply": "2021-04-29T04:25:20.485905Z"
    },
    "papermill": {
     "duration": 29.705067,
     "end_time": "2021-04-29T04:25:20.486578",
     "exception": false,
     "start_time": "2021-04-29T04:24:50.781511",
     "status": "completed"
    },
    "tags": []
   },
   "outputs": [
    {
     "name": "stdout",
     "output_type": "stream",
     "text": [
      "Collecting fastparquet\r\n",
      "  Downloading fastparquet-0.5.0.tar.gz (120 kB)\r\n",
      "\u001b[K     |████████████████████████████████| 120 kB 4.4 MB/s \r\n",
      "\u001b[?25hRequirement already satisfied: pandas>=1.1.0 in /opt/conda/lib/python3.7/site-packages (from fastparquet) (1.2.0)\r\n",
      "Requirement already satisfied: numba>=0.49 in /opt/conda/lib/python3.7/site-packages (from fastparquet) (0.53.1)\r\n",
      "Requirement already satisfied: numpy>=1.11 in /opt/conda/lib/python3.7/site-packages (from fastparquet) (1.19.5)\r\n",
      "Collecting thrift>=0.11.0\r\n",
      "  Downloading thrift-0.13.0.tar.gz (59 kB)\r\n",
      "\u001b[K     |████████████████████████████████| 59 kB 4.2 MB/s \r\n",
      "\u001b[?25hRequirement already satisfied: llvmlite<0.37,>=0.36.0rc1 in /opt/conda/lib/python3.7/site-packages (from numba>=0.49->fastparquet) (0.36.0)\r\n",
      "Requirement already satisfied: setuptools in /opt/conda/lib/python3.7/site-packages (from numba>=0.49->fastparquet) (49.6.0.post20210108)\r\n",
      "Requirement already satisfied: python-dateutil>=2.7.3 in /opt/conda/lib/python3.7/site-packages (from pandas>=1.1.0->fastparquet) (2.8.1)\r\n",
      "Requirement already satisfied: pytz>=2017.3 in /opt/conda/lib/python3.7/site-packages (from pandas>=1.1.0->fastparquet) (2021.1)\r\n",
      "Requirement already satisfied: six>=1.5 in /opt/conda/lib/python3.7/site-packages (from python-dateutil>=2.7.3->pandas>=1.1.0->fastparquet) (1.15.0)\r\n",
      "Building wheels for collected packages: fastparquet, thrift\r\n",
      "  Building wheel for fastparquet (setup.py) ... \u001b[?25l-\b \b\\\b \b|\b \b/\b \b-\b \bdone\r\n",
      "\u001b[?25h  Created wheel for fastparquet: filename=fastparquet-0.5.0-cp37-cp37m-linux_x86_64.whl size=217582 sha256=98142f5e9995ae550d3d7c1c9ab701b29437b25d5f651a9933571c291fa2a7b1\r\n",
      "  Stored in directory: /root/.cache/pip/wheels/a4/c3/8a/eee13aaf7ac012dcf62c6b5905c74816e91518186de270e8c1\r\n",
      "  Building wheel for thrift (setup.py) ... \u001b[?25l-\b \b\\\b \b|\b \b/\b \b-\b \b\\\b \b|\b \bdone\r\n",
      "\u001b[?25h  Created wheel for thrift: filename=thrift-0.13.0-cp37-cp37m-linux_x86_64.whl size=409498 sha256=fbb20a4ee8ba934d6c8c45c25078488a89af88c99983e528dd4da8f1cf7ff436\r\n",
      "  Stored in directory: /root/.cache/pip/wheels/79/35/5a/19f5dadf91f62bd783aaa8385f700de9bc14772e09ab0f006a\r\n",
      "Successfully built fastparquet thrift\r\n",
      "Installing collected packages: thrift, fastparquet\r\n",
      "Successfully installed fastparquet-0.5.0 thrift-0.13.0\r\n",
      "Collecting python-snappy\r\n",
      "  Downloading python_snappy-0.6.0-cp37-cp37m-manylinux2010_x86_64.whl (55 kB)\r\n",
      "\u001b[K     |████████████████████████████████| 55 kB 1.8 MB/s \r\n",
      "\u001b[?25hInstalling collected packages: python-snappy\r\n",
      "Successfully installed python-snappy-0.6.0\r\n",
      "Requirement already satisfied: pyarrow in /opt/conda/lib/python3.7/site-packages (3.0.0)\r\n",
      "Requirement already satisfied: numpy>=1.16.6 in /opt/conda/lib/python3.7/site-packages (from pyarrow) (1.19.5)\r\n"
     ]
    }
   ],
   "source": [
    "!pip install fastparquet\n",
    "!pip install python-snappy\n",
    "!pip install pyarrow \n",
    "#!pip install pandas==1.1.5\n"
   ]
  },
  {
   "cell_type": "code",
   "execution_count": 3,
   "id": "extra-healthcare",
   "metadata": {
    "execution": {
     "iopub.execute_input": "2021-04-29T04:25:20.716826Z",
     "iopub.status.busy": "2021-04-29T04:25:20.716166Z",
     "iopub.status.idle": "2021-04-29T04:25:23.833101Z",
     "shell.execute_reply": "2021-04-29T04:25:23.832557Z"
    },
    "papermill": {
     "duration": 3.233293,
     "end_time": "2021-04-29T04:25:23.833247",
     "exception": false,
     "start_time": "2021-04-29T04:25:20.599954",
     "status": "completed"
    },
    "tags": []
   },
   "outputs": [
    {
     "data": {
      "text/html": [
       "<style type='text/css'>\n",
       ".datatable table.frame { margin-bottom: 0; }\n",
       ".datatable table.frame thead { border-bottom: none; }\n",
       ".datatable table.frame tr.coltypes td {  color: #FFFFFF;  line-height: 6px;  padding: 0 0.5em;}\n",
       ".datatable .bool    { background: #DDDD99; }\n",
       ".datatable .object  { background: #565656; }\n",
       ".datatable .int     { background: #5D9E5D; }\n",
       ".datatable .float   { background: #4040CC; }\n",
       ".datatable .str     { background: #CC4040; }\n",
       ".datatable .row_index {  background: var(--jp-border-color3);  border-right: 1px solid var(--jp-border-color0);  color: var(--jp-ui-font-color3);  font-size: 9px;}\n",
       ".datatable .frame tr.coltypes .row_index {  background: var(--jp-border-color0);}\n",
       ".datatable th:nth-child(2) { padding-left: 12px; }\n",
       ".datatable .hellipsis {  color: var(--jp-cell-editor-border-color);}\n",
       ".datatable .vellipsis {  background: var(--jp-layout-color0);  color: var(--jp-cell-editor-border-color);}\n",
       ".datatable .na {  color: var(--jp-cell-editor-border-color);  font-size: 80%;}\n",
       ".datatable .footer { font-size: 9px; }\n",
       ".datatable .frame_dimensions {  background: var(--jp-border-color3);  border-top: 1px solid var(--jp-border-color0);  color: var(--jp-ui-font-color3);  display: inline-block;  opacity: 0.6;  padding: 1px 10px 1px 5px;}\n",
       "</style>\n"
      ],
      "text/plain": [
       "<IPython.core.display.HTML object>"
      ]
     },
     "metadata": {},
     "output_type": "display_data"
    }
   ],
   "source": [
    "import pandas as pd\n",
    "import numpy as np \n",
    "from supervised.automl import AutoML"
   ]
  },
  {
   "cell_type": "code",
   "execution_count": 4,
   "id": "responsible-sociology",
   "metadata": {
    "execution": {
     "iopub.execute_input": "2021-04-29T04:25:24.060351Z",
     "iopub.status.busy": "2021-04-29T04:25:24.059669Z",
     "iopub.status.idle": "2021-04-29T04:25:25.451771Z",
     "shell.execute_reply": "2021-04-29T04:25:25.451133Z"
    },
    "papermill": {
     "duration": 1.508022,
     "end_time": "2021-04-29T04:25:25.451942",
     "exception": false,
     "start_time": "2021-04-29T04:25:23.943920",
     "status": "completed"
    },
    "tags": []
   },
   "outputs": [],
   "source": [
    "train = pd.read_csv('../input/loading-other-data-for-tps-apr/balanced_dataset.csv')\n",
    "test = pd.read_csv('../input/loading-other-data-for-tps-apr/test.csv')\n",
    "sample = pd.read_csv('../input/tabular-playground-series-apr-2021/sample_submission.csv')\n"
   ]
  },
  {
   "cell_type": "code",
   "execution_count": 5,
   "id": "powerful-oklahoma",
   "metadata": {
    "execution": {
     "iopub.execute_input": "2021-04-29T04:25:25.680859Z",
     "iopub.status.busy": "2021-04-29T04:25:25.680103Z",
     "iopub.status.idle": "2021-04-29T04:25:25.683454Z",
     "shell.execute_reply": "2021-04-29T04:25:25.682814Z"
    },
    "papermill": {
     "duration": 0.119181,
     "end_time": "2021-04-29T04:25:25.683619",
     "exception": false,
     "start_time": "2021-04-29T04:25:25.564438",
     "status": "completed"
    },
    "tags": []
   },
   "outputs": [],
   "source": [
    "automl = AutoML(total_time_limit=10800, mode='Compete', ml_task='binary_classification', algorithms=['Decision Tree', 'Random Forest', 'Extra Trees', 'LightGBM', 'CatBoost'], stack_models=True, eval_metric='auc', explain_level=0)"
   ]
  },
  {
   "cell_type": "code",
   "execution_count": 6,
   "id": "accurate-artist",
   "metadata": {
    "execution": {
     "iopub.execute_input": "2021-04-29T04:25:25.944153Z",
     "iopub.status.busy": "2021-04-29T04:25:25.943119Z",
     "iopub.status.idle": "2021-04-29T07:28:14.059248Z",
     "shell.execute_reply": "2021-04-29T07:28:14.059998Z"
    },
    "papermill": {
     "duration": 10968.261089,
     "end_time": "2021-04-29T07:28:14.060568",
     "exception": false,
     "start_time": "2021-04-29T04:25:25.799479",
     "status": "completed"
    },
    "tags": []
   },
   "outputs": [
    {
     "name": "stdout",
     "output_type": "stream",
     "text": [
      "AutoML directory: AutoML_1\n",
      "The task is binary_classification with evaluation metric auc\n",
      "AutoML will use algorithms: ['Decision Tree', 'Random Forest', 'Extra Trees', 'LightGBM', 'CatBoost']\n",
      "AutoML will stack models\n",
      "AutoML will ensemble availabe models\n",
      "AutoML steps: ['adjust_validation', 'simple_algorithms', 'default_algorithms', 'not_so_random', 'golden_features', 'kmeans_features', 'insert_random_feature', 'features_selection', 'hill_climbing_1', 'hill_climbing_2', 'boost_on_errors', 'ensemble', 'stack', 'ensemble_stacked']\n",
      "* Step adjust_validation will try to check up to 1 model\n",
      "1_DecisionTree auc 0.924615 trained in 4.93 seconds\n",
      "Adjust validation. Remove: 1_DecisionTree\n",
      "Validation strategy: 10-fold CV Shuffle,Stratify\n",
      "* Step simple_algorithms will try to check up to 3 models\n",
      "1_DecisionTree auc 0.922219 trained in 72.92 seconds\n",
      "2_DecisionTree auc 0.930961 trained in 73.5 seconds\n",
      "3_DecisionTree auc 0.930961 trained in 73.69 seconds\n",
      "* Step default_algorithms will try to check up to 4 models\n",
      "4_Default_LightGBM auc 0.960441 trained in 206.15 seconds\n",
      "5_Default_CatBoost auc 0.960003 trained in 554.95 seconds\n",
      "6_Default_RandomForest auc 0.938598 trained in 493.5 seconds\n",
      "7_Default_ExtraTrees auc 0.939664 trained in 368.95 seconds\n",
      "* Step not_so_random will try to check up to 36 models\n",
      "8_LightGBM auc 0.95997 trained in 469.07 seconds\n",
      "17_CatBoost auc 0.960289 trained in 828.85 seconds\n",
      "26_RandomForest auc 0.940216 trained in 484.82 seconds\n",
      "35_ExtraTrees auc 0.938193 trained in 231.91 seconds\n",
      "9_LightGBM auc 0.959945 trained in 123.97 seconds\n",
      "18_CatBoost auc 0.960279 trained in 490.78 seconds\n",
      "27_RandomForest auc 0.952028 trained in 555.44 seconds\n",
      "36_ExtraTrees auc 0.947977 trained in 483.23 seconds\n",
      "* Step golden_features will try to check up to 3 models\n",
      "Add Golden Feature: Sex_multiply_Pclass\n",
      "Add Golden Feature: Pclass_ratio_Sex\n",
      "Add Golden Feature: Sex_ratio_Pclass\n",
      "Add Golden Feature: Embarked_S_sum_Sex\n",
      "Add Golden Feature: Cabin_X_sum_Sex\n",
      "Add Golden Feature: Sex_ratio_Parch\n",
      "Add Golden Feature: Sex_multiply_Parch\n",
      "Add Golden Feature: Parch_ratio_Sex\n",
      "Add Golden Feature: Sex_multiply_Fare\n",
      "Add Golden Feature: Fare_ratio_Sex\n",
      "Created 10 Golden Features in 2.56 seconds.\n",
      "4_Default_LightGBM_GoldenFeatures auc 0.960438 trained in 229.69 seconds\n",
      "17_CatBoost_GoldenFeatures auc 0.960306 trained in 940.56 seconds\n",
      "Skip kmeans_features because of the time limit.\n",
      "Not enough time to perform features selection. Skip\n",
      "Time needed for features selection ~ 2392.0 seconds\n",
      "Please increase total_time_limit to at least (23975 seconds) to have features selection\n",
      "Skip insert_random_feature because no parameters were generated.\n",
      "Skip features_selection because no parameters were generated.\n",
      "* Step hill_climbing_1 will try to check up to 23 models\n",
      "37_LightGBM auc 0.960091 trained in 305.43 seconds\n",
      "38_LightGBM auc 0.960639 trained in 201.85 seconds\n",
      "39_LightGBM_GoldenFeatures auc 0.960218 trained in 330.29 seconds\n",
      "40_LightGBM_GoldenFeatures auc 0.960575 trained in 206.45 seconds\n",
      "41_CatBoost_GoldenFeatures auc 0.960242 trained in 905.86 seconds\n",
      "* Step hill_climbing_2 will try to check up to 21 models\n",
      "42_LightGBM auc 0.960639 trained in 201.41 seconds\n",
      "* Step boost_on_errors will try to check up to 1 model\n",
      "42_LightGBM_BoostOnErrors auc 0.96067 trained in 205.36 seconds\n",
      "* Step ensemble will try to check up to 1 model\n",
      "Ensemble auc 0.960975 trained in 122.4 seconds\n",
      "* Step stack will try to check up to 20 models\n",
      "38_LightGBM_Stacked auc 0.960699 trained in 150.62 seconds\n",
      "17_CatBoost_GoldenFeatures_Stacked auc 0.96129 trained in 380.24 seconds\n",
      "27_RandomForest_Stacked not trained. Stop training after the first fold. Time needed to train on the first fold 365.0 seconds. The time estimate for training on all folds is larger than total_time_limit.\n",
      "36_ExtraTrees_Stacked not trained. Stop training after the first fold. Time needed to train on the first fold 73.0 seconds. The time estimate for training on all folds is larger than total_time_limit.\n",
      "42_LightGBM_Stacked auc 0.960699 trained in 141.78 seconds\n",
      "17_CatBoost_Stacked auc 0.961341 trained in 404.81 seconds\n",
      "26_RandomForest_Stacked not trained. Stop training after the first fold. Time needed to train on the first fold 121.0 seconds. The time estimate for training on all folds is larger than total_time_limit.\n",
      "* Step ensemble_stacked will try to check up to 1 model\n",
      "Ensemble_Stacked auc 0.961384 trained in 147.06 seconds\n",
      "AutoML fit time: 10968.09 seconds\n",
      "AutoML best model: Ensemble_Stacked\n"
     ]
    },
    {
     "data": {
      "text/plain": [
       "AutoML(algorithms=['Decision Tree', 'Random Forest', 'Extra Trees', 'LightGBM',\n",
       "                   'CatBoost'],\n",
       "       eval_metric='auc', explain_level=0, ml_task='binary_classification',\n",
       "       mode='Compete', stack_models=True, total_time_limit=10800)"
      ]
     },
     "execution_count": 6,
     "metadata": {},
     "output_type": "execute_result"
    }
   ],
   "source": [
    "automl.fit(train.drop('Survived', axis=1), train['Survived'])"
   ]
  },
  {
   "cell_type": "code",
   "execution_count": 7,
   "id": "knowing-fraction",
   "metadata": {
    "execution": {
     "iopub.execute_input": "2021-04-29T07:28:14.311006Z",
     "iopub.status.busy": "2021-04-29T07:28:14.310055Z",
     "iopub.status.idle": "2021-04-29T07:31:41.110832Z",
     "shell.execute_reply": "2021-04-29T07:31:41.110185Z"
    },
    "papermill": {
     "duration": 206.926202,
     "end_time": "2021-04-29T07:31:41.111003",
     "exception": false,
     "start_time": "2021-04-29T07:28:14.184801",
     "status": "completed"
    },
    "tags": []
   },
   "outputs": [],
   "source": [
    "preds = automl.predict_proba(test)"
   ]
  },
  {
   "cell_type": "code",
   "execution_count": 8,
   "id": "inside-committee",
   "metadata": {
    "execution": {
     "iopub.execute_input": "2021-04-29T07:31:41.399134Z",
     "iopub.status.busy": "2021-04-29T07:31:41.398523Z",
     "iopub.status.idle": "2021-04-29T07:31:41.652568Z",
     "shell.execute_reply": "2021-04-29T07:31:41.651173Z"
    },
    "papermill": {
     "duration": 0.395686,
     "end_time": "2021-04-29T07:31:41.652752",
     "exception": false,
     "start_time": "2021-04-29T07:31:41.257066",
     "status": "completed"
    },
    "tags": []
   },
   "outputs": [],
   "source": [
    "sample['Survived'] = preds\n",
    "sample.to_csv('1st_try_from_sample.csv', index=False)"
   ]
  },
  {
   "cell_type": "code",
   "execution_count": 9,
   "id": "american-karma",
   "metadata": {
    "execution": {
     "iopub.execute_input": "2021-04-29T07:31:41.911215Z",
     "iopub.status.busy": "2021-04-29T07:31:41.910290Z",
     "iopub.status.idle": "2021-04-29T07:31:42.272739Z",
     "shell.execute_reply": "2021-04-29T07:31:42.272116Z"
    },
    "papermill": {
     "duration": 0.495734,
     "end_time": "2021-04-29T07:31:42.272898",
     "exception": false,
     "start_time": "2021-04-29T07:31:41.777164",
     "status": "completed"
    },
    "tags": []
   },
   "outputs": [],
   "source": [
    "predictions = pd.DataFrame(preds)\n",
    "predictions.to_csv('2nd_try_from_dataframe.csv', index=False)"
   ]
  }
 ],
 "metadata": {
  "kernelspec": {
   "display_name": "Python 3",
   "language": "python",
   "name": "python3"
  },
  "language_info": {
   "codemirror_mode": {
    "name": "ipython",
    "version": 3
   },
   "file_extension": ".py",
   "mimetype": "text/x-python",
   "name": "python",
   "nbconvert_exporter": "python",
   "pygments_lexer": "ipython3",
   "version": "3.7.10"
  },
  "papermill": {
   "default_parameters": {},
   "duration": 11286.229005,
   "end_time": "2021-04-29T07:31:44.635946",
   "environment_variables": {},
   "exception": null,
   "input_path": "__notebook__.ipynb",
   "output_path": "__notebook__.ipynb",
   "parameters": {},
   "start_time": "2021-04-29T04:23:38.406941",
   "version": "2.3.3"
  }
 },
 "nbformat": 4,
 "nbformat_minor": 5
}
